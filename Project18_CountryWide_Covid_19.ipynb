{
  "nbformat": 4,
  "nbformat_minor": 0,
  "metadata": {
    "colab": {
      "name": "Project18_CountryWide_Covid-19.ipynb",
      "provenance": [],
      "collapsed_sections": []
    },
    "kernelspec": {
      "name": "python3",
      "display_name": "Python 3"
    }
  },
  "cells": [
    {
      "cell_type": "code",
      "metadata": {
        "id": "J-IH7LonsaDo",
        "colab_type": "code",
        "colab": {
          "base_uri": "https://localhost:8080/",
          "height": 35
        },
        "outputId": "b1e23418-542e-4366-e5bf-7068a08acc84"
      },
      "source": [
        "# Mounting the Google Colab Drive\n",
        "from google.colab import drive\n",
        "drive.mount('/content/drive')"
      ],
      "execution_count": null,
      "outputs": [
        {
          "output_type": "stream",
          "text": [
            "Mounted at /content/drive\n"
          ],
          "name": "stdout"
        }
      ]
    },
    {
      "cell_type": "markdown",
      "metadata": {
        "id": "b3Fx9Su1s1L7",
        "colab_type": "text"
      },
      "source": [
        "Importing Libraries"
      ]
    },
    {
      "cell_type": "code",
      "metadata": {
        "id": "TKMcEGE7sjhn",
        "colab_type": "code",
        "colab": {
          "base_uri": "https://localhost:8080/",
          "height": 74
        },
        "outputId": "ad8e19ce-d20c-4d3b-fcf3-2293553229f2"
      },
      "source": [
        "import pandas as pd\n",
        "import numpy as np\n",
        "import seaborn as sns\n",
        "import matplotlib.pyplot as plt\n",
        "import warnings\n",
        "warnings.filterwarnings('ignore')\n",
        "from sklearn.preprocessing import StandardScaler\n",
        "from sklearn.cluster import KMeans"
      ],
      "execution_count": null,
      "outputs": [
        {
          "output_type": "stream",
          "text": [
            "/usr/local/lib/python3.6/dist-packages/statsmodels/tools/_testing.py:19: FutureWarning: pandas.util.testing is deprecated. Use the functions in the public API at pandas.testing instead.\n",
            "  import pandas.util.testing as tm\n"
          ],
          "name": "stderr"
        }
      ]
    },
    {
      "cell_type": "markdown",
      "metadata": {
        "id": "U19YuoHts5rQ",
        "colab_type": "text"
      },
      "source": [
        "Import the dataset"
      ]
    },
    {
      "cell_type": "code",
      "metadata": {
        "id": "waJoA0b8s4Et",
        "colab_type": "code",
        "colab": {}
      },
      "source": [
        "covid=pd.read_csv('/content/drive/My Drive/DS Datasets/DT Project Datasets/population_structure_by_age_per_contry.csv')\n",
        "\n",
        "cw=pd.read_csv('/content/drive/My Drive/DS Datasets/DT Project Datasets/worldometer_snapshots_April18_to_May18.csv')"
      ],
      "execution_count": null,
      "outputs": []
    },
    {
      "cell_type": "markdown",
      "metadata": {
        "id": "98mcgYkutGmp",
        "colab_type": "text"
      },
      "source": [
        "Identification of data types:"
      ]
    },
    {
      "cell_type": "code",
      "metadata": {
        "id": "3BXwxAgrtB5E",
        "colab_type": "code",
        "colab": {
          "base_uri": "https://localhost:8080/",
          "height": 108
        },
        "outputId": "76294681-bb55-49c9-eb02-42ffca0a2ddd"
      },
      "source": [
        "covid.dtypes"
      ],
      "execution_count": null,
      "outputs": [
        {
          "output_type": "execute_result",
          "data": {
            "text/plain": [
              "Country                      object\n",
              "Fraction age 0-14 years     float64\n",
              "Fraction age 15-64 years    float64\n",
              "Fraction age 65+ years      float64\n",
              "dtype: object"
            ]
          },
          "metadata": {
            "tags": []
          },
          "execution_count": 4
        }
      ]
    },
    {
      "cell_type": "code",
      "metadata": {
        "id": "q9KSiQkw3xHZ",
        "colab_type": "code",
        "colab": {
          "base_uri": "https://localhost:8080/",
          "height": 199
        },
        "outputId": "27fe980b-4406-4e8f-9af0-fb0864090fa2"
      },
      "source": [
        "cw.dtypes"
      ],
      "execution_count": null,
      "outputs": [
        {
          "output_type": "execute_result",
          "data": {
            "text/plain": [
              "Date                    object\n",
              "Country                 object\n",
              "Population               int64\n",
              "Total Tests            float64\n",
              "Total Cases            float64\n",
              "Total Deaths           float64\n",
              "Total Recovered        float64\n",
              "Serious or Critical    float64\n",
              "Active Cases           float64\n",
              "dtype: object"
            ]
          },
          "metadata": {
            "tags": []
          },
          "execution_count": 5
        }
      ]
    },
    {
      "cell_type": "markdown",
      "metadata": {
        "id": "Dg5HCH3GtNqY",
        "colab_type": "text"
      },
      "source": [
        "Size of the dataset:"
      ]
    },
    {
      "cell_type": "code",
      "metadata": {
        "id": "URNuvuQVtI6K",
        "colab_type": "code",
        "colab": {
          "base_uri": "https://localhost:8080/",
          "height": 35
        },
        "outputId": "36a63ee6-99a8-4a41-9740-34bf2222ded0"
      },
      "source": [
        "covid.shape"
      ],
      "execution_count": null,
      "outputs": [
        {
          "output_type": "execute_result",
          "data": {
            "text/plain": [
              "(213, 4)"
            ]
          },
          "metadata": {
            "tags": []
          },
          "execution_count": 6
        }
      ]
    },
    {
      "cell_type": "code",
      "metadata": {
        "id": "kVl_iMg130eK",
        "colab_type": "code",
        "colab": {
          "base_uri": "https://localhost:8080/",
          "height": 35
        },
        "outputId": "fa41e60c-7aee-4ee1-d110-d6ac026c444b"
      },
      "source": [
        "cw.shape"
      ],
      "execution_count": null,
      "outputs": [
        {
          "output_type": "execute_result",
          "data": {
            "text/plain": [
              "(6603, 9)"
            ]
          },
          "metadata": {
            "tags": []
          },
          "execution_count": 7
        }
      ]
    },
    {
      "cell_type": "markdown",
      "metadata": {
        "id": "INfM4DF6tTcI",
        "colab_type": "text"
      },
      "source": [
        "Statistical Summary of Numeric Variables:"
      ]
    },
    {
      "cell_type": "code",
      "metadata": {
        "id": "K_F7eSk6tPT7",
        "colab_type": "code",
        "colab": {
          "base_uri": "https://localhost:8080/",
          "height": 217
        },
        "outputId": "58f0d906-77bc-43da-8069-7a57e35d3b42"
      },
      "source": [
        "covid.info()"
      ],
      "execution_count": null,
      "outputs": [
        {
          "output_type": "stream",
          "text": [
            "<class 'pandas.core.frame.DataFrame'>\n",
            "RangeIndex: 213 entries, 0 to 212\n",
            "Data columns (total 4 columns):\n",
            " #   Column                    Non-Null Count  Dtype  \n",
            "---  ------                    --------------  -----  \n",
            " 0   Country                   213 non-null    object \n",
            " 1   Fraction age 0-14 years   176 non-null    float64\n",
            " 2   Fraction age 15-64 years  176 non-null    float64\n",
            " 3   Fraction age 65+ years    176 non-null    float64\n",
            "dtypes: float64(3), object(1)\n",
            "memory usage: 6.8+ KB\n"
          ],
          "name": "stdout"
        }
      ]
    },
    {
      "cell_type": "code",
      "metadata": {
        "id": "U9y70lWB33rt",
        "colab_type": "code",
        "colab": {
          "base_uri": "https://localhost:8080/",
          "height": 308
        },
        "outputId": "6e765980-dba4-4b34-90a4-9390fe57b5b9"
      },
      "source": [
        "cw.info()"
      ],
      "execution_count": null,
      "outputs": [
        {
          "output_type": "stream",
          "text": [
            "<class 'pandas.core.frame.DataFrame'>\n",
            "RangeIndex: 6603 entries, 0 to 6602\n",
            "Data columns (total 9 columns):\n",
            " #   Column               Non-Null Count  Dtype  \n",
            "---  ------               --------------  -----  \n",
            " 0   Date                 6603 non-null   object \n",
            " 1   Country              6603 non-null   object \n",
            " 2   Population           6603 non-null   int64  \n",
            " 3   Total Tests          5505 non-null   float64\n",
            " 4   Total Cases          6554 non-null   float64\n",
            " 5   Total Deaths         5367 non-null   float64\n",
            " 6   Total Recovered      6318 non-null   float64\n",
            " 7   Serious or Critical  4117 non-null   float64\n",
            " 8   Active Cases         6544 non-null   float64\n",
            "dtypes: float64(6), int64(1), object(2)\n",
            "memory usage: 464.4+ KB\n"
          ],
          "name": "stdout"
        }
      ]
    },
    {
      "cell_type": "code",
      "metadata": {
        "id": "vQWQFItQtV6K",
        "colab_type": "code",
        "colab": {
          "base_uri": "https://localhost:8080/",
          "height": 272
        },
        "outputId": "96ece1dc-e7e6-4a70-d68b-20c5425d9d97"
      },
      "source": [
        "covid.describe"
      ],
      "execution_count": null,
      "outputs": [
        {
          "output_type": "execute_result",
          "data": {
            "text/plain": [
              "<bound method NDFrame.describe of                    Country  ...  Fraction age 65+ years\n",
              "0                      USA  ...                   0.154\n",
              "1                   Russia  ...                   0.142\n",
              "2                    Spain  ...                   0.194\n",
              "3                   Brazil  ...                   0.086\n",
              "4                       UK  ...                   0.185\n",
              "..                     ...  ...                     ...\n",
              "208              St. Barth  ...                     NaN\n",
              "209         Western Sahara  ...                     NaN\n",
              "210               Anguilla  ...                     NaN\n",
              "211                Lesotho  ...                   0.045\n",
              "212  Saint Pierre Miquelon  ...                     NaN\n",
              "\n",
              "[213 rows x 4 columns]>"
            ]
          },
          "metadata": {
            "tags": []
          },
          "execution_count": 10
        }
      ]
    },
    {
      "cell_type": "code",
      "metadata": {
        "id": "gdrzw4l336Wv",
        "colab_type": "code",
        "colab": {
          "base_uri": "https://localhost:8080/",
          "height": 272
        },
        "outputId": "f185e3c8-ef81-46b2-b859-e337a327a44b"
      },
      "source": [
        "cw.describe"
      ],
      "execution_count": null,
      "outputs": [
        {
          "output_type": "execute_result",
          "data": {
            "text/plain": [
              "<bound method NDFrame.describe of             Date                Country  ...  Serious or Critical  Active Cases\n",
              "0     2020-04-18                    USA  ...              13551.0      631509.0\n",
              "1     2020-04-18                 Russia  ...                  8.0       33423.0\n",
              "2     2020-04-18                  Spain  ...               7371.0       99576.0\n",
              "3     2020-04-18                 Brazil  ...               6634.0       20335.0\n",
              "4     2020-04-18                     UK  ...               1559.0       98409.0\n",
              "...          ...                    ...  ...                  ...           ...\n",
              "6598  2020-05-18              St. Barth  ...                  NaN           0.0\n",
              "6599  2020-05-18         Western Sahara  ...                  NaN           0.0\n",
              "6600  2020-05-18               Anguilla  ...                  NaN           0.0\n",
              "6601  2020-05-18                Lesotho  ...                  NaN           1.0\n",
              "6602  2020-05-18  Saint Pierre Miquelon  ...                  NaN           0.0\n",
              "\n",
              "[6603 rows x 9 columns]>"
            ]
          },
          "metadata": {
            "tags": []
          },
          "execution_count": 11
        }
      ]
    },
    {
      "cell_type": "code",
      "metadata": {
        "id": "3t16a1lwtjIh",
        "colab_type": "code",
        "colab": {
          "base_uri": "https://localhost:8080/",
          "height": 198
        },
        "outputId": "15a825e0-286d-46e3-c57a-7799cd66d4f4"
      },
      "source": [
        "covid.head()"
      ],
      "execution_count": null,
      "outputs": [
        {
          "output_type": "execute_result",
          "data": {
            "text/html": [
              "<div>\n",
              "<style scoped>\n",
              "    .dataframe tbody tr th:only-of-type {\n",
              "        vertical-align: middle;\n",
              "    }\n",
              "\n",
              "    .dataframe tbody tr th {\n",
              "        vertical-align: top;\n",
              "    }\n",
              "\n",
              "    .dataframe thead th {\n",
              "        text-align: right;\n",
              "    }\n",
              "</style>\n",
              "<table border=\"1\" class=\"dataframe\">\n",
              "  <thead>\n",
              "    <tr style=\"text-align: right;\">\n",
              "      <th></th>\n",
              "      <th>Country</th>\n",
              "      <th>Fraction age 0-14 years</th>\n",
              "      <th>Fraction age 15-64 years</th>\n",
              "      <th>Fraction age 65+ years</th>\n",
              "    </tr>\n",
              "  </thead>\n",
              "  <tbody>\n",
              "    <tr>\n",
              "      <th>0</th>\n",
              "      <td>USA</td>\n",
              "      <td>0.189</td>\n",
              "      <td>0.657</td>\n",
              "      <td>0.154</td>\n",
              "    </tr>\n",
              "    <tr>\n",
              "      <th>1</th>\n",
              "      <td>Russia</td>\n",
              "      <td>0.176</td>\n",
              "      <td>0.682</td>\n",
              "      <td>0.142</td>\n",
              "    </tr>\n",
              "    <tr>\n",
              "      <th>2</th>\n",
              "      <td>Spain</td>\n",
              "      <td>0.147</td>\n",
              "      <td>0.659</td>\n",
              "      <td>0.194</td>\n",
              "    </tr>\n",
              "    <tr>\n",
              "      <th>3</th>\n",
              "      <td>Brazil</td>\n",
              "      <td>0.217</td>\n",
              "      <td>0.697</td>\n",
              "      <td>0.086</td>\n",
              "    </tr>\n",
              "    <tr>\n",
              "      <th>4</th>\n",
              "      <td>UK</td>\n",
              "      <td>0.177</td>\n",
              "      <td>0.638</td>\n",
              "      <td>0.185</td>\n",
              "    </tr>\n",
              "  </tbody>\n",
              "</table>\n",
              "</div>"
            ],
            "text/plain": [
              "  Country  ...  Fraction age 65+ years\n",
              "0     USA  ...                   0.154\n",
              "1  Russia  ...                   0.142\n",
              "2   Spain  ...                   0.194\n",
              "3  Brazil  ...                   0.086\n",
              "4      UK  ...                   0.185\n",
              "\n",
              "[5 rows x 4 columns]"
            ]
          },
          "metadata": {
            "tags": []
          },
          "execution_count": 12
        }
      ]
    },
    {
      "cell_type": "code",
      "metadata": {
        "id": "FfAzps8S39Xr",
        "colab_type": "code",
        "colab": {
          "base_uri": "https://localhost:8080/",
          "height": 198
        },
        "outputId": "aa19e85d-1b59-403a-c107-e84834f5900c"
      },
      "source": [
        "cw.head()"
      ],
      "execution_count": null,
      "outputs": [
        {
          "output_type": "execute_result",
          "data": {
            "text/html": [
              "<div>\n",
              "<style scoped>\n",
              "    .dataframe tbody tr th:only-of-type {\n",
              "        vertical-align: middle;\n",
              "    }\n",
              "\n",
              "    .dataframe tbody tr th {\n",
              "        vertical-align: top;\n",
              "    }\n",
              "\n",
              "    .dataframe thead th {\n",
              "        text-align: right;\n",
              "    }\n",
              "</style>\n",
              "<table border=\"1\" class=\"dataframe\">\n",
              "  <thead>\n",
              "    <tr style=\"text-align: right;\">\n",
              "      <th></th>\n",
              "      <th>Date</th>\n",
              "      <th>Country</th>\n",
              "      <th>Population</th>\n",
              "      <th>Total Tests</th>\n",
              "      <th>Total Cases</th>\n",
              "      <th>Total Deaths</th>\n",
              "      <th>Total Recovered</th>\n",
              "      <th>Serious or Critical</th>\n",
              "      <th>Active Cases</th>\n",
              "    </tr>\n",
              "  </thead>\n",
              "  <tbody>\n",
              "    <tr>\n",
              "      <th>0</th>\n",
              "      <td>2020-04-18</td>\n",
              "      <td>USA</td>\n",
              "      <td>330774664</td>\n",
              "      <td>3722145.0</td>\n",
              "      <td>738792.0</td>\n",
              "      <td>39014.0</td>\n",
              "      <td>68269.0</td>\n",
              "      <td>13551.0</td>\n",
              "      <td>631509.0</td>\n",
              "    </tr>\n",
              "    <tr>\n",
              "      <th>1</th>\n",
              "      <td>2020-04-18</td>\n",
              "      <td>Russia</td>\n",
              "      <td>145927292</td>\n",
              "      <td>1831892.0</td>\n",
              "      <td>36793.0</td>\n",
              "      <td>313.0</td>\n",
              "      <td>3057.0</td>\n",
              "      <td>8.0</td>\n",
              "      <td>33423.0</td>\n",
              "    </tr>\n",
              "    <tr>\n",
              "      <th>2</th>\n",
              "      <td>2020-04-18</td>\n",
              "      <td>Spain</td>\n",
              "      <td>46752703</td>\n",
              "      <td>930230.0</td>\n",
              "      <td>194416.0</td>\n",
              "      <td>20043.0</td>\n",
              "      <td>74797.0</td>\n",
              "      <td>7371.0</td>\n",
              "      <td>99576.0</td>\n",
              "    </tr>\n",
              "    <tr>\n",
              "      <th>3</th>\n",
              "      <td>2020-04-18</td>\n",
              "      <td>Brazil</td>\n",
              "      <td>212380932</td>\n",
              "      <td>62985.0</td>\n",
              "      <td>36722.0</td>\n",
              "      <td>2361.0</td>\n",
              "      <td>14026.0</td>\n",
              "      <td>6634.0</td>\n",
              "      <td>20335.0</td>\n",
              "    </tr>\n",
              "    <tr>\n",
              "      <th>4</th>\n",
              "      <td>2020-04-18</td>\n",
              "      <td>UK</td>\n",
              "      <td>67844241</td>\n",
              "      <td>460437.0</td>\n",
              "      <td>114217.0</td>\n",
              "      <td>15464.0</td>\n",
              "      <td>NaN</td>\n",
              "      <td>1559.0</td>\n",
              "      <td>98409.0</td>\n",
              "    </tr>\n",
              "  </tbody>\n",
              "</table>\n",
              "</div>"
            ],
            "text/plain": [
              "         Date Country  ...  Serious or Critical  Active Cases\n",
              "0  2020-04-18     USA  ...              13551.0      631509.0\n",
              "1  2020-04-18  Russia  ...                  8.0       33423.0\n",
              "2  2020-04-18   Spain  ...               7371.0       99576.0\n",
              "3  2020-04-18  Brazil  ...               6634.0       20335.0\n",
              "4  2020-04-18      UK  ...               1559.0       98409.0\n",
              "\n",
              "[5 rows x 9 columns]"
            ]
          },
          "metadata": {
            "tags": []
          },
          "execution_count": 13
        }
      ]
    },
    {
      "cell_type": "markdown",
      "metadata": {
        "id": "4fw4Y5Wqte2J",
        "colab_type": "text"
      },
      "source": [
        "Non-Graphical Univariate Analysis:"
      ]
    },
    {
      "cell_type": "code",
      "metadata": {
        "id": "i57ABE8WtYzw",
        "colab_type": "code",
        "colab": {
          "base_uri": "https://localhost:8080/",
          "height": 35
        },
        "outputId": "4181194c-18a0-4456-8cc5-32fe8b0a3e56"
      },
      "source": [
        "#Number of countries affected\n",
        "\n",
        "print(\"Number of counties affected: \",len(cw[\"Country\"].unique()))"
      ],
      "execution_count": null,
      "outputs": [
        {
          "output_type": "stream",
          "text": [
            "Number of counties affected:  213\n"
          ],
          "name": "stdout"
        }
      ]
    },
    {
      "cell_type": "code",
      "metadata": {
        "id": "U8k8zCae4jdU",
        "colab_type": "code",
        "colab": {
          "base_uri": "https://localhost:8080/",
          "height": 35
        },
        "outputId": "833256b5-5075-46fa-e8f8-8be5ce9e64a9"
      },
      "source": [
        "#Converting \"Date\" into Datetime format\n",
        "cw[\"Date\"]=pd.to_datetime(cw[\"Date\"])\n",
        "\n",
        "datewise=cw.groupby([\"Date\"]).agg({\"Total Cases\":'sum',\"Total Deaths\":'sum',\"Total Recovered\":'sum'})\n",
        "\n",
        "#Total Cases in the World\n",
        "print(\"Total Cases in the World: \",datewise[\"Total Cases\"].iloc[-1])"
      ],
      "execution_count": null,
      "outputs": [
        {
          "output_type": "stream",
          "text": [
            "Total Cases in the World:  4887403.0\n"
          ],
          "name": "stdout"
        }
      ]
    },
    {
      "cell_type": "code",
      "metadata": {
        "id": "5iZ7grOj7K8I",
        "colab_type": "code",
        "colab": {
          "base_uri": "https://localhost:8080/",
          "height": 35
        },
        "outputId": "9041a4e0-1c5a-470a-d436-f0bb325ea2a0"
      },
      "source": [
        "#Number of cases Recovered in the world\n",
        "print(\"Number of cases Recovered in the world: \",datewise[\"Total Recovered\"].iloc[-1])"
      ],
      "execution_count": null,
      "outputs": [
        {
          "output_type": "stream",
          "text": [
            "Number of cases Recovered in the world:  1904016.0\n"
          ],
          "name": "stdout"
        }
      ]
    },
    {
      "cell_type": "code",
      "metadata": {
        "id": "4GO1KM0r9FWM",
        "colab_type": "code",
        "colab": {
          "base_uri": "https://localhost:8080/",
          "height": 35
        },
        "outputId": "de4e9db8-78d1-4f0a-dacd-4fad62732cc2"
      },
      "source": [
        "#Number of Death cases in the world\n",
        "print(\"Number of Death cases in the world: \",datewise[\"Total Deaths\"].iloc[-1])"
      ],
      "execution_count": null,
      "outputs": [
        {
          "output_type": "stream",
          "text": [
            "Number of Death cases in the world:  319950.0\n"
          ],
          "name": "stdout"
        }
      ]
    },
    {
      "cell_type": "code",
      "metadata": {
        "id": "12XaLvdp9O3v",
        "colab_type": "code",
        "colab": {
          "base_uri": "https://localhost:8080/",
          "height": 35
        },
        "outputId": "fede2b05-525a-4d97-edd5-4fe3f3e96050"
      },
      "source": [
        "#Number of Active cases in the world\n",
        "print(\"#Number of Active cases in the world: \",(datewise[\"Total Cases\"].iloc[-1]-datewise[\"Total Recovered\"].iloc[-1]-datewise[\"Total Deaths\"].iloc[-1]))"
      ],
      "execution_count": null,
      "outputs": [
        {
          "output_type": "stream",
          "text": [
            "#Number of Active cases in the world:  2663437.0\n"
          ],
          "name": "stdout"
        }
      ]
    },
    {
      "cell_type": "code",
      "metadata": {
        "id": "25HXtggJ9Ww8",
        "colab_type": "code",
        "colab": {
          "base_uri": "https://localhost:8080/",
          "height": 35
        },
        "outputId": "c799962d-d1e0-46f8-be9a-9adea064e612"
      },
      "source": [
        "#Per Day confirmed Cases in the world\n",
        "print(\"Number of Active cases per day in the world: \",np.round(datewise[\"Total Cases\"].iloc[-1]/datewise.shape[0]))"
      ],
      "execution_count": null,
      "outputs": [
        {
          "output_type": "stream",
          "text": [
            "Number of Active cases per day in the world:  157658.0\n"
          ],
          "name": "stdout"
        }
      ]
    },
    {
      "cell_type": "code",
      "metadata": {
        "id": "G95jfXPM9eBY",
        "colab_type": "code",
        "colab": {
          "base_uri": "https://localhost:8080/",
          "height": 35
        },
        "outputId": "6be4d458-245a-48e5-96ba-4247918e43c1"
      },
      "source": [
        "#Per Day Recovered Cases in the world\n",
        "print(\"Number of Recovered cases per day in the world: \",np.round(datewise[\"Total Recovered\"].iloc[-1]/datewise.shape[0]))"
      ],
      "execution_count": null,
      "outputs": [
        {
          "output_type": "stream",
          "text": [
            "Number of Recovered cases per day in the world:  61420.0\n"
          ],
          "name": "stdout"
        }
      ]
    },
    {
      "cell_type": "code",
      "metadata": {
        "id": "J0fPmj7a9jNT",
        "colab_type": "code",
        "colab": {
          "base_uri": "https://localhost:8080/",
          "height": 35
        },
        "outputId": "54973d24-d9d8-44d3-cffb-51221cfb0c1f"
      },
      "source": [
        "#Per Day Death Count in the world\n",
        "print(\"Number of Death per day in the world: \",np.round(datewise[\"Total Deaths\"].iloc[-1]/datewise.shape[0]))"
      ],
      "execution_count": null,
      "outputs": [
        {
          "output_type": "stream",
          "text": [
            "Number of Death per day in the world:  10321.0\n"
          ],
          "name": "stdout"
        }
      ]
    },
    {
      "cell_type": "code",
      "metadata": {
        "id": "A7VTQDjbydRi",
        "colab_type": "code",
        "colab": {
          "base_uri": "https://localhost:8080/",
          "height": 35
        },
        "outputId": "1f7fc133-aa3a-493f-8091-4e093d1b3512"
      },
      "source": [
        "#Number of patients in the age range 0-14 \n",
        "\n",
        "print(\"Number of counties affected with age range: \",len(covid[\"Fraction age 0-14 years\"].unique()))"
      ],
      "execution_count": null,
      "outputs": [
        {
          "output_type": "stream",
          "text": [
            "Number of counties affected with age range:  137\n"
          ],
          "name": "stdout"
        }
      ]
    },
    {
      "cell_type": "code",
      "metadata": {
        "id": "Wc4y0oNny5nZ",
        "colab_type": "code",
        "colab": {
          "base_uri": "https://localhost:8080/",
          "height": 35
        },
        "outputId": "4dd25437-7d95-4848-d39b-b45eedf284f1"
      },
      "source": [
        "#Number of patients in the age range 15-64 years\n",
        "\n",
        "print(\"Number of patients in the age range 15-64 years: \",len(covid[\"Fraction age 15-64 years\"].unique()))"
      ],
      "execution_count": null,
      "outputs": [
        {
          "output_type": "stream",
          "text": [
            "Number of patients in the age range 15-64 years:  119\n"
          ],
          "name": "stdout"
        }
      ]
    },
    {
      "cell_type": "code",
      "metadata": {
        "id": "7BhClU7uzIMy",
        "colab_type": "code",
        "colab": {
          "base_uri": "https://localhost:8080/",
          "height": 35
        },
        "outputId": "50b74196-d5e1-4be8-9123-6aa8f8780f91"
      },
      "source": [
        "#Number of patients in the age range 65+\n",
        "\n",
        "print(\"Number of patients in the age range 65+: \",len(covid[\"Fraction age 65+ years\"].unique()))"
      ],
      "execution_count": null,
      "outputs": [
        {
          "output_type": "stream",
          "text": [
            "Number of patients in the age range 65+:  110\n"
          ],
          "name": "stdout"
        }
      ]
    },
    {
      "cell_type": "code",
      "metadata": {
        "id": "bFusfNRBtux_",
        "colab_type": "code",
        "colab": {
          "base_uri": "https://localhost:8080/",
          "height": 108
        },
        "outputId": "54d31df2-946f-46a9-efc1-36a50411aba9"
      },
      "source": [
        "#Finding null/missing values\n",
        "\n",
        "covid.isnull().sum(axis = 0)"
      ],
      "execution_count": null,
      "outputs": [
        {
          "output_type": "execute_result",
          "data": {
            "text/plain": [
              "Country                      0\n",
              "Fraction age 0-14 years     37\n",
              "Fraction age 15-64 years    37\n",
              "Fraction age 65+ years      37\n",
              "dtype: int64"
            ]
          },
          "metadata": {
            "tags": []
          },
          "execution_count": 25
        }
      ]
    },
    {
      "cell_type": "code",
      "metadata": {
        "id": "qufLRX9I9xbw",
        "colab_type": "code",
        "colab": {
          "base_uri": "https://localhost:8080/",
          "height": 199
        },
        "outputId": "6e130441-407a-4eed-add2-b8aa5b1a9716"
      },
      "source": [
        "cw.isnull().sum(axis = 0)"
      ],
      "execution_count": null,
      "outputs": [
        {
          "output_type": "execute_result",
          "data": {
            "text/plain": [
              "Date                      0\n",
              "Country                   0\n",
              "Population                0\n",
              "Total Tests            1098\n",
              "Total Cases              49\n",
              "Total Deaths           1236\n",
              "Total Recovered         285\n",
              "Serious or Critical    2486\n",
              "Active Cases             59\n",
              "dtype: int64"
            ]
          },
          "metadata": {
            "tags": []
          },
          "execution_count": 26
        }
      ]
    },
    {
      "cell_type": "code",
      "metadata": {
        "id": "nBgPMsVEt0fy",
        "colab_type": "code",
        "colab": {}
      },
      "source": [
        "#Removing the missing or the null values from the dataset\n",
        "\n",
        "covid['Fraction age 0-14 years'].fillna(value=27,inplace=True)\n",
        "covid['Fraction age 15-64 years'].fillna(value=27,inplace=True)\n",
        "covid['Fraction age 65+ years'].fillna(value=27,inplace=True)\n",
        "cw['Total Tests'].fillna(value=27,inplace=True)\n",
        "cw['Total Cases'].fillna(value=27,inplace=True)\n",
        "cw['Total Recovered'].fillna(value=27,inplace=True)\n",
        "cw['Total Deaths'].fillna(value=27,inplace=True)\n",
        "cw['Serious or Critical'].fillna(value=27,inplace=True)\n",
        "cw['Active Cases'].fillna(value=27,inplace=True)"
      ],
      "execution_count": null,
      "outputs": []
    },
    {
      "cell_type": "code",
      "metadata": {
        "id": "9hdgty2IuB7f",
        "colab_type": "code",
        "colab": {
          "base_uri": "https://localhost:8080/",
          "height": 108
        },
        "outputId": "1ffb4887-3dbc-4224-b59d-a84a376f40e8"
      },
      "source": [
        "#Check if the null values are removed\n",
        "\n",
        "covid.isnull().sum(axis = 0)"
      ],
      "execution_count": null,
      "outputs": [
        {
          "output_type": "execute_result",
          "data": {
            "text/plain": [
              "Country                     0\n",
              "Fraction age 0-14 years     0\n",
              "Fraction age 15-64 years    0\n",
              "Fraction age 65+ years      0\n",
              "dtype: int64"
            ]
          },
          "metadata": {
            "tags": []
          },
          "execution_count": 28
        }
      ]
    },
    {
      "cell_type": "code",
      "metadata": {
        "id": "0nloc06j-Kjw",
        "colab_type": "code",
        "colab": {
          "base_uri": "https://localhost:8080/",
          "height": 199
        },
        "outputId": "17e2e47b-486c-428b-c726-aa925c27ae73"
      },
      "source": [
        "cw.isnull().sum(axis = 0)"
      ],
      "execution_count": null,
      "outputs": [
        {
          "output_type": "execute_result",
          "data": {
            "text/plain": [
              "Date                   0\n",
              "Country                0\n",
              "Population             0\n",
              "Total Tests            0\n",
              "Total Cases            0\n",
              "Total Deaths           0\n",
              "Total Recovered        0\n",
              "Serious or Critical    0\n",
              "Active Cases           0\n",
              "dtype: int64"
            ]
          },
          "metadata": {
            "tags": []
          },
          "execution_count": 29
        }
      ]
    },
    {
      "cell_type": "code",
      "metadata": {
        "id": "WCpO0V8YuegR",
        "colab_type": "code",
        "colab": {
          "base_uri": "https://localhost:8080/",
          "height": 349
        },
        "outputId": "8b25d484-f534-409f-bca0-4dc894b85f0b"
      },
      "source": [
        "#checking for the presence of values using heatmap\n",
        "\n",
        "sns.heatmap(cw.isnull(), annot= True)\n",
        "plt.show()"
      ],
      "execution_count": null,
      "outputs": [
        {
          "output_type": "display_data",
          "data": {
            "image/png": "[encoded data removed]",
            "text/plain": [
              "<Figure size 432x288 with 2 Axes>"
            ]
          },
          "metadata": {
            "tags": [],
            "needs_background": "light"
          }
        }
      ]
    },
    {
      "cell_type": "markdown",
      "metadata": {
        "id": "_64kW0-rur4Y",
        "colab_type": "text"
      },
      "source": [
        "Graphical Univariate Analysis:"
      ]
    },
    {
      "cell_type": "code",
      "metadata": {
        "id": "_jJyOSPqunmt",
        "colab_type": "code",
        "colab": {
          "base_uri": "https://localhost:8080/",
          "height": 283
        },
        "outputId": "b790d819-bb4f-4e0a-dc44-145cd9eab34b"
      },
      "source": [
        "#Histogram Plot to display of patients in the category Fraction age 0-14 years\n",
        "\n",
        "covid['Fraction age 0-14 years'].hist(bins=10)"
      ],
      "execution_count": null,
      "outputs": [
        {
          "output_type": "execute_result",
          "data": {
            "text/plain": [
              "<matplotlib.axes._subplots.AxesSubplot at 0x7fdf81430828>"
            ]
          },
          "metadata": {
            "tags": []
          },
          "execution_count": 31
        },
        {
          "output_type": "display_data",
          "data": {
            "image/png": "[encoded data removed]",
            "text/plain": [
              "<Figure size 432x288 with 1 Axes>"
            ]
          },
          "metadata": {
            "tags": [],
            "needs_background": "light"
          }
        }
      ]
    },
    {
      "cell_type": "code",
      "metadata": {
        "id": "qK702YCbvnyh",
        "colab_type": "code",
        "colab": {
          "base_uri": "https://localhost:8080/",
          "height": 465
        },
        "outputId": "1807015d-dd44-4cce-ed05-2ccf58d589bb"
      },
      "source": [
        "#Bar Plot to display of patients in the category Fraction age 65+ years\n",
        "plt.figure(figsize=(10,7))\n",
        "sns.barplot(y=covid['Country'],x=covid['Fraction age 65+ years'])"
      ],
      "execution_count": null,
      "outputs": [
        {
          "output_type": "execute_result",
          "data": {
            "text/plain": [
              "<matplotlib.axes._subplots.AxesSubplot at 0x7fdf8145e630>"
            ]
          },
          "metadata": {
            "tags": []
          },
          "execution_count": 32
        },
        {
          "output_type": "display_data",
          "data": {
            "image/png": "[encoded data removed]",
            "text/plain": [
              "<Figure size 720x504 with 1 Axes>"
            ]
          },
          "metadata": {
            "tags": [],
            "needs_background": "light"
          }
        }
      ]
    },
    {
      "cell_type": "code",
      "metadata": {
        "id": "3EEF-QIFxbrA",
        "colab_type": "code",
        "colab": {
          "base_uri": "https://localhost:8080/",
          "height": 465
        },
        "outputId": "2d02f4bd-ec53-48af-9dee-c554bf294956"
      },
      "source": [
        "#Bar Plot to display of patients in the category Fraction age 15-64 years\n",
        "plt.figure(figsize=(10,7))\n",
        "sns.barplot(y=covid['Country'],x=covid['Fraction age 15-64 years'])"
      ],
      "execution_count": null,
      "outputs": [
        {
          "output_type": "execute_result",
          "data": {
            "text/plain": [
              "<matplotlib.axes._subplots.AxesSubplot at 0x7fdf83964128>"
            ]
          },
          "metadata": {
            "tags": []
          },
          "execution_count": 33
        },
        {
          "output_type": "display_data",
          "data": {
            "image/png": "[encoded data removed]",
            "text/plain": [
              "<Figure size 720x504 with 1 Axes>"
            ]
          },
          "metadata": {
            "tags": [],
            "needs_background": "light"
          }
        }
      ]
    },
    {
      "cell_type": "code",
      "metadata": {
        "id": "21WONgKx0ot_",
        "colab_type": "code",
        "colab": {
          "base_uri": "https://localhost:8080/",
          "height": 542
        },
        "outputId": "8b7f2c19-3542-446e-c42b-57642e4269db"
      },
      "source": [
        "import plotly.express as px\n",
        "fig=px.bar(x=covid.Country,y=covid[\"Fraction age 0-14 years\"])\n",
        "fig.update_layout(title=\"Distribution of Number of cases of age group 0-14 years Country-Wise\",\n",
        "                  xaxis_title=\"Country\",yaxis_title=\"Number of Cases of age group 0-14 years\")\n",
        "fig.show()"
      ],
      "execution_count": null,
      "outputs": [
        {
          "output_type": "display_data",
          "data": {
            "text/html": [
              "<html>\n",
              "<head><meta charset=\"utf-8\" /></head>\n",
              "<body>\n",
              "    <div>\n",
              "            <script src=\"https://cdnjs.cloudflare.com/ajax/libs/mathjax/2.7.5/MathJax.js?config=TeX-AMS-MML_SVG\"></script><script type=\"text/javascript\">if (window.MathJax) {MathJax.Hub.Config({SVG: {font: \"STIX-Web\"}});}</script>\n",
              "                <script type=\"text/javascript\">window.PlotlyConfig = {MathJaxConfig: 'local'};</script>\n",
              "        <script src=\"https://cdn.plot.ly/plotly-latest.min.js\"></script>    \n",
              "            <div id=\"7f9ded34-f713-4744-bbe7-e5f03612ac80\" class=\"plotly-graph-div\" style=\"height:525px; width:100%;\"></div>\n",
              "            <script type=\"text/javascript\">\n",
              "                \n",
              "                    window.PLOTLYENV=window.PLOTLYENV || {};\n",
              "                    \n",
              "                if (document.getElementById(\"7f9ded34-f713-4744-bbe7-e5f03612ac80\")) {\n",
              "                    Plotly.newPlot(\n",
              "                        '7f9ded34-f713-4744-bbe7-e5f03612ac80',\n",
              "                        [{\"alignmentgroup\": \"True\", \"hoverlabel\": {\"namelength\": 0}, \"hovertemplate\": \"x=%{x}<br>y=%{y}\", \"legendgroup\": \"\", \"marker\": {\"color\": \"#636efa\"}, \"name\": \"\", \"offsetgroup\": \"\", \"orientation\": \"v\", \"showlegend\": false, \"textposition\": \"auto\", \"type\": \"bar\", \"x\": [\"USA\", \"Russia\", \"Spain\", \"Brazil\", \"UK\", \"Italy\", \"France\", \"Germany\", \"Turkey\", \"Iran\", \"India\", \"Peru\", \"China\", \"Canada\", \"Saudi Arabia\", \"Belgium\", \"Mexico\", \"Chile\", \"Netherlands\", \"Pakistan\", \"Qatar\", \"Ecuador\", \"Switzerland\", \"Belarus\", \"Sweden\", \"Portugal\", \"Singapore\", \"Ireland\", \"UAE\", \"Bangladesh\", \"Poland\", \"Ukraine\", \"Indonesia\", \"Romania\", \"Israel\", \"South Africa\", \"Japan\", \"Colombia\", \"Austria\", \"Kuwait\", \"Egypt\", \"Dominican Republic\", \"Philippines\", \"S. Korea\", \"Denmark\", \"Serbia\", \"Panama\", \"Czechia\", \"Argentina\", \"Norway\", \"Algeria\", \"Bahrain\", \"Afghanistan\", \"Australia\", \"Morocco\", \"Malaysia\", \"Kazakhstan\", \"Finland\", \"Nigeria\", \"Moldova\", \"Ghana\", \"Oman\", \"Armenia\", \"Bolivia\", \"Luxembourg\", \"Iraq\", \"Hungary\", \"Cameroon\", \"Azerbaijan\", \"Thailand\", \"Greece\", \"Guinea\", \"Uzbekistan\", \"Honduras\", \"Sudan\", \"Senegal\", \"Bosnia and Herzegovina\", \"Bulgaria\", \"Croatia\", \"Ivory Coast\", \"Guatemala\", \"Cuba\", \"North Macedonia\", \"Iceland\", \"Estonia\", \"Tajikistan\", \"Lithuania\", \"DRC\", \"Djibouti\", \"New Zealand\", \"Slovakia\", \"Slovenia\", \"Somalia\", \"Gabon\", \"El Salvador\", \"Mayotte\", \"Kyrgyzstan\", \"Maldives\", \"Hong Kong\", \"Tunisia\", \"Guinea-Bissau\", \"Latvia\", \"Sri Lanka\", \"Albania\", \"Lebanon\", \"Cyprus\", \"Kenya\", \"Niger\", \"Mali\", \"Costa Rica\", \"Burkina Faso\", \"Paraguay\", \"Andorra\", \"Zambia\", \"Uruguay\", \"Equatorial Guinea\", \"Georgia\", \"San Marino\", \"Jordan\", \"Venezuela\", \"Malta\", \"Channel Islands\", \"Haiti\", \"Jamaica\", \"Chad\", \"Sierra Leone\", \"Tanzania\", \"R\\u00e9union\", \"Taiwan\", \"Congo\", \"Palestine\", \"Nepal\", \"Ethiopia\", \"Benin\", \"Isle of Man\", \"Mauritius\", \"Togo\", \"Cabo Verde\", \"CAR\", \"Montenegro\", \"Vietnam\", \"Madagascar\", \"Rwanda\", \"South Sudan\", \"Uganda\", \"Sao Tome and Principe\", \"Liberia\", \"French Guiana\", \"Eswatini\", \"Martinique\", \"Myanmar\", \"Faeroe Islands\", \"Guadeloupe\", \"Gibraltar\", \"Mozambique\", \"Brunei\", \"Mongolia\", \"Yemen\", \"Bermuda\", \"Guyana\", \"Cambodia\", \"Trinidad and Tobago\", \"Aruba\", \"Monaco\", \"Bahamas\", \"Cayman Islands\", \"Barbados\", \"Liechtenstein\", \"Mauritania\", \"Sint Maarten\", \"Malawi\", \"Libya\", \"French Polynesia\", \"Syria\", \"Angola\", \"Zimbabwe\", \"Macao\", \"Burundi\", \"Saint Martin\", \"Eritrea\", \"Nicaragua\", \"Antigua and Barbuda\", \"Botswana\", \"Gambia\", \"Timor-Leste\", \"Grenada\", \"Bhutan\", \"Laos\", \"Belize\", \"Fiji\", \"New Caledonia\", \"Saint Lucia\", \"St. Vincent Grenadines\", \"Cura\\u00e7ao\", \"Dominica\", \"Namibia\", \"Saint Kitts and Nevis\", \"Falkland Islands\", \"Turks and Caicos\", \"Vatican City\", \"Comoros\", \"Montserrat\", \"Suriname\", \"Greenland\", \"Seychelles\", \"British Virgin Islands\", \"Papua New Guinea\", \"Caribbean Netherlands\", \"St. Barth\", \"Western Sahara\", \"Anguilla\", \"Lesotho\", \"Saint Pierre Miquelon\"], \"xaxis\": \"x\", \"y\": [0.189, 0.17600000000000002, 0.147, 0.217, 0.177, 0.135, 0.181, 0.131, 0.25, 0.237, 0.278, 0.274, 0.177, 0.16, 0.252, 0.171, 0.267, 0.203, 0.16399999999999998, 0.348, 0.139, 0.284, 0.149, 0.16699999999999998, 0.175, 0.136, 0.15, 0.21600000000000005, 0.139, 0.284, 0.14800000000000002, 0.155, 0.274, 0.153, 0.279, 0.29, 0.129, 0.235, 0.141, 0.211, 0.335, 0.293, 0.317, 0.135, 0.165, 0.165, 0.274, 0.154, 0.249, 0.17800000000000002, 0.293, 0.197, 0.4320000000000001, 0.19, 0.274, 0.243, 0.279, 0.16399999999999998, 0.44, 0.157, 0.385, 0.218, 0.2, 0.316, 0.165, 0.404, 0.14300000000000002, 0.4270000000000001, 0.233, 0.173, 0.142, 0.423, 0.28, 0.316, 0.408, 0.429, 0.141, 0.142, 0.147, 0.424, 0.35100000000000003, 0.161, 0.25, 0.201, 0.16399999999999998, 0.353, 0.14800000000000002, 0.463, 0.311, 0.198, 0.154, 0.15, 0.464, 0.359, 0.274, 27.0, 0.318, 0.234, 0.115, 0.24, 0.407, 0.154, 0.24, 0.174, 0.231, 0.168, 0.405, 0.502, 0.477, 0.213, 0.452, 0.294, 27.0, 0.448, 0.211, 0.3720000000000001, 0.192, 27.0, 0.355, 0.276, 0.14400000000000002, 27.0, 0.33, 0.227, 0.471, 0.421, 0.449, 27.0, 0.13119999999999998, 0.423, 0.396, 0.309, 0.406, 0.4270000000000001, 27.0, 0.184, 0.416, 27.0, 0.4320000000000001, 0.181, 0.231, 0.41, 0.401, 0.417, 0.477, 27.0, 0.418, 27.0, 0.3720000000000001, 27.0, 0.268, 27.0, 27.0, 27.0, 0.448, 0.23, 0.297, 0.399, 27.0, 0.281, 0.313, 0.207, 27.0, 27.0, 0.205, 27.0, 0.191, 27.0, 0.399, 27.0, 0.44, 0.282, 27.0, 0.366, 0.468, 0.412, 27.0, 0.45, 27.0, 0.418, 0.29, 0.239, 0.314, 0.453, 0.436, 0.263, 0.266, 0.329, 0.314, 0.285, 27.0, 0.189, 27.0, 0.187, 27.0, 0.3670000000000001, 27.0, 27.0, 27.0, 27.0, 0.398, 27.0, 0.264, 27.0, 0.222, 27.0, 0.359, 27.0, 27.0, 27.0, 27.0, 0.354, 27.0], \"yaxis\": \"y\"}],\n",
              "                        {\"barmode\": \"relative\", \"legend\": {\"tracegroupgap\": 0}, \"margin\": {\"t\": 60}, \"template\": {\"data\": {\"bar\": [{\"error_x\": {\"color\": \"#2a3f5f\"}, \"error_y\": {\"color\": \"#2a3f5f\"}, \"marker\": {\"line\": {\"color\": \"#E5ECF6\", \"width\": 0.5}}, \"type\": \"bar\"}], \"barpolar\": [{\"marker\": {\"line\": {\"color\": \"#E5ECF6\", \"width\": 0.5}}, \"type\": \"barpolar\"}], \"carpet\": [{\"aaxis\": {\"endlinecolor\": \"#2a3f5f\", \"gridcolor\": \"white\", \"linecolor\": \"white\", \"minorgridcolor\": \"white\", \"startlinecolor\": \"#2a3f5f\"}, \"baxis\": {\"endlinecolor\": \"#2a3f5f\", \"gridcolor\": \"white\", \"linecolor\": \"white\", \"minorgridcolor\": \"white\", \"startlinecolor\": \"#2a3f5f\"}, \"type\": \"carpet\"}], \"choropleth\": [{\"colorbar\": {\"outlinewidth\": 0, \"ticks\": \"\"}, \"type\": \"choropleth\"}], \"contour\": [{\"colorbar\": {\"outlinewidth\": 0, \"ticks\": \"\"}, \"colorscale\": [[0.0, \"#0d0887\"], [0.1111111111111111, \"#46039f\"], [0.2222222222222222, \"#7201a8\"], [0.3333333333333333, \"#9c179e\"], [0.4444444444444444, \"#bd3786\"], [0.5555555555555556, \"#d8576b\"], [0.6666666666666666, \"#ed7953\"], [0.7777777777777778, \"#fb9f3a\"], [0.8888888888888888, \"#fdca26\"], [1.0, \"#f0f921\"]], \"type\": \"contour\"}], \"contourcarpet\": [{\"colorbar\": {\"outlinewidth\": 0, \"ticks\": \"\"}, \"type\": \"contourcarpet\"}], \"heatmap\": [{\"colorbar\": {\"outlinewidth\": 0, \"ticks\": \"\"}, \"colorscale\": [[0.0, \"#0d0887\"], [0.1111111111111111, \"#46039f\"], [0.2222222222222222, \"#7201a8\"], [0.3333333333333333, \"#9c179e\"], [0.4444444444444444, \"#bd3786\"], [0.5555555555555556, \"#d8576b\"], [0.6666666666666666, \"#ed7953\"], [0.7777777777777778, \"#fb9f3a\"], [0.8888888888888888, \"#fdca26\"], [1.0, \"#f0f921\"]], \"type\": \"heatmap\"}], \"heatmapgl\": [{\"colorbar\": {\"outlinewidth\": 0, \"ticks\": \"\"}, \"colorscale\": [[0.0, \"#0d0887\"], [0.1111111111111111, \"#46039f\"], [0.2222222222222222, \"#7201a8\"], [0.3333333333333333, \"#9c179e\"], [0.4444444444444444, \"#bd3786\"], [0.5555555555555556, \"#d8576b\"], [0.6666666666666666, \"#ed7953\"], [0.7777777777777778, \"#fb9f3a\"], [0.8888888888888888, \"#fdca26\"], [1.0, \"#f0f921\"]], \"type\": \"heatmapgl\"}], \"histogram\": [{\"marker\": {\"colorbar\": {\"outlinewidth\": 0, \"ticks\": \"\"}}, \"type\": \"histogram\"}], \"histogram2d\": [{\"colorbar\": {\"outlinewidth\": 0, \"ticks\": \"\"}, \"colorscale\": [[0.0, \"#0d0887\"], [0.1111111111111111, \"#46039f\"], [0.2222222222222222, \"#7201a8\"], [0.3333333333333333, \"#9c179e\"], [0.4444444444444444, \"#bd3786\"], [0.5555555555555556, \"#d8576b\"], [0.6666666666666666, \"#ed7953\"], [0.7777777777777778, \"#fb9f3a\"], [0.8888888888888888, \"#fdca26\"], [1.0, \"#f0f921\"]], \"type\": \"histogram2d\"}], \"histogram2dcontour\": [{\"colorbar\": {\"outlinewidth\": 0, \"ticks\": \"\"}, \"colorscale\": [[0.0, \"#0d0887\"], [0.1111111111111111, \"#46039f\"], [0.2222222222222222, \"#7201a8\"], [0.3333333333333333, \"#9c179e\"], [0.4444444444444444, \"#bd3786\"], [0.5555555555555556, \"#d8576b\"], [0.6666666666666666, \"#ed7953\"], [0.7777777777777778, \"#fb9f3a\"], [0.8888888888888888, \"#fdca26\"], [1.0, \"#f0f921\"]], \"type\": \"histogram2dcontour\"}], \"mesh3d\": [{\"colorbar\": {\"outlinewidth\": 0, \"ticks\": \"\"}, \"type\": \"mesh3d\"}], \"parcoords\": [{\"line\": {\"colorbar\": {\"outlinewidth\": 0, \"ticks\": \"\"}}, \"type\": \"parcoords\"}], \"pie\": [{\"automargin\": true, \"type\": \"pie\"}], \"scatter\": [{\"marker\": {\"colorbar\": {\"outlinewidth\": 0, \"ticks\": \"\"}}, \"type\": \"scatter\"}], \"scatter3d\": [{\"line\": {\"colorbar\": {\"outlinewidth\": 0, \"ticks\": \"\"}}, \"marker\": {\"colorbar\": {\"outlinewidth\": 0, \"ticks\": \"\"}}, \"type\": \"scatter3d\"}], \"scattercarpet\": [{\"marker\": {\"colorbar\": {\"outlinewidth\": 0, \"ticks\": \"\"}}, \"type\": \"scattercarpet\"}], \"scattergeo\": [{\"marker\": {\"colorbar\": {\"outlinewidth\": 0, \"ticks\": \"\"}}, \"type\": \"scattergeo\"}], \"scattergl\": [{\"marker\": {\"colorbar\": {\"outlinewidth\": 0, \"ticks\": \"\"}}, \"type\": \"scattergl\"}], \"scattermapbox\": [{\"marker\": {\"colorbar\": {\"outlinewidth\": 0, \"ticks\": \"\"}}, \"type\": \"scattermapbox\"}], \"scatterpolar\": [{\"marker\": {\"colorbar\": {\"outlinewidth\": 0, \"ticks\": \"\"}}, \"type\": \"scatterpolar\"}], \"scatterpolargl\": [{\"marker\": {\"colorbar\": {\"outlinewidth\": 0, \"ticks\": \"\"}}, \"type\": \"scatterpolargl\"}], \"scatterternary\": [{\"marker\": {\"colorbar\": {\"outlinewidth\": 0, \"ticks\": \"\"}}, \"type\": \"scatterternary\"}], \"surface\": [{\"colorbar\": {\"outlinewidth\": 0, \"ticks\": \"\"}, \"colorscale\": [[0.0, \"#0d0887\"], [0.1111111111111111, \"#46039f\"], [0.2222222222222222, \"#7201a8\"], [0.3333333333333333, \"#9c179e\"], [0.4444444444444444, \"#bd3786\"], [0.5555555555555556, \"#d8576b\"], [0.6666666666666666, \"#ed7953\"], [0.7777777777777778, \"#fb9f3a\"], [0.8888888888888888, \"#fdca26\"], [1.0, \"#f0f921\"]], \"type\": \"surface\"}], \"table\": [{\"cells\": {\"fill\": {\"color\": \"#EBF0F8\"}, \"line\": {\"color\": \"white\"}}, \"header\": {\"fill\": {\"color\": \"#C8D4E3\"}, \"line\": {\"color\": \"white\"}}, \"type\": \"table\"}]}, \"layout\": {\"annotationdefaults\": {\"arrowcolor\": \"#2a3f5f\", \"arrowhead\": 0, \"arrowwidth\": 1}, \"coloraxis\": {\"colorbar\": {\"outlinewidth\": 0, \"ticks\": \"\"}}, \"colorscale\": {\"diverging\": [[0, \"#8e0152\"], [0.1, \"#c51b7d\"], [0.2, \"#de77ae\"], [0.3, \"#f1b6da\"], [0.4, \"#fde0ef\"], [0.5, \"#f7f7f7\"], [0.6, \"#e6f5d0\"], [0.7, \"#b8e186\"], [0.8, \"#7fbc41\"], [0.9, \"#4d9221\"], [1, \"#276419\"]], \"sequential\": [[0.0, \"#0d0887\"], [0.1111111111111111, \"#46039f\"], [0.2222222222222222, \"#7201a8\"], [0.3333333333333333, \"#9c179e\"], [0.4444444444444444, \"#bd3786\"], [0.5555555555555556, \"#d8576b\"], [0.6666666666666666, \"#ed7953\"], [0.7777777777777778, \"#fb9f3a\"], [0.8888888888888888, \"#fdca26\"], [1.0, \"#f0f921\"]], \"sequentialminus\": [[0.0, \"#0d0887\"], [0.1111111111111111, \"#46039f\"], [0.2222222222222222, \"#7201a8\"], [0.3333333333333333, \"#9c179e\"], [0.4444444444444444, \"#bd3786\"], [0.5555555555555556, \"#d8576b\"], [0.6666666666666666, \"#ed7953\"], [0.7777777777777778, \"#fb9f3a\"], [0.8888888888888888, \"#fdca26\"], [1.0, \"#f0f921\"]]}, \"colorway\": [\"#636efa\", \"#EF553B\", \"#00cc96\", \"#ab63fa\", \"#FFA15A\", \"#19d3f3\", \"#FF6692\", \"#B6E880\", \"#FF97FF\", \"#FECB52\"], \"font\": {\"color\": \"#2a3f5f\"}, \"geo\": {\"bgcolor\": \"white\", \"lakecolor\": \"white\", \"landcolor\": \"#E5ECF6\", \"showlakes\": true, \"showland\": true, \"subunitcolor\": \"white\"}, \"hoverlabel\": {\"align\": \"left\"}, \"hovermode\": \"closest\", \"mapbox\": {\"style\": \"light\"}, \"paper_bgcolor\": \"white\", \"plot_bgcolor\": \"#E5ECF6\", \"polar\": {\"angularaxis\": {\"gridcolor\": \"white\", \"linecolor\": \"white\", \"ticks\": \"\"}, \"bgcolor\": \"#E5ECF6\", \"radialaxis\": {\"gridcolor\": \"white\", \"linecolor\": \"white\", \"ticks\": \"\"}}, \"scene\": {\"xaxis\": {\"backgroundcolor\": \"#E5ECF6\", \"gridcolor\": \"white\", \"gridwidth\": 2, \"linecolor\": \"white\", \"showbackground\": true, \"ticks\": \"\", \"zerolinecolor\": \"white\"}, \"yaxis\": {\"backgroundcolor\": \"#E5ECF6\", \"gridcolor\": \"white\", \"gridwidth\": 2, \"linecolor\": \"white\", \"showbackground\": true, \"ticks\": \"\", \"zerolinecolor\": \"white\"}, \"zaxis\": {\"backgroundcolor\": \"#E5ECF6\", \"gridcolor\": \"white\", \"gridwidth\": 2, \"linecolor\": \"white\", \"showbackground\": true, \"ticks\": \"\", \"zerolinecolor\": \"white\"}}, \"shapedefaults\": {\"line\": {\"color\": \"#2a3f5f\"}}, \"ternary\": {\"aaxis\": {\"gridcolor\": \"white\", \"linecolor\": \"white\", \"ticks\": \"\"}, \"baxis\": {\"gridcolor\": \"white\", \"linecolor\": \"white\", \"ticks\": \"\"}, \"bgcolor\": \"#E5ECF6\", \"caxis\": {\"gridcolor\": \"white\", \"linecolor\": \"white\", \"ticks\": \"\"}}, \"title\": {\"x\": 0.05}, \"xaxis\": {\"automargin\": true, \"gridcolor\": \"white\", \"linecolor\": \"white\", \"ticks\": \"\", \"title\": {\"standoff\": 15}, \"zerolinecolor\": \"white\", \"zerolinewidth\": 2}, \"yaxis\": {\"automargin\": true, \"gridcolor\": \"white\", \"linecolor\": \"white\", \"ticks\": \"\", \"title\": {\"standoff\": 15}, \"zerolinecolor\": \"white\", \"zerolinewidth\": 2}}}, \"title\": {\"text\": \"Distribution of Number of cases of age group 0-14 years Country-Wise\"}, \"xaxis\": {\"anchor\": \"y\", \"domain\": [0.0, 1.0], \"title\": {\"text\": \"Country\"}}, \"yaxis\": {\"anchor\": \"x\", \"domain\": [0.0, 1.0], \"title\": {\"text\": \"Number of Cases of age group 0-14 years\"}}},\n",
              "                        {\"responsive\": true}\n",
              "                    ).then(function(){\n",
              "                            \n",
              "var gd = document.getElementById('7f9ded34-f713-4744-bbe7-e5f03612ac80');\n",
              "var x = new MutationObserver(function (mutations, observer) {{\n",
              "        var display = window.getComputedStyle(gd).display;\n",
              "        if (!display || display === 'none') {{\n",
              "            console.log([gd, 'removed!']);\n",
              "            Plotly.purge(gd);\n",
              "            observer.disconnect();\n",
              "        }}\n",
              "}});\n",
              "\n",
              "// Listen for the removal of the full notebook cells\n",
              "var notebookContainer = gd.closest('#notebook-container');\n",
              "if (notebookContainer) {{\n",
              "    x.observe(notebookContainer, {childList: true});\n",
              "}}\n",
              "\n",
              "// Listen for the clearing of the current output cell\n",
              "var outputEl = gd.closest('.output');\n",
              "if (outputEl) {{\n",
              "    x.observe(outputEl, {childList: true});\n",
              "}}\n",
              "\n",
              "                        })\n",
              "                };\n",
              "                \n",
              "            </script>\n",
              "        </div>\n",
              "</body>\n",
              "</html>"
            ]
          },
          "metadata": {
            "tags": []
          }
        }
      ]
    },
    {
      "cell_type": "code",
      "metadata": {
        "id": "CeZrnzTq1B-Q",
        "colab_type": "code",
        "colab": {
          "base_uri": "https://localhost:8080/",
          "height": 542
        },
        "outputId": "95c8ba17-d2d4-4817-de92-8bf5a07806c5"
      },
      "source": [
        "fig=px.bar(x=covid.Country,y=covid[\"Fraction age 15-64 years\"])\n",
        "fig.update_layout(title=\"Distribution of Number of cases of age group 15-64 years Country-Wise\",\n",
        "                  xaxis_title=\"Country\",yaxis_title=\"Number of Cases of 15-64 years\")\n",
        "fig.show()"
      ],
      "execution_count": null,
      "outputs": [
        {
          "output_type": "display_data",
          "data": {
            "text/html": [
              "<html>\n",
              "<head><meta charset=\"utf-8\" /></head>\n",
              "<body>\n",
              "    <div>\n",
              "            <script src=\"https://cdnjs.cloudflare.com/ajax/libs/mathjax/2.7.5/MathJax.js?config=TeX-AMS-MML_SVG\"></script><script type=\"text/javascript\">if (window.MathJax) {MathJax.Hub.Config({SVG: {font: \"STIX-Web\"}});}</script>\n",
              "                <script type=\"text/javascript\">window.PlotlyConfig = {MathJaxConfig: 'local'};</script>\n",
              "        <script src=\"https://cdn.plot.ly/plotly-latest.min.js\"></script>    \n",
              "            <div id=\"a1ccd93a-e412-412c-95a9-c1a9863be7c4\" class=\"plotly-graph-div\" style=\"height:525px; width:100%;\"></div>\n",
              "            <script type=\"text/javascript\">\n",
              "                \n",
              "                    window.PLOTLYENV=window.PLOTLYENV || {};\n",
              "                    \n",
              "                if (document.getElementById(\"a1ccd93a-e412-412c-95a9-c1a9863be7c4\")) {\n",
              "                    Plotly.newPlot(\n",
              "                        'a1ccd93a-e412-412c-95a9-c1a9863be7c4',\n",
              "                        [{\"alignmentgroup\": \"True\", \"hoverlabel\": {\"namelength\": 0}, \"hovertemplate\": \"x=%{x}<br>y=%{y}\", \"legendgroup\": \"\", \"marker\": {\"color\": \"#636efa\"}, \"name\": \"\", \"offsetgroup\": \"\", \"orientation\": \"v\", \"showlegend\": false, \"textposition\": \"auto\", \"type\": \"bar\", \"x\": [\"USA\", \"Russia\", \"Spain\", \"Brazil\", \"UK\", \"Italy\", \"France\", \"Germany\", \"Turkey\", \"Iran\", \"India\", \"Peru\", \"China\", \"Canada\", \"Saudi Arabia\", \"Belgium\", \"Mexico\", \"Chile\", \"Netherlands\", \"Pakistan\", \"Qatar\", \"Ecuador\", \"Switzerland\", \"Belarus\", \"Sweden\", \"Portugal\", \"Singapore\", \"Ireland\", \"UAE\", \"Bangladesh\", \"Poland\", \"Ukraine\", \"Indonesia\", \"Romania\", \"Israel\", \"South Africa\", \"Japan\", \"Colombia\", \"Austria\", \"Kuwait\", \"Egypt\", \"Dominican Republic\", \"Philippines\", \"S. Korea\", \"Denmark\", \"Serbia\", \"Panama\", \"Czechia\", \"Argentina\", \"Norway\", \"Algeria\", \"Bahrain\", \"Afghanistan\", \"Australia\", \"Morocco\", \"Malaysia\", \"Kazakhstan\", \"Finland\", \"Nigeria\", \"Moldova\", \"Ghana\", \"Oman\", \"Armenia\", \"Bolivia\", \"Luxembourg\", \"Iraq\", \"Hungary\", \"Cameroon\", \"Azerbaijan\", \"Thailand\", \"Greece\", \"Guinea\", \"Uzbekistan\", \"Honduras\", \"Sudan\", \"Senegal\", \"Bosnia and Herzegovina\", \"Bulgaria\", \"Croatia\", \"Ivory Coast\", \"Guatemala\", \"Cuba\", \"North Macedonia\", \"Iceland\", \"Estonia\", \"Tajikistan\", \"Lithuania\", \"DRC\", \"Djibouti\", \"New Zealand\", \"Slovakia\", \"Slovenia\", \"Somalia\", \"Gabon\", \"El Salvador\", \"Mayotte\", \"Kyrgyzstan\", \"Maldives\", \"Hong Kong\", \"Tunisia\", \"Guinea-Bissau\", \"Latvia\", \"Sri Lanka\", \"Albania\", \"Lebanon\", \"Cyprus\", \"Kenya\", \"Niger\", \"Mali\", \"Costa Rica\", \"Burkina Faso\", \"Paraguay\", \"Andorra\", \"Zambia\", \"Uruguay\", \"Equatorial Guinea\", \"Georgia\", \"San Marino\", \"Jordan\", \"Venezuela\", \"Malta\", \"Channel Islands\", \"Haiti\", \"Jamaica\", \"Chad\", \"Sierra Leone\", \"Tanzania\", \"R\\u00e9union\", \"Taiwan\", \"Congo\", \"Palestine\", \"Nepal\", \"Ethiopia\", \"Benin\", \"Isle of Man\", \"Mauritius\", \"Togo\", \"Cabo Verde\", \"CAR\", \"Montenegro\", \"Vietnam\", \"Madagascar\", \"Rwanda\", \"South Sudan\", \"Uganda\", \"Sao Tome and Principe\", \"Liberia\", \"French Guiana\", \"Eswatini\", \"Martinique\", \"Myanmar\", \"Faeroe Islands\", \"Guadeloupe\", \"Gibraltar\", \"Mozambique\", \"Brunei\", \"Mongolia\", \"Yemen\", \"Bermuda\", \"Guyana\", \"Cambodia\", \"Trinidad and Tobago\", \"Aruba\", \"Monaco\", \"Bahamas\", \"Cayman Islands\", \"Barbados\", \"Liechtenstein\", \"Mauritania\", \"Sint Maarten\", \"Malawi\", \"Libya\", \"French Polynesia\", \"Syria\", \"Angola\", \"Zimbabwe\", \"Macao\", \"Burundi\", \"Saint Martin\", \"Eritrea\", \"Nicaragua\", \"Antigua and Barbuda\", \"Botswana\", \"Gambia\", \"Timor-Leste\", \"Grenada\", \"Bhutan\", \"Laos\", \"Belize\", \"Fiji\", \"New Caledonia\", \"Saint Lucia\", \"St. Vincent Grenadines\", \"Cura\\u00e7ao\", \"Dominica\", \"Namibia\", \"Saint Kitts and Nevis\", \"Falkland Islands\", \"Turks and Caicos\", \"Vatican City\", \"Comoros\", \"Montserrat\", \"Suriname\", \"Greenland\", \"Seychelles\", \"British Virgin Islands\", \"Papua New Guinea\", \"Caribbean Netherlands\", \"St. Barth\", \"Western Sahara\", \"Anguilla\", \"Lesotho\", \"Saint Pierre Miquelon\"], \"xaxis\": \"x\", \"y\": [0.657, 0.682, 0.659, 0.6970000000000001, 0.638, 0.635, 0.622, 0.655, 0.669, 0.7090000000000001, 0.662, 0.655, 0.7170000000000001, 0.67, 0.715, 0.643, 0.665, 0.6859999999999999, 0.648, 0.607, 0.848, 0.645, 0.667, 0.685, 0.625, 0.649, 0.721, 0.644, 0.85, 0.665, 0.684, 0.68, 0.6729999999999999, 0.669, 0.604, 0.657, 0.601, 0.6890000000000001, 0.667, 0.7659999999999999, 0.614, 0.637, 0.635, 0.726, 0.638, 0.662, 0.647, 0.6559999999999999, 0.639, 0.654, 0.645, 0.779, 0.542, 0.655, 0.6579999999999999, 0.6940000000000001, 0.6509999999999999, 0.624, 0.5329999999999999, 0.7340000000000001, 0.581, 0.758, 0.688, 0.617, 0.6920000000000001, 0.564, 0.6709999999999999, 0.541, 0.7070000000000001, 0.713, 0.654, 0.546, 0.675, 0.637, 0.556, 0.541, 0.693, 0.65, 0.6559999999999999, 0.546, 0.603, 0.6920000000000001, 0.662, 0.655, 0.642, 0.613, 0.662, 0.507, 0.647, 0.649, 0.696, 0.66, 0.508, 0.596, 0.644, 27.0, 0.637, 0.725, 0.722, 0.68, 0.555, 0.648, 0.659, 0.6890000000000001, 0.684, 0.698, 0.568, 0.472, 0.498, 0.6890000000000001, 0.524, 0.642, 27.0, 0.527, 0.643, 0.6, 0.66, 27.0, 0.607, 0.6579999999999999, 0.6609999999999999, 27.0, 0.622, 0.6759999999999999, 0.504, 0.5539999999999999, 0.52, 27.0, 0.7302, 0.5429999999999999, 0.574, 0.633, 0.5589999999999999, 0.541, 27.0, 0.7070000000000001, 0.556, 27.0, 0.531, 0.6709999999999999, 0.698, 0.561, 0.569, 0.5489999999999999, 0.501, 27.0, 0.551, 27.0, 0.597, 27.0, 0.674, 27.0, 27.0, 27.0, 0.521, 0.7240000000000001, 0.6629999999999999, 0.5720000000000001, 27.0, 0.657, 0.643, 0.693, 27.0, 27.0, 0.706, 27.0, 0.66, 27.0, 0.569, 27.0, 0.53, 0.674, 27.0, 0.591, 0.508, 0.56, 27.0, 0.524, 27.0, 0.546, 0.655, 0.6920000000000001, 0.647, 0.523, 0.528, 0.664, 0.6859999999999999, 0.631, 0.647, 0.653, 27.0, 0.7140000000000001, 27.0, 0.649, 27.0, 0.598, 27.0, 27.0, 27.0, 27.0, 0.573, 27.0, 0.6659999999999999, 27.0, 0.6920000000000001, 27.0, 0.603, 27.0, 27.0, 27.0, 27.0, 0.601, 27.0], \"yaxis\": \"y\"}],\n",
              "                        {\"barmode\": \"relative\", \"legend\": {\"tracegroupgap\": 0}, \"margin\": {\"t\": 60}, \"template\": {\"data\": {\"bar\": [{\"error_x\": {\"color\": \"#2a3f5f\"}, \"error_y\": {\"color\": \"#2a3f5f\"}, \"marker\": {\"line\": {\"color\": \"#E5ECF6\", \"width\": 0.5}}, \"type\": \"bar\"}], \"barpolar\": [{\"marker\": {\"line\": {\"color\": \"#E5ECF6\", \"width\": 0.5}}, \"type\": \"barpolar\"}], \"carpet\": [{\"aaxis\": {\"endlinecolor\": \"#2a3f5f\", \"gridcolor\": \"white\", \"linecolor\": \"white\", \"minorgridcolor\": \"white\", \"startlinecolor\": \"#2a3f5f\"}, \"baxis\": {\"endlinecolor\": \"#2a3f5f\", \"gridcolor\": \"white\", \"linecolor\": \"white\", \"minorgridcolor\": \"white\", \"startlinecolor\": \"#2a3f5f\"}, \"type\": \"carpet\"}], \"choropleth\": [{\"colorbar\": {\"outlinewidth\": 0, \"ticks\": \"\"}, \"type\": \"choropleth\"}], \"contour\": [{\"colorbar\": {\"outlinewidth\": 0, \"ticks\": \"\"}, \"colorscale\": [[0.0, \"#0d0887\"], [0.1111111111111111, \"#46039f\"], [0.2222222222222222, \"#7201a8\"], [0.3333333333333333, \"#9c179e\"], [0.4444444444444444, \"#bd3786\"], [0.5555555555555556, \"#d8576b\"], [0.6666666666666666, \"#ed7953\"], [0.7777777777777778, \"#fb9f3a\"], [0.8888888888888888, \"#fdca26\"], [1.0, \"#f0f921\"]], \"type\": \"contour\"}], \"contourcarpet\": [{\"colorbar\": {\"outlinewidth\": 0, \"ticks\": \"\"}, \"type\": \"contourcarpet\"}], \"heatmap\": [{\"colorbar\": {\"outlinewidth\": 0, \"ticks\": \"\"}, \"colorscale\": [[0.0, \"#0d0887\"], [0.1111111111111111, \"#46039f\"], [0.2222222222222222, \"#7201a8\"], [0.3333333333333333, \"#9c179e\"], [0.4444444444444444, \"#bd3786\"], [0.5555555555555556, \"#d8576b\"], [0.6666666666666666, \"#ed7953\"], [0.7777777777777778, \"#fb9f3a\"], [0.8888888888888888, \"#fdca26\"], [1.0, \"#f0f921\"]], \"type\": \"heatmap\"}], \"heatmapgl\": [{\"colorbar\": {\"outlinewidth\": 0, \"ticks\": \"\"}, \"colorscale\": [[0.0, \"#0d0887\"], [0.1111111111111111, \"#46039f\"], [0.2222222222222222, \"#7201a8\"], [0.3333333333333333, \"#9c179e\"], [0.4444444444444444, \"#bd3786\"], [0.5555555555555556, \"#d8576b\"], [0.6666666666666666, \"#ed7953\"], [0.7777777777777778, \"#fb9f3a\"], [0.8888888888888888, \"#fdca26\"], [1.0, \"#f0f921\"]], \"type\": \"heatmapgl\"}], \"histogram\": [{\"marker\": {\"colorbar\": {\"outlinewidth\": 0, \"ticks\": \"\"}}, \"type\": \"histogram\"}], \"histogram2d\": [{\"colorbar\": {\"outlinewidth\": 0, \"ticks\": \"\"}, \"colorscale\": [[0.0, \"#0d0887\"], [0.1111111111111111, \"#46039f\"], [0.2222222222222222, \"#7201a8\"], [0.3333333333333333, \"#9c179e\"], [0.4444444444444444, \"#bd3786\"], [0.5555555555555556, \"#d8576b\"], [0.6666666666666666, \"#ed7953\"], [0.7777777777777778, \"#fb9f3a\"], [0.8888888888888888, \"#fdca26\"], [1.0, \"#f0f921\"]], \"type\": \"histogram2d\"}], \"histogram2dcontour\": [{\"colorbar\": {\"outlinewidth\": 0, \"ticks\": \"\"}, \"colorscale\": [[0.0, \"#0d0887\"], [0.1111111111111111, \"#46039f\"], [0.2222222222222222, \"#7201a8\"], [0.3333333333333333, \"#9c179e\"], [0.4444444444444444, \"#bd3786\"], [0.5555555555555556, \"#d8576b\"], [0.6666666666666666, \"#ed7953\"], [0.7777777777777778, \"#fb9f3a\"], [0.8888888888888888, \"#fdca26\"], [1.0, \"#f0f921\"]], \"type\": \"histogram2dcontour\"}], \"mesh3d\": [{\"colorbar\": {\"outlinewidth\": 0, \"ticks\": \"\"}, \"type\": \"mesh3d\"}], \"parcoords\": [{\"line\": {\"colorbar\": {\"outlinewidth\": 0, \"ticks\": \"\"}}, \"type\": \"parcoords\"}], \"pie\": [{\"automargin\": true, \"type\": \"pie\"}], \"scatter\": [{\"marker\": {\"colorbar\": {\"outlinewidth\": 0, \"ticks\": \"\"}}, \"type\": \"scatter\"}], \"scatter3d\": [{\"line\": {\"colorbar\": {\"outlinewidth\": 0, \"ticks\": \"\"}}, \"marker\": {\"colorbar\": {\"outlinewidth\": 0, \"ticks\": \"\"}}, \"type\": \"scatter3d\"}], \"scattercarpet\": [{\"marker\": {\"colorbar\": {\"outlinewidth\": 0, \"ticks\": \"\"}}, \"type\": \"scattercarpet\"}], \"scattergeo\": [{\"marker\": {\"colorbar\": {\"outlinewidth\": 0, \"ticks\": \"\"}}, \"type\": \"scattergeo\"}], \"scattergl\": [{\"marker\": {\"colorbar\": {\"outlinewidth\": 0, \"ticks\": \"\"}}, \"type\": \"scattergl\"}], \"scattermapbox\": [{\"marker\": {\"colorbar\": {\"outlinewidth\": 0, \"ticks\": \"\"}}, \"type\": \"scattermapbox\"}], \"scatterpolar\": [{\"marker\": {\"colorbar\": {\"outlinewidth\": 0, \"ticks\": \"\"}}, \"type\": \"scatterpolar\"}], \"scatterpolargl\": [{\"marker\": {\"colorbar\": {\"outlinewidth\": 0, \"ticks\": \"\"}}, \"type\": \"scatterpolargl\"}], \"scatterternary\": [{\"marker\": {\"colorbar\": {\"outlinewidth\": 0, \"ticks\": \"\"}}, \"type\": \"scatterternary\"}], \"surface\": [{\"colorbar\": {\"outlinewidth\": 0, \"ticks\": \"\"}, \"colorscale\": [[0.0, \"#0d0887\"], [0.1111111111111111, \"#46039f\"], [0.2222222222222222, \"#7201a8\"], [0.3333333333333333, \"#9c179e\"], [0.4444444444444444, \"#bd3786\"], [0.5555555555555556, \"#d8576b\"], [0.6666666666666666, \"#ed7953\"], [0.7777777777777778, \"#fb9f3a\"], [0.8888888888888888, \"#fdca26\"], [1.0, \"#f0f921\"]], \"type\": \"surface\"}], \"table\": [{\"cells\": {\"fill\": {\"color\": \"#EBF0F8\"}, \"line\": {\"color\": \"white\"}}, \"header\": {\"fill\": {\"color\": \"#C8D4E3\"}, \"line\": {\"color\": \"white\"}}, \"type\": \"table\"}]}, \"layout\": {\"annotationdefaults\": {\"arrowcolor\": \"#2a3f5f\", \"arrowhead\": 0, \"arrowwidth\": 1}, \"coloraxis\": {\"colorbar\": {\"outlinewidth\": 0, \"ticks\": \"\"}}, \"colorscale\": {\"diverging\": [[0, \"#8e0152\"], [0.1, \"#c51b7d\"], [0.2, \"#de77ae\"], [0.3, \"#f1b6da\"], [0.4, \"#fde0ef\"], [0.5, \"#f7f7f7\"], [0.6, \"#e6f5d0\"], [0.7, \"#b8e186\"], [0.8, \"#7fbc41\"], [0.9, \"#4d9221\"], [1, \"#276419\"]], \"sequential\": [[0.0, \"#0d0887\"], [0.1111111111111111, \"#46039f\"], [0.2222222222222222, \"#7201a8\"], [0.3333333333333333, \"#9c179e\"], [0.4444444444444444, \"#bd3786\"], [0.5555555555555556, \"#d8576b\"], [0.6666666666666666, \"#ed7953\"], [0.7777777777777778, \"#fb9f3a\"], [0.8888888888888888, \"#fdca26\"], [1.0, \"#f0f921\"]], \"sequentialminus\": [[0.0, \"#0d0887\"], [0.1111111111111111, \"#46039f\"], [0.2222222222222222, \"#7201a8\"], [0.3333333333333333, \"#9c179e\"], [0.4444444444444444, \"#bd3786\"], [0.5555555555555556, \"#d8576b\"], [0.6666666666666666, \"#ed7953\"], [0.7777777777777778, \"#fb9f3a\"], [0.8888888888888888, \"#fdca26\"], [1.0, \"#f0f921\"]]}, \"colorway\": [\"#636efa\", \"#EF553B\", \"#00cc96\", \"#ab63fa\", \"#FFA15A\", \"#19d3f3\", \"#FF6692\", \"#B6E880\", \"#FF97FF\", \"#FECB52\"], \"font\": {\"color\": \"#2a3f5f\"}, \"geo\": {\"bgcolor\": \"white\", \"lakecolor\": \"white\", \"landcolor\": \"#E5ECF6\", \"showlakes\": true, \"showland\": true, \"subunitcolor\": \"white\"}, \"hoverlabel\": {\"align\": \"left\"}, \"hovermode\": \"closest\", \"mapbox\": {\"style\": \"light\"}, \"paper_bgcolor\": \"white\", \"plot_bgcolor\": \"#E5ECF6\", \"polar\": {\"angularaxis\": {\"gridcolor\": \"white\", \"linecolor\": \"white\", \"ticks\": \"\"}, \"bgcolor\": \"#E5ECF6\", \"radialaxis\": {\"gridcolor\": \"white\", \"linecolor\": \"white\", \"ticks\": \"\"}}, \"scene\": {\"xaxis\": {\"backgroundcolor\": \"#E5ECF6\", \"gridcolor\": \"white\", \"gridwidth\": 2, \"linecolor\": \"white\", \"showbackground\": true, \"ticks\": \"\", \"zerolinecolor\": \"white\"}, \"yaxis\": {\"backgroundcolor\": \"#E5ECF6\", \"gridcolor\": \"white\", \"gridwidth\": 2, \"linecolor\": \"white\", \"showbackground\": true, \"ticks\": \"\", \"zerolinecolor\": \"white\"}, \"zaxis\": {\"backgroundcolor\": \"#E5ECF6\", \"gridcolor\": \"white\", \"gridwidth\": 2, \"linecolor\": \"white\", \"showbackground\": true, \"ticks\": \"\", \"zerolinecolor\": \"white\"}}, \"shapedefaults\": {\"line\": {\"color\": \"#2a3f5f\"}}, \"ternary\": {\"aaxis\": {\"gridcolor\": \"white\", \"linecolor\": \"white\", \"ticks\": \"\"}, \"baxis\": {\"gridcolor\": \"white\", \"linecolor\": \"white\", \"ticks\": \"\"}, \"bgcolor\": \"#E5ECF6\", \"caxis\": {\"gridcolor\": \"white\", \"linecolor\": \"white\", \"ticks\": \"\"}}, \"title\": {\"x\": 0.05}, \"xaxis\": {\"automargin\": true, \"gridcolor\": \"white\", \"linecolor\": \"white\", \"ticks\": \"\", \"title\": {\"standoff\": 15}, \"zerolinecolor\": \"white\", \"zerolinewidth\": 2}, \"yaxis\": {\"automargin\": true, \"gridcolor\": \"white\", \"linecolor\": \"white\", \"ticks\": \"\", \"title\": {\"standoff\": 15}, \"zerolinecolor\": \"white\", \"zerolinewidth\": 2}}}, \"title\": {\"text\": \"Distribution of Number of cases of age group 15-64 years Country-Wise\"}, \"xaxis\": {\"anchor\": \"y\", \"domain\": [0.0, 1.0], \"title\": {\"text\": \"Country\"}}, \"yaxis\": {\"anchor\": \"x\", \"domain\": [0.0, 1.0], \"title\": {\"text\": \"Number of Cases of 15-64 years\"}}},\n",
              "                        {\"responsive\": true}\n",
              "                    ).then(function(){\n",
              "                            \n",
              "var gd = document.getElementById('a1ccd93a-e412-412c-95a9-c1a9863be7c4');\n",
              "var x = new MutationObserver(function (mutations, observer) {{\n",
              "        var display = window.getComputedStyle(gd).display;\n",
              "        if (!display || display === 'none') {{\n",
              "            console.log([gd, 'removed!']);\n",
              "            Plotly.purge(gd);\n",
              "            observer.disconnect();\n",
              "        }}\n",
              "}});\n",
              "\n",
              "// Listen for the removal of the full notebook cells\n",
              "var notebookContainer = gd.closest('#notebook-container');\n",
              "if (notebookContainer) {{\n",
              "    x.observe(notebookContainer, {childList: true});\n",
              "}}\n",
              "\n",
              "// Listen for the clearing of the current output cell\n",
              "var outputEl = gd.closest('.output');\n",
              "if (outputEl) {{\n",
              "    x.observe(outputEl, {childList: true});\n",
              "}}\n",
              "\n",
              "                        })\n",
              "                };\n",
              "                \n",
              "            </script>\n",
              "        </div>\n",
              "</body>\n",
              "</html>"
            ]
          },
          "metadata": {
            "tags": []
          }
        }
      ]
    },
    {
      "cell_type": "code",
      "metadata": {
        "id": "LPDwqDq51thg",
        "colab_type": "code",
        "colab": {
          "base_uri": "https://localhost:8080/",
          "height": 542
        },
        "outputId": "3bb074b9-e2e4-40c5-bc5b-754a3667d2ba"
      },
      "source": [
        "fig=px.bar(x=covid.Country,y=covid[\"Fraction age 65+ years\"])\n",
        "fig.update_layout(title=\"Distribution of Number of cases of age group 75+ Country-Wise\",\n",
        "                  xaxis_title=\"Country\",yaxis_title=\"Number of Cases of age group 65+\")\n",
        "fig.show()"
      ],
      "execution_count": null,
      "outputs": [
        {
          "output_type": "display_data",
          "data": {
            "text/html": [
              "<html>\n",
              "<head><meta charset=\"utf-8\" /></head>\n",
              "<body>\n",
              "    <div>\n",
              "            <script src=\"https://cdnjs.cloudflare.com/ajax/libs/mathjax/2.7.5/MathJax.js?config=TeX-AMS-MML_SVG\"></script><script type=\"text/javascript\">if (window.MathJax) {MathJax.Hub.Config({SVG: {font: \"STIX-Web\"}});}</script>\n",
              "                <script type=\"text/javascript\">window.PlotlyConfig = {MathJaxConfig: 'local'};</script>\n",
              "        <script src=\"https://cdn.plot.ly/plotly-latest.min.js\"></script>    \n",
              "            <div id=\"639ac8bb-efd5-4832-917e-24f37e776055\" class=\"plotly-graph-div\" style=\"height:525px; width:100%;\"></div>\n",
              "            <script type=\"text/javascript\">\n",
              "                \n",
              "                    window.PLOTLYENV=window.PLOTLYENV || {};\n",
              "                    \n",
              "                if (document.getElementById(\"639ac8bb-efd5-4832-917e-24f37e776055\")) {\n",
              "                    Plotly.newPlot(\n",
              "                        '639ac8bb-efd5-4832-917e-24f37e776055',\n",
              "                        [{\"alignmentgroup\": \"True\", \"hoverlabel\": {\"namelength\": 0}, \"hovertemplate\": \"x=%{x}<br>y=%{y}\", \"legendgroup\": \"\", \"marker\": {\"color\": \"#636efa\"}, \"name\": \"\", \"offsetgroup\": \"\", \"orientation\": \"v\", \"showlegend\": false, \"textposition\": \"auto\", \"type\": \"bar\", \"x\": [\"USA\", \"Russia\", \"Spain\", \"Brazil\", \"UK\", \"Italy\", \"France\", \"Germany\", \"Turkey\", \"Iran\", \"India\", \"Peru\", \"China\", \"Canada\", \"Saudi Arabia\", \"Belgium\", \"Mexico\", \"Chile\", \"Netherlands\", \"Pakistan\", \"Qatar\", \"Ecuador\", \"Switzerland\", \"Belarus\", \"Sweden\", \"Portugal\", \"Singapore\", \"Ireland\", \"UAE\", \"Bangladesh\", \"Poland\", \"Ukraine\", \"Indonesia\", \"Romania\", \"Israel\", \"South Africa\", \"Japan\", \"Colombia\", \"Austria\", \"Kuwait\", \"Egypt\", \"Dominican Republic\", \"Philippines\", \"S. Korea\", \"Denmark\", \"Serbia\", \"Panama\", \"Czechia\", \"Argentina\", \"Norway\", \"Algeria\", \"Bahrain\", \"Afghanistan\", \"Australia\", \"Morocco\", \"Malaysia\", \"Kazakhstan\", \"Finland\", \"Nigeria\", \"Moldova\", \"Ghana\", \"Oman\", \"Armenia\", \"Bolivia\", \"Luxembourg\", \"Iraq\", \"Hungary\", \"Cameroon\", \"Azerbaijan\", \"Thailand\", \"Greece\", \"Guinea\", \"Uzbekistan\", \"Honduras\", \"Sudan\", \"Senegal\", \"Bosnia and Herzegovina\", \"Bulgaria\", \"Croatia\", \"Ivory Coast\", \"Guatemala\", \"Cuba\", \"North Macedonia\", \"Iceland\", \"Estonia\", \"Tajikistan\", \"Lithuania\", \"DRC\", \"Djibouti\", \"New Zealand\", \"Slovakia\", \"Slovenia\", \"Somalia\", \"Gabon\", \"El Salvador\", \"Mayotte\", \"Kyrgyzstan\", \"Maldives\", \"Hong Kong\", \"Tunisia\", \"Guinea-Bissau\", \"Latvia\", \"Sri Lanka\", \"Albania\", \"Lebanon\", \"Cyprus\", \"Kenya\", \"Niger\", \"Mali\", \"Costa Rica\", \"Burkina Faso\", \"Paraguay\", \"Andorra\", \"Zambia\", \"Uruguay\", \"Equatorial Guinea\", \"Georgia\", \"San Marino\", \"Jordan\", \"Venezuela\", \"Malta\", \"Channel Islands\", \"Haiti\", \"Jamaica\", \"Chad\", \"Sierra Leone\", \"Tanzania\", \"R\\u00e9union\", \"Taiwan\", \"Congo\", \"Palestine\", \"Nepal\", \"Ethiopia\", \"Benin\", \"Isle of Man\", \"Mauritius\", \"Togo\", \"Cabo Verde\", \"CAR\", \"Montenegro\", \"Vietnam\", \"Madagascar\", \"Rwanda\", \"South Sudan\", \"Uganda\", \"Sao Tome and Principe\", \"Liberia\", \"French Guiana\", \"Eswatini\", \"Martinique\", \"Myanmar\", \"Faeroe Islands\", \"Guadeloupe\", \"Gibraltar\", \"Mozambique\", \"Brunei\", \"Mongolia\", \"Yemen\", \"Bermuda\", \"Guyana\", \"Cambodia\", \"Trinidad and Tobago\", \"Aruba\", \"Monaco\", \"Bahamas\", \"Cayman Islands\", \"Barbados\", \"Liechtenstein\", \"Mauritania\", \"Sint Maarten\", \"Malawi\", \"Libya\", \"French Polynesia\", \"Syria\", \"Angola\", \"Zimbabwe\", \"Macao\", \"Burundi\", \"Saint Martin\", \"Eritrea\", \"Nicaragua\", \"Antigua and Barbuda\", \"Botswana\", \"Gambia\", \"Timor-Leste\", \"Grenada\", \"Bhutan\", \"Laos\", \"Belize\", \"Fiji\", \"New Caledonia\", \"Saint Lucia\", \"St. Vincent Grenadines\", \"Cura\\u00e7ao\", \"Dominica\", \"Namibia\", \"Saint Kitts and Nevis\", \"Falkland Islands\", \"Turks and Caicos\", \"Vatican City\", \"Comoros\", \"Montserrat\", \"Suriname\", \"Greenland\", \"Seychelles\", \"British Virgin Islands\", \"Papua New Guinea\", \"Caribbean Netherlands\", \"St. Barth\", \"Western Sahara\", \"Anguilla\", \"Lesotho\", \"Saint Pierre Miquelon\"], \"xaxis\": \"x\", \"y\": [0.154, 0.142, 0.194, 0.086, 0.185, 0.23, 0.197, 0.215, 0.08199999999999999, 0.054000000000000006, 0.06, 0.07200000000000001, 0.106, 0.17, 0.033, 0.18600000000000005, 0.069, 0.111, 0.188, 0.045, 0.013, 0.071, 0.184, 0.14800000000000002, 0.199, 0.215, 0.129, 0.139, 0.011, 0.051, 0.168, 0.165, 0.053, 0.179, 0.117, 0.053, 0.27, 0.076, 0.192, 0.023, 0.052000000000000005, 0.07, 0.048, 0.139, 0.197, 0.174, 0.079, 0.19, 0.112, 0.168, 0.062, 0.024, 0.026, 0.155, 0.068, 0.063, 0.07, 0.212, 0.028, 0.109, 0.034, 0.024, 0.112, 0.067, 0.14300000000000002, 0.032, 0.18600000000000005, 0.032, 0.06, 0.114, 0.204, 0.031, 0.045, 0.047, 0.035, 0.03, 0.166, 0.208, 0.197, 0.029, 0.047, 0.147, 0.08900000000000001, 0.14400000000000002, 0.195, 0.035, 0.19, 0.03, 0.042, 0.153, 0.151, 0.191, 0.027000000000000003, 0.045, 0.083, 27.0, 0.045, 0.041, 0.163, 0.08, 0.03, 0.198, 0.101, 0.132, 0.085, 0.134, 0.027000000000000003, 0.026, 0.025, 0.095, 0.024, 0.064, 27.0, 0.025, 0.147, 0.028, 0.149, 27.0, 0.038, 0.066, 0.194, 27.0, 0.048, 0.097, 0.025, 0.025, 0.031, 27.0, 0.1386, 0.034, 0.03, 0.058, 0.035, 0.032, 27.0, 0.109, 0.028, 27.0, 0.037000000000000005, 0.14800000000000002, 0.07200000000000001, 0.029, 0.03, 0.034, 0.022, 27.0, 0.031, 27.0, 0.032, 27.0, 0.057, 27.0, 27.0, 27.0, 0.032, 0.046, 0.04, 0.029, 27.0, 0.053, 0.044, 0.1, 27.0, 27.0, 0.09, 27.0, 0.15, 27.0, 0.031, 27.0, 0.03, 0.044, 27.0, 0.043, 0.024, 0.028, 27.0, 0.026, 27.0, 0.036000000000000004, 0.054000000000000006, 0.069, 0.039, 0.023, 0.036000000000000004, 0.073, 0.049, 0.04, 0.039, 0.062, 27.0, 0.097, 27.0, 0.16399999999999998, 27.0, 0.036000000000000004, 27.0, 27.0, 27.0, 27.0, 0.03, 27.0, 0.069, 27.0, 0.086, 27.0, 0.038, 27.0, 27.0, 27.0, 27.0, 0.045, 27.0], \"yaxis\": \"y\"}],\n",
              "                        {\"barmode\": \"relative\", \"legend\": {\"tracegroupgap\": 0}, \"margin\": {\"t\": 60}, \"template\": {\"data\": {\"bar\": [{\"error_x\": {\"color\": \"#2a3f5f\"}, \"error_y\": {\"color\": \"#2a3f5f\"}, \"marker\": {\"line\": {\"color\": \"#E5ECF6\", \"width\": 0.5}}, \"type\": \"bar\"}], \"barpolar\": [{\"marker\": {\"line\": {\"color\": \"#E5ECF6\", \"width\": 0.5}}, \"type\": \"barpolar\"}], \"carpet\": [{\"aaxis\": {\"endlinecolor\": \"#2a3f5f\", \"gridcolor\": \"white\", \"linecolor\": \"white\", \"minorgridcolor\": \"white\", \"startlinecolor\": \"#2a3f5f\"}, \"baxis\": {\"endlinecolor\": \"#2a3f5f\", \"gridcolor\": \"white\", \"linecolor\": \"white\", \"minorgridcolor\": \"white\", \"startlinecolor\": \"#2a3f5f\"}, \"type\": \"carpet\"}], \"choropleth\": [{\"colorbar\": {\"outlinewidth\": 0, \"ticks\": \"\"}, \"type\": \"choropleth\"}], \"contour\": [{\"colorbar\": {\"outlinewidth\": 0, \"ticks\": \"\"}, \"colorscale\": [[0.0, \"#0d0887\"], [0.1111111111111111, \"#46039f\"], [0.2222222222222222, \"#7201a8\"], [0.3333333333333333, \"#9c179e\"], [0.4444444444444444, \"#bd3786\"], [0.5555555555555556, \"#d8576b\"], [0.6666666666666666, \"#ed7953\"], [0.7777777777777778, \"#fb9f3a\"], [0.8888888888888888, \"#fdca26\"], [1.0, \"#f0f921\"]], \"type\": \"contour\"}], \"contourcarpet\": [{\"colorbar\": {\"outlinewidth\": 0, \"ticks\": \"\"}, \"type\": \"contourcarpet\"}], \"heatmap\": [{\"colorbar\": {\"outlinewidth\": 0, \"ticks\": \"\"}, \"colorscale\": [[0.0, \"#0d0887\"], [0.1111111111111111, \"#46039f\"], [0.2222222222222222, \"#7201a8\"], [0.3333333333333333, \"#9c179e\"], [0.4444444444444444, \"#bd3786\"], [0.5555555555555556, \"#d8576b\"], [0.6666666666666666, \"#ed7953\"], [0.7777777777777778, \"#fb9f3a\"], [0.8888888888888888, \"#fdca26\"], [1.0, \"#f0f921\"]], \"type\": \"heatmap\"}], \"heatmapgl\": [{\"colorbar\": {\"outlinewidth\": 0, \"ticks\": \"\"}, \"colorscale\": [[0.0, \"#0d0887\"], [0.1111111111111111, \"#46039f\"], [0.2222222222222222, \"#7201a8\"], [0.3333333333333333, \"#9c179e\"], [0.4444444444444444, \"#bd3786\"], [0.5555555555555556, \"#d8576b\"], [0.6666666666666666, \"#ed7953\"], [0.7777777777777778, \"#fb9f3a\"], [0.8888888888888888, \"#fdca26\"], [1.0, \"#f0f921\"]], \"type\": \"heatmapgl\"}], \"histogram\": [{\"marker\": {\"colorbar\": {\"outlinewidth\": 0, \"ticks\": \"\"}}, \"type\": \"histogram\"}], \"histogram2d\": [{\"colorbar\": {\"outlinewidth\": 0, \"ticks\": \"\"}, \"colorscale\": [[0.0, \"#0d0887\"], [0.1111111111111111, \"#46039f\"], [0.2222222222222222, \"#7201a8\"], [0.3333333333333333, \"#9c179e\"], [0.4444444444444444, \"#bd3786\"], [0.5555555555555556, \"#d8576b\"], [0.6666666666666666, \"#ed7953\"], [0.7777777777777778, \"#fb9f3a\"], [0.8888888888888888, \"#fdca26\"], [1.0, \"#f0f921\"]], \"type\": \"histogram2d\"}], \"histogram2dcontour\": [{\"colorbar\": {\"outlinewidth\": 0, \"ticks\": \"\"}, \"colorscale\": [[0.0, \"#0d0887\"], [0.1111111111111111, \"#46039f\"], [0.2222222222222222, \"#7201a8\"], [0.3333333333333333, \"#9c179e\"], [0.4444444444444444, \"#bd3786\"], [0.5555555555555556, \"#d8576b\"], [0.6666666666666666, \"#ed7953\"], [0.7777777777777778, \"#fb9f3a\"], [0.8888888888888888, \"#fdca26\"], [1.0, \"#f0f921\"]], \"type\": \"histogram2dcontour\"}], \"mesh3d\": [{\"colorbar\": {\"outlinewidth\": 0, \"ticks\": \"\"}, \"type\": \"mesh3d\"}], \"parcoords\": [{\"line\": {\"colorbar\": {\"outlinewidth\": 0, \"ticks\": \"\"}}, \"type\": \"parcoords\"}], \"pie\": [{\"automargin\": true, \"type\": \"pie\"}], \"scatter\": [{\"marker\": {\"colorbar\": {\"outlinewidth\": 0, \"ticks\": \"\"}}, \"type\": \"scatter\"}], \"scatter3d\": [{\"line\": {\"colorbar\": {\"outlinewidth\": 0, \"ticks\": \"\"}}, \"marker\": {\"colorbar\": {\"outlinewidth\": 0, \"ticks\": \"\"}}, \"type\": \"scatter3d\"}], \"scattercarpet\": [{\"marker\": {\"colorbar\": {\"outlinewidth\": 0, \"ticks\": \"\"}}, \"type\": \"scattercarpet\"}], \"scattergeo\": [{\"marker\": {\"colorbar\": {\"outlinewidth\": 0, \"ticks\": \"\"}}, \"type\": \"scattergeo\"}], \"scattergl\": [{\"marker\": {\"colorbar\": {\"outlinewidth\": 0, \"ticks\": \"\"}}, \"type\": \"scattergl\"}], \"scattermapbox\": [{\"marker\": {\"colorbar\": {\"outlinewidth\": 0, \"ticks\": \"\"}}, \"type\": \"scattermapbox\"}], \"scatterpolar\": [{\"marker\": {\"colorbar\": {\"outlinewidth\": 0, \"ticks\": \"\"}}, \"type\": \"scatterpolar\"}], \"scatterpolargl\": [{\"marker\": {\"colorbar\": {\"outlinewidth\": 0, \"ticks\": \"\"}}, \"type\": \"scatterpolargl\"}], \"scatterternary\": [{\"marker\": {\"colorbar\": {\"outlinewidth\": 0, \"ticks\": \"\"}}, \"type\": \"scatterternary\"}], \"surface\": [{\"colorbar\": {\"outlinewidth\": 0, \"ticks\": \"\"}, \"colorscale\": [[0.0, \"#0d0887\"], [0.1111111111111111, \"#46039f\"], [0.2222222222222222, \"#7201a8\"], [0.3333333333333333, \"#9c179e\"], [0.4444444444444444, \"#bd3786\"], [0.5555555555555556, \"#d8576b\"], [0.6666666666666666, \"#ed7953\"], [0.7777777777777778, \"#fb9f3a\"], [0.8888888888888888, \"#fdca26\"], [1.0, \"#f0f921\"]], \"type\": \"surface\"}], \"table\": [{\"cells\": {\"fill\": {\"color\": \"#EBF0F8\"}, \"line\": {\"color\": \"white\"}}, \"header\": {\"fill\": {\"color\": \"#C8D4E3\"}, \"line\": {\"color\": \"white\"}}, \"type\": \"table\"}]}, \"layout\": {\"annotationdefaults\": {\"arrowcolor\": \"#2a3f5f\", \"arrowhead\": 0, \"arrowwidth\": 1}, \"coloraxis\": {\"colorbar\": {\"outlinewidth\": 0, \"ticks\": \"\"}}, \"colorscale\": {\"diverging\": [[0, \"#8e0152\"], [0.1, \"#c51b7d\"], [0.2, \"#de77ae\"], [0.3, \"#f1b6da\"], [0.4, \"#fde0ef\"], [0.5, \"#f7f7f7\"], [0.6, \"#e6f5d0\"], [0.7, \"#b8e186\"], [0.8, \"#7fbc41\"], [0.9, \"#4d9221\"], [1, \"#276419\"]], \"sequential\": [[0.0, \"#0d0887\"], [0.1111111111111111, \"#46039f\"], [0.2222222222222222, \"#7201a8\"], [0.3333333333333333, \"#9c179e\"], [0.4444444444444444, \"#bd3786\"], [0.5555555555555556, \"#d8576b\"], [0.6666666666666666, \"#ed7953\"], [0.7777777777777778, \"#fb9f3a\"], [0.8888888888888888, \"#fdca26\"], [1.0, \"#f0f921\"]], \"sequentialminus\": [[0.0, \"#0d0887\"], [0.1111111111111111, \"#46039f\"], [0.2222222222222222, \"#7201a8\"], [0.3333333333333333, \"#9c179e\"], [0.4444444444444444, \"#bd3786\"], [0.5555555555555556, \"#d8576b\"], [0.6666666666666666, \"#ed7953\"], [0.7777777777777778, \"#fb9f3a\"], [0.8888888888888888, \"#fdca26\"], [1.0, \"#f0f921\"]]}, \"colorway\": [\"#636efa\", \"#EF553B\", \"#00cc96\", \"#ab63fa\", \"#FFA15A\", \"#19d3f3\", \"#FF6692\", \"#B6E880\", \"#FF97FF\", \"#FECB52\"], \"font\": {\"color\": \"#2a3f5f\"}, \"geo\": {\"bgcolor\": \"white\", \"lakecolor\": \"white\", \"landcolor\": \"#E5ECF6\", \"showlakes\": true, \"showland\": true, \"subunitcolor\": \"white\"}, \"hoverlabel\": {\"align\": \"left\"}, \"hovermode\": \"closest\", \"mapbox\": {\"style\": \"light\"}, \"paper_bgcolor\": \"white\", \"plot_bgcolor\": \"#E5ECF6\", \"polar\": {\"angularaxis\": {\"gridcolor\": \"white\", \"linecolor\": \"white\", \"ticks\": \"\"}, \"bgcolor\": \"#E5ECF6\", \"radialaxis\": {\"gridcolor\": \"white\", \"linecolor\": \"white\", \"ticks\": \"\"}}, \"scene\": {\"xaxis\": {\"backgroundcolor\": \"#E5ECF6\", \"gridcolor\": \"white\", \"gridwidth\": 2, \"linecolor\": \"white\", \"showbackground\": true, \"ticks\": \"\", \"zerolinecolor\": \"white\"}, \"yaxis\": {\"backgroundcolor\": \"#E5ECF6\", \"gridcolor\": \"white\", \"gridwidth\": 2, \"linecolor\": \"white\", \"showbackground\": true, \"ticks\": \"\", \"zerolinecolor\": \"white\"}, \"zaxis\": {\"backgroundcolor\": \"#E5ECF6\", \"gridcolor\": \"white\", \"gridwidth\": 2, \"linecolor\": \"white\", \"showbackground\": true, \"ticks\": \"\", \"zerolinecolor\": \"white\"}}, \"shapedefaults\": {\"line\": {\"color\": \"#2a3f5f\"}}, \"ternary\": {\"aaxis\": {\"gridcolor\": \"white\", \"linecolor\": \"white\", \"ticks\": \"\"}, \"baxis\": {\"gridcolor\": \"white\", \"linecolor\": \"white\", \"ticks\": \"\"}, \"bgcolor\": \"#E5ECF6\", \"caxis\": {\"gridcolor\": \"white\", \"linecolor\": \"white\", \"ticks\": \"\"}}, \"title\": {\"x\": 0.05}, \"xaxis\": {\"automargin\": true, \"gridcolor\": \"white\", \"linecolor\": \"white\", \"ticks\": \"\", \"title\": {\"standoff\": 15}, \"zerolinecolor\": \"white\", \"zerolinewidth\": 2}, \"yaxis\": {\"automargin\": true, \"gridcolor\": \"white\", \"linecolor\": \"white\", \"ticks\": \"\", \"title\": {\"standoff\": 15}, \"zerolinecolor\": \"white\", \"zerolinewidth\": 2}}}, \"title\": {\"text\": \"Distribution of Number of cases of age group 75+ Country-Wise\"}, \"xaxis\": {\"anchor\": \"y\", \"domain\": [0.0, 1.0], \"title\": {\"text\": \"Country\"}}, \"yaxis\": {\"anchor\": \"x\", \"domain\": [0.0, 1.0], \"title\": {\"text\": \"Number of Cases of age group 65+\"}}},\n",
              "                        {\"responsive\": true}\n",
              "                    ).then(function(){\n",
              "                            \n",
              "var gd = document.getElementById('639ac8bb-efd5-4832-917e-24f37e776055');\n",
              "var x = new MutationObserver(function (mutations, observer) {{\n",
              "        var display = window.getComputedStyle(gd).display;\n",
              "        if (!display || display === 'none') {{\n",
              "            console.log([gd, 'removed!']);\n",
              "            Plotly.purge(gd);\n",
              "            observer.disconnect();\n",
              "        }}\n",
              "}});\n",
              "\n",
              "// Listen for the removal of the full notebook cells\n",
              "var notebookContainer = gd.closest('#notebook-container');\n",
              "if (notebookContainer) {{\n",
              "    x.observe(notebookContainer, {childList: true});\n",
              "}}\n",
              "\n",
              "// Listen for the clearing of the current output cell\n",
              "var outputEl = gd.closest('.output');\n",
              "if (outputEl) {{\n",
              "    x.observe(outputEl, {childList: true});\n",
              "}}\n",
              "\n",
              "                        })\n",
              "                };\n",
              "                \n",
              "            </script>\n",
              "        </div>\n",
              "</body>\n",
              "</html>"
            ]
          },
          "metadata": {
            "tags": []
          }
        }
      ]
    },
    {
      "cell_type": "code",
      "metadata": {
        "id": "MZ-D8uP6zk3w",
        "colab_type": "code",
        "colab": {
          "base_uri": "https://localhost:8080/",
          "height": 542
        },
        "outputId": "b949f24e-3cae-4205-fcd3-bda814fdea2c"
      },
      "source": [
        "import plotly.express as px\n",
        "fig=px.bar(x=covid.Country,y=covid[\"Fraction age 0-14 years\"]+covid[\"Fraction age 15-64 years\"]+covid[\"Fraction age 65+ years\"])\n",
        "fig.update_layout(title=\"Distribution of Number of cases of all age-groups Country-Wise\",\n",
        "                  xaxis_title=\"Country\",yaxis_title=\"Number of Cases of all Age-Groups\")\n",
        "fig.show()"
      ],
      "execution_count": null,
      "outputs": [
        {
          "output_type": "display_data",
          "data": {
            "text/html": [
              "<html>\n",
              "<head><meta charset=\"utf-8\" /></head>\n",
              "<body>\n",
              "    <div>\n",
              "            <script src=\"https://cdnjs.cloudflare.com/ajax/libs/mathjax/2.7.5/MathJax.js?config=TeX-AMS-MML_SVG\"></script><script type=\"text/javascript\">if (window.MathJax) {MathJax.Hub.Config({SVG: {font: \"STIX-Web\"}});}</script>\n",
              "                <script type=\"text/javascript\">window.PlotlyConfig = {MathJaxConfig: 'local'};</script>\n",
              "        <script src=\"https://cdn.plot.ly/plotly-latest.min.js\"></script>    \n",
              "            <div id=\"1e962637-7364-4717-b34f-b6a075376b71\" class=\"plotly-graph-div\" style=\"height:525px; width:100%;\"></div>\n",
              "            <script type=\"text/javascript\">\n",
              "                \n",
              "                    window.PLOTLYENV=window.PLOTLYENV || {};\n",
              "                    \n",
              "                if (document.getElementById(\"1e962637-7364-4717-b34f-b6a075376b71\")) {\n",
              "                    Plotly.newPlot(\n",
              "                        '1e962637-7364-4717-b34f-b6a075376b71',\n",
              "                        [{\"alignmentgroup\": \"True\", \"hoverlabel\": {\"namelength\": 0}, \"hovertemplate\": \"x=%{x}<br>y=%{y}\", \"legendgroup\": \"\", \"marker\": {\"color\": \"#636efa\"}, \"name\": \"\", \"offsetgroup\": \"\", \"orientation\": \"v\", \"showlegend\": false, \"textposition\": \"auto\", \"type\": \"bar\", \"x\": [\"USA\", \"Russia\", \"Spain\", \"Brazil\", \"UK\", \"Italy\", \"France\", \"Germany\", \"Turkey\", \"Iran\", \"India\", \"Peru\", \"China\", \"Canada\", \"Saudi Arabia\", \"Belgium\", \"Mexico\", \"Chile\", \"Netherlands\", \"Pakistan\", \"Qatar\", \"Ecuador\", \"Switzerland\", \"Belarus\", \"Sweden\", \"Portugal\", \"Singapore\", \"Ireland\", \"UAE\", \"Bangladesh\", \"Poland\", \"Ukraine\", \"Indonesia\", \"Romania\", \"Israel\", \"South Africa\", \"Japan\", \"Colombia\", \"Austria\", \"Kuwait\", \"Egypt\", \"Dominican Republic\", \"Philippines\", \"S. Korea\", \"Denmark\", \"Serbia\", \"Panama\", \"Czechia\", \"Argentina\", \"Norway\", \"Algeria\", \"Bahrain\", \"Afghanistan\", \"Australia\", \"Morocco\", \"Malaysia\", \"Kazakhstan\", \"Finland\", \"Nigeria\", \"Moldova\", \"Ghana\", \"Oman\", \"Armenia\", \"Bolivia\", \"Luxembourg\", \"Iraq\", \"Hungary\", \"Cameroon\", \"Azerbaijan\", \"Thailand\", \"Greece\", \"Guinea\", \"Uzbekistan\", \"Honduras\", \"Sudan\", \"Senegal\", \"Bosnia and Herzegovina\", \"Bulgaria\", \"Croatia\", \"Ivory Coast\", \"Guatemala\", \"Cuba\", \"North Macedonia\", \"Iceland\", \"Estonia\", \"Tajikistan\", \"Lithuania\", \"DRC\", \"Djibouti\", \"New Zealand\", \"Slovakia\", \"Slovenia\", \"Somalia\", \"Gabon\", \"El Salvador\", \"Mayotte\", \"Kyrgyzstan\", \"Maldives\", \"Hong Kong\", \"Tunisia\", \"Guinea-Bissau\", \"Latvia\", \"Sri Lanka\", \"Albania\", \"Lebanon\", \"Cyprus\", \"Kenya\", \"Niger\", \"Mali\", \"Costa Rica\", \"Burkina Faso\", \"Paraguay\", \"Andorra\", \"Zambia\", \"Uruguay\", \"Equatorial Guinea\", \"Georgia\", \"San Marino\", \"Jordan\", \"Venezuela\", \"Malta\", \"Channel Islands\", \"Haiti\", \"Jamaica\", \"Chad\", \"Sierra Leone\", \"Tanzania\", \"R\\u00e9union\", \"Taiwan\", \"Congo\", \"Palestine\", \"Nepal\", \"Ethiopia\", \"Benin\", \"Isle of Man\", \"Mauritius\", \"Togo\", \"Cabo Verde\", \"CAR\", \"Montenegro\", \"Vietnam\", \"Madagascar\", \"Rwanda\", \"South Sudan\", \"Uganda\", \"Sao Tome and Principe\", \"Liberia\", \"French Guiana\", \"Eswatini\", \"Martinique\", \"Myanmar\", \"Faeroe Islands\", \"Guadeloupe\", \"Gibraltar\", \"Mozambique\", \"Brunei\", \"Mongolia\", \"Yemen\", \"Bermuda\", \"Guyana\", \"Cambodia\", \"Trinidad and Tobago\", \"Aruba\", \"Monaco\", \"Bahamas\", \"Cayman Islands\", \"Barbados\", \"Liechtenstein\", \"Mauritania\", \"Sint Maarten\", \"Malawi\", \"Libya\", \"French Polynesia\", \"Syria\", \"Angola\", \"Zimbabwe\", \"Macao\", \"Burundi\", \"Saint Martin\", \"Eritrea\", \"Nicaragua\", \"Antigua and Barbuda\", \"Botswana\", \"Gambia\", \"Timor-Leste\", \"Grenada\", \"Bhutan\", \"Laos\", \"Belize\", \"Fiji\", \"New Caledonia\", \"Saint Lucia\", \"St. Vincent Grenadines\", \"Cura\\u00e7ao\", \"Dominica\", \"Namibia\", \"Saint Kitts and Nevis\", \"Falkland Islands\", \"Turks and Caicos\", \"Vatican City\", \"Comoros\", \"Montserrat\", \"Suriname\", \"Greenland\", \"Seychelles\", \"British Virgin Islands\", \"Papua New Guinea\", \"Caribbean Netherlands\", \"St. Barth\", \"Western Sahara\", \"Anguilla\", \"Lesotho\", \"Saint Pierre Miquelon\"], \"xaxis\": \"x\", \"y\": [1.0, 1.0, 1.0, 1.0, 1.0, 1.0, 1.0, 1.0010000000000001, 1.0010000000000001, 1.0, 1.0, 1.0010000000000001, 1.0000000000000002, 1.0, 1.0, 1.0, 1.0010000000000001, 1.0, 1.0, 1.0, 1.0, 1.0, 1.0, 1.0, 0.9990000000000001, 1.0, 1.0, 0.9990000000000001, 1.0, 1.0, 1.0, 1.0, 1.0, 1.0010000000000001, 1.0, 1.0, 1.0, 1.0, 1.0, 0.9999999999999999, 1.0010000000000001, 1.0, 1.0, 1.0, 1.0, 1.0010000000000001, 1.0, 1.0, 1.0, 1.0, 1.0, 1.0, 1.0000000000000002, 1.0, 1.0, 1.0, 1.0, 1.0, 1.001, 1.0000000000000002, 1.0, 1.0, 0.9999999999999999, 1.0, 1.0, 1.0, 1.0, 1.0000000000000002, 1.0, 0.9999999999999999, 1.0, 1.0, 1.0, 1.0, 0.999, 1.0, 1.0, 1.0, 1.0, 0.999, 1.001, 1.0, 1.0010000000000001, 1.0, 1.0010000000000001, 1.001, 1.0, 1.0, 1.0, 1.0, 1.001, 1.0010000000000001, 0.999, 1.0, 1.0010000000000001, 81.0, 1.0, 1.0, 1.0, 1.0, 0.992, 1.0, 1.0, 0.995, 1.0, 1.0, 1.0, 1.0, 1.0, 0.997, 1.0, 1.0, 81.0, 1.0, 1.001, 1.0, 1.0010000000000001, 81.0, 1.0, 1.0, 0.9989999999999999, 81.0, 1.0, 0.9999999999999999, 1.0, 0.9999999999999999, 1.0, 81.0, 1.0, 1.0, 1.0, 1.0, 1.0, 1.0000000000000002, 81.0, 1.0, 1.0, 81.0, 1.0, 0.9999999999999999, 1.001, 1.0, 1.0, 1.0, 1.0, 81.0, 1.0, 81.0, 1.0010000000000001, 81.0, 0.9990000000000001, 81.0, 81.0, 81.0, 1.0010000000000001, 1.0, 1.0, 1.0, 81.0, 0.9910000000000001, 1.0, 0.9999999999999999, 81.0, 81.0, 1.001, 81.0, 1.001, 81.0, 0.999, 81.0, 1.0, 1.0, 81.0, 1.0, 1.0, 1.0, 81.0, 1.0, 81.0, 1.0, 0.9990000000000001, 1.0, 1.0, 0.999, 1.0, 1.0, 1.001, 1.0, 1.0, 1.0, 81.0, 1.0, 81.0, 1.0, 81.0, 1.0010000000000001, 81.0, 81.0, 81.0, 81.0, 1.001, 81.0, 0.9989999999999999, 81.0, 1.0, 81.0, 1.0, 81.0, 81.0, 81.0, 81.0, 1.0, 81.0], \"yaxis\": \"y\"}],\n",
              "                        {\"barmode\": \"relative\", \"legend\": {\"tracegroupgap\": 0}, \"margin\": {\"t\": 60}, \"template\": {\"data\": {\"bar\": [{\"error_x\": {\"color\": \"#2a3f5f\"}, \"error_y\": {\"color\": \"#2a3f5f\"}, \"marker\": {\"line\": {\"color\": \"#E5ECF6\", \"width\": 0.5}}, \"type\": \"bar\"}], \"barpolar\": [{\"marker\": {\"line\": {\"color\": \"#E5ECF6\", \"width\": 0.5}}, \"type\": \"barpolar\"}], \"carpet\": [{\"aaxis\": {\"endlinecolor\": \"#2a3f5f\", \"gridcolor\": \"white\", \"linecolor\": \"white\", \"minorgridcolor\": \"white\", \"startlinecolor\": \"#2a3f5f\"}, \"baxis\": {\"endlinecolor\": \"#2a3f5f\", \"gridcolor\": \"white\", \"linecolor\": \"white\", \"minorgridcolor\": \"white\", \"startlinecolor\": \"#2a3f5f\"}, \"type\": \"carpet\"}], \"choropleth\": [{\"colorbar\": {\"outlinewidth\": 0, \"ticks\": \"\"}, \"type\": \"choropleth\"}], \"contour\": [{\"colorbar\": {\"outlinewidth\": 0, \"ticks\": \"\"}, \"colorscale\": [[0.0, \"#0d0887\"], [0.1111111111111111, \"#46039f\"], [0.2222222222222222, \"#7201a8\"], [0.3333333333333333, \"#9c179e\"], [0.4444444444444444, \"#bd3786\"], [0.5555555555555556, \"#d8576b\"], [0.6666666666666666, \"#ed7953\"], [0.7777777777777778, \"#fb9f3a\"], [0.8888888888888888, \"#fdca26\"], [1.0, \"#f0f921\"]], \"type\": \"contour\"}], \"contourcarpet\": [{\"colorbar\": {\"outlinewidth\": 0, \"ticks\": \"\"}, \"type\": \"contourcarpet\"}], \"heatmap\": [{\"colorbar\": {\"outlinewidth\": 0, \"ticks\": \"\"}, \"colorscale\": [[0.0, \"#0d0887\"], [0.1111111111111111, \"#46039f\"], [0.2222222222222222, \"#7201a8\"], [0.3333333333333333, \"#9c179e\"], [0.4444444444444444, \"#bd3786\"], [0.5555555555555556, \"#d8576b\"], [0.6666666666666666, \"#ed7953\"], [0.7777777777777778, \"#fb9f3a\"], [0.8888888888888888, \"#fdca26\"], [1.0, \"#f0f921\"]], \"type\": \"heatmap\"}], \"heatmapgl\": [{\"colorbar\": {\"outlinewidth\": 0, \"ticks\": \"\"}, \"colorscale\": [[0.0, \"#0d0887\"], [0.1111111111111111, \"#46039f\"], [0.2222222222222222, \"#7201a8\"], [0.3333333333333333, \"#9c179e\"], [0.4444444444444444, \"#bd3786\"], [0.5555555555555556, \"#d8576b\"], [0.6666666666666666, \"#ed7953\"], [0.7777777777777778, \"#fb9f3a\"], [0.8888888888888888, \"#fdca26\"], [1.0, \"#f0f921\"]], \"type\": \"heatmapgl\"}], \"histogram\": [{\"marker\": {\"colorbar\": {\"outlinewidth\": 0, \"ticks\": \"\"}}, \"type\": \"histogram\"}], \"histogram2d\": [{\"colorbar\": {\"outlinewidth\": 0, \"ticks\": \"\"}, \"colorscale\": [[0.0, \"#0d0887\"], [0.1111111111111111, \"#46039f\"], [0.2222222222222222, \"#7201a8\"], [0.3333333333333333, \"#9c179e\"], [0.4444444444444444, \"#bd3786\"], [0.5555555555555556, \"#d8576b\"], [0.6666666666666666, \"#ed7953\"], [0.7777777777777778, \"#fb9f3a\"], [0.8888888888888888, \"#fdca26\"], [1.0, \"#f0f921\"]], \"type\": \"histogram2d\"}], \"histogram2dcontour\": [{\"colorbar\": {\"outlinewidth\": 0, \"ticks\": \"\"}, \"colorscale\": [[0.0, \"#0d0887\"], [0.1111111111111111, \"#46039f\"], [0.2222222222222222, \"#7201a8\"], [0.3333333333333333, \"#9c179e\"], [0.4444444444444444, \"#bd3786\"], [0.5555555555555556, \"#d8576b\"], [0.6666666666666666, \"#ed7953\"], [0.7777777777777778, \"#fb9f3a\"], [0.8888888888888888, \"#fdca26\"], [1.0, \"#f0f921\"]], \"type\": \"histogram2dcontour\"}], \"mesh3d\": [{\"colorbar\": {\"outlinewidth\": 0, \"ticks\": \"\"}, \"type\": \"mesh3d\"}], \"parcoords\": [{\"line\": {\"colorbar\": {\"outlinewidth\": 0, \"ticks\": \"\"}}, \"type\": \"parcoords\"}], \"pie\": [{\"automargin\": true, \"type\": \"pie\"}], \"scatter\": [{\"marker\": {\"colorbar\": {\"outlinewidth\": 0, \"ticks\": \"\"}}, \"type\": \"scatter\"}], \"scatter3d\": [{\"line\": {\"colorbar\": {\"outlinewidth\": 0, \"ticks\": \"\"}}, \"marker\": {\"colorbar\": {\"outlinewidth\": 0, \"ticks\": \"\"}}, \"type\": \"scatter3d\"}], \"scattercarpet\": [{\"marker\": {\"colorbar\": {\"outlinewidth\": 0, \"ticks\": \"\"}}, \"type\": \"scattercarpet\"}], \"scattergeo\": [{\"marker\": {\"colorbar\": {\"outlinewidth\": 0, \"ticks\": \"\"}}, \"type\": \"scattergeo\"}], \"scattergl\": [{\"marker\": {\"colorbar\": {\"outlinewidth\": 0, \"ticks\": \"\"}}, \"type\": \"scattergl\"}], \"scattermapbox\": [{\"marker\": {\"colorbar\": {\"outlinewidth\": 0, \"ticks\": \"\"}}, \"type\": \"scattermapbox\"}], \"scatterpolar\": [{\"marker\": {\"colorbar\": {\"outlinewidth\": 0, \"ticks\": \"\"}}, \"type\": \"scatterpolar\"}], \"scatterpolargl\": [{\"marker\": {\"colorbar\": {\"outlinewidth\": 0, \"ticks\": \"\"}}, \"type\": \"scatterpolargl\"}], \"scatterternary\": [{\"marker\": {\"colorbar\": {\"outlinewidth\": 0, \"ticks\": \"\"}}, \"type\": \"scatterternary\"}], \"surface\": [{\"colorbar\": {\"outlinewidth\": 0, \"ticks\": \"\"}, \"colorscale\": [[0.0, \"#0d0887\"], [0.1111111111111111, \"#46039f\"], [0.2222222222222222, \"#7201a8\"], [0.3333333333333333, \"#9c179e\"], [0.4444444444444444, \"#bd3786\"], [0.5555555555555556, \"#d8576b\"], [0.6666666666666666, \"#ed7953\"], [0.7777777777777778, \"#fb9f3a\"], [0.8888888888888888, \"#fdca26\"], [1.0, \"#f0f921\"]], \"type\": \"surface\"}], \"table\": [{\"cells\": {\"fill\": {\"color\": \"#EBF0F8\"}, \"line\": {\"color\": \"white\"}}, \"header\": {\"fill\": {\"color\": \"#C8D4E3\"}, \"line\": {\"color\": \"white\"}}, \"type\": \"table\"}]}, \"layout\": {\"annotationdefaults\": {\"arrowcolor\": \"#2a3f5f\", \"arrowhead\": 0, \"arrowwidth\": 1}, \"coloraxis\": {\"colorbar\": {\"outlinewidth\": 0, \"ticks\": \"\"}}, \"colorscale\": {\"diverging\": [[0, \"#8e0152\"], [0.1, \"#c51b7d\"], [0.2, \"#de77ae\"], [0.3, \"#f1b6da\"], [0.4, \"#fde0ef\"], [0.5, \"#f7f7f7\"], [0.6, \"#e6f5d0\"], [0.7, \"#b8e186\"], [0.8, \"#7fbc41\"], [0.9, \"#4d9221\"], [1, \"#276419\"]], \"sequential\": [[0.0, \"#0d0887\"], [0.1111111111111111, \"#46039f\"], [0.2222222222222222, \"#7201a8\"], [0.3333333333333333, \"#9c179e\"], [0.4444444444444444, \"#bd3786\"], [0.5555555555555556, \"#d8576b\"], [0.6666666666666666, \"#ed7953\"], [0.7777777777777778, \"#fb9f3a\"], [0.8888888888888888, \"#fdca26\"], [1.0, \"#f0f921\"]], \"sequentialminus\": [[0.0, \"#0d0887\"], [0.1111111111111111, \"#46039f\"], [0.2222222222222222, \"#7201a8\"], [0.3333333333333333, \"#9c179e\"], [0.4444444444444444, \"#bd3786\"], [0.5555555555555556, \"#d8576b\"], [0.6666666666666666, \"#ed7953\"], [0.7777777777777778, \"#fb9f3a\"], [0.8888888888888888, \"#fdca26\"], [1.0, \"#f0f921\"]]}, \"colorway\": [\"#636efa\", \"#EF553B\", \"#00cc96\", \"#ab63fa\", \"#FFA15A\", \"#19d3f3\", \"#FF6692\", \"#B6E880\", \"#FF97FF\", \"#FECB52\"], \"font\": {\"color\": \"#2a3f5f\"}, \"geo\": {\"bgcolor\": \"white\", \"lakecolor\": \"white\", \"landcolor\": \"#E5ECF6\", \"showlakes\": true, \"showland\": true, \"subunitcolor\": \"white\"}, \"hoverlabel\": {\"align\": \"left\"}, \"hovermode\": \"closest\", \"mapbox\": {\"style\": \"light\"}, \"paper_bgcolor\": \"white\", \"plot_bgcolor\": \"#E5ECF6\", \"polar\": {\"angularaxis\": {\"gridcolor\": \"white\", \"linecolor\": \"white\", \"ticks\": \"\"}, \"bgcolor\": \"#E5ECF6\", \"radialaxis\": {\"gridcolor\": \"white\", \"linecolor\": \"white\", \"ticks\": \"\"}}, \"scene\": {\"xaxis\": {\"backgroundcolor\": \"#E5ECF6\", \"gridcolor\": \"white\", \"gridwidth\": 2, \"linecolor\": \"white\", \"showbackground\": true, \"ticks\": \"\", \"zerolinecolor\": \"white\"}, \"yaxis\": {\"backgroundcolor\": \"#E5ECF6\", \"gridcolor\": \"white\", \"gridwidth\": 2, \"linecolor\": \"white\", \"showbackground\": true, \"ticks\": \"\", \"zerolinecolor\": \"white\"}, \"zaxis\": {\"backgroundcolor\": \"#E5ECF6\", \"gridcolor\": \"white\", \"gridwidth\": 2, \"linecolor\": \"white\", \"showbackground\": true, \"ticks\": \"\", \"zerolinecolor\": \"white\"}}, \"shapedefaults\": {\"line\": {\"color\": \"#2a3f5f\"}}, \"ternary\": {\"aaxis\": {\"gridcolor\": \"white\", \"linecolor\": \"white\", \"ticks\": \"\"}, \"baxis\": {\"gridcolor\": \"white\", \"linecolor\": \"white\", \"ticks\": \"\"}, \"bgcolor\": \"#E5ECF6\", \"caxis\": {\"gridcolor\": \"white\", \"linecolor\": \"white\", \"ticks\": \"\"}}, \"title\": {\"x\": 0.05}, \"xaxis\": {\"automargin\": true, \"gridcolor\": \"white\", \"linecolor\": \"white\", \"ticks\": \"\", \"title\": {\"standoff\": 15}, \"zerolinecolor\": \"white\", \"zerolinewidth\": 2}, \"yaxis\": {\"automargin\": true, \"gridcolor\": \"white\", \"linecolor\": \"white\", \"ticks\": \"\", \"title\": {\"standoff\": 15}, \"zerolinecolor\": \"white\", \"zerolinewidth\": 2}}}, \"title\": {\"text\": \"Distribution of Number of cases of all age-groups Country-Wise\"}, \"xaxis\": {\"anchor\": \"y\", \"domain\": [0.0, 1.0], \"title\": {\"text\": \"Country\"}}, \"yaxis\": {\"anchor\": \"x\", \"domain\": [0.0, 1.0], \"title\": {\"text\": \"Number of Cases of all Age-Groups\"}}},\n",
              "                        {\"responsive\": true}\n",
              "                    ).then(function(){\n",
              "                            \n",
              "var gd = document.getElementById('1e962637-7364-4717-b34f-b6a075376b71');\n",
              "var x = new MutationObserver(function (mutations, observer) {{\n",
              "        var display = window.getComputedStyle(gd).display;\n",
              "        if (!display || display === 'none') {{\n",
              "            console.log([gd, 'removed!']);\n",
              "            Plotly.purge(gd);\n",
              "            observer.disconnect();\n",
              "        }}\n",
              "}});\n",
              "\n",
              "// Listen for the removal of the full notebook cells\n",
              "var notebookContainer = gd.closest('#notebook-container');\n",
              "if (notebookContainer) {{\n",
              "    x.observe(notebookContainer, {childList: true});\n",
              "}}\n",
              "\n",
              "// Listen for the clearing of the current output cell\n",
              "var outputEl = gd.closest('.output');\n",
              "if (outputEl) {{\n",
              "    x.observe(outputEl, {childList: true});\n",
              "}}\n",
              "\n",
              "                        })\n",
              "                };\n",
              "                \n",
              "            </script>\n",
              "        </div>\n",
              "</body>\n",
              "</html>"
            ]
          },
          "metadata": {
            "tags": []
          }
        }
      ]
    },
    {
      "cell_type": "code",
      "metadata": {
        "id": "GEBM5oU_7Om1",
        "colab_type": "code",
        "colab": {
          "base_uri": "https://localhost:8080/",
          "height": 542
        },
        "outputId": "36a13a7d-2080-4854-f58c-c0ab0787499e"
      },
      "source": [
        "import plotly.express as px\n",
        "fig=px.bar(x=datewise.index,y=datewise[\"Total Cases\"]-datewise[\"Total Recovered\"]-datewise[\"Total Deaths\"])\n",
        "fig.update_layout(title=\"Distribution of Number of Active Cases in the world\",\n",
        "                  xaxis_title=\"Date\",yaxis_title=\"Number of Cases\",)\n",
        "fig.show()"
      ],
      "execution_count": null,
      "outputs": [
        {
          "output_type": "display_data",
          "data": {
            "text/html": [
              "<html>\n",
              "<head><meta charset=\"utf-8\" /></head>\n",
              "<body>\n",
              "    <div>\n",
              "            <script src=\"https://cdnjs.cloudflare.com/ajax/libs/mathjax/2.7.5/MathJax.js?config=TeX-AMS-MML_SVG\"></script><script type=\"text/javascript\">if (window.MathJax) {MathJax.Hub.Config({SVG: {font: \"STIX-Web\"}});}</script>\n",
              "                <script type=\"text/javascript\">window.PlotlyConfig = {MathJaxConfig: 'local'};</script>\n",
              "        <script src=\"https://cdn.plot.ly/plotly-latest.min.js\"></script>    \n",
              "            <div id=\"740ccaad-908f-43d4-9347-97698e004ae7\" class=\"plotly-graph-div\" style=\"height:525px; width:100%;\"></div>\n",
              "            <script type=\"text/javascript\">\n",
              "                \n",
              "                    window.PLOTLYENV=window.PLOTLYENV || {};\n",
              "                    \n",
              "                if (document.getElementById(\"740ccaad-908f-43d4-9347-97698e004ae7\")) {\n",
              "                    Plotly.newPlot(\n",
              "                        '740ccaad-908f-43d4-9347-97698e004ae7',\n",
              "                        [{\"alignmentgroup\": \"True\", \"hoverlabel\": {\"namelength\": 0}, \"hovertemplate\": \"x=%{x}<br>y=%{y}\", \"legendgroup\": \"\", \"marker\": {\"color\": \"#636efa\"}, \"name\": \"\", \"offsetgroup\": \"\", \"orientation\": \"v\", \"showlegend\": false, \"textposition\": \"auto\", \"type\": \"bar\", \"x\": [\"2020-04-18T00:00:00\", \"2020-04-19T00:00:00\", \"2020-04-20T00:00:00\", \"2020-04-21T00:00:00\", \"2020-04-22T00:00:00\", \"2020-04-23T00:00:00\", \"2020-04-24T00:00:00\", \"2020-04-25T00:00:00\", \"2020-04-26T00:00:00\", \"2020-04-27T00:00:00\", \"2020-04-28T00:00:00\", \"2020-04-29T00:00:00\", \"2020-04-30T00:00:00\", \"2020-05-01T00:00:00\", \"2020-05-02T00:00:00\", \"2020-05-03T00:00:00\", \"2020-05-04T00:00:00\", \"2020-05-05T00:00:00\", \"2020-05-06T00:00:00\", \"2020-05-07T00:00:00\", \"2020-05-08T00:00:00\", \"2020-05-09T00:00:00\", \"2020-05-10T00:00:00\", \"2020-05-11T00:00:00\", \"2020-05-12T00:00:00\", \"2020-05-13T00:00:00\", \"2020-05-14T00:00:00\", \"2020-05-15T00:00:00\", \"2020-05-16T00:00:00\", \"2020-05-17T00:00:00\", \"2020-05-18T00:00:00\"], \"xaxis\": \"x\", \"y\": [1574769.0, 1616380.0, 1664310.0, 1688595.0, 1734742.0, 1781398.0, 1833688.0, 1880161.0, 1909470.0, 1930241.0, 1965919.0, 1990654.0, 2031871.0, 2079468.0, 2083450.0, 2162229.0, 2196825.0, 2226319.0, 2253816.0, 2302729.0, 2351476.0, 2382391.0, 2404515.0, 2438718.0, 2447825.0, 2470712.0, 2517052.0, 2557150.0, 2594487.0, 2626719.0, 2663437.0], \"yaxis\": \"y\"}],\n",
              "                        {\"barmode\": \"relative\", \"legend\": {\"tracegroupgap\": 0}, \"margin\": {\"t\": 60}, \"template\": {\"data\": {\"bar\": [{\"error_x\": {\"color\": \"#2a3f5f\"}, \"error_y\": {\"color\": \"#2a3f5f\"}, \"marker\": {\"line\": {\"color\": \"#E5ECF6\", \"width\": 0.5}}, \"type\": \"bar\"}], \"barpolar\": [{\"marker\": {\"line\": {\"color\": \"#E5ECF6\", \"width\": 0.5}}, \"type\": \"barpolar\"}], \"carpet\": [{\"aaxis\": {\"endlinecolor\": \"#2a3f5f\", \"gridcolor\": \"white\", \"linecolor\": \"white\", \"minorgridcolor\": \"white\", \"startlinecolor\": \"#2a3f5f\"}, \"baxis\": {\"endlinecolor\": \"#2a3f5f\", \"gridcolor\": \"white\", \"linecolor\": \"white\", \"minorgridcolor\": \"white\", \"startlinecolor\": \"#2a3f5f\"}, \"type\": \"carpet\"}], \"choropleth\": [{\"colorbar\": {\"outlinewidth\": 0, \"ticks\": \"\"}, \"type\": \"choropleth\"}], \"contour\": [{\"colorbar\": {\"outlinewidth\": 0, \"ticks\": \"\"}, \"colorscale\": [[0.0, \"#0d0887\"], [0.1111111111111111, \"#46039f\"], [0.2222222222222222, \"#7201a8\"], [0.3333333333333333, \"#9c179e\"], [0.4444444444444444, \"#bd3786\"], [0.5555555555555556, \"#d8576b\"], [0.6666666666666666, \"#ed7953\"], [0.7777777777777778, \"#fb9f3a\"], [0.8888888888888888, \"#fdca26\"], [1.0, \"#f0f921\"]], \"type\": \"contour\"}], \"contourcarpet\": [{\"colorbar\": {\"outlinewidth\": 0, \"ticks\": \"\"}, \"type\": \"contourcarpet\"}], \"heatmap\": [{\"colorbar\": {\"outlinewidth\": 0, \"ticks\": \"\"}, \"colorscale\": [[0.0, \"#0d0887\"], [0.1111111111111111, \"#46039f\"], [0.2222222222222222, \"#7201a8\"], [0.3333333333333333, \"#9c179e\"], [0.4444444444444444, \"#bd3786\"], [0.5555555555555556, \"#d8576b\"], [0.6666666666666666, \"#ed7953\"], [0.7777777777777778, \"#fb9f3a\"], [0.8888888888888888, \"#fdca26\"], [1.0, \"#f0f921\"]], \"type\": \"heatmap\"}], \"heatmapgl\": [{\"colorbar\": {\"outlinewidth\": 0, \"ticks\": \"\"}, \"colorscale\": [[0.0, \"#0d0887\"], [0.1111111111111111, \"#46039f\"], [0.2222222222222222, \"#7201a8\"], [0.3333333333333333, \"#9c179e\"], [0.4444444444444444, \"#bd3786\"], [0.5555555555555556, \"#d8576b\"], [0.6666666666666666, \"#ed7953\"], [0.7777777777777778, \"#fb9f3a\"], [0.8888888888888888, \"#fdca26\"], [1.0, \"#f0f921\"]], \"type\": \"heatmapgl\"}], \"histogram\": [{\"marker\": {\"colorbar\": {\"outlinewidth\": 0, \"ticks\": \"\"}}, \"type\": \"histogram\"}], \"histogram2d\": [{\"colorbar\": {\"outlinewidth\": 0, \"ticks\": \"\"}, \"colorscale\": [[0.0, \"#0d0887\"], [0.1111111111111111, \"#46039f\"], [0.2222222222222222, \"#7201a8\"], [0.3333333333333333, \"#9c179e\"], [0.4444444444444444, \"#bd3786\"], [0.5555555555555556, \"#d8576b\"], [0.6666666666666666, \"#ed7953\"], [0.7777777777777778, \"#fb9f3a\"], [0.8888888888888888, \"#fdca26\"], [1.0, \"#f0f921\"]], \"type\": \"histogram2d\"}], \"histogram2dcontour\": [{\"colorbar\": {\"outlinewidth\": 0, \"ticks\": \"\"}, \"colorscale\": [[0.0, \"#0d0887\"], [0.1111111111111111, \"#46039f\"], [0.2222222222222222, \"#7201a8\"], [0.3333333333333333, \"#9c179e\"], [0.4444444444444444, \"#bd3786\"], [0.5555555555555556, \"#d8576b\"], [0.6666666666666666, \"#ed7953\"], [0.7777777777777778, \"#fb9f3a\"], [0.8888888888888888, \"#fdca26\"], [1.0, \"#f0f921\"]], \"type\": \"histogram2dcontour\"}], \"mesh3d\": [{\"colorbar\": {\"outlinewidth\": 0, \"ticks\": \"\"}, \"type\": \"mesh3d\"}], \"parcoords\": [{\"line\": {\"colorbar\": {\"outlinewidth\": 0, \"ticks\": \"\"}}, \"type\": \"parcoords\"}], \"pie\": [{\"automargin\": true, \"type\": \"pie\"}], \"scatter\": [{\"marker\": {\"colorbar\": {\"outlinewidth\": 0, \"ticks\": \"\"}}, \"type\": \"scatter\"}], \"scatter3d\": [{\"line\": {\"colorbar\": {\"outlinewidth\": 0, \"ticks\": \"\"}}, \"marker\": {\"colorbar\": {\"outlinewidth\": 0, \"ticks\": \"\"}}, \"type\": \"scatter3d\"}], \"scattercarpet\": [{\"marker\": {\"colorbar\": {\"outlinewidth\": 0, \"ticks\": \"\"}}, \"type\": \"scattercarpet\"}], \"scattergeo\": [{\"marker\": {\"colorbar\": {\"outlinewidth\": 0, \"ticks\": \"\"}}, \"type\": \"scattergeo\"}], \"scattergl\": [{\"marker\": {\"colorbar\": {\"outlinewidth\": 0, \"ticks\": \"\"}}, \"type\": \"scattergl\"}], \"scattermapbox\": [{\"marker\": {\"colorbar\": {\"outlinewidth\": 0, \"ticks\": \"\"}}, \"type\": \"scattermapbox\"}], \"scatterpolar\": [{\"marker\": {\"colorbar\": {\"outlinewidth\": 0, \"ticks\": \"\"}}, \"type\": \"scatterpolar\"}], \"scatterpolargl\": [{\"marker\": {\"colorbar\": {\"outlinewidth\": 0, \"ticks\": \"\"}}, \"type\": \"scatterpolargl\"}], \"scatterternary\": [{\"marker\": {\"colorbar\": {\"outlinewidth\": 0, \"ticks\": \"\"}}, \"type\": \"scatterternary\"}], \"surface\": [{\"colorbar\": {\"outlinewidth\": 0, \"ticks\": \"\"}, \"colorscale\": [[0.0, \"#0d0887\"], [0.1111111111111111, \"#46039f\"], [0.2222222222222222, \"#7201a8\"], [0.3333333333333333, \"#9c179e\"], [0.4444444444444444, \"#bd3786\"], [0.5555555555555556, \"#d8576b\"], [0.6666666666666666, \"#ed7953\"], [0.7777777777777778, \"#fb9f3a\"], [0.8888888888888888, \"#fdca26\"], [1.0, \"#f0f921\"]], \"type\": \"surface\"}], \"table\": [{\"cells\": {\"fill\": {\"color\": \"#EBF0F8\"}, \"line\": {\"color\": \"white\"}}, \"header\": {\"fill\": {\"color\": \"#C8D4E3\"}, \"line\": {\"color\": \"white\"}}, \"type\": \"table\"}]}, \"layout\": {\"annotationdefaults\": {\"arrowcolor\": \"#2a3f5f\", \"arrowhead\": 0, \"arrowwidth\": 1}, \"coloraxis\": {\"colorbar\": {\"outlinewidth\": 0, \"ticks\": \"\"}}, \"colorscale\": {\"diverging\": [[0, \"#8e0152\"], [0.1, \"#c51b7d\"], [0.2, \"#de77ae\"], [0.3, \"#f1b6da\"], [0.4, \"#fde0ef\"], [0.5, \"#f7f7f7\"], [0.6, \"#e6f5d0\"], [0.7, \"#b8e186\"], [0.8, \"#7fbc41\"], [0.9, \"#4d9221\"], [1, \"#276419\"]], \"sequential\": [[0.0, \"#0d0887\"], [0.1111111111111111, \"#46039f\"], [0.2222222222222222, \"#7201a8\"], [0.3333333333333333, \"#9c179e\"], [0.4444444444444444, \"#bd3786\"], [0.5555555555555556, \"#d8576b\"], [0.6666666666666666, \"#ed7953\"], [0.7777777777777778, \"#fb9f3a\"], [0.8888888888888888, \"#fdca26\"], [1.0, \"#f0f921\"]], \"sequentialminus\": [[0.0, \"#0d0887\"], [0.1111111111111111, \"#46039f\"], [0.2222222222222222, \"#7201a8\"], [0.3333333333333333, \"#9c179e\"], [0.4444444444444444, \"#bd3786\"], [0.5555555555555556, \"#d8576b\"], [0.6666666666666666, \"#ed7953\"], [0.7777777777777778, \"#fb9f3a\"], [0.8888888888888888, \"#fdca26\"], [1.0, \"#f0f921\"]]}, \"colorway\": [\"#636efa\", \"#EF553B\", \"#00cc96\", \"#ab63fa\", \"#FFA15A\", \"#19d3f3\", \"#FF6692\", \"#B6E880\", \"#FF97FF\", \"#FECB52\"], \"font\": {\"color\": \"#2a3f5f\"}, \"geo\": {\"bgcolor\": \"white\", \"lakecolor\": \"white\", \"landcolor\": \"#E5ECF6\", \"showlakes\": true, \"showland\": true, \"subunitcolor\": \"white\"}, \"hoverlabel\": {\"align\": \"left\"}, \"hovermode\": \"closest\", \"mapbox\": {\"style\": \"light\"}, \"paper_bgcolor\": \"white\", \"plot_bgcolor\": \"#E5ECF6\", \"polar\": {\"angularaxis\": {\"gridcolor\": \"white\", \"linecolor\": \"white\", \"ticks\": \"\"}, \"bgcolor\": \"#E5ECF6\", \"radialaxis\": {\"gridcolor\": \"white\", \"linecolor\": \"white\", \"ticks\": \"\"}}, \"scene\": {\"xaxis\": {\"backgroundcolor\": \"#E5ECF6\", \"gridcolor\": \"white\", \"gridwidth\": 2, \"linecolor\": \"white\", \"showbackground\": true, \"ticks\": \"\", \"zerolinecolor\": \"white\"}, \"yaxis\": {\"backgroundcolor\": \"#E5ECF6\", \"gridcolor\": \"white\", \"gridwidth\": 2, \"linecolor\": \"white\", \"showbackground\": true, \"ticks\": \"\", \"zerolinecolor\": \"white\"}, \"zaxis\": {\"backgroundcolor\": \"#E5ECF6\", \"gridcolor\": \"white\", \"gridwidth\": 2, \"linecolor\": \"white\", \"showbackground\": true, \"ticks\": \"\", \"zerolinecolor\": \"white\"}}, \"shapedefaults\": {\"line\": {\"color\": \"#2a3f5f\"}}, \"ternary\": {\"aaxis\": {\"gridcolor\": \"white\", \"linecolor\": \"white\", \"ticks\": \"\"}, \"baxis\": {\"gridcolor\": \"white\", \"linecolor\": \"white\", \"ticks\": \"\"}, \"bgcolor\": \"#E5ECF6\", \"caxis\": {\"gridcolor\": \"white\", \"linecolor\": \"white\", \"ticks\": \"\"}}, \"title\": {\"x\": 0.05}, \"xaxis\": {\"automargin\": true, \"gridcolor\": \"white\", \"linecolor\": \"white\", \"ticks\": \"\", \"title\": {\"standoff\": 15}, \"zerolinecolor\": \"white\", \"zerolinewidth\": 2}, \"yaxis\": {\"automargin\": true, \"gridcolor\": \"white\", \"linecolor\": \"white\", \"ticks\": \"\", \"title\": {\"standoff\": 15}, \"zerolinecolor\": \"white\", \"zerolinewidth\": 2}}}, \"title\": {\"text\": \"Distribution of Number of Active Cases in the world\"}, \"xaxis\": {\"anchor\": \"y\", \"domain\": [0.0, 1.0], \"title\": {\"text\": \"Date\"}}, \"yaxis\": {\"anchor\": \"x\", \"domain\": [0.0, 1.0], \"title\": {\"text\": \"Number of Cases\"}}},\n",
              "                        {\"responsive\": true}\n",
              "                    ).then(function(){\n",
              "                            \n",
              "var gd = document.getElementById('740ccaad-908f-43d4-9347-97698e004ae7');\n",
              "var x = new MutationObserver(function (mutations, observer) {{\n",
              "        var display = window.getComputedStyle(gd).display;\n",
              "        if (!display || display === 'none') {{\n",
              "            console.log([gd, 'removed!']);\n",
              "            Plotly.purge(gd);\n",
              "            observer.disconnect();\n",
              "        }}\n",
              "}});\n",
              "\n",
              "// Listen for the removal of the full notebook cells\n",
              "var notebookContainer = gd.closest('#notebook-container');\n",
              "if (notebookContainer) {{\n",
              "    x.observe(notebookContainer, {childList: true});\n",
              "}}\n",
              "\n",
              "// Listen for the clearing of the current output cell\n",
              "var outputEl = gd.closest('.output');\n",
              "if (outputEl) {{\n",
              "    x.observe(outputEl, {childList: true});\n",
              "}}\n",
              "\n",
              "                        })\n",
              "                };\n",
              "                \n",
              "            </script>\n",
              "        </div>\n",
              "</body>\n",
              "</html>"
            ]
          },
          "metadata": {
            "tags": []
          }
        }
      ]
    },
    {
      "cell_type": "code",
      "metadata": {
        "id": "pMLt8hxV79kB",
        "colab_type": "code",
        "colab": {
          "base_uri": "https://localhost:8080/",
          "height": 542
        },
        "outputId": "f9081b46-6a4b-4d32-8373-4fb8e4e82e39"
      },
      "source": [
        "fig=px.bar(x=datewise.index,y=datewise[\"Total Recovered\"]+datewise[\"Total Deaths\"])\n",
        "fig.update_layout(title=\"Distribution of Number of Closed Cases in the World\",\n",
        "                  xaxis_title=\"Date\",yaxis_title=\"Number of Cases\")\n",
        "fig.show()"
      ],
      "execution_count": null,
      "outputs": [
        {
          "output_type": "display_data",
          "data": {
            "text/html": [
              "<html>\n",
              "<head><meta charset=\"utf-8\" /></head>\n",
              "<body>\n",
              "    <div>\n",
              "            <script src=\"https://cdnjs.cloudflare.com/ajax/libs/mathjax/2.7.5/MathJax.js?config=TeX-AMS-MML_SVG\"></script><script type=\"text/javascript\">if (window.MathJax) {MathJax.Hub.Config({SVG: {font: \"STIX-Web\"}});}</script>\n",
              "                <script type=\"text/javascript\">window.PlotlyConfig = {MathJaxConfig: 'local'};</script>\n",
              "        <script src=\"https://cdn.plot.ly/plotly-latest.min.js\"></script>    \n",
              "            <div id=\"db096625-cae3-42a3-92e8-f60107540368\" class=\"plotly-graph-div\" style=\"height:525px; width:100%;\"></div>\n",
              "            <script type=\"text/javascript\">\n",
              "                \n",
              "                    window.PLOTLYENV=window.PLOTLYENV || {};\n",
              "                    \n",
              "                if (document.getElementById(\"db096625-cae3-42a3-92e8-f60107540368\")) {\n",
              "                    Plotly.newPlot(\n",
              "                        'db096625-cae3-42a3-92e8-f60107540368',\n",
              "                        [{\"alignmentgroup\": \"True\", \"hoverlabel\": {\"namelength\": 0}, \"hovertemplate\": \"x=%{x}<br>y=%{y}\", \"legendgroup\": \"\", \"marker\": {\"color\": \"#636efa\"}, \"name\": \"\", \"offsetgroup\": \"\", \"orientation\": \"v\", \"showlegend\": false, \"textposition\": \"auto\", \"type\": \"bar\", \"x\": [\"2020-04-18T00:00:00\", \"2020-04-19T00:00:00\", \"2020-04-20T00:00:00\", \"2020-04-21T00:00:00\", \"2020-04-22T00:00:00\", \"2020-04-23T00:00:00\", \"2020-04-24T00:00:00\", \"2020-04-25T00:00:00\", \"2020-04-26T00:00:00\", \"2020-04-27T00:00:00\", \"2020-04-28T00:00:00\", \"2020-04-29T00:00:00\", \"2020-04-30T00:00:00\", \"2020-05-01T00:00:00\", \"2020-05-02T00:00:00\", \"2020-05-03T00:00:00\", \"2020-05-04T00:00:00\", \"2020-05-05T00:00:00\", \"2020-05-06T00:00:00\", \"2020-05-07T00:00:00\", \"2020-05-08T00:00:00\", \"2020-05-09T00:00:00\", \"2020-05-10T00:00:00\", \"2020-05-11T00:00:00\", \"2020-05-12T00:00:00\", \"2020-05-13T00:00:00\", \"2020-05-14T00:00:00\", \"2020-05-15T00:00:00\", \"2020-05-16T00:00:00\", \"2020-05-17T00:00:00\", \"2020-05-18T00:00:00\"], \"xaxis\": \"x\", \"y\": [755276.0, 788670.0, 815472.0, 866432.0, 900256.0, 934687.0, 994208.0, 1038522.0, 1083072.0, 1131507.0, 1169868.0, 1226809.0, 1271628.0, 1318278.0, 1397258.0, 1400739.0, 1445725.0, 1497478.0, 1562845.0, 1610194.0, 1657094.0, 1715176.0, 1772918.0, 1812851.0, 1889056.0, 1954223.0, 2004216.0, 2063543.0, 2121802.0, 2171826.0, 2223966.0], \"yaxis\": \"y\"}],\n",
              "                        {\"barmode\": \"relative\", \"legend\": {\"tracegroupgap\": 0}, \"margin\": {\"t\": 60}, \"template\": {\"data\": {\"bar\": [{\"error_x\": {\"color\": \"#2a3f5f\"}, \"error_y\": {\"color\": \"#2a3f5f\"}, \"marker\": {\"line\": {\"color\": \"#E5ECF6\", \"width\": 0.5}}, \"type\": \"bar\"}], \"barpolar\": [{\"marker\": {\"line\": {\"color\": \"#E5ECF6\", \"width\": 0.5}}, \"type\": \"barpolar\"}], \"carpet\": [{\"aaxis\": {\"endlinecolor\": \"#2a3f5f\", \"gridcolor\": \"white\", \"linecolor\": \"white\", \"minorgridcolor\": \"white\", \"startlinecolor\": \"#2a3f5f\"}, \"baxis\": {\"endlinecolor\": \"#2a3f5f\", \"gridcolor\": \"white\", \"linecolor\": \"white\", \"minorgridcolor\": \"white\", \"startlinecolor\": \"#2a3f5f\"}, \"type\": \"carpet\"}], \"choropleth\": [{\"colorbar\": {\"outlinewidth\": 0, \"ticks\": \"\"}, \"type\": \"choropleth\"}], \"contour\": [{\"colorbar\": {\"outlinewidth\": 0, \"ticks\": \"\"}, \"colorscale\": [[0.0, \"#0d0887\"], [0.1111111111111111, \"#46039f\"], [0.2222222222222222, \"#7201a8\"], [0.3333333333333333, \"#9c179e\"], [0.4444444444444444, \"#bd3786\"], [0.5555555555555556, \"#d8576b\"], [0.6666666666666666, \"#ed7953\"], [0.7777777777777778, \"#fb9f3a\"], [0.8888888888888888, \"#fdca26\"], [1.0, \"#f0f921\"]], \"type\": \"contour\"}], \"contourcarpet\": [{\"colorbar\": {\"outlinewidth\": 0, \"ticks\": \"\"}, \"type\": \"contourcarpet\"}], \"heatmap\": [{\"colorbar\": {\"outlinewidth\": 0, \"ticks\": \"\"}, \"colorscale\": [[0.0, \"#0d0887\"], [0.1111111111111111, \"#46039f\"], [0.2222222222222222, \"#7201a8\"], [0.3333333333333333, \"#9c179e\"], [0.4444444444444444, \"#bd3786\"], [0.5555555555555556, \"#d8576b\"], [0.6666666666666666, \"#ed7953\"], [0.7777777777777778, \"#fb9f3a\"], [0.8888888888888888, \"#fdca26\"], [1.0, \"#f0f921\"]], \"type\": \"heatmap\"}], \"heatmapgl\": [{\"colorbar\": {\"outlinewidth\": 0, \"ticks\": \"\"}, \"colorscale\": [[0.0, \"#0d0887\"], [0.1111111111111111, \"#46039f\"], [0.2222222222222222, \"#7201a8\"], [0.3333333333333333, \"#9c179e\"], [0.4444444444444444, \"#bd3786\"], [0.5555555555555556, \"#d8576b\"], [0.6666666666666666, \"#ed7953\"], [0.7777777777777778, \"#fb9f3a\"], [0.8888888888888888, \"#fdca26\"], [1.0, \"#f0f921\"]], \"type\": \"heatmapgl\"}], \"histogram\": [{\"marker\": {\"colorbar\": {\"outlinewidth\": 0, \"ticks\": \"\"}}, \"type\": \"histogram\"}], \"histogram2d\": [{\"colorbar\": {\"outlinewidth\": 0, \"ticks\": \"\"}, \"colorscale\": [[0.0, \"#0d0887\"], [0.1111111111111111, \"#46039f\"], [0.2222222222222222, \"#7201a8\"], [0.3333333333333333, \"#9c179e\"], [0.4444444444444444, \"#bd3786\"], [0.5555555555555556, \"#d8576b\"], [0.6666666666666666, \"#ed7953\"], [0.7777777777777778, \"#fb9f3a\"], [0.8888888888888888, \"#fdca26\"], [1.0, \"#f0f921\"]], \"type\": \"histogram2d\"}], \"histogram2dcontour\": [{\"colorbar\": {\"outlinewidth\": 0, \"ticks\": \"\"}, \"colorscale\": [[0.0, \"#0d0887\"], [0.1111111111111111, \"#46039f\"], [0.2222222222222222, \"#7201a8\"], [0.3333333333333333, \"#9c179e\"], [0.4444444444444444, \"#bd3786\"], [0.5555555555555556, \"#d8576b\"], [0.6666666666666666, \"#ed7953\"], [0.7777777777777778, \"#fb9f3a\"], [0.8888888888888888, \"#fdca26\"], [1.0, \"#f0f921\"]], \"type\": \"histogram2dcontour\"}], \"mesh3d\": [{\"colorbar\": {\"outlinewidth\": 0, \"ticks\": \"\"}, \"type\": \"mesh3d\"}], \"parcoords\": [{\"line\": {\"colorbar\": {\"outlinewidth\": 0, \"ticks\": \"\"}}, \"type\": \"parcoords\"}], \"pie\": [{\"automargin\": true, \"type\": \"pie\"}], \"scatter\": [{\"marker\": {\"colorbar\": {\"outlinewidth\": 0, \"ticks\": \"\"}}, \"type\": \"scatter\"}], \"scatter3d\": [{\"line\": {\"colorbar\": {\"outlinewidth\": 0, \"ticks\": \"\"}}, \"marker\": {\"colorbar\": {\"outlinewidth\": 0, \"ticks\": \"\"}}, \"type\": \"scatter3d\"}], \"scattercarpet\": [{\"marker\": {\"colorbar\": {\"outlinewidth\": 0, \"ticks\": \"\"}}, \"type\": \"scattercarpet\"}], \"scattergeo\": [{\"marker\": {\"colorbar\": {\"outlinewidth\": 0, \"ticks\": \"\"}}, \"type\": \"scattergeo\"}], \"scattergl\": [{\"marker\": {\"colorbar\": {\"outlinewidth\": 0, \"ticks\": \"\"}}, \"type\": \"scattergl\"}], \"scattermapbox\": [{\"marker\": {\"colorbar\": {\"outlinewidth\": 0, \"ticks\": \"\"}}, \"type\": \"scattermapbox\"}], \"scatterpolar\": [{\"marker\": {\"colorbar\": {\"outlinewidth\": 0, \"ticks\": \"\"}}, \"type\": \"scatterpolar\"}], \"scatterpolargl\": [{\"marker\": {\"colorbar\": {\"outlinewidth\": 0, \"ticks\": \"\"}}, \"type\": \"scatterpolargl\"}], \"scatterternary\": [{\"marker\": {\"colorbar\": {\"outlinewidth\": 0, \"ticks\": \"\"}}, \"type\": \"scatterternary\"}], \"surface\": [{\"colorbar\": {\"outlinewidth\": 0, \"ticks\": \"\"}, \"colorscale\": [[0.0, \"#0d0887\"], [0.1111111111111111, \"#46039f\"], [0.2222222222222222, \"#7201a8\"], [0.3333333333333333, \"#9c179e\"], [0.4444444444444444, \"#bd3786\"], [0.5555555555555556, \"#d8576b\"], [0.6666666666666666, \"#ed7953\"], [0.7777777777777778, \"#fb9f3a\"], [0.8888888888888888, \"#fdca26\"], [1.0, \"#f0f921\"]], \"type\": \"surface\"}], \"table\": [{\"cells\": {\"fill\": {\"color\": \"#EBF0F8\"}, \"line\": {\"color\": \"white\"}}, \"header\": {\"fill\": {\"color\": \"#C8D4E3\"}, \"line\": {\"color\": \"white\"}}, \"type\": \"table\"}]}, \"layout\": {\"annotationdefaults\": {\"arrowcolor\": \"#2a3f5f\", \"arrowhead\": 0, \"arrowwidth\": 1}, \"coloraxis\": {\"colorbar\": {\"outlinewidth\": 0, \"ticks\": \"\"}}, \"colorscale\": {\"diverging\": [[0, \"#8e0152\"], [0.1, \"#c51b7d\"], [0.2, \"#de77ae\"], [0.3, \"#f1b6da\"], [0.4, \"#fde0ef\"], [0.5, \"#f7f7f7\"], [0.6, \"#e6f5d0\"], [0.7, \"#b8e186\"], [0.8, \"#7fbc41\"], [0.9, \"#4d9221\"], [1, \"#276419\"]], \"sequential\": [[0.0, \"#0d0887\"], [0.1111111111111111, \"#46039f\"], [0.2222222222222222, \"#7201a8\"], [0.3333333333333333, \"#9c179e\"], [0.4444444444444444, \"#bd3786\"], [0.5555555555555556, \"#d8576b\"], [0.6666666666666666, \"#ed7953\"], [0.7777777777777778, \"#fb9f3a\"], [0.8888888888888888, \"#fdca26\"], [1.0, \"#f0f921\"]], \"sequentialminus\": [[0.0, \"#0d0887\"], [0.1111111111111111, \"#46039f\"], [0.2222222222222222, \"#7201a8\"], [0.3333333333333333, \"#9c179e\"], [0.4444444444444444, \"#bd3786\"], [0.5555555555555556, \"#d8576b\"], [0.6666666666666666, \"#ed7953\"], [0.7777777777777778, \"#fb9f3a\"], [0.8888888888888888, \"#fdca26\"], [1.0, \"#f0f921\"]]}, \"colorway\": [\"#636efa\", \"#EF553B\", \"#00cc96\", \"#ab63fa\", \"#FFA15A\", \"#19d3f3\", \"#FF6692\", \"#B6E880\", \"#FF97FF\", \"#FECB52\"], \"font\": {\"color\": \"#2a3f5f\"}, \"geo\": {\"bgcolor\": \"white\", \"lakecolor\": \"white\", \"landcolor\": \"#E5ECF6\", \"showlakes\": true, \"showland\": true, \"subunitcolor\": \"white\"}, \"hoverlabel\": {\"align\": \"left\"}, \"hovermode\": \"closest\", \"mapbox\": {\"style\": \"light\"}, \"paper_bgcolor\": \"white\", \"plot_bgcolor\": \"#E5ECF6\", \"polar\": {\"angularaxis\": {\"gridcolor\": \"white\", \"linecolor\": \"white\", \"ticks\": \"\"}, \"bgcolor\": \"#E5ECF6\", \"radialaxis\": {\"gridcolor\": \"white\", \"linecolor\": \"white\", \"ticks\": \"\"}}, \"scene\": {\"xaxis\": {\"backgroundcolor\": \"#E5ECF6\", \"gridcolor\": \"white\", \"gridwidth\": 2, \"linecolor\": \"white\", \"showbackground\": true, \"ticks\": \"\", \"zerolinecolor\": \"white\"}, \"yaxis\": {\"backgroundcolor\": \"#E5ECF6\", \"gridcolor\": \"white\", \"gridwidth\": 2, \"linecolor\": \"white\", \"showbackground\": true, \"ticks\": \"\", \"zerolinecolor\": \"white\"}, \"zaxis\": {\"backgroundcolor\": \"#E5ECF6\", \"gridcolor\": \"white\", \"gridwidth\": 2, \"linecolor\": \"white\", \"showbackground\": true, \"ticks\": \"\", \"zerolinecolor\": \"white\"}}, \"shapedefaults\": {\"line\": {\"color\": \"#2a3f5f\"}}, \"ternary\": {\"aaxis\": {\"gridcolor\": \"white\", \"linecolor\": \"white\", \"ticks\": \"\"}, \"baxis\": {\"gridcolor\": \"white\", \"linecolor\": \"white\", \"ticks\": \"\"}, \"bgcolor\": \"#E5ECF6\", \"caxis\": {\"gridcolor\": \"white\", \"linecolor\": \"white\", \"ticks\": \"\"}}, \"title\": {\"x\": 0.05}, \"xaxis\": {\"automargin\": true, \"gridcolor\": \"white\", \"linecolor\": \"white\", \"ticks\": \"\", \"title\": {\"standoff\": 15}, \"zerolinecolor\": \"white\", \"zerolinewidth\": 2}, \"yaxis\": {\"automargin\": true, \"gridcolor\": \"white\", \"linecolor\": \"white\", \"ticks\": \"\", \"title\": {\"standoff\": 15}, \"zerolinecolor\": \"white\", \"zerolinewidth\": 2}}}, \"title\": {\"text\": \"Distribution of Number of Closed Cases in the World\"}, \"xaxis\": {\"anchor\": \"y\", \"domain\": [0.0, 1.0], \"title\": {\"text\": \"Date\"}}, \"yaxis\": {\"anchor\": \"x\", \"domain\": [0.0, 1.0], \"title\": {\"text\": \"Number of Cases\"}}},\n",
              "                        {\"responsive\": true}\n",
              "                    ).then(function(){\n",
              "                            \n",
              "var gd = document.getElementById('db096625-cae3-42a3-92e8-f60107540368');\n",
              "var x = new MutationObserver(function (mutations, observer) {{\n",
              "        var display = window.getComputedStyle(gd).display;\n",
              "        if (!display || display === 'none') {{\n",
              "            console.log([gd, 'removed!']);\n",
              "            Plotly.purge(gd);\n",
              "            observer.disconnect();\n",
              "        }}\n",
              "}});\n",
              "\n",
              "// Listen for the removal of the full notebook cells\n",
              "var notebookContainer = gd.closest('#notebook-container');\n",
              "if (notebookContainer) {{\n",
              "    x.observe(notebookContainer, {childList: true});\n",
              "}}\n",
              "\n",
              "// Listen for the clearing of the current output cell\n",
              "var outputEl = gd.closest('.output');\n",
              "if (outputEl) {{\n",
              "    x.observe(outputEl, {childList: true});\n",
              "}}\n",
              "\n",
              "                        })\n",
              "                };\n",
              "                \n",
              "            </script>\n",
              "        </div>\n",
              "</body>\n",
              "</html>"
            ]
          },
          "metadata": {
            "tags": []
          }
        }
      ]
    },
    {
      "cell_type": "code",
      "metadata": {
        "id": "rmF-DWtk8MAY",
        "colab_type": "code",
        "colab": {
          "base_uri": "https://localhost:8080/",
          "height": 54
        },
        "outputId": "4239e5d1-64dd-4019-a45c-a8cc3decd20f"
      },
      "source": [
        "#Calculating the Recovery Rate\n",
        "\n",
        "datewise[\"Recovery Rate\"]=(datewise[\"Total Recovered\"]/datewise[\"Total Cases\"])*100\n",
        "datewise[\"Active Cases\"]=datewise[\"Total Cases\"]-datewise[\"Total Recovered\"]-datewise[\"Total Deaths\"]\n",
        "datewise[\"Closed Cases\"]=datewise[\"Total Recovered\"]+datewise[\"Total Deaths\"]\n",
        "\n",
        "print(\"Average Recovery Rate\",datewise[\"Recovery Rate\"].mean())\n",
        "print(\"Median Recovery Rate\",datewise[\"Recovery Rate\"].median())"
      ],
      "execution_count": null,
      "outputs": [
        {
          "output_type": "stream",
          "text": [
            "Average Recovery Rate 32.46333515242366\n",
            "Median Recovery Rate 32.76548022676422\n"
          ],
          "name": "stdout"
        }
      ]
    },
    {
      "cell_type": "code",
      "metadata": {
        "id": "1Te1seKrxumH",
        "colab_type": "code",
        "colab": {
          "base_uri": "https://localhost:8080/",
          "height": 138
        },
        "outputId": "9e309efa-939c-4911-e256-6264c846aa9f"
      },
      "source": [
        "#checking for correaltion between variables\n",
        "\n",
        "covid.corr()"
      ],
      "execution_count": null,
      "outputs": [
        {
          "output_type": "execute_result",
          "data": {
            "text/html": [
              "<div>\n",
              "<style scoped>\n",
              "    .dataframe tbody tr th:only-of-type {\n",
              "        vertical-align: middle;\n",
              "    }\n",
              "\n",
              "    .dataframe tbody tr th {\n",
              "        vertical-align: top;\n",
              "    }\n",
              "\n",
              "    .dataframe thead th {\n",
              "        text-align: right;\n",
              "    }\n",
              "</style>\n",
              "<table border=\"1\" class=\"dataframe\">\n",
              "  <thead>\n",
              "    <tr style=\"text-align: right;\">\n",
              "      <th></th>\n",
              "      <th>Fraction age 0-14 years</th>\n",
              "      <th>Fraction age 15-64 years</th>\n",
              "      <th>Fraction age 65+ years</th>\n",
              "    </tr>\n",
              "  </thead>\n",
              "  <tbody>\n",
              "    <tr>\n",
              "      <th>Fraction age 0-14 years</th>\n",
              "      <td>1.000000</td>\n",
              "      <td>0.999888</td>\n",
              "      <td>0.999896</td>\n",
              "    </tr>\n",
              "    <tr>\n",
              "      <th>Fraction age 15-64 years</th>\n",
              "      <td>0.999888</td>\n",
              "      <td>1.000000</td>\n",
              "      <td>0.999979</td>\n",
              "    </tr>\n",
              "    <tr>\n",
              "      <th>Fraction age 65+ years</th>\n",
              "      <td>0.999896</td>\n",
              "      <td>0.999979</td>\n",
              "      <td>1.000000</td>\n",
              "    </tr>\n",
              "  </tbody>\n",
              "</table>\n",
              "</div>"
            ],
            "text/plain": [
              "                          Fraction age 0-14 years  ...  Fraction age 65+ years\n",
              "Fraction age 0-14 years                  1.000000  ...                0.999896\n",
              "Fraction age 15-64 years                 0.999888  ...                0.999979\n",
              "Fraction age 65+ years                   0.999896  ...                1.000000\n",
              "\n",
              "[3 rows x 3 columns]"
            ]
          },
          "metadata": {
            "tags": []
          },
          "execution_count": 42
        }
      ]
    },
    {
      "cell_type": "code",
      "metadata": {
        "id": "_6aJYF5Z8nh_",
        "colab_type": "code",
        "colab": {
          "base_uri": "https://localhost:8080/",
          "height": 258
        },
        "outputId": "b8b1e8a9-0fe4-4d39-df70-bae6d829ba8f"
      },
      "source": [
        "cw.corr()"
      ],
      "execution_count": null,
      "outputs": [
        {
          "output_type": "execute_result",
          "data": {
            "text/html": [
              "<div>\n",
              "<style scoped>\n",
              "    .dataframe tbody tr th:only-of-type {\n",
              "        vertical-align: middle;\n",
              "    }\n",
              "\n",
              "    .dataframe tbody tr th {\n",
              "        vertical-align: top;\n",
              "    }\n",
              "\n",
              "    .dataframe thead th {\n",
              "        text-align: right;\n",
              "    }\n",
              "</style>\n",
              "<table border=\"1\" class=\"dataframe\">\n",
              "  <thead>\n",
              "    <tr style=\"text-align: right;\">\n",
              "      <th></th>\n",
              "      <th>Population</th>\n",
              "      <th>Total Tests</th>\n",
              "      <th>Total Cases</th>\n",
              "      <th>Total Deaths</th>\n",
              "      <th>Total Recovered</th>\n",
              "      <th>Serious or Critical</th>\n",
              "      <th>Active Cases</th>\n",
              "    </tr>\n",
              "  </thead>\n",
              "  <tbody>\n",
              "    <tr>\n",
              "      <th>Population</th>\n",
              "      <td>1.000000</td>\n",
              "      <td>0.216559</td>\n",
              "      <td>0.226143</td>\n",
              "      <td>0.184753</td>\n",
              "      <td>0.310771</td>\n",
              "      <td>0.172327</td>\n",
              "      <td>0.179594</td>\n",
              "    </tr>\n",
              "    <tr>\n",
              "      <th>Total Tests</th>\n",
              "      <td>0.216559</td>\n",
              "      <td>1.000000</td>\n",
              "      <td>0.898474</td>\n",
              "      <td>0.812314</td>\n",
              "      <td>0.795363</td>\n",
              "      <td>0.745159</td>\n",
              "      <td>0.855272</td>\n",
              "    </tr>\n",
              "    <tr>\n",
              "      <th>Total Cases</th>\n",
              "      <td>0.226143</td>\n",
              "      <td>0.898474</td>\n",
              "      <td>1.000000</td>\n",
              "      <td>0.935240</td>\n",
              "      <td>0.818972</td>\n",
              "      <td>0.892123</td>\n",
              "      <td>0.975016</td>\n",
              "    </tr>\n",
              "    <tr>\n",
              "      <th>Total Deaths</th>\n",
              "      <td>0.184753</td>\n",
              "      <td>0.812314</td>\n",
              "      <td>0.935240</td>\n",
              "      <td>1.000000</td>\n",
              "      <td>0.795855</td>\n",
              "      <td>0.833068</td>\n",
              "      <td>0.881891</td>\n",
              "    </tr>\n",
              "    <tr>\n",
              "      <th>Total Recovered</th>\n",
              "      <td>0.310771</td>\n",
              "      <td>0.795363</td>\n",
              "      <td>0.818972</td>\n",
              "      <td>0.795855</td>\n",
              "      <td>1.000000</td>\n",
              "      <td>0.722733</td>\n",
              "      <td>0.685134</td>\n",
              "    </tr>\n",
              "    <tr>\n",
              "      <th>Serious or Critical</th>\n",
              "      <td>0.172327</td>\n",
              "      <td>0.745159</td>\n",
              "      <td>0.892123</td>\n",
              "      <td>0.833068</td>\n",
              "      <td>0.722733</td>\n",
              "      <td>1.000000</td>\n",
              "      <td>0.875936</td>\n",
              "    </tr>\n",
              "    <tr>\n",
              "      <th>Active Cases</th>\n",
              "      <td>0.179594</td>\n",
              "      <td>0.855272</td>\n",
              "      <td>0.975016</td>\n",
              "      <td>0.881891</td>\n",
              "      <td>0.685134</td>\n",
              "      <td>0.875936</td>\n",
              "      <td>1.000000</td>\n",
              "    </tr>\n",
              "  </tbody>\n",
              "</table>\n",
              "</div>"
            ],
            "text/plain": [
              "                     Population  Total Tests  ...  Serious or Critical  Active Cases\n",
              "Population             1.000000     0.216559  ...             0.172327      0.179594\n",
              "Total Tests            0.216559     1.000000  ...             0.745159      0.855272\n",
              "Total Cases            0.226143     0.898474  ...             0.892123      0.975016\n",
              "Total Deaths           0.184753     0.812314  ...             0.833068      0.881891\n",
              "Total Recovered        0.310771     0.795363  ...             0.722733      0.685134\n",
              "Serious or Critical    0.172327     0.745159  ...             1.000000      0.875936\n",
              "Active Cases           0.179594     0.855272  ...             0.875936      1.000000\n",
              "\n",
              "[7 rows x 7 columns]"
            ]
          },
          "metadata": {
            "tags": []
          },
          "execution_count": 43
        }
      ]
    },
    {
      "cell_type": "code",
      "metadata": {
        "id": "Uv4vHu8Xx103",
        "colab_type": "code",
        "colab": {
          "base_uri": "https://localhost:8080/",
          "height": 409
        },
        "outputId": "e9d860ee-9379-4530-e20c-d2fafd383e69"
      },
      "source": [
        "#Checking correlation using Heatmap\n",
        "\n",
        "sns.heatmap(covid.corr())"
      ],
      "execution_count": null,
      "outputs": [
        {
          "output_type": "execute_result",
          "data": {
            "text/plain": [
              "<matplotlib.axes._subplots.AxesSubplot at 0x7fdf7d4c9ef0>"
            ]
          },
          "metadata": {
            "tags": []
          },
          "execution_count": 44
        },
        {
          "output_type": "display_data",
          "data": {
            "image/png": "[encoded data removed]",
            "text/plain": [
              "<Figure size 432x288 with 2 Axes>"
            ]
          },
          "metadata": {
            "tags": [],
            "needs_background": "light"
          }
        }
      ]
    },
    {
      "cell_type": "code",
      "metadata": {
        "id": "YVhftiIC0bhL",
        "colab_type": "code",
        "colab": {
          "base_uri": "https://localhost:8080/",
          "height": 366
        },
        "outputId": "04a05b9f-68ca-4c2e-92fa-e06aa4f2ceaf"
      },
      "source": [
        "sns.heatmap(cw.corr())"
      ],
      "execution_count": null,
      "outputs": [
        {
          "output_type": "execute_result",
          "data": {
            "text/plain": [
              "<matplotlib.axes._subplots.AxesSubplot at 0x7fdf7ce9a940>"
            ]
          },
          "metadata": {
            "tags": []
          },
          "execution_count": 45
        },
        {
          "output_type": "display_data",
          "data": {
            "image/png": "[encoded data removed]",
            "text/plain": [
              "<Figure size 432x288 with 2 Axes>"
            ]
          },
          "metadata": {
            "tags": [],
            "needs_background": "light"
          }
        }
      ]
    },
    {
      "cell_type": "code",
      "metadata": {
        "id": "_fKasegW8tOG",
        "colab_type": "code",
        "colab": {
          "base_uri": "https://localhost:8080/",
          "height": 90
        },
        "outputId": "12b5c5aa-e537-48e1-ad0b-1156a5ab0850"
      },
      "source": [
        "#Checking the skewness\n",
        "\n",
        "covid.skew()"
      ],
      "execution_count": null,
      "outputs": [
        {
          "output_type": "execute_result",
          "data": {
            "text/plain": [
              "Fraction age 0-14 years     1.734370\n",
              "Fraction age 15-64 years    1.734589\n",
              "Fraction age 65+ years      1.734611\n",
              "dtype: float64"
            ]
          },
          "metadata": {
            "tags": []
          },
          "execution_count": 63
        }
      ]
    },
    {
      "cell_type": "code",
      "metadata": {
        "id": "eE8tc5IQ82l-",
        "colab_type": "code",
        "colab": {
          "base_uri": "https://localhost:8080/",
          "height": 198
        },
        "outputId": "82a58665-f697-4412-dada-012718ee3567"
      },
      "source": [
        "#using label encoding and one-hot encoding\n",
        "\n",
        "from sklearn.preprocessing import LabelEncoder\n",
        "\n",
        "le = LabelEncoder()\n",
        "covid['Fraction age 0-14 years'] = le.fit_transform(covid['Fraction age 0-14 years'])\n",
        "covid['Fraction age 15-64 years'] = le.fit_transform(covid['Fraction age 15-64 years'])\n",
        "covid['Fraction age 65+ years'] = le.fit_transform(covid['Fraction age 65+ years'])\n",
        "\n",
        "covid.head(5)"
      ],
      "execution_count": null,
      "outputs": [
        {
          "output_type": "execute_result",
          "data": {
            "text/html": [
              "<div>\n",
              "<style scoped>\n",
              "    .dataframe tbody tr th:only-of-type {\n",
              "        vertical-align: middle;\n",
              "    }\n",
              "\n",
              "    .dataframe tbody tr th {\n",
              "        vertical-align: top;\n",
              "    }\n",
              "\n",
              "    .dataframe thead th {\n",
              "        text-align: right;\n",
              "    }\n",
              "</style>\n",
              "<table border=\"1\" class=\"dataframe\">\n",
              "  <thead>\n",
              "    <tr style=\"text-align: right;\">\n",
              "      <th></th>\n",
              "      <th>Country</th>\n",
              "      <th>Fraction age 0-14 years</th>\n",
              "      <th>Fraction age 15-64 years</th>\n",
              "      <th>Fraction age 65+ years</th>\n",
              "    </tr>\n",
              "  </thead>\n",
              "  <tbody>\n",
              "    <tr>\n",
              "      <th>0</th>\n",
              "      <td>USA</td>\n",
              "      <td>35</td>\n",
              "      <td>68</td>\n",
              "      <td>81</td>\n",
              "    </tr>\n",
              "    <tr>\n",
              "      <th>1</th>\n",
              "      <td>Russia</td>\n",
              "      <td>29</td>\n",
              "      <td>87</td>\n",
              "      <td>72</td>\n",
              "    </tr>\n",
              "    <tr>\n",
              "      <th>2</th>\n",
              "      <td>Spain</td>\n",
              "      <td>11</td>\n",
              "      <td>70</td>\n",
              "      <td>98</td>\n",
              "    </tr>\n",
              "    <tr>\n",
              "      <th>3</th>\n",
              "      <td>Brazil</td>\n",
              "      <td>49</td>\n",
              "      <td>97</td>\n",
              "      <td>54</td>\n",
              "    </tr>\n",
              "    <tr>\n",
              "      <th>4</th>\n",
              "      <td>UK</td>\n",
              "      <td>30</td>\n",
              "      <td>53</td>\n",
              "      <td>92</td>\n",
              "    </tr>\n",
              "  </tbody>\n",
              "</table>\n",
              "</div>"
            ],
            "text/plain": [
              "  Country  ...  Fraction age 65+ years\n",
              "0     USA  ...                      81\n",
              "1  Russia  ...                      72\n",
              "2   Spain  ...                      98\n",
              "3  Brazil  ...                      54\n",
              "4      UK  ...                      92\n",
              "\n",
              "[5 rows x 4 columns]"
            ]
          },
          "metadata": {
            "tags": []
          },
          "execution_count": 64
        }
      ]
    },
    {
      "cell_type": "code",
      "metadata": {
        "id": "yGg5QNs19hYz",
        "colab_type": "code",
        "colab": {
          "base_uri": "https://localhost:8080/",
          "height": 282
        },
        "outputId": "9884ffa6-08e2-49ad-c36b-dba4187f84ca"
      },
      "source": [
        "#dummifying data required for spliting the data\n",
        "\n",
        "covid = pd.get_dummies(covid)\n",
        "covid.head(5)"
      ],
      "execution_count": null,
      "outputs": [
        {
          "output_type": "execute_result",
          "data": {
            "text/html": [
              "<div>\n",
              "<style scoped>\n",
              "    .dataframe tbody tr th:only-of-type {\n",
              "        vertical-align: middle;\n",
              "    }\n",
              "\n",
              "    .dataframe tbody tr th {\n",
              "        vertical-align: top;\n",
              "    }\n",
              "\n",
              "    .dataframe thead th {\n",
              "        text-align: right;\n",
              "    }\n",
              "</style>\n",
              "<table border=\"1\" class=\"dataframe\">\n",
              "  <thead>\n",
              "    <tr style=\"text-align: right;\">\n",
              "      <th></th>\n",
              "      <th>Fraction age 0-14 years</th>\n",
              "      <th>Fraction age 15-64 years</th>\n",
              "      <th>Fraction age 65+ years</th>\n",
              "      <th>Country_Afghanistan</th>\n",
              "      <th>Country_Albania</th>\n",
              "      <th>Country_Algeria</th>\n",
              "      <th>Country_Andorra</th>\n",
              "      <th>Country_Angola</th>\n",
              "      <th>Country_Anguilla</th>\n",
              "      <th>Country_Antigua and Barbuda</th>\n",
              "      <th>Country_Argentina</th>\n",
              "      <th>Country_Armenia</th>\n",
              "      <th>Country_Aruba</th>\n",
              "      <th>Country_Australia</th>\n",
              "      <th>Country_Austria</th>\n",
              "      <th>Country_Azerbaijan</th>\n",
              "      <th>Country_Bahamas</th>\n",
              "      <th>Country_Bahrain</th>\n",
              "      <th>Country_Bangladesh</th>\n",
              "      <th>Country_Barbados</th>\n",
              "      <th>Country_Belarus</th>\n",
              "      <th>Country_Belgium</th>\n",
              "      <th>Country_Belize</th>\n",
              "      <th>Country_Benin</th>\n",
              "      <th>Country_Bermuda</th>\n",
              "      <th>Country_Bhutan</th>\n",
              "      <th>Country_Bolivia</th>\n",
              "      <th>Country_Bosnia and Herzegovina</th>\n",
              "      <th>Country_Botswana</th>\n",
              "      <th>Country_Brazil</th>\n",
              "      <th>Country_British Virgin Islands</th>\n",
              "      <th>Country_Brunei</th>\n",
              "      <th>Country_Bulgaria</th>\n",
              "      <th>Country_Burkina Faso</th>\n",
              "      <th>Country_Burundi</th>\n",
              "      <th>Country_CAR</th>\n",
              "      <th>Country_Cabo Verde</th>\n",
              "      <th>Country_Cambodia</th>\n",
              "      <th>Country_Cameroon</th>\n",
              "      <th>Country_Canada</th>\n",
              "      <th>...</th>\n",
              "      <th>Country_Singapore</th>\n",
              "      <th>Country_Sint Maarten</th>\n",
              "      <th>Country_Slovakia</th>\n",
              "      <th>Country_Slovenia</th>\n",
              "      <th>Country_Somalia</th>\n",
              "      <th>Country_South Africa</th>\n",
              "      <th>Country_South Sudan</th>\n",
              "      <th>Country_Spain</th>\n",
              "      <th>Country_Sri Lanka</th>\n",
              "      <th>Country_St. Barth</th>\n",
              "      <th>Country_St. Vincent Grenadines</th>\n",
              "      <th>Country_Sudan</th>\n",
              "      <th>Country_Suriname</th>\n",
              "      <th>Country_Sweden</th>\n",
              "      <th>Country_Switzerland</th>\n",
              "      <th>Country_Syria</th>\n",
              "      <th>Country_Taiwan</th>\n",
              "      <th>Country_Tajikistan</th>\n",
              "      <th>Country_Tanzania</th>\n",
              "      <th>Country_Thailand</th>\n",
              "      <th>Country_Timor-Leste</th>\n",
              "      <th>Country_Togo</th>\n",
              "      <th>Country_Trinidad and Tobago</th>\n",
              "      <th>Country_Tunisia</th>\n",
              "      <th>Country_Turkey</th>\n",
              "      <th>Country_Turks and Caicos</th>\n",
              "      <th>Country_UAE</th>\n",
              "      <th>Country_UK</th>\n",
              "      <th>Country_USA</th>\n",
              "      <th>Country_Uganda</th>\n",
              "      <th>Country_Ukraine</th>\n",
              "      <th>Country_Uruguay</th>\n",
              "      <th>Country_Uzbekistan</th>\n",
              "      <th>Country_Vatican City</th>\n",
              "      <th>Country_Venezuela</th>\n",
              "      <th>Country_Vietnam</th>\n",
              "      <th>Country_Western Sahara</th>\n",
              "      <th>Country_Yemen</th>\n",
              "      <th>Country_Zambia</th>\n",
              "      <th>Country_Zimbabwe</th>\n",
              "    </tr>\n",
              "  </thead>\n",
              "  <tbody>\n",
              "    <tr>\n",
              "      <th>0</th>\n",
              "      <td>35</td>\n",
              "      <td>68</td>\n",
              "      <td>81</td>\n",
              "      <td>0</td>\n",
              "      <td>0</td>\n",
              "      <td>0</td>\n",
              "      <td>0</td>\n",
              "      <td>0</td>\n",
              "      <td>0</td>\n",
              "      <td>0</td>\n",
              "      <td>0</td>\n",
              "      <td>0</td>\n",
              "      <td>0</td>\n",
              "      <td>0</td>\n",
              "      <td>0</td>\n",
              "      <td>0</td>\n",
              "      <td>0</td>\n",
              "      <td>0</td>\n",
              "      <td>0</td>\n",
              "      <td>0</td>\n",
              "      <td>0</td>\n",
              "      <td>0</td>\n",
              "      <td>0</td>\n",
              "      <td>0</td>\n",
              "      <td>0</td>\n",
              "      <td>0</td>\n",
              "      <td>0</td>\n",
              "      <td>0</td>\n",
              "      <td>0</td>\n",
              "      <td>0</td>\n",
              "      <td>0</td>\n",
              "      <td>0</td>\n",
              "      <td>0</td>\n",
              "      <td>0</td>\n",
              "      <td>0</td>\n",
              "      <td>0</td>\n",
              "      <td>0</td>\n",
              "      <td>0</td>\n",
              "      <td>0</td>\n",
              "      <td>0</td>\n",
              "      <td>...</td>\n",
              "      <td>0</td>\n",
              "      <td>0</td>\n",
              "      <td>0</td>\n",
              "      <td>0</td>\n",
              "      <td>0</td>\n",
              "      <td>0</td>\n",
              "      <td>0</td>\n",
              "      <td>0</td>\n",
              "      <td>0</td>\n",
              "      <td>0</td>\n",
              "      <td>0</td>\n",
              "      <td>0</td>\n",
              "      <td>0</td>\n",
              "      <td>0</td>\n",
              "      <td>0</td>\n",
              "      <td>0</td>\n",
              "      <td>0</td>\n",
              "      <td>0</td>\n",
              "      <td>0</td>\n",
              "      <td>0</td>\n",
              "      <td>0</td>\n",
              "      <td>0</td>\n",
              "      <td>0</td>\n",
              "      <td>0</td>\n",
              "      <td>0</td>\n",
              "      <td>0</td>\n",
              "      <td>0</td>\n",
              "      <td>0</td>\n",
              "      <td>1</td>\n",
              "      <td>0</td>\n",
              "      <td>0</td>\n",
              "      <td>0</td>\n",
              "      <td>0</td>\n",
              "      <td>0</td>\n",
              "      <td>0</td>\n",
              "      <td>0</td>\n",
              "      <td>0</td>\n",
              "      <td>0</td>\n",
              "      <td>0</td>\n",
              "      <td>0</td>\n",
              "    </tr>\n",
              "    <tr>\n",
              "      <th>1</th>\n",
              "      <td>29</td>\n",
              "      <td>87</td>\n",
              "      <td>72</td>\n",
              "      <td>0</td>\n",
              "      <td>0</td>\n",
              "      <td>0</td>\n",
              "      <td>0</td>\n",
              "      <td>0</td>\n",
              "      <td>0</td>\n",
              "      <td>0</td>\n",
              "      <td>0</td>\n",
              "      <td>0</td>\n",
              "      <td>0</td>\n",
              "      <td>0</td>\n",
              "      <td>0</td>\n",
              "      <td>0</td>\n",
              "      <td>0</td>\n",
              "      <td>0</td>\n",
              "      <td>0</td>\n",
              "      <td>0</td>\n",
              "      <td>0</td>\n",
              "      <td>0</td>\n",
              "      <td>0</td>\n",
              "      <td>0</td>\n",
              "      <td>0</td>\n",
              "      <td>0</td>\n",
              "      <td>0</td>\n",
              "      <td>0</td>\n",
              "      <td>0</td>\n",
              "      <td>0</td>\n",
              "      <td>0</td>\n",
              "      <td>0</td>\n",
              "      <td>0</td>\n",
              "      <td>0</td>\n",
              "      <td>0</td>\n",
              "      <td>0</td>\n",
              "      <td>0</td>\n",
              "      <td>0</td>\n",
              "      <td>0</td>\n",
              "      <td>0</td>\n",
              "      <td>...</td>\n",
              "      <td>0</td>\n",
              "      <td>0</td>\n",
              "      <td>0</td>\n",
              "      <td>0</td>\n",
              "      <td>0</td>\n",
              "      <td>0</td>\n",
              "      <td>0</td>\n",
              "      <td>0</td>\n",
              "      <td>0</td>\n",
              "      <td>0</td>\n",
              "      <td>0</td>\n",
              "      <td>0</td>\n",
              "      <td>0</td>\n",
              "      <td>0</td>\n",
              "      <td>0</td>\n",
              "      <td>0</td>\n",
              "      <td>0</td>\n",
              "      <td>0</td>\n",
              "      <td>0</td>\n",
              "      <td>0</td>\n",
              "      <td>0</td>\n",
              "      <td>0</td>\n",
              "      <td>0</td>\n",
              "      <td>0</td>\n",
              "      <td>0</td>\n",
              "      <td>0</td>\n",
              "      <td>0</td>\n",
              "      <td>0</td>\n",
              "      <td>0</td>\n",
              "      <td>0</td>\n",
              "      <td>0</td>\n",
              "      <td>0</td>\n",
              "      <td>0</td>\n",
              "      <td>0</td>\n",
              "      <td>0</td>\n",
              "      <td>0</td>\n",
              "      <td>0</td>\n",
              "      <td>0</td>\n",
              "      <td>0</td>\n",
              "      <td>0</td>\n",
              "    </tr>\n",
              "    <tr>\n",
              "      <th>2</th>\n",
              "      <td>11</td>\n",
              "      <td>70</td>\n",
              "      <td>98</td>\n",
              "      <td>0</td>\n",
              "      <td>0</td>\n",
              "      <td>0</td>\n",
              "      <td>0</td>\n",
              "      <td>0</td>\n",
              "      <td>0</td>\n",
              "      <td>0</td>\n",
              "      <td>0</td>\n",
              "      <td>0</td>\n",
              "      <td>0</td>\n",
              "      <td>0</td>\n",
              "      <td>0</td>\n",
              "      <td>0</td>\n",
              "      <td>0</td>\n",
              "      <td>0</td>\n",
              "      <td>0</td>\n",
              "      <td>0</td>\n",
              "      <td>0</td>\n",
              "      <td>0</td>\n",
              "      <td>0</td>\n",
              "      <td>0</td>\n",
              "      <td>0</td>\n",
              "      <td>0</td>\n",
              "      <td>0</td>\n",
              "      <td>0</td>\n",
              "      <td>0</td>\n",
              "      <td>0</td>\n",
              "      <td>0</td>\n",
              "      <td>0</td>\n",
              "      <td>0</td>\n",
              "      <td>0</td>\n",
              "      <td>0</td>\n",
              "      <td>0</td>\n",
              "      <td>0</td>\n",
              "      <td>0</td>\n",
              "      <td>0</td>\n",
              "      <td>0</td>\n",
              "      <td>...</td>\n",
              "      <td>0</td>\n",
              "      <td>0</td>\n",
              "      <td>0</td>\n",
              "      <td>0</td>\n",
              "      <td>0</td>\n",
              "      <td>0</td>\n",
              "      <td>0</td>\n",
              "      <td>1</td>\n",
              "      <td>0</td>\n",
              "      <td>0</td>\n",
              "      <td>0</td>\n",
              "      <td>0</td>\n",
              "      <td>0</td>\n",
              "      <td>0</td>\n",
              "      <td>0</td>\n",
              "      <td>0</td>\n",
              "      <td>0</td>\n",
              "      <td>0</td>\n",
              "      <td>0</td>\n",
              "      <td>0</td>\n",
              "      <td>0</td>\n",
              "      <td>0</td>\n",
              "      <td>0</td>\n",
              "      <td>0</td>\n",
              "      <td>0</td>\n",
              "      <td>0</td>\n",
              "      <td>0</td>\n",
              "      <td>0</td>\n",
              "      <td>0</td>\n",
              "      <td>0</td>\n",
              "      <td>0</td>\n",
              "      <td>0</td>\n",
              "      <td>0</td>\n",
              "      <td>0</td>\n",
              "      <td>0</td>\n",
              "      <td>0</td>\n",
              "      <td>0</td>\n",
              "      <td>0</td>\n",
              "      <td>0</td>\n",
              "      <td>0</td>\n",
              "    </tr>\n",
              "    <tr>\n",
              "      <th>3</th>\n",
              "      <td>49</td>\n",
              "      <td>97</td>\n",
              "      <td>54</td>\n",
              "      <td>0</td>\n",
              "      <td>0</td>\n",
              "      <td>0</td>\n",
              "      <td>0</td>\n",
              "      <td>0</td>\n",
              "      <td>0</td>\n",
              "      <td>0</td>\n",
              "      <td>0</td>\n",
              "      <td>0</td>\n",
              "      <td>0</td>\n",
              "      <td>0</td>\n",
              "      <td>0</td>\n",
              "      <td>0</td>\n",
              "      <td>0</td>\n",
              "      <td>0</td>\n",
              "      <td>0</td>\n",
              "      <td>0</td>\n",
              "      <td>0</td>\n",
              "      <td>0</td>\n",
              "      <td>0</td>\n",
              "      <td>0</td>\n",
              "      <td>0</td>\n",
              "      <td>0</td>\n",
              "      <td>0</td>\n",
              "      <td>0</td>\n",
              "      <td>0</td>\n",
              "      <td>1</td>\n",
              "      <td>0</td>\n",
              "      <td>0</td>\n",
              "      <td>0</td>\n",
              "      <td>0</td>\n",
              "      <td>0</td>\n",
              "      <td>0</td>\n",
              "      <td>0</td>\n",
              "      <td>0</td>\n",
              "      <td>0</td>\n",
              "      <td>0</td>\n",
              "      <td>...</td>\n",
              "      <td>0</td>\n",
              "      <td>0</td>\n",
              "      <td>0</td>\n",
              "      <td>0</td>\n",
              "      <td>0</td>\n",
              "      <td>0</td>\n",
              "      <td>0</td>\n",
              "      <td>0</td>\n",
              "      <td>0</td>\n",
              "      <td>0</td>\n",
              "      <td>0</td>\n",
              "      <td>0</td>\n",
              "      <td>0</td>\n",
              "      <td>0</td>\n",
              "      <td>0</td>\n",
              "      <td>0</td>\n",
              "      <td>0</td>\n",
              "      <td>0</td>\n",
              "      <td>0</td>\n",
              "      <td>0</td>\n",
              "      <td>0</td>\n",
              "      <td>0</td>\n",
              "      <td>0</td>\n",
              "      <td>0</td>\n",
              "      <td>0</td>\n",
              "      <td>0</td>\n",
              "      <td>0</td>\n",
              "      <td>0</td>\n",
              "      <td>0</td>\n",
              "      <td>0</td>\n",
              "      <td>0</td>\n",
              "      <td>0</td>\n",
              "      <td>0</td>\n",
              "      <td>0</td>\n",
              "      <td>0</td>\n",
              "      <td>0</td>\n",
              "      <td>0</td>\n",
              "      <td>0</td>\n",
              "      <td>0</td>\n",
              "      <td>0</td>\n",
              "    </tr>\n",
              "    <tr>\n",
              "      <th>4</th>\n",
              "      <td>30</td>\n",
              "      <td>53</td>\n",
              "      <td>92</td>\n",
              "      <td>0</td>\n",
              "      <td>0</td>\n",
              "      <td>0</td>\n",
              "      <td>0</td>\n",
              "      <td>0</td>\n",
              "      <td>0</td>\n",
              "      <td>0</td>\n",
              "      <td>0</td>\n",
              "      <td>0</td>\n",
              "      <td>0</td>\n",
              "      <td>0</td>\n",
              "      <td>0</td>\n",
              "      <td>0</td>\n",
              "      <td>0</td>\n",
              "      <td>0</td>\n",
              "      <td>0</td>\n",
              "      <td>0</td>\n",
              "      <td>0</td>\n",
              "      <td>0</td>\n",
              "      <td>0</td>\n",
              "      <td>0</td>\n",
              "      <td>0</td>\n",
              "      <td>0</td>\n",
              "      <td>0</td>\n",
              "      <td>0</td>\n",
              "      <td>0</td>\n",
              "      <td>0</td>\n",
              "      <td>0</td>\n",
              "      <td>0</td>\n",
              "      <td>0</td>\n",
              "      <td>0</td>\n",
              "      <td>0</td>\n",
              "      <td>0</td>\n",
              "      <td>0</td>\n",
              "      <td>0</td>\n",
              "      <td>0</td>\n",
              "      <td>0</td>\n",
              "      <td>...</td>\n",
              "      <td>0</td>\n",
              "      <td>0</td>\n",
              "      <td>0</td>\n",
              "      <td>0</td>\n",
              "      <td>0</td>\n",
              "      <td>0</td>\n",
              "      <td>0</td>\n",
              "      <td>0</td>\n",
              "      <td>0</td>\n",
              "      <td>0</td>\n",
              "      <td>0</td>\n",
              "      <td>0</td>\n",
              "      <td>0</td>\n",
              "      <td>0</td>\n",
              "      <td>0</td>\n",
              "      <td>0</td>\n",
              "      <td>0</td>\n",
              "      <td>0</td>\n",
              "      <td>0</td>\n",
              "      <td>0</td>\n",
              "      <td>0</td>\n",
              "      <td>0</td>\n",
              "      <td>0</td>\n",
              "      <td>0</td>\n",
              "      <td>0</td>\n",
              "      <td>0</td>\n",
              "      <td>0</td>\n",
              "      <td>1</td>\n",
              "      <td>0</td>\n",
              "      <td>0</td>\n",
              "      <td>0</td>\n",
              "      <td>0</td>\n",
              "      <td>0</td>\n",
              "      <td>0</td>\n",
              "      <td>0</td>\n",
              "      <td>0</td>\n",
              "      <td>0</td>\n",
              "      <td>0</td>\n",
              "      <td>0</td>\n",
              "      <td>0</td>\n",
              "    </tr>\n",
              "  </tbody>\n",
              "</table>\n",
              "<p>5 rows × 216 columns</p>\n",
              "</div>"
            ],
            "text/plain": [
              "   Fraction age 0-14 years  ...  Country_Zimbabwe\n",
              "0                       35  ...                 0\n",
              "1                       29  ...                 0\n",
              "2                       11  ...                 0\n",
              "3                       49  ...                 0\n",
              "4                       30  ...                 0\n",
              "\n",
              "[5 rows x 216 columns]"
            ]
          },
          "metadata": {
            "tags": []
          },
          "execution_count": 65
        }
      ]
    },
    {
      "cell_type": "code",
      "metadata": {
        "id": "0EIH-_lj9nNF",
        "colab_type": "code",
        "colab": {}
      },
      "source": [
        "#spliting the data\n",
        "\n",
        "from sklearn.model_selection import train_test_split\n",
        "\n",
        "y = covid['Fraction age 0-14 years']\n",
        "X = covid\n",
        "\n",
        "X_train, X_test, y_train, y_test = train_test_split(X, y, test_size=.25, random_state=0)"
      ],
      "execution_count": null,
      "outputs": []
    },
    {
      "cell_type": "code",
      "metadata": {
        "id": "nPY9o1rs9yat",
        "colab_type": "code",
        "colab": {}
      },
      "source": [
        "# Function to calculate mean absolute error\n",
        "\n",
        "def cross_val(X_train, y_train, model):\n",
        "    # Applying k-Fold Cross Validation\n",
        "    from sklearn.model_selection import cross_val_score\n",
        "    accuracies = cross_val_score(estimator = model, X = X_train, y = y_train, cv = 5)\n",
        "    return accuracies.mean()\n",
        "\n",
        "# Takes in a model, trains the model, and evaluates the model on the test set\n",
        "def fit_and_evaluate(model):\n",
        "    \n",
        "    # Train the model\n",
        "    model.fit(X_train, y_train)\n",
        "    \n",
        "    # Make predictions and evalute\n",
        "    model_prediction = model.predict(X_test)\n",
        "    model_crossV = cross_val(X_train, y_train, model)\n",
        "    \n",
        "    # Return the performance metric\n",
        "    return model_crossV"
      ],
      "execution_count": null,
      "outputs": []
    },
    {
      "cell_type": "code",
      "metadata": {
        "id": "34OONp5m91wE",
        "colab_type": "code",
        "colab": {}
      },
      "source": [
        "from sklearn.tree import DecisionTreeClassifier\n",
        "from sklearn.naive_bayes import GaussianNB\n",
        "from sklearn.neighbors import KNeighborsClassifier\n",
        "from sklearn.ensemble import RandomForestClassifier\n",
        "from sklearn.ensemble import BaggingClassifier\n",
        "from sklearn.ensemble import AdaBoostClassifier,GradientBoostingClassifier\n",
        "from xgboost import XGBClassifier,XGBRFClassifier\n",
        "from sklearn import model_selection"
      ],
      "execution_count": null,
      "outputs": []
    },
    {
      "cell_type": "code",
      "metadata": {
        "id": "BPEHzBQH-KNb",
        "colab_type": "code",
        "colab": {}
      },
      "source": [
        "dtree=DecisionTreeClassifier(criterion=\"entropy\")\n",
        "dtreeg=DecisionTreeClassifier(criterion='gini')\n",
        "knn=KNeighborsClassifier()\n",
        "gb=GaussianNB()\n",
        "rfc=RandomForestClassifier(criterion='entropy')\n",
        "rfcg=RandomForestClassifier(criterion='gini')\n",
        "bgc=BaggingClassifier()\n",
        "adb=AdaBoostClassifier()\n",
        "gbc=GradientBoostingClassifier()\n",
        "xgb=XGBClassifier()\n",
        "xgbrf=XGBRFClassifier()"
      ],
      "execution_count": null,
      "outputs": []
    },
    {
      "cell_type": "code",
      "metadata": {
        "id": "_sghXs7q-M3F",
        "colab_type": "code",
        "colab": {}
      },
      "source": [
        "models = []\n",
        "models.append(('Decision Tree',dtree))\n",
        "models.append(('Decision Tree with Gini Coefficient',dtreeg))\n",
        "models.append(('K Nearest Neighbors',knn))\n",
        "models.append(('Naive Bayes',gb))\n",
        "models.append(('Random Forrest',rfc))\n",
        "models.append(('Random Forrest with Gini Coefficient',rfcg))\n",
        "models.append(('Bagging Classifier',bgc))\n",
        "models.append(('Ada Boost Classifier',adb))\n",
        "models.append(('Gradient Boosting Classifier',gbc))\n",
        "models.append(('XGB Classifier',xgb))\n",
        "models.append(('XGBRF Classifier',xgbrf))"
      ],
      "execution_count": null,
      "outputs": []
    },
    {
      "cell_type": "code",
      "metadata": {
        "id": "NVzXAUw_-PkV",
        "colab_type": "code",
        "colab": {
          "base_uri": "https://localhost:8080/",
          "height": 667
        },
        "outputId": "51228f70-3533-4b91-90ba-2e14ccbc3228"
      },
      "source": [
        "# evaluate each model in turn\n",
        "results = []\n",
        "names = []\n",
        "scoring = 'accuracy'\n",
        "for name, model in models:\n",
        "\tkfold = model_selection.KFold(n_splits=10,random_state=123)\n",
        "\tcv_results = model_selection.cross_val_score(model, X, y, cv=kfold, scoring=scoring)\n",
        "\tresults.append(cv_results)\n",
        "\tnames.append(name)\n",
        "\tmsg = \"%s: %f (%f)\" % (name, np.mean(cv_results), cv_results.var())\n",
        "\tprint(msg)\n",
        "# boxplot algorithm comparison\n",
        "fig = plt.figure()\n",
        "fig.suptitle('Algorithm Comparison')\n",
        "ax = fig.add_subplot(111)\n",
        "plt.boxplot(results)\n",
        "plt.xticks(rotation=90)\n",
        "ax.set_xticklabels(names)\n",
        "plt.show()"
      ],
      "execution_count": null,
      "outputs": [
        {
          "output_type": "stream",
          "text": [
            "Decision Tree: 0.282900 (0.024034)\n",
            "Decision Tree with Gini Coefficient: 0.269048 (0.029720)\n",
            "K Nearest Neighbors: 0.203896 (0.036537)\n",
            "Naive Bayes: 0.240909 (0.030948)\n",
            "Random Forrest: 0.232251 (0.036354)\n",
            "Random Forrest with Gini Coefficient: 0.227056 (0.032830)\n",
            "Bagging Classifier: 0.245455 (0.029276)\n",
            "Ada Boost Classifier: 0.117965 (0.018742)\n",
            "Gradient Boosting Classifier: 0.180736 (0.043505)\n",
            "XGB Classifier: 0.227056 (0.034190)\n",
            "XGBRF Classifier: 0.194589 (0.039812)\n"
          ],
          "name": "stdout"
        },
        {
          "output_type": "display_data",
          "data": {
            "image/png": "[encoded data removed]",
            "text/plain": [
              "<Figure size 432x288 with 1 Axes>"
            ]
          },
          "metadata": {
            "tags": [],
            "needs_background": "light"
          }
        }
      ]
    },
    {
      "cell_type": "code",
      "metadata": {
        "id": "E9Rw3pSA-Szk",
        "colab_type": "code",
        "colab": {
          "base_uri": "https://localhost:8080/",
          "height": 35
        },
        "outputId": "1866eec1-9de2-467f-e537-9943dde73894"
      },
      "source": [
        "#Saving the model as a pickle in a file\n",
        "\n",
        "from sklearn.externals import joblib\n",
        "\n",
        "joblib.dump(rfc,'Country-wideCovid-19.pkl')"
      ],
      "execution_count": null,
      "outputs": [
        {
          "output_type": "execute_result",
          "data": {
            "text/plain": [
              "['Country-wideCovid-19.pkl']"
            ]
          },
          "metadata": {
            "tags": []
          },
          "execution_count": 73
        }
      ]
    },
    {
      "cell_type": "code",
      "metadata": {
        "id": "oztvFZBhIRCY",
        "colab_type": "code",
        "colab": {}
      },
      "source": [
        ""
      ],
      "execution_count": null,
      "outputs": []
    }
  ]
}