{
  "nbformat": 4,
  "nbformat_minor": 0,
  "metadata": {
    "colab": {
      "name": "Project10_Agriculture.ipynb",
      "provenance": [],
      "collapsed_sections": []
    },
    "kernelspec": {
      "name": "python3",
      "display_name": "Python 3"
    },
    "accelerator": "GPU"
  },
  "cells": [
    {
      "cell_type": "code",
      "metadata": {
        "id": "n2aq4lO0Ig1i",
        "colab_type": "code",
        "colab": {
          "base_uri": "https://localhost:8080/",
          "height": 35
        },
        "outputId": "c73f8a59-b271-4b7e-efab-8200543ee479"
      },
      "source": [
        "# Mounting the Google Colab Drive\n",
        "from google.colab import drive\n",
        "drive.mount('/content/drive')"
      ],
      "execution_count": null,
      "outputs": [
        {
          "output_type": "stream",
          "text": [
            "Drive already mounted at /content/drive; to attempt to forcibly remount, call drive.mount(\"/content/drive\", force_remount=True).\n"
          ],
          "name": "stdout"
        }
      ]
    },
    {
      "cell_type": "code",
      "metadata": {
        "id": "0FSGuWK6KY1h",
        "colab_type": "code",
        "colab": {}
      },
      "source": [
        "import pandas as pd\n",
        "import numpy as np\n",
        "import seaborn as sns\n",
        "import matplotlib.pyplot as plt\n",
        "import warnings\n",
        "warnings.filterwarnings('ignore')\n",
        "from sklearn.preprocessing import StandardScaler\n",
        "from sklearn.cluster import KMeans"
      ],
      "execution_count": null,
      "outputs": []
    },
    {
      "cell_type": "markdown",
      "metadata": {
        "id": "XlcEacacL_bV",
        "colab_type": "text"
      },
      "source": [
        "Importing the Loan Prediction Dataset:"
      ]
    },
    {
      "cell_type": "code",
      "metadata": {
        "id": "RYjnXoC8L6Iv",
        "colab_type": "code",
        "colab": {}
      },
      "source": [
        "atrain=pd.read_csv('/content/drive/My Drive/DS Datasets/DT Project Datasets/train_agriculture.csv')\n",
        "atest=pd.read_csv('/content/drive/My Drive/DS Datasets/DT Project Datasets/test_agriculture.csv')"
      ],
      "execution_count": null,
      "outputs": []
    },
    {
      "cell_type": "markdown",
      "metadata": {
        "id": "kU0jIJXsQFA0",
        "colab_type": "text"
      },
      "source": [
        "Identification of data types:"
      ]
    },
    {
      "cell_type": "code",
      "metadata": {
        "id": "GNIuJqz4O8Wp",
        "colab_type": "code",
        "colab": {
          "base_uri": "https://localhost:8080/",
          "height": 217
        },
        "outputId": "0596d64f-8e04-44ac-8e98-df9c68b685ae"
      },
      "source": [
        "atrain.dtypes"
      ],
      "execution_count": null,
      "outputs": [
        {
          "output_type": "execute_result",
          "data": {
            "text/plain": [
              "ID                          object\n",
              "Estimated_Insects_Count      int64\n",
              "Crop_Type                    int64\n",
              "Soil_Type                    int64\n",
              "Pesticide_Use_Category       int64\n",
              "Number_Doses_Week            int64\n",
              "Number_Weeks_Used          float64\n",
              "Number_Weeks_Quit            int64\n",
              "Season                       int64\n",
              "Crop_Damage                  int64\n",
              "dtype: object"
            ]
          },
          "metadata": {
            "tags": []
          },
          "execution_count": 42
        }
      ]
    },
    {
      "cell_type": "code",
      "metadata": {
        "id": "Fk4M8xtzQHWC",
        "colab_type": "code",
        "colab": {
          "base_uri": "https://localhost:8080/",
          "height": 199
        },
        "outputId": "d795904f-08bc-4cb2-c7dd-186556e86b29"
      },
      "source": [
        "atest.dtypes"
      ],
      "execution_count": null,
      "outputs": [
        {
          "output_type": "execute_result",
          "data": {
            "text/plain": [
              "ID                          object\n",
              "Estimated_Insects_Count      int64\n",
              "Crop_Type                    int64\n",
              "Soil_Type                    int64\n",
              "Pesticide_Use_Category       int64\n",
              "Number_Doses_Week            int64\n",
              "Number_Weeks_Used          float64\n",
              "Number_Weeks_Quit            int64\n",
              "Season                       int64\n",
              "dtype: object"
            ]
          },
          "metadata": {
            "tags": []
          },
          "execution_count": 43
        }
      ]
    },
    {
      "cell_type": "markdown",
      "metadata": {
        "id": "CSyGtDD5QcFT",
        "colab_type": "text"
      },
      "source": [
        "Size of the dataset:"
      ]
    },
    {
      "cell_type": "code",
      "metadata": {
        "id": "2e-B2XvVQMNR",
        "colab_type": "code",
        "colab": {
          "base_uri": "https://localhost:8080/",
          "height": 54
        },
        "outputId": "557d64cf-db57-4e66-8cb7-075a6f75f187"
      },
      "source": [
        "print('Size of Test Dataset:', atest.shape)\n",
        "print('Size of Train Dataset:', atrain.shape)"
      ],
      "execution_count": null,
      "outputs": [
        {
          "output_type": "stream",
          "text": [
            "Size of Test Dataset: (1199, 9)\n",
            "Size of Train Dataset: (88858, 10)\n"
          ],
          "name": "stdout"
        }
      ]
    },
    {
      "cell_type": "markdown",
      "metadata": {
        "id": "CcZPozPHQ1Pj",
        "colab_type": "text"
      },
      "source": [
        "Statistical Summary of Numeric Variables:"
      ]
    },
    {
      "cell_type": "code",
      "metadata": {
        "id": "VvFHrhR9QgHx",
        "colab_type": "code",
        "colab": {
          "base_uri": "https://localhost:8080/",
          "height": 272
        },
        "outputId": "678005ef-9d8b-4b05-80c3-c1f96e870963"
      },
      "source": [
        "atest.describe"
      ],
      "execution_count": null,
      "outputs": [
        {
          "output_type": "execute_result",
          "data": {
            "text/plain": [
              "<bound method NDFrame.describe of              ID  Estimated_Insects_Count  ...  Number_Weeks_Quit  Season\n",
              "0     F00000002                      188  ...                  0       2\n",
              "1     F00000007                      410  ...                  0       2\n",
              "2     F00000011                      626  ...                  0       2\n",
              "3     F00000013                      731  ...                  0       2\n",
              "4     F00000014                      789  ...                  0       1\n",
              "...         ...                      ...  ...                ...     ...\n",
              "1194  F00003133                     1132  ...                  7       3\n",
              "1195  F00003135                     1132  ...                  3       1\n",
              "1196  F00003138                     1132  ...                 23       1\n",
              "1197  F00003149                     1212  ...                  5       1\n",
              "1198  F00003150                     1212  ...                 20       3\n",
              "\n",
              "[1199 rows x 9 columns]>"
            ]
          },
          "metadata": {
            "tags": []
          },
          "execution_count": 45
        }
      ]
    },
    {
      "cell_type": "code",
      "metadata": {
        "id": "8FnMIPy1Q9dw",
        "colab_type": "code",
        "colab": {
          "base_uri": "https://localhost:8080/",
          "height": 272
        },
        "outputId": "f6015af4-7a5d-4049-ee29-db51154a4ede"
      },
      "source": [
        "atrain.describe"
      ],
      "execution_count": null,
      "outputs": [
        {
          "output_type": "execute_result",
          "data": {
            "text/plain": [
              "<bound method NDFrame.describe of               ID  Estimated_Insects_Count  ...  Season  Crop_Damage\n",
              "0      F00000001                      188  ...       1            0\n",
              "1      F00000003                      209  ...       2            1\n",
              "2      F00000004                      257  ...       2            1\n",
              "3      F00000005                      257  ...       2            1\n",
              "4      F00000006                      342  ...       2            1\n",
              "...          ...                      ...  ...     ...          ...\n",
              "88853  F00155935                     3337  ...       3            0\n",
              "88854  F00155938                     3516  ...       1            0\n",
              "88855  F00155939                     3516  ...       2            0\n",
              "88856  F00155942                     3702  ...       3            0\n",
              "88857  F00155945                     3895  ...       3            0\n",
              "\n",
              "[88858 rows x 10 columns]>"
            ]
          },
          "metadata": {
            "tags": []
          },
          "execution_count": 46
        }
      ]
    },
    {
      "cell_type": "markdown",
      "metadata": {
        "id": "wdaPjbTFRHdy",
        "colab_type": "text"
      },
      "source": [
        "Non-Graphical Univariate Analysis:"
      ]
    },
    {
      "cell_type": "code",
      "metadata": {
        "id": "oj99U-8PRAUX",
        "colab_type": "code",
        "colab": {
          "base_uri": "https://localhost:8080/",
          "height": 654
        },
        "outputId": "4f8987f1-cab8-441a-e72a-64c464ed3ad8"
      },
      "source": [
        "print('Info Test Dataset', atest.info())\n",
        "print('Info Train Dataset', atrain.info())"
      ],
      "execution_count": null,
      "outputs": [
        {
          "output_type": "stream",
          "text": [
            "<class 'pandas.core.frame.DataFrame'>\n",
            "RangeIndex: 1199 entries, 0 to 1198\n",
            "Data columns (total 9 columns):\n",
            " #   Column                   Non-Null Count  Dtype  \n",
            "---  ------                   --------------  -----  \n",
            " 0   ID                       1199 non-null   object \n",
            " 1   Estimated_Insects_Count  1199 non-null   int64  \n",
            " 2   Crop_Type                1199 non-null   int64  \n",
            " 3   Soil_Type                1199 non-null   int64  \n",
            " 4   Pesticide_Use_Category   1199 non-null   int64  \n",
            " 5   Number_Doses_Week        1199 non-null   int64  \n",
            " 6   Number_Weeks_Used        1080 non-null   float64\n",
            " 7   Number_Weeks_Quit        1199 non-null   int64  \n",
            " 8   Season                   1199 non-null   int64  \n",
            "dtypes: float64(1), int64(7), object(1)\n",
            "memory usage: 84.4+ KB\n",
            "Info Test Dataset None\n",
            "<class 'pandas.core.frame.DataFrame'>\n",
            "RangeIndex: 88858 entries, 0 to 88857\n",
            "Data columns (total 10 columns):\n",
            " #   Column                   Non-Null Count  Dtype  \n",
            "---  ------                   --------------  -----  \n",
            " 0   ID                       88858 non-null  object \n",
            " 1   Estimated_Insects_Count  88858 non-null  int64  \n",
            " 2   Crop_Type                88858 non-null  int64  \n",
            " 3   Soil_Type                88858 non-null  int64  \n",
            " 4   Pesticide_Use_Category   88858 non-null  int64  \n",
            " 5   Number_Doses_Week        88858 non-null  int64  \n",
            " 6   Number_Weeks_Used        79858 non-null  float64\n",
            " 7   Number_Weeks_Quit        88858 non-null  int64  \n",
            " 8   Season                   88858 non-null  int64  \n",
            " 9   Crop_Damage              88858 non-null  int64  \n",
            "dtypes: float64(1), int64(8), object(1)\n",
            "memory usage: 6.8+ MB\n",
            "Info Train Dataset None\n"
          ],
          "name": "stdout"
        }
      ]
    },
    {
      "cell_type": "code",
      "metadata": {
        "id": "HAQg7vfARhw3",
        "colab_type": "code",
        "colab": {
          "base_uri": "https://localhost:8080/",
          "height": 199
        },
        "outputId": "521f9523-eeb0-4324-a23c-745d4ddb9e2e"
      },
      "source": [
        "#Finding null values in Test Dataset\n",
        "\n",
        "print(atest.isnull().sum(axis = 0))"
      ],
      "execution_count": null,
      "outputs": [
        {
          "output_type": "stream",
          "text": [
            "ID                           0\n",
            "Estimated_Insects_Count      0\n",
            "Crop_Type                    0\n",
            "Soil_Type                    0\n",
            "Pesticide_Use_Category       0\n",
            "Number_Doses_Week            0\n",
            "Number_Weeks_Used          119\n",
            "Number_Weeks_Quit            0\n",
            "Season                       0\n",
            "dtype: int64\n"
          ],
          "name": "stdout"
        }
      ]
    },
    {
      "cell_type": "code",
      "metadata": {
        "id": "GddIdKStRxAm",
        "colab_type": "code",
        "colab": {
          "base_uri": "https://localhost:8080/",
          "height": 217
        },
        "outputId": "1b7eeb06-52c0-49b5-f78d-affc1de5e83c"
      },
      "source": [
        "#Finding null values in Train Dataset\n",
        "\n",
        "print(atrain.isnull().sum(axis = 0))"
      ],
      "execution_count": null,
      "outputs": [
        {
          "output_type": "stream",
          "text": [
            "ID                            0\n",
            "Estimated_Insects_Count       0\n",
            "Crop_Type                     0\n",
            "Soil_Type                     0\n",
            "Pesticide_Use_Category        0\n",
            "Number_Doses_Week             0\n",
            "Number_Weeks_Used          9000\n",
            "Number_Weeks_Quit             0\n",
            "Season                        0\n",
            "Crop_Damage                   0\n",
            "dtype: int64\n"
          ],
          "name": "stdout"
        }
      ]
    },
    {
      "cell_type": "code",
      "metadata": {
        "id": "t3eYLuCVR1r2",
        "colab_type": "code",
        "colab": {}
      },
      "source": [
        "#Remove Null Values\n",
        "\n",
        "atest.Number_Weeks_Used.fillna(value=14.454200,inplace=True)\n",
        "atrain.Number_Weeks_Used.fillna(value=14.454200,inplace=True)"
      ],
      "execution_count": null,
      "outputs": []
    },
    {
      "cell_type": "code",
      "metadata": {
        "id": "eQcBt_t-SC8z",
        "colab_type": "code",
        "colab": {
          "base_uri": "https://localhost:8080/",
          "height": 199
        },
        "outputId": "8a860c4d-8f12-4c69-aad7-fd9d68f8b429"
      },
      "source": [
        "#Check again if null values are handled\n",
        "print(atest.isnull().sum(axis = 0))"
      ],
      "execution_count": null,
      "outputs": [
        {
          "output_type": "stream",
          "text": [
            "ID                         0\n",
            "Estimated_Insects_Count    0\n",
            "Crop_Type                  0\n",
            "Soil_Type                  0\n",
            "Pesticide_Use_Category     0\n",
            "Number_Doses_Week          0\n",
            "Number_Weeks_Used          0\n",
            "Number_Weeks_Quit          0\n",
            "Season                     0\n",
            "dtype: int64\n"
          ],
          "name": "stdout"
        }
      ]
    },
    {
      "cell_type": "code",
      "metadata": {
        "id": "VEOTb2msSH1e",
        "colab_type": "code",
        "colab": {
          "base_uri": "https://localhost:8080/",
          "height": 217
        },
        "outputId": "4ea92577-bc5f-4050-af08-a9263972e6f9"
      },
      "source": [
        "print(atrain.isnull().sum(axis = 0))"
      ],
      "execution_count": null,
      "outputs": [
        {
          "output_type": "stream",
          "text": [
            "ID                         0\n",
            "Estimated_Insects_Count    0\n",
            "Crop_Type                  0\n",
            "Soil_Type                  0\n",
            "Pesticide_Use_Category     0\n",
            "Number_Doses_Week          0\n",
            "Number_Weeks_Used          0\n",
            "Number_Weeks_Quit          0\n",
            "Season                     0\n",
            "Crop_Damage                0\n",
            "dtype: int64\n"
          ],
          "name": "stdout"
        }
      ]
    },
    {
      "cell_type": "code",
      "metadata": {
        "id": "oNIOG4BjSKa1",
        "colab_type": "code",
        "colab": {
          "base_uri": "https://localhost:8080/",
          "height": 385
        },
        "outputId": "c9324a99-aaec-43dc-eb77-47df8326cc4e"
      },
      "source": [
        "#checking the distribution of values using Heatmap for test dataset\n",
        "\n",
        "sns.heatmap(atest.isnull(), annot= True)\n",
        "plt.show()"
      ],
      "execution_count": null,
      "outputs": [
        {
          "output_type": "display_data",
          "data": {
            "image/png": "[encoded data removed]",
            "text/plain": [
              "<Figure size 432x288 with 2 Axes>"
            ]
          },
          "metadata": {
            "tags": [],
            "needs_background": "light"
          }
        }
      ]
    },
    {
      "cell_type": "code",
      "metadata": {
        "id": "MGN987NDSYe1",
        "colab_type": "code",
        "colab": {
          "base_uri": "https://localhost:8080/",
          "height": 385
        },
        "outputId": "da997910-7a39-421c-d5d7-3e5dfdd05d74"
      },
      "source": [
        "#checking the distribution of values using Heatmap for train dataset\n",
        "\n",
        "sns.heatmap(atrain.isnull(), annot= True)\n",
        "plt.show()"
      ],
      "execution_count": null,
      "outputs": [
        {
          "output_type": "display_data",
          "data": {
            "image/png": "[encoded data removed]",
            "text/plain": [
              "<Figure size 432x288 with 2 Axes>"
            ]
          },
          "metadata": {
            "tags": [],
            "needs_background": "light"
          }
        }
      ]
    },
    {
      "cell_type": "markdown",
      "metadata": {
        "id": "Bl6xNViwStuX",
        "colab_type": "text"
      },
      "source": [
        "Graphical Univariate Analysis:"
      ]
    },
    {
      "cell_type": "code",
      "metadata": {
        "id": "MlbbhoFpSd7t",
        "colab_type": "code",
        "colab": {
          "base_uri": "https://localhost:8080/",
          "height": 283
        },
        "outputId": "b69fa09c-3e0b-42ef-9c14-1d9caab18648"
      },
      "source": [
        "#Histogram\n",
        "\n",
        "atrain['Crop_Damage'].hist(bins=10)"
      ],
      "execution_count": null,
      "outputs": [
        {
          "output_type": "execute_result",
          "data": {
            "text/plain": [
              "<matplotlib.axes._subplots.AxesSubplot at 0x7f33b78f4e48>"
            ]
          },
          "metadata": {
            "tags": []
          },
          "execution_count": 53
        },
        {
          "output_type": "display_data",
          "data": {
            "image/png": "[encoded data removed]",
            "text/plain": [
              "<Figure size 432x288 with 1 Axes>"
            ]
          },
          "metadata": {
            "tags": [],
            "needs_background": "light"
          }
        }
      ]
    },
    {
      "cell_type": "code",
      "metadata": {
        "id": "JpwCQcQsTBcU",
        "colab_type": "code",
        "colab": {
          "base_uri": "https://localhost:8080/",
          "height": 298
        },
        "outputId": "a99c6445-4acf-44eb-ecb2-6c719b044168"
      },
      "source": [
        "#Boxplot\n",
        "\n",
        "#Plot between the age and survied column\n",
        "\n",
        "sns.boxplot(x=atrain['Crop_Type'],y=atrain['Crop_Damage'])"
      ],
      "execution_count": null,
      "outputs": [
        {
          "output_type": "execute_result",
          "data": {
            "text/plain": [
              "<matplotlib.axes._subplots.AxesSubplot at 0x7f33b7229320>"
            ]
          },
          "metadata": {
            "tags": []
          },
          "execution_count": 54
        },
        {
          "output_type": "display_data",
          "data": {
            "image/png": "[encoded data removed]",
            "text/plain": [
              "<Figure size 432x288 with 1 Axes>"
            ]
          },
          "metadata": {
            "tags": [],
            "needs_background": "light"
          }
        }
      ]
    },
    {
      "cell_type": "code",
      "metadata": {
        "id": "p2QMRVCOU64w",
        "colab_type": "code",
        "colab": {
          "base_uri": "https://localhost:8080/",
          "height": 298
        },
        "outputId": "4a056917-7300-4c03-b0b0-9f51779199ca"
      },
      "source": [
        "#DistPlot\n",
        "\n",
        "sns.distplot(atrain[pd.notnull(atrain.Number_Weeks_Used)]['Number_Weeks_Used'],color='blue')"
      ],
      "execution_count": null,
      "outputs": [
        {
          "output_type": "execute_result",
          "data": {
            "text/plain": [
              "<matplotlib.axes._subplots.AxesSubplot at 0x7f33b721b9e8>"
            ]
          },
          "metadata": {
            "tags": []
          },
          "execution_count": 55
        },
        {
          "output_type": "display_data",
          "data": {
            "image/png": "[encoded data removed]",
            "text/plain": [
              "<Figure size 432x288 with 1 Axes>"
            ]
          },
          "metadata": {
            "tags": [],
            "needs_background": "light"
          }
        }
      ]
    },
    {
      "cell_type": "code",
      "metadata": {
        "id": "28nKh-ftVF0I",
        "colab_type": "code",
        "colab": {
          "base_uri": "https://localhost:8080/",
          "height": 298
        },
        "outputId": "88a66e70-52b6-4a55-8998-3d1924051cf0"
      },
      "source": [
        "#BarPlot\n",
        "\n",
        "sns.barplot(x=atrain['Pesticide_Use_Category'],y=atrain['Soil_Type'])"
      ],
      "execution_count": null,
      "outputs": [
        {
          "output_type": "execute_result",
          "data": {
            "text/plain": [
              "<matplotlib.axes._subplots.AxesSubplot at 0x7f33b70e1b70>"
            ]
          },
          "metadata": {
            "tags": []
          },
          "execution_count": 56
        },
        {
          "output_type": "display_data",
          "data": {
            "image/png": "[encoded data removed]",
            "text/plain": [
              "<Figure size 432x288 with 1 Axes>"
            ]
          },
          "metadata": {
            "tags": [],
            "needs_background": "light"
          }
        }
      ]
    },
    {
      "cell_type": "code",
      "metadata": {
        "id": "SAt-4p9aVe5P",
        "colab_type": "code",
        "colab": {
          "base_uri": "https://localhost:8080/",
          "height": 363
        },
        "outputId": "0fbbe664-b87d-4a67-b3f1-30957aab22f0"
      },
      "source": [
        "#Checking the skewness\n",
        "print('Skewness Train:', atrain.skew())\n",
        "print('Skewness Test:', atest.skew())"
      ],
      "execution_count": null,
      "outputs": [
        {
          "output_type": "stream",
          "text": [
            "Skewness Train: Estimated_Insects_Count    0.839146\n",
            "Crop_Type                  0.955978\n",
            "Soil_Type                  0.166914\n",
            "Pesticide_Use_Category     0.779488\n",
            "Number_Doses_Week          0.962879\n",
            "Number_Weeks_Used          0.412530\n",
            "Number_Weeks_Quit          0.892773\n",
            "Season                     0.145228\n",
            "Crop_Damage                2.367816\n",
            "dtype: float64\n",
            "Skewness Test: Estimated_Insects_Count    1.098665\n",
            "Crop_Type                  1.546968\n",
            "Soil_Type                  0.179422\n",
            "Pesticide_Use_Category     0.089675\n",
            "Number_Doses_Week          0.872028\n",
            "Number_Weeks_Used          0.378409\n",
            "Number_Weeks_Quit          1.191013\n",
            "Season                     0.155872\n",
            "dtype: float64\n"
          ],
          "name": "stdout"
        }
      ]
    },
    {
      "cell_type": "code",
      "metadata": {
        "id": "9cKMpuiUVtPg",
        "colab_type": "code",
        "colab": {
          "base_uri": "https://localhost:8080/",
          "height": 108
        },
        "outputId": "da950144-679b-4595-f51c-77a356c27791"
      },
      "source": [
        "#checking for correaltion between variables\n",
        "\n",
        "atrain[['Crop_Type','Soil_Type']].corr()"
      ],
      "execution_count": null,
      "outputs": [
        {
          "output_type": "execute_result",
          "data": {
            "text/html": [
              "<div>\n",
              "<style scoped>\n",
              "    .dataframe tbody tr th:only-of-type {\n",
              "        vertical-align: middle;\n",
              "    }\n",
              "\n",
              "    .dataframe tbody tr th {\n",
              "        vertical-align: top;\n",
              "    }\n",
              "\n",
              "    .dataframe thead th {\n",
              "        text-align: right;\n",
              "    }\n",
              "</style>\n",
              "<table border=\"1\" class=\"dataframe\">\n",
              "  <thead>\n",
              "    <tr style=\"text-align: right;\">\n",
              "      <th></th>\n",
              "      <th>Crop_Type</th>\n",
              "      <th>Soil_Type</th>\n",
              "    </tr>\n",
              "  </thead>\n",
              "  <tbody>\n",
              "    <tr>\n",
              "      <th>Crop_Type</th>\n",
              "      <td>1.000000</td>\n",
              "      <td>-0.287372</td>\n",
              "    </tr>\n",
              "    <tr>\n",
              "      <th>Soil_Type</th>\n",
              "      <td>-0.287372</td>\n",
              "      <td>1.000000</td>\n",
              "    </tr>\n",
              "  </tbody>\n",
              "</table>\n",
              "</div>"
            ],
            "text/plain": [
              "           Crop_Type  Soil_Type\n",
              "Crop_Type   1.000000  -0.287372\n",
              "Soil_Type  -0.287372   1.000000"
            ]
          },
          "metadata": {
            "tags": []
          },
          "execution_count": 58
        }
      ]
    },
    {
      "cell_type": "code",
      "metadata": {
        "id": "xp1YhMvQ1PMo",
        "colab_type": "code",
        "colab": {
          "base_uri": "https://localhost:8080/",
          "height": 288
        },
        "outputId": "f4d54e96-bfa0-4d63-d533-bb10daa36437"
      },
      "source": [
        "#Checking correlation using Heatmap\n",
        "\n",
        "sns.heatmap(atrain[['Crop_Type','Soil_Type']].corr())"
      ],
      "execution_count": null,
      "outputs": [
        {
          "output_type": "execute_result",
          "data": {
            "text/plain": [
              "<matplotlib.axes._subplots.AxesSubplot at 0x7f33b70bc390>"
            ]
          },
          "metadata": {
            "tags": []
          },
          "execution_count": 59
        },
        {
          "output_type": "display_data",
          "data": {
            "image/png": "[encoded data removed]",
            "text/plain": [
              "<Figure size 432x288 with 2 Axes>"
            ]
          },
          "metadata": {
            "tags": [],
            "needs_background": "light"
          }
        }
      ]
    },
    {
      "cell_type": "code",
      "metadata": {
        "id": "4GRtdwL-1Utm",
        "colab_type": "code",
        "colab": {
          "base_uri": "https://localhost:8080/",
          "height": 729
        },
        "outputId": "85f90799-a7ee-4cd5-ae85-15ace05a7ef7"
      },
      "source": [
        "corr = atrain.corr()\n",
        "plt.subplots(figsize=(15,10))\n",
        "sns.heatmap(corr, xticklabels=corr.columns, yticklabels=corr.columns, annot=True, cmap=sns.diverging_palette(220, 20, as_cmap=True))"
      ],
      "execution_count": null,
      "outputs": [
        {
          "output_type": "execute_result",
          "data": {
            "text/plain": [
              "<matplotlib.axes._subplots.AxesSubplot at 0x7f33b709d828>"
            ]
          },
          "metadata": {
            "tags": []
          },
          "execution_count": 60
        },
        {
          "output_type": "display_data",
          "data": {
            "image/png": "[encoded data removed]",
            "text/plain": [
              "<Figure size 1080x720 with 2 Axes>"
            ]
          },
          "metadata": {
            "tags": [],
            "needs_background": "light"
          }
        }
      ]
    },
    {
      "cell_type": "code",
      "metadata": {
        "id": "qZkPx92H1Y_9",
        "colab_type": "code",
        "colab": {
          "base_uri": "https://localhost:8080/",
          "height": 218
        },
        "outputId": "893b9b16-0d45-489c-9c31-57960e3ab105"
      },
      "source": [
        "#using label encoding and one-hot encoding\n",
        "\n",
        "from sklearn.preprocessing import LabelEncoder\n",
        "\n",
        "le = LabelEncoder()\n",
        "atrain['Season'] = le.fit_transform(atrain['Season'])\n",
        "atrain['Crop_Damage '] = le.fit_transform(atrain['Crop_Damage'])\n",
        "atrain.head(5)"
      ],
      "execution_count": null,
      "outputs": [
        {
          "output_type": "execute_result",
          "data": {
            "text/html": [
              "<div>\n",
              "<style scoped>\n",
              "    .dataframe tbody tr th:only-of-type {\n",
              "        vertical-align: middle;\n",
              "    }\n",
              "\n",
              "    .dataframe tbody tr th {\n",
              "        vertical-align: top;\n",
              "    }\n",
              "\n",
              "    .dataframe thead th {\n",
              "        text-align: right;\n",
              "    }\n",
              "</style>\n",
              "<table border=\"1\" class=\"dataframe\">\n",
              "  <thead>\n",
              "    <tr style=\"text-align: right;\">\n",
              "      <th></th>\n",
              "      <th>ID</th>\n",
              "      <th>Estimated_Insects_Count</th>\n",
              "      <th>Crop_Type</th>\n",
              "      <th>Soil_Type</th>\n",
              "      <th>Pesticide_Use_Category</th>\n",
              "      <th>Number_Doses_Week</th>\n",
              "      <th>Number_Weeks_Used</th>\n",
              "      <th>Number_Weeks_Quit</th>\n",
              "      <th>Season</th>\n",
              "      <th>Crop_Damage</th>\n",
              "      <th>Crop_Damage</th>\n",
              "    </tr>\n",
              "  </thead>\n",
              "  <tbody>\n",
              "    <tr>\n",
              "      <th>0</th>\n",
              "      <td>F00000001</td>\n",
              "      <td>188</td>\n",
              "      <td>1</td>\n",
              "      <td>0</td>\n",
              "      <td>1</td>\n",
              "      <td>0</td>\n",
              "      <td>0.0</td>\n",
              "      <td>0</td>\n",
              "      <td>0</td>\n",
              "      <td>0</td>\n",
              "      <td>0</td>\n",
              "    </tr>\n",
              "    <tr>\n",
              "      <th>1</th>\n",
              "      <td>F00000003</td>\n",
              "      <td>209</td>\n",
              "      <td>1</td>\n",
              "      <td>0</td>\n",
              "      <td>1</td>\n",
              "      <td>0</td>\n",
              "      <td>0.0</td>\n",
              "      <td>0</td>\n",
              "      <td>1</td>\n",
              "      <td>1</td>\n",
              "      <td>1</td>\n",
              "    </tr>\n",
              "    <tr>\n",
              "      <th>2</th>\n",
              "      <td>F00000004</td>\n",
              "      <td>257</td>\n",
              "      <td>1</td>\n",
              "      <td>0</td>\n",
              "      <td>1</td>\n",
              "      <td>0</td>\n",
              "      <td>0.0</td>\n",
              "      <td>0</td>\n",
              "      <td>1</td>\n",
              "      <td>1</td>\n",
              "      <td>1</td>\n",
              "    </tr>\n",
              "    <tr>\n",
              "      <th>3</th>\n",
              "      <td>F00000005</td>\n",
              "      <td>257</td>\n",
              "      <td>1</td>\n",
              "      <td>1</td>\n",
              "      <td>1</td>\n",
              "      <td>0</td>\n",
              "      <td>0.0</td>\n",
              "      <td>0</td>\n",
              "      <td>1</td>\n",
              "      <td>1</td>\n",
              "      <td>1</td>\n",
              "    </tr>\n",
              "    <tr>\n",
              "      <th>4</th>\n",
              "      <td>F00000006</td>\n",
              "      <td>342</td>\n",
              "      <td>1</td>\n",
              "      <td>0</td>\n",
              "      <td>1</td>\n",
              "      <td>0</td>\n",
              "      <td>0.0</td>\n",
              "      <td>0</td>\n",
              "      <td>1</td>\n",
              "      <td>1</td>\n",
              "      <td>1</td>\n",
              "    </tr>\n",
              "  </tbody>\n",
              "</table>\n",
              "</div>"
            ],
            "text/plain": [
              "          ID  Estimated_Insects_Count  ...  Crop_Damage  Crop_Damage \n",
              "0  F00000001                      188  ...            0             0\n",
              "1  F00000003                      209  ...            1             1\n",
              "2  F00000004                      257  ...            1             1\n",
              "3  F00000005                      257  ...            1             1\n",
              "4  F00000006                      342  ...            1             1\n",
              "\n",
              "[5 rows x 11 columns]"
            ]
          },
          "metadata": {
            "tags": []
          },
          "execution_count": 62
        }
      ]
    },
    {
      "cell_type": "code",
      "metadata": {
        "id": "YQbvVBekHEYY",
        "colab_type": "code",
        "colab": {
          "base_uri": "https://localhost:8080/",
          "height": 345
        },
        "outputId": "fae70ef4-8e30-4e52-82dc-b4277400e670"
      },
      "source": [
        "atrain.info()"
      ],
      "execution_count": null,
      "outputs": [
        {
          "output_type": "stream",
          "text": [
            "<class 'pandas.core.frame.DataFrame'>\n",
            "RangeIndex: 88858 entries, 0 to 88857\n",
            "Data columns (total 11 columns):\n",
            " #   Column                   Non-Null Count  Dtype  \n",
            "---  ------                   --------------  -----  \n",
            " 0   ID                       88858 non-null  object \n",
            " 1   Estimated_Insects_Count  88858 non-null  int64  \n",
            " 2   Crop_Type                88858 non-null  int64  \n",
            " 3   Soil_Type                88858 non-null  int64  \n",
            " 4   Pesticide_Use_Category   88858 non-null  int64  \n",
            " 5   Number_Doses_Week        88858 non-null  int64  \n",
            " 6   Number_Weeks_Used        88858 non-null  float64\n",
            " 7   Number_Weeks_Quit        88858 non-null  int64  \n",
            " 8   Season                   88858 non-null  int64  \n",
            " 9   Crop_Damage              88858 non-null  int64  \n",
            " 10  Crop_Damage              88858 non-null  int64  \n",
            "dtypes: float64(1), int64(9), object(1)\n",
            "memory usage: 7.5+ MB\n"
          ],
          "name": "stdout"
        }
      ]
    },
    {
      "cell_type": "code",
      "metadata": {
        "id": "YWz4bXZJKUk5",
        "colab_type": "code",
        "colab": {}
      },
      "source": [
        "#Drop ID Column\n",
        "atrain.drop('ID',axis=1,inplace=True)"
      ],
      "execution_count": null,
      "outputs": []
    },
    {
      "cell_type": "code",
      "metadata": {
        "id": "XPhIb3xf1y02",
        "colab_type": "code",
        "colab": {}
      },
      "source": [
        "#spliting the data\n",
        "\n",
        "from sklearn.model_selection import train_test_split\n",
        "\n",
        "y = atrain['Crop_Damage']\n",
        "X = atrain\n",
        "\n",
        "X_train, X_test, y_train, y_test = train_test_split(X, y, test_size=.25, random_state=0)"
      ],
      "execution_count": null,
      "outputs": []
    },
    {
      "cell_type": "code",
      "metadata": {
        "id": "HQaFILd2JAiB",
        "colab_type": "code",
        "colab": {
          "base_uri": "https://localhost:8080/",
          "height": 326
        },
        "outputId": "5a5936ae-d28a-4572-8ee0-fbb1dae5881d"
      },
      "source": [
        "atrain.info()"
      ],
      "execution_count": null,
      "outputs": [
        {
          "output_type": "stream",
          "text": [
            "<class 'pandas.core.frame.DataFrame'>\n",
            "RangeIndex: 88858 entries, 0 to 88857\n",
            "Data columns (total 10 columns):\n",
            " #   Column                   Non-Null Count  Dtype  \n",
            "---  ------                   --------------  -----  \n",
            " 0   Estimated_Insects_Count  88858 non-null  int64  \n",
            " 1   Crop_Type                88858 non-null  int64  \n",
            " 2   Soil_Type                88858 non-null  int64  \n",
            " 3   Pesticide_Use_Category   88858 non-null  int64  \n",
            " 4   Number_Doses_Week        88858 non-null  int64  \n",
            " 5   Number_Weeks_Used        88858 non-null  float64\n",
            " 6   Number_Weeks_Quit        88858 non-null  int64  \n",
            " 7   Season                   88858 non-null  int64  \n",
            " 8   Crop_Damage              88858 non-null  int64  \n",
            " 9   Crop_Damage              88858 non-null  int64  \n",
            "dtypes: float64(1), int64(9)\n",
            "memory usage: 6.8 MB\n"
          ],
          "name": "stdout"
        }
      ]
    },
    {
      "cell_type": "code",
      "metadata": {
        "id": "BYy0E1qK1_it",
        "colab_type": "code",
        "colab": {
          "base_uri": "https://localhost:8080/",
          "height": 199
        },
        "outputId": "30396178-900c-4b40-b59c-b54a50cdece6"
      },
      "source": [
        "#Using Decision Tree Model\n",
        "\n",
        "from sklearn.metrics import classification_report\n",
        "from sklearn.tree import DecisionTreeClassifier\n",
        "\n",
        "dtree = DecisionTreeClassifier(random_state=1)\n",
        "dtree.fit(X_train, y_train)\n",
        "y_pred1 = dtree.predict(X_test)\n",
        "print(classification_report(y_test, y_pred1))"
      ],
      "execution_count": null,
      "outputs": [
        {
          "output_type": "stream",
          "text": [
            "              precision    recall  f1-score   support\n",
            "\n",
            "           0       1.00      1.00      1.00     18586\n",
            "           1       1.00      1.00      1.00      3071\n",
            "           2       1.00      1.00      1.00       558\n",
            "\n",
            "    accuracy                           1.00     22215\n",
            "   macro avg       1.00      1.00      1.00     22215\n",
            "weighted avg       1.00      1.00      1.00     22215\n",
            "\n"
          ],
          "name": "stdout"
        }
      ]
    },
    {
      "cell_type": "code",
      "metadata": {
        "id": "bNWKA2K8Ij0S",
        "colab_type": "code",
        "colab": {
          "base_uri": "https://localhost:8080/",
          "height": 199
        },
        "outputId": "35f14dfc-8fe7-42fe-a88f-2f2b60db7167"
      },
      "source": [
        "#Applying Random Forest Model\n",
        "\n",
        "from sklearn.ensemble import RandomForestClassifier\n",
        "\n",
        "rf = RandomForestClassifier(random_state=1)\n",
        "rf.fit(X_train, y_train)\n",
        "y_pred2 = rf.predict(X_test)\n",
        "print(classification_report(y_test, y_pred2))"
      ],
      "execution_count": null,
      "outputs": [
        {
          "output_type": "stream",
          "text": [
            "              precision    recall  f1-score   support\n",
            "\n",
            "           0       1.00      1.00      1.00     18586\n",
            "           1       1.00      1.00      1.00      3071\n",
            "           2       1.00      1.00      1.00       558\n",
            "\n",
            "    accuracy                           1.00     22215\n",
            "   macro avg       1.00      1.00      1.00     22215\n",
            "weighted avg       1.00      1.00      1.00     22215\n",
            "\n"
          ],
          "name": "stdout"
        }
      ]
    },
    {
      "cell_type": "code",
      "metadata": {
        "id": "09UNrEELKcrk",
        "colab_type": "code",
        "colab": {}
      },
      "source": [
        "# Function to calculate mean absolute error\n",
        "\n",
        "def cross_val(X_train, y_train, model):\n",
        "    # Applying k-Fold Cross Validation\n",
        "    from sklearn.model_selection import cross_val_score\n",
        "    accuracies = cross_val_score(estimator = model, X = X_train, y = y_train, cv = 5)\n",
        "    return accuracies.mean()\n",
        "\n",
        "# Takes in a model, trains the model, and evaluates the model on the test set\n",
        "def fit_and_evaluate(model):\n",
        "    \n",
        "    # Train the model\n",
        "    model.fit(X_train, y_train)\n",
        "    \n",
        "    # Make predictions and evalute\n",
        "    model_prediction = model.predict(X_test)\n",
        "    model_crossV = cross_val(X_train, y_train, model)\n",
        "    \n",
        "    # Return the performance metric\n",
        "    return model_crossV"
      ],
      "execution_count": null,
      "outputs": []
    },
    {
      "cell_type": "code",
      "metadata": {
        "id": "n6m2fTnKKjWr",
        "colab_type": "code",
        "colab": {}
      },
      "source": [
        "from sklearn.tree import DecisionTreeClassifier\n",
        "from sklearn.naive_bayes import GaussianNB\n",
        "from sklearn.neighbors import KNeighborsClassifier\n",
        "from sklearn.ensemble import RandomForestClassifier\n",
        "from sklearn.ensemble import BaggingClassifier\n",
        "from sklearn.ensemble import AdaBoostClassifier,GradientBoostingClassifier\n",
        "from xgboost import XGBClassifier,XGBRFClassifier\n",
        "from sklearn import model_selection"
      ],
      "execution_count": null,
      "outputs": []
    },
    {
      "cell_type": "code",
      "metadata": {
        "id": "MBEUfUc5KnSb",
        "colab_type": "code",
        "colab": {}
      },
      "source": [
        "dtree=DecisionTreeClassifier(criterion=\"entropy\")\n",
        "dtreeg=DecisionTreeClassifier(criterion='gini')\n",
        "knn=KNeighborsClassifier()\n",
        "gb=GaussianNB()\n",
        "rfc=RandomForestClassifier(criterion='entropy')\n",
        "rfcg=RandomForestClassifier(criterion='gini')\n",
        "bgc=BaggingClassifier()\n",
        "adb=AdaBoostClassifier()\n",
        "gbc=GradientBoostingClassifier()\n",
        "xgb=XGBClassifier()\n",
        "xgbrf=XGBRFClassifier()"
      ],
      "execution_count": null,
      "outputs": []
    },
    {
      "cell_type": "code",
      "metadata": {
        "id": "dN1fx0NkKos7",
        "colab_type": "code",
        "colab": {}
      },
      "source": [
        "models = []\n",
        "models.append(('Decision Tree',dtree))\n",
        "models.append(('Decision Tree with Gini Coefficient',dtreeg))\n",
        "models.append(('K Nearest Neighbors',knn))\n",
        "models.append(('Naive Bayes',gb))\n",
        "models.append(('Random Forrest',rfc))\n",
        "models.append(('Random Forrest with Gini Coefficient',rfcg))\n",
        "models.append(('Bagging Classifier',bgc))\n",
        "models.append(('Ada Boost Classifier',adb))\n",
        "models.append(('Gradient Boosting Classifier',gbc))\n",
        "models.append(('XGB Classifier',xgb))\n",
        "models.append(('XGBRF Classifier',xgbrf))"
      ],
      "execution_count": null,
      "outputs": []
    },
    {
      "cell_type": "code",
      "metadata": {
        "id": "feTrktPDKrVz",
        "colab_type": "code",
        "colab": {
          "base_uri": "https://localhost:8080/",
          "height": 667
        },
        "outputId": "3737f1b2-a212-4b9d-f652-7b99e2ee8e15"
      },
      "source": [
        "# evaluate each model in turn\n",
        "results = []\n",
        "names = []\n",
        "scoring = 'accuracy'\n",
        "for name, model in models:\n",
        "\tkfold = model_selection.KFold(n_splits=10,random_state=123)\n",
        "\tcv_results = model_selection.cross_val_score(model, X, y, cv=kfold, scoring=scoring)\n",
        "\tresults.append(cv_results)\n",
        "\tnames.append(name)\n",
        "\tmsg = \"%s: %f (%f)\" % (name, np.mean(cv_results), cv_results.var())\n",
        "\tprint(msg)\n",
        "# boxplot algorithm comparison\n",
        "fig = plt.figure()\n",
        "fig.suptitle('Algorithm Comparison')\n",
        "ax = fig.add_subplot(111)\n",
        "plt.boxplot(results)\n",
        "plt.xticks(rotation=90)\n",
        "ax.set_xticklabels(names)\n",
        "plt.show()"
      ],
      "execution_count": null,
      "outputs": [
        {
          "output_type": "stream",
          "text": [
            "Decision Tree: 1.000000 (0.000000)\n",
            "Decision Tree with Gini Coefficient: 1.000000 (0.000000)\n",
            "K Nearest Neighbors: 0.877850 (0.000030)\n",
            "Naive Bayes: 1.000000 (0.000000)\n",
            "Random Forrest: 1.000000 (0.000000)\n",
            "Random Forrest with Gini Coefficient: 1.000000 (0.000000)\n",
            "Bagging Classifier: 1.000000 (0.000000)\n",
            "Ada Boost Classifier: 1.000000 (0.000000)\n",
            "Gradient Boosting Classifier: 1.000000 (0.000000)\n",
            "XGB Classifier: 1.000000 (0.000000)\n",
            "XGBRF Classifier: 1.000000 (0.000000)\n"
          ],
          "name": "stdout"
        },
        {
          "output_type": "display_data",
          "data": {
            "image/png": "[encoded data removed]",
            "text/plain": [
              "<Figure size 432x288 with 1 Axes>"
            ]
          },
          "metadata": {
            "tags": [],
            "needs_background": "light"
          }
        }
      ]
    },
    {
      "cell_type": "code",
      "metadata": {
        "id": "HshCX2sfKuI7",
        "colab_type": "code",
        "colab": {}
      },
      "source": [
        ""
      ],
      "execution_count": null,
      "outputs": []
    }
  ]
}