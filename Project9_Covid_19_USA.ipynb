{
  "nbformat": 4,
  "nbformat_minor": 0,
  "metadata": {
    "colab": {
      "name": "Project9_Covid-19_USA.ipynb",
      "provenance": [],
      "collapsed_sections": []
    },
    "kernelspec": {
      "name": "python3",
      "display_name": "Python 3"
    }
  },
  "cells": [
    {
      "cell_type": "code",
      "metadata": {
        "id": "wux8syh3Bflu",
        "colab_type": "code",
        "colab": {
          "base_uri": "https://localhost:8080/",
          "height": 35
        },
        "outputId": "7de104cf-00b1-4b21-cef3-0b815a8106c1"
      },
      "source": [
        "# Mounting the Google Colab Drive\n",
        "from google.colab import drive\n",
        "drive.mount('/content/drive')"
      ],
      "execution_count": null,
      "outputs": [
        {
          "output_type": "stream",
          "text": [
            "Drive already mounted at /content/drive; to attempt to forcibly remount, call drive.mount(\"/content/drive\", force_remount=True).\n"
          ],
          "name": "stdout"
        }
      ]
    },
    {
      "cell_type": "code",
      "metadata": {
        "id": "aL9LzGTQBnVW",
        "colab_type": "code",
        "colab": {}
      },
      "source": [
        "import pandas as pd\n",
        "import numpy as np\n",
        "import seaborn as sns\n",
        "import matplotlib.pyplot as plt\n",
        "import warnings\n",
        "warnings.filterwarnings('ignore')\n",
        "from sklearn.preprocessing import StandardScaler\n",
        "from sklearn.cluster import KMeans\n",
        "import datetime"
      ],
      "execution_count": null,
      "outputs": []
    },
    {
      "cell_type": "markdown",
      "metadata": {
        "id": "wJBaVsX1CD38",
        "colab_type": "text"
      },
      "source": [
        "Importing the Loan Prediction Dataset:\n"
      ]
    },
    {
      "cell_type": "code",
      "metadata": {
        "id": "u09JfDa3CAsP",
        "colab_type": "code",
        "colab": {}
      },
      "source": [
        "covid=pd.read_csv('/content/drive/My Drive/DS Datasets/DT Project Datasets/Covid-19_US.csv')"
      ],
      "execution_count": null,
      "outputs": []
    },
    {
      "cell_type": "markdown",
      "metadata": {
        "id": "yR2idfu7C8Wc",
        "colab_type": "text"
      },
      "source": [
        "Identification of data types:"
      ]
    },
    {
      "cell_type": "code",
      "metadata": {
        "id": "recr10zDCbUa",
        "colab_type": "code",
        "colab": {
          "base_uri": "https://localhost:8080/",
          "height": 363
        },
        "outputId": "f867e9b9-e6ea-444b-81cc-ecb171c2c972"
      },
      "source": [
        "covid.dtypes"
      ],
      "execution_count": null,
      "outputs": [
        {
          "output_type": "execute_result",
          "data": {
            "text/plain": [
              "Province_State           object\n",
              "Country_Region           object\n",
              "Last_Update              object\n",
              "Lat                     float64\n",
              "Long_                   float64\n",
              "Confirmed                 int64\n",
              "Deaths                    int64\n",
              "Recovered               float64\n",
              "Active                  float64\n",
              "FIPS                      int64\n",
              "Incident_Rate           float64\n",
              "People_Tested           float64\n",
              "People_Hospitalized     float64\n",
              "Mortality_Rate          float64\n",
              "UID                       int64\n",
              "ISO3                     object\n",
              "Testing_Rate            float64\n",
              "Hospitalization_Rate    float64\n",
              "dtype: object"
            ]
          },
          "metadata": {
            "tags": []
          },
          "execution_count": 162
        }
      ]
    },
    {
      "cell_type": "markdown",
      "metadata": {
        "id": "iVab7KqhDJsK",
        "colab_type": "text"
      },
      "source": [
        "Size of the dataset:"
      ]
    },
    {
      "cell_type": "code",
      "metadata": {
        "id": "fxkN0uMRDEA3",
        "colab_type": "code",
        "colab": {
          "base_uri": "https://localhost:8080/",
          "height": 35
        },
        "outputId": "a4e3f40d-7a34-4a9d-ced5-37e21bb086bc"
      },
      "source": [
        "covid.shape"
      ],
      "execution_count": null,
      "outputs": [
        {
          "output_type": "execute_result",
          "data": {
            "text/plain": [
              "(58, 18)"
            ]
          },
          "metadata": {
            "tags": []
          },
          "execution_count": 163
        }
      ]
    },
    {
      "cell_type": "markdown",
      "metadata": {
        "id": "7kvE5IykDP_g",
        "colab_type": "text"
      },
      "source": [
        "Statistical Summary of Numeric Variables:"
      ]
    },
    {
      "cell_type": "code",
      "metadata": {
        "id": "JJhkHL-qDL8_",
        "colab_type": "code",
        "colab": {
          "base_uri": "https://localhost:8080/",
          "height": 1000
        },
        "outputId": "51c12a6d-8ffa-4b73-e6dd-6a92ef89b928"
      },
      "source": [
        "covid.describe"
      ],
      "execution_count": null,
      "outputs": [
        {
          "output_type": "execute_result",
          "data": {
            "text/plain": [
              "<bound method NDFrame.describe of               Province_State Country_Region  ...  Testing_Rate  Hospitalization_Rate\n",
              "0                    Alabama             US  ...   3353.942386             11.438860\n",
              "1                     Alaska             US  ...   5063.940017                   NaN\n",
              "2             American Samoa             US  ...    222.857246                   NaN\n",
              "3                    Arizona             US  ...   2272.859351             12.022005\n",
              "4                   Arkansas             US  ...   3189.670370             10.693584\n",
              "5                 California             US  ...   3492.893832                   NaN\n",
              "6                   Colorado             US  ...   2289.339188             17.348774\n",
              "7                Connecticut             US  ...   5349.302875             28.054438\n",
              "8                   Delaware             US  ...   4663.552976                   NaN\n",
              "9           Diamond Princess             US  ...           NaN                   NaN\n",
              "10      District of Columbia             US  ...   5727.106946                   NaN\n",
              "11                   Florida             US  ...   3591.383953             18.819911\n",
              "12                   Georgia             US  ...   3795.082856             17.856335\n",
              "13            Grand Princess             US  ...           NaN                   NaN\n",
              "14                      Guam             US  ...   3027.479921                   NaN\n",
              "15                    Hawaii             US  ...   3270.352122             12.752722\n",
              "16                     Idaho             US  ...   2158.119598              8.579409\n",
              "17                  Illinois             US  ...   5071.986102                   NaN\n",
              "18                   Indiana             US  ...   2907.481174             14.992826\n",
              "19                      Iowa             US  ...   3510.159838                   NaN\n",
              "20                    Kansas             US  ...   2444.055121              8.933819\n",
              "21                  Kentucky             US  ...   3446.671231             24.611240\n",
              "22                 Louisiana             US  ...   6151.487891                   NaN\n",
              "23                     Maine             US  ...   2772.553734             12.699285\n",
              "24                  Maryland             US  ...   3561.716796             17.468043\n",
              "25             Massachusetts             US  ...   7108.491647             10.000000\n",
              "26                  Michigan             US  ...   4376.471997                   NaN\n",
              "27                 Minnesota             US  ...   2967.179419             13.061686\n",
              "28               Mississippi             US  ...   4054.904509             15.885351\n",
              "29                  Missouri             US  ...   2639.281471                   NaN\n",
              "30                   Montana             US  ...   2781.307250             13.598326\n",
              "31                  Nebraska             US  ...   3729.047853                   NaN\n",
              "32                    Nevada             US  ...   2959.947483                   NaN\n",
              "33             New Hampshire             US  ...   3742.560000              9.901758\n",
              "34                New Jersey             US  ...   5982.117023                   NaN\n",
              "35                New Mexico             US  ...   6783.862680             18.030711\n",
              "36                  New York             US  ...   7740.670204             21.562209\n",
              "37            North Carolina             US  ...   2646.841883                   NaN\n",
              "38              North Dakota             US  ...   7768.396797              6.778043\n",
              "39  Northern Mariana Islands             US  ...   6921.877267                   NaN\n",
              "40                      Ohio             US  ...   2476.905835             17.658649\n",
              "41                  Oklahoma             US  ...   3648.523075             16.359364\n",
              "42                    Oregon             US  ...   2421.891171             19.021310\n",
              "43              Pennsylvania             US  ...   2731.606784                   NaN\n",
              "44               Puerto Rico             US  ...     97.702058                   NaN\n",
              "45              Rhode Island             US  ...  11377.424693             11.126086\n",
              "46            South Carolina             US  ...   2623.237570             15.738420\n",
              "47              South Dakota             US  ...   3435.108895              7.972229\n",
              "48                 Tennessee             US  ...   5183.833360              8.228329\n",
              "49                     Texas             US  ...   2656.380746                   NaN\n",
              "50                      Utah             US  ...   5604.065930              8.184176\n",
              "51                   Vermont             US  ...   4015.775919                   NaN\n",
              "52            Virgin Islands             US  ...   1289.294104                   NaN\n",
              "53                  Virginia             US  ...   2491.072892             18.411936\n",
              "54                Washington             US  ...   3849.298999                   NaN\n",
              "55             West Virginia             US  ...   4499.686689                   NaN\n",
              "56                 Wisconsin             US  ...   2880.462020             16.111235\n",
              "57                   Wyoming             US  ...   3255.240955              9.402795\n",
              "\n",
              "[58 rows x 18 columns]>"
            ]
          },
          "metadata": {
            "tags": []
          },
          "execution_count": 164
        }
      ]
    },
    {
      "cell_type": "code",
      "metadata": {
        "id": "GIHDV5Q2DSCO",
        "colab_type": "code",
        "colab": {
          "base_uri": "https://localhost:8080/",
          "height": 472
        },
        "outputId": "a115ff2c-d1b9-4f27-9de9-4b33267877bb"
      },
      "source": [
        "covid.info()"
      ],
      "execution_count": null,
      "outputs": [
        {
          "output_type": "stream",
          "text": [
            "<class 'pandas.core.frame.DataFrame'>\n",
            "RangeIndex: 58 entries, 0 to 57\n",
            "Data columns (total 18 columns):\n",
            " #   Column                Non-Null Count  Dtype  \n",
            "---  ------                --------------  -----  \n",
            " 0   Province_State        58 non-null     object \n",
            " 1   Country_Region        58 non-null     object \n",
            " 2   Last_Update           58 non-null     object \n",
            " 3   Lat                   56 non-null     float64\n",
            " 4   Long_                 56 non-null     float64\n",
            " 5   Confirmed             58 non-null     int64  \n",
            " 6   Deaths                58 non-null     int64  \n",
            " 7   Recovered             42 non-null     float64\n",
            " 8   Active                58 non-null     float64\n",
            " 9   FIPS                  58 non-null     int64  \n",
            " 10  Incident_Rate         56 non-null     float64\n",
            " 11  People_Tested         56 non-null     float64\n",
            " 12  People_Hospitalized   33 non-null     float64\n",
            " 13  Mortality_Rate        57 non-null     float64\n",
            " 14  UID                   58 non-null     int64  \n",
            " 15  ISO3                  58 non-null     object \n",
            " 16  Testing_Rate          56 non-null     float64\n",
            " 17  Hospitalization_Rate  33 non-null     float64\n",
            "dtypes: float64(10), int64(4), object(4)\n",
            "memory usage: 8.3+ KB\n"
          ],
          "name": "stdout"
        }
      ]
    },
    {
      "cell_type": "markdown",
      "metadata": {
        "id": "24fRPzq0DbzW",
        "colab_type": "text"
      },
      "source": [
        "Non-Graphical Univariate Analysis:\n",
        "\n"
      ]
    },
    {
      "cell_type": "code",
      "metadata": {
        "id": "xoKRunyyDV4H",
        "colab_type": "code",
        "colab": {
          "base_uri": "https://localhost:8080/",
          "height": 1000
        },
        "outputId": "98e4a213-4814-4c9f-8a71-92f022915940"
      },
      "source": [
        "#To get the count of unique values:\n",
        "\n",
        "covid['Province_State'].value_counts()"
      ],
      "execution_count": null,
      "outputs": [
        {
          "output_type": "execute_result",
          "data": {
            "text/plain": [
              "Arkansas                    1\n",
              "Louisiana                   1\n",
              "Indiana                     1\n",
              "New Hampshire               1\n",
              "Idaho                       1\n",
              "Connecticut                 1\n",
              "Colorado                    1\n",
              "South Dakota                1\n",
              "Virginia                    1\n",
              "Delaware                    1\n",
              "Alabama                     1\n",
              "Kansas                      1\n",
              "Guam                        1\n",
              "Maryland                    1\n",
              "Vermont                     1\n",
              "Pennsylvania                1\n",
              "Maine                       1\n",
              "Georgia                     1\n",
              "Virgin Islands              1\n",
              "Northern Mariana Islands    1\n",
              "Grand Princess              1\n",
              "Utah                        1\n",
              "Montana                     1\n",
              "Nevada                      1\n",
              "California                  1\n",
              "New York                    1\n",
              "Alaska                      1\n",
              "American Samoa              1\n",
              "District of Columbia        1\n",
              "Oregon                      1\n",
              "Michigan                    1\n",
              "Mississippi                 1\n",
              "Iowa                        1\n",
              "Florida                     1\n",
              "Massachusetts               1\n",
              "Missouri                    1\n",
              "Illinois                    1\n",
              "Ohio                        1\n",
              "West Virginia               1\n",
              "Kentucky                    1\n",
              "Nebraska                    1\n",
              "North Dakota                1\n",
              "Oklahoma                    1\n",
              "North Carolina              1\n",
              "Washington                  1\n",
              "Texas                       1\n",
              "South Carolina              1\n",
              "Tennessee                   1\n",
              "Arizona                     1\n",
              "Rhode Island                1\n",
              "Puerto Rico                 1\n",
              "Diamond Princess            1\n",
              "Hawaii                      1\n",
              "Minnesota                   1\n",
              "Wyoming                     1\n",
              "New Jersey                  1\n",
              "Wisconsin                   1\n",
              "New Mexico                  1\n",
              "Name: Province_State, dtype: int64"
            ]
          },
          "metadata": {
            "tags": []
          },
          "execution_count": 166
        }
      ]
    },
    {
      "cell_type": "code",
      "metadata": {
        "id": "WeKBiTa1Dg9m",
        "colab_type": "code",
        "colab": {
          "base_uri": "https://localhost:8080/",
          "height": 254
        },
        "outputId": "c0f60090-a6f4-4fe2-fe4c-432cda699c6e"
      },
      "source": [
        "#To get list of unique values\n",
        "\n",
        "covid['Province_State'].unique()"
      ],
      "execution_count": null,
      "outputs": [
        {
          "output_type": "execute_result",
          "data": {
            "text/plain": [
              "array(['Alabama', 'Alaska', 'American Samoa', 'Arizona', 'Arkansas',\n",
              "       'California', 'Colorado', 'Connecticut', 'Delaware',\n",
              "       'Diamond Princess', 'District of Columbia', 'Florida', 'Georgia',\n",
              "       'Grand Princess', 'Guam', 'Hawaii', 'Idaho', 'Illinois', 'Indiana',\n",
              "       'Iowa', 'Kansas', 'Kentucky', 'Louisiana', 'Maine', 'Maryland',\n",
              "       'Massachusetts', 'Michigan', 'Minnesota', 'Mississippi',\n",
              "       'Missouri', 'Montana', 'Nebraska', 'Nevada', 'New Hampshire',\n",
              "       'New Jersey', 'New Mexico', 'New York', 'North Carolina',\n",
              "       'North Dakota', 'Northern Mariana Islands', 'Ohio', 'Oklahoma',\n",
              "       'Oregon', 'Pennsylvania', 'Puerto Rico', 'Rhode Island',\n",
              "       'South Carolina', 'South Dakota', 'Tennessee', 'Texas', 'Utah',\n",
              "       'Vermont', 'Virgin Islands', 'Virginia', 'Washington',\n",
              "       'West Virginia', 'Wisconsin', 'Wyoming'], dtype=object)"
            ]
          },
          "metadata": {
            "tags": []
          },
          "execution_count": 93
        }
      ]
    },
    {
      "cell_type": "code",
      "metadata": {
        "id": "pyZ_wmf8ER80",
        "colab_type": "code",
        "colab": {
          "base_uri": "https://localhost:8080/",
          "height": 35
        },
        "outputId": "7938dc5a-7e55-47a2-e9ac-928f78a9db73"
      },
      "source": [
        "#To get the Total Number of States Affected\n",
        "\n",
        "print(\"Number of States affected: \",len(covid[\"Province_State\"].unique()))"
      ],
      "execution_count": null,
      "outputs": [
        {
          "output_type": "stream",
          "text": [
            "Number of States affected:  58\n"
          ],
          "name": "stdout"
        }
      ]
    },
    {
      "cell_type": "code",
      "metadata": {
        "id": "ypCM8GmvF9fT",
        "colab_type": "code",
        "colab": {
          "base_uri": "https://localhost:8080/",
          "height": 35
        },
        "outputId": "a2831f09-29c6-4b16-fb9c-b957981a2c8f"
      },
      "source": [
        "#Number of confirmed cases in the States\n",
        "print(\"Number of confirmed cases in the states: \",datewise[\"Confirmed\"].iloc[-1])"
      ],
      "execution_count": null,
      "outputs": [
        {
          "output_type": "stream",
          "text": [
            "Number of confirmed cases in the states:  1551853\n"
          ],
          "name": "stdout"
        }
      ]
    },
    {
      "cell_type": "code",
      "metadata": {
        "id": "K2GrWkInHj8z",
        "colab_type": "code",
        "colab": {
          "base_uri": "https://localhost:8080/",
          "height": 35
        },
        "outputId": "aa0449d0-3046-4fbd-aa8b-a6ad6c56237a"
      },
      "source": [
        "#Number of cases Recovered in the States\n",
        "print(\"Number of cases Recovered in the States: \",datewise[\"Recovered\"].iloc[-1])"
      ],
      "execution_count": null,
      "outputs": [
        {
          "output_type": "stream",
          "text": [
            "Number of cases Recovered in the States:  294543.26719999994\n"
          ],
          "name": "stdout"
        }
      ]
    },
    {
      "cell_type": "code",
      "metadata": {
        "id": "b3OEWBPFHtqh",
        "colab_type": "code",
        "colab": {
          "base_uri": "https://localhost:8080/",
          "height": 35
        },
        "outputId": "0347b2d0-dba7-4212-e6c8-2c474348f8a3"
      },
      "source": [
        "#Number of Death cases in the States\n",
        "print(\"Number of Death cases in the States: \",datewise[\"Deaths\"].iloc[-1])"
      ],
      "execution_count": null,
      "outputs": [
        {
          "output_type": "stream",
          "text": [
            "Number of Death cases in the States:  93439\n"
          ],
          "name": "stdout"
        }
      ]
    },
    {
      "cell_type": "code",
      "metadata": {
        "id": "nxhgMQGMH2Hf",
        "colab_type": "code",
        "colab": {
          "base_uri": "https://localhost:8080/",
          "height": 35
        },
        "outputId": "43f94153-b653-49e9-9cc5-045f2da62e7c"
      },
      "source": [
        "#Number of Active cases in the States\n",
        "print(\"Number of Active cases in the States: \",(datewise[\"Confirmed\"].iloc[-1]-datewise[\"Recovered\"].iloc[-1]-datewise[\"Deaths\"].iloc[-1]))"
      ],
      "execution_count": null,
      "outputs": [
        {
          "output_type": "stream",
          "text": [
            "Number of Active cases in the States:  1163870.7328\n"
          ],
          "name": "stdout"
        }
      ]
    },
    {
      "cell_type": "code",
      "metadata": {
        "id": "nwvmUXQxH2Jd",
        "colab_type": "code",
        "colab": {
          "base_uri": "https://localhost:8080/",
          "height": 35
        },
        "outputId": "84a953b8-7a76-49ab-bbe3-2297ade60dae"
      },
      "source": [
        "#Per Day confirmed Cases in the States\n",
        "print(\"Number of confirmed cases per day in the States: \",np.round(datewise[\"Confirmed\"].iloc[-1]/datewise.shape[0]))"
      ],
      "execution_count": null,
      "outputs": [
        {
          "output_type": "stream",
          "text": [
            "Number of confirmed cases per day in the States:  1551853.0\n"
          ],
          "name": "stdout"
        }
      ]
    },
    {
      "cell_type": "code",
      "metadata": {
        "id": "sgXhNPyOHtnD",
        "colab_type": "code",
        "colab": {
          "base_uri": "https://localhost:8080/",
          "height": 35
        },
        "outputId": "ed0969f6-58c8-45dd-a7c1-a4b22f9b120d"
      },
      "source": [
        "#Per Day Recovered Cases in the States\n",
        "print(\"Number of Recovered cases per day in the States: \",np.round(datewise[\"Recovered\"].iloc[-1]/datewise.shape[0]))"
      ],
      "execution_count": null,
      "outputs": [
        {
          "output_type": "stream",
          "text": [
            "Number of Recovered cases per day in the States:  294543.0\n"
          ],
          "name": "stdout"
        }
      ]
    },
    {
      "cell_type": "code",
      "metadata": {
        "id": "V9N4l-oNIgqQ",
        "colab_type": "code",
        "colab": {
          "base_uri": "https://localhost:8080/",
          "height": 35
        },
        "outputId": "b741ff68-ac6b-4a33-f9dc-0ac0a73b646e"
      },
      "source": [
        "#Per Day Death Count in the States\n",
        "print(\"Number of Death per day in the States: \",np.round(datewise[\"Deaths\"].iloc[-1]/datewise.shape[0]))"
      ],
      "execution_count": null,
      "outputs": [
        {
          "output_type": "stream",
          "text": [
            "Number of Death per day in the States:  93439.0\n"
          ],
          "name": "stdout"
        }
      ]
    },
    {
      "cell_type": "code",
      "metadata": {
        "id": "USibiZ_BEY_V",
        "colab_type": "code",
        "colab": {
          "base_uri": "https://localhost:8080/",
          "height": 363
        },
        "outputId": "687286d5-182f-4e39-b00a-46497d4aafac"
      },
      "source": [
        "#Finding null values\n",
        "\n",
        "print(covid.isnull().sum(axis = 0))"
      ],
      "execution_count": null,
      "outputs": [
        {
          "output_type": "stream",
          "text": [
            "Province_State           0\n",
            "Country_Region           0\n",
            "Last_Update              0\n",
            "Lat                      2\n",
            "Long_                    2\n",
            "Confirmed                0\n",
            "Deaths                   0\n",
            "Recovered               16\n",
            "Active                   0\n",
            "FIPS                     0\n",
            "Incident_Rate            2\n",
            "People_Tested            2\n",
            "People_Hospitalized     25\n",
            "Mortality_Rate           1\n",
            "UID                      0\n",
            "ISO3                     0\n",
            "Testing_Rate             2\n",
            "Hospitalization_Rate    25\n",
            "dtype: int64\n"
          ],
          "name": "stdout"
        }
      ]
    },
    {
      "cell_type": "code",
      "metadata": {
        "id": "ZWJjPHA8EcNd",
        "colab_type": "code",
        "colab": {}
      },
      "source": [
        "#Remove Null Values\n",
        "\n",
        "covid.Lat.fillna(value=14.454200,inplace=True)\n",
        "covid.Long_.fillna(value=14.454200,inplace=True)\n",
        "covid.Incident_Rate.fillna(value=14.454200,inplace=True)\n",
        "covid.People_Tested.fillna(value=14.454200,inplace=True)\n",
        "covid.Recovered.fillna(value=14.454200,inplace=True)\n",
        "covid.People_Hospitalized.fillna(value=14.454200,inplace=True)\n",
        "covid.Mortality_Rate.fillna(value=14.454200,inplace=True)\n",
        "covid.Testing_Rate.fillna(value=14.454200,inplace=True)\n",
        "covid.Hospitalization_Rate.fillna(value=14.454200,inplace=True)"
      ],
      "execution_count": null,
      "outputs": []
    },
    {
      "cell_type": "code",
      "metadata": {
        "id": "JonvBdArEv24",
        "colab_type": "code",
        "colab": {
          "base_uri": "https://localhost:8080/",
          "height": 363
        },
        "outputId": "15c75561-8e67-45a7-a84e-b55db4edc364"
      },
      "source": [
        "#Check again if null values are handled\n",
        "print(covid.isnull().sum(axis = 0))"
      ],
      "execution_count": null,
      "outputs": [
        {
          "output_type": "stream",
          "text": [
            "Province_State          0\n",
            "Country_Region          0\n",
            "Last_Update             0\n",
            "Lat                     0\n",
            "Long_                   0\n",
            "Confirmed               0\n",
            "Deaths                  0\n",
            "Recovered               0\n",
            "Active                  0\n",
            "FIPS                    0\n",
            "Incident_Rate           0\n",
            "People_Tested           0\n",
            "People_Hospitalized     0\n",
            "Mortality_Rate          0\n",
            "UID                     0\n",
            "ISO3                    0\n",
            "Testing_Rate            0\n",
            "Hospitalization_Rate    0\n",
            "dtype: int64\n"
          ],
          "name": "stdout"
        }
      ]
    },
    {
      "cell_type": "markdown",
      "metadata": {
        "id": "_8XhJifzIw63",
        "colab_type": "text"
      },
      "source": [
        "Graphical Univariate Analysis:\n"
      ]
    },
    {
      "cell_type": "code",
      "metadata": {
        "id": "dHgHUrwkFXVy",
        "colab_type": "code",
        "colab": {
          "base_uri": "https://localhost:8080/",
          "height": 361
        },
        "outputId": "62f2b766-51f9-471c-cc92-2c9c9e7398ca"
      },
      "source": [
        "#checking the distribution of values using Heatmap for test dataset\n",
        "\n",
        "sns.heatmap(covid.isnull(), annot= True)\n",
        "plt.show()"
      ],
      "execution_count": null,
      "outputs": [
        {
          "output_type": "display_data",
          "data": {
            "image/png": "[encoded data removed]",
            "text/plain": [
              "<Figure size 432x288 with 2 Axes>"
            ]
          },
          "metadata": {
            "tags": [],
            "needs_background": "light"
          }
        }
      ]
    },
    {
      "cell_type": "code",
      "metadata": {
        "id": "KAedi1MLKCQh",
        "colab_type": "code",
        "colab": {
          "base_uri": "https://localhost:8080/",
          "height": 283
        },
        "outputId": "8d4bd7fe-4fd2-47b3-fc2f-1bace6e2e08e"
      },
      "source": [
        "#Histogram\n",
        "\n",
        "covid['Confirmed'].hist(bins=10)"
      ],
      "execution_count": null,
      "outputs": [
        {
          "output_type": "execute_result",
          "data": {
            "text/plain": [
              "<matplotlib.axes._subplots.AxesSubplot at 0x7f31163100f0>"
            ]
          },
          "metadata": {
            "tags": []
          },
          "execution_count": 115
        },
        {
          "output_type": "display_data",
          "data": {
            "image/png": "[encoded data removed]",
            "text/plain": [
              "<Figure size 432x288 with 1 Axes>"
            ]
          },
          "metadata": {
            "tags": [],
            "needs_background": "light"
          }
        }
      ]
    },
    {
      "cell_type": "code",
      "metadata": {
        "id": "N41rIOVGPM7J",
        "colab_type": "code",
        "colab": {
          "base_uri": "https://localhost:8080/",
          "height": 298
        },
        "outputId": "166a65a9-ef70-4fe3-c308-af9a8738d1d0"
      },
      "source": [
        "#Boxplot\n",
        "\n",
        "#Plot between the Last_Update and Confirmed column\n",
        "\n",
        "sns.boxplot(x=covid['Last_Update'],y=covid['Confirmed'])"
      ],
      "execution_count": null,
      "outputs": [
        {
          "output_type": "execute_result",
          "data": {
            "text/plain": [
              "<matplotlib.axes._subplots.AxesSubplot at 0x7f3115b31b00>"
            ]
          },
          "metadata": {
            "tags": []
          },
          "execution_count": 118
        },
        {
          "output_type": "display_data",
          "data": {
            "image/png": "[encoded data removed]",
            "text/plain": [
              "<Figure size 432x288 with 1 Axes>"
            ]
          },
          "metadata": {
            "tags": [],
            "needs_background": "light"
          }
        }
      ]
    },
    {
      "cell_type": "code",
      "metadata": {
        "id": "gKU8afsPPfxG",
        "colab_type": "code",
        "colab": {
          "base_uri": "https://localhost:8080/",
          "height": 297
        },
        "outputId": "9007e65b-ce79-4648-cef9-3ca4f09e9e1c"
      },
      "source": [
        "#DistPlot\n",
        "\n",
        "sns.distplot(covid[pd.notnull(covid.Recovered)]['Recovered'],color='blue')"
      ],
      "execution_count": null,
      "outputs": [
        {
          "output_type": "execute_result",
          "data": {
            "text/plain": [
              "<matplotlib.axes._subplots.AxesSubplot at 0x7f31156c2cc0>"
            ]
          },
          "metadata": {
            "tags": []
          },
          "execution_count": 119
        },
        {
          "output_type": "display_data",
          "data": {
            "image/png": "[encoded data removed]",
            "text/plain": [
              "<Figure size 432x288 with 1 Axes>"
            ]
          },
          "metadata": {
            "tags": [],
            "needs_background": "light"
          }
        }
      ]
    },
    {
      "cell_type": "code",
      "metadata": {
        "id": "CtbIjcBlP1Z2",
        "colab_type": "code",
        "colab": {
          "base_uri": "https://localhost:8080/",
          "height": 299
        },
        "outputId": "324be0de-b9bb-41ec-d478-07b1f6483e4c"
      },
      "source": [
        "#BarPlot\n",
        "\n",
        "sns.barplot(x=covid['Last_Update'],y=covid['Deaths'])"
      ],
      "execution_count": null,
      "outputs": [
        {
          "output_type": "execute_result",
          "data": {
            "text/plain": [
              "<matplotlib.axes._subplots.AxesSubplot at 0x7f31152b9e48>"
            ]
          },
          "metadata": {
            "tags": []
          },
          "execution_count": 134
        },
        {
          "output_type": "display_data",
          "data": {
            "image/png": "[encoded data removed]",
            "text/plain": [
              "<Figure size 432x288 with 1 Axes>"
            ]
          },
          "metadata": {
            "tags": [],
            "needs_background": "light"
          }
        }
      ]
    },
    {
      "cell_type": "code",
      "metadata": {
        "id": "mhsYGX6YR76Z",
        "colab_type": "code",
        "colab": {
          "base_uri": "https://localhost:8080/",
          "height": 290
        },
        "outputId": "3de5ec61-26f7-4969-f4c8-1176938716ab"
      },
      "source": [
        "#Checking the skewness\n",
        "print('Skewness:', covid.skew())"
      ],
      "execution_count": null,
      "outputs": [
        {
          "output_type": "stream",
          "text": [
            "Skewness Train: Lat                    -1.889484\n",
            "Long_                   2.975954\n",
            "Confirmed               4.708614\n",
            "Deaths                  5.489201\n",
            "Recovered               3.650738\n",
            "Active                  4.180953\n",
            "FIPS                    5.269070\n",
            "Incident_Rate           1.968474\n",
            "People_Tested           2.812222\n",
            "People_Hospitalized     6.887754\n",
            "Mortality_Rate          1.264371\n",
            "UID                    -3.027480\n",
            "Testing_Rate            1.028091\n",
            "Hospitalization_Rate    0.827529\n",
            "dtype: float64\n"
          ],
          "name": "stdout"
        }
      ]
    },
    {
      "cell_type": "code",
      "metadata": {
        "id": "9u1kp1RGSAYx",
        "colab_type": "code",
        "colab": {
          "base_uri": "https://localhost:8080/",
          "height": 488
        },
        "outputId": "57292ac9-c88d-4d83-a4c8-6aec601359b5"
      },
      "source": [
        "#checking for correaltion between variables\n",
        "\n",
        "covid.corr()"
      ],
      "execution_count": null,
      "outputs": [
        {
          "output_type": "execute_result",
          "data": {
            "text/html": [
              "<div>\n",
              "<style scoped>\n",
              "    .dataframe tbody tr th:only-of-type {\n",
              "        vertical-align: middle;\n",
              "    }\n",
              "\n",
              "    .dataframe tbody tr th {\n",
              "        vertical-align: top;\n",
              "    }\n",
              "\n",
              "    .dataframe thead th {\n",
              "        text-align: right;\n",
              "    }\n",
              "</style>\n",
              "<table border=\"1\" class=\"dataframe\">\n",
              "  <thead>\n",
              "    <tr style=\"text-align: right;\">\n",
              "      <th></th>\n",
              "      <th>Lat</th>\n",
              "      <th>Long_</th>\n",
              "      <th>Confirmed</th>\n",
              "      <th>Deaths</th>\n",
              "      <th>Recovered</th>\n",
              "      <th>Active</th>\n",
              "      <th>FIPS</th>\n",
              "      <th>Incident_Rate</th>\n",
              "      <th>People_Tested</th>\n",
              "      <th>People_Hospitalized</th>\n",
              "      <th>Mortality_Rate</th>\n",
              "      <th>UID</th>\n",
              "      <th>Testing_Rate</th>\n",
              "      <th>Hospitalization_Rate</th>\n",
              "    </tr>\n",
              "  </thead>\n",
              "  <tbody>\n",
              "    <tr>\n",
              "      <th>Lat</th>\n",
              "      <td>1.000000</td>\n",
              "      <td>-0.369441</td>\n",
              "      <td>0.147130</td>\n",
              "      <td>0.138688</td>\n",
              "      <td>0.114003</td>\n",
              "      <td>0.144824</td>\n",
              "      <td>-0.359254</td>\n",
              "      <td>0.288615</td>\n",
              "      <td>0.128736</td>\n",
              "      <td>0.093015</td>\n",
              "      <td>-0.333684</td>\n",
              "      <td>0.699968</td>\n",
              "      <td>0.396939</td>\n",
              "      <td>-0.066066</td>\n",
              "    </tr>\n",
              "    <tr>\n",
              "      <th>Long_</th>\n",
              "      <td>-0.369441</td>\n",
              "      <td>1.000000</td>\n",
              "      <td>-0.024686</td>\n",
              "      <td>0.000466</td>\n",
              "      <td>-0.039317</td>\n",
              "      <td>-0.021573</td>\n",
              "      <td>0.351131</td>\n",
              "      <td>-0.023375</td>\n",
              "      <td>-0.121377</td>\n",
              "      <td>0.013252</td>\n",
              "      <td>0.036496</td>\n",
              "      <td>-0.471802</td>\n",
              "      <td>0.042984</td>\n",
              "      <td>0.070462</td>\n",
              "    </tr>\n",
              "    <tr>\n",
              "      <th>Confirmed</th>\n",
              "      <td>0.147130</td>\n",
              "      <td>-0.024686</td>\n",
              "      <td>1.000000</td>\n",
              "      <td>0.982191</td>\n",
              "      <td>0.757022</td>\n",
              "      <td>0.985218</td>\n",
              "      <td>-0.096696</td>\n",
              "      <td>0.714440</td>\n",
              "      <td>0.829562</td>\n",
              "      <td>0.846612</td>\n",
              "      <td>0.289237</td>\n",
              "      <td>0.153972</td>\n",
              "      <td>0.345248</td>\n",
              "      <td>0.287274</td>\n",
              "    </tr>\n",
              "    <tr>\n",
              "      <th>Deaths</th>\n",
              "      <td>0.138688</td>\n",
              "      <td>0.000466</td>\n",
              "      <td>0.982191</td>\n",
              "      <td>1.000000</td>\n",
              "      <td>0.782459</td>\n",
              "      <td>0.954378</td>\n",
              "      <td>-0.075053</td>\n",
              "      <td>0.712297</td>\n",
              "      <td>0.742859</td>\n",
              "      <td>0.888679</td>\n",
              "      <td>0.335203</td>\n",
              "      <td>0.120043</td>\n",
              "      <td>0.348860</td>\n",
              "      <td>0.297770</td>\n",
              "    </tr>\n",
              "    <tr>\n",
              "      <th>Recovered</th>\n",
              "      <td>0.114003</td>\n",
              "      <td>-0.039317</td>\n",
              "      <td>0.757022</td>\n",
              "      <td>0.782459</td>\n",
              "      <td>1.000000</td>\n",
              "      <td>0.634497</td>\n",
              "      <td>-0.092720</td>\n",
              "      <td>0.527124</td>\n",
              "      <td>0.602215</td>\n",
              "      <td>0.689248</td>\n",
              "      <td>0.225850</td>\n",
              "      <td>0.149986</td>\n",
              "      <td>0.284444</td>\n",
              "      <td>0.206519</td>\n",
              "    </tr>\n",
              "    <tr>\n",
              "      <th>Active</th>\n",
              "      <td>0.144824</td>\n",
              "      <td>-0.021573</td>\n",
              "      <td>0.985218</td>\n",
              "      <td>0.954378</td>\n",
              "      <td>0.634497</td>\n",
              "      <td>1.000000</td>\n",
              "      <td>-0.092276</td>\n",
              "      <td>0.706267</td>\n",
              "      <td>0.830926</td>\n",
              "      <td>0.816262</td>\n",
              "      <td>0.278185</td>\n",
              "      <td>0.146354</td>\n",
              "      <td>0.333319</td>\n",
              "      <td>0.284244</td>\n",
              "    </tr>\n",
              "    <tr>\n",
              "      <th>FIPS</th>\n",
              "      <td>-0.359254</td>\n",
              "      <td>0.351131</td>\n",
              "      <td>-0.096696</td>\n",
              "      <td>-0.075053</td>\n",
              "      <td>-0.092720</td>\n",
              "      <td>-0.092276</td>\n",
              "      <td>1.000000</td>\n",
              "      <td>-0.174830</td>\n",
              "      <td>-0.140187</td>\n",
              "      <td>-0.052001</td>\n",
              "      <td>-0.235861</td>\n",
              "      <td>0.058022</td>\n",
              "      <td>-0.351449</td>\n",
              "      <td>0.003082</td>\n",
              "    </tr>\n",
              "    <tr>\n",
              "      <th>Incident_Rate</th>\n",
              "      <td>0.288615</td>\n",
              "      <td>-0.023375</td>\n",
              "      <td>0.714440</td>\n",
              "      <td>0.712297</td>\n",
              "      <td>0.527124</td>\n",
              "      <td>0.706267</td>\n",
              "      <td>-0.174830</td>\n",
              "      <td>1.000000</td>\n",
              "      <td>0.455091</td>\n",
              "      <td>0.535154</td>\n",
              "      <td>0.269145</td>\n",
              "      <td>0.249956</td>\n",
              "      <td>0.633516</td>\n",
              "      <td>0.192470</td>\n",
              "    </tr>\n",
              "    <tr>\n",
              "      <th>People_Tested</th>\n",
              "      <td>0.128736</td>\n",
              "      <td>-0.121377</td>\n",
              "      <td>0.829562</td>\n",
              "      <td>0.742859</td>\n",
              "      <td>0.602215</td>\n",
              "      <td>0.830926</td>\n",
              "      <td>-0.140187</td>\n",
              "      <td>0.455091</td>\n",
              "      <td>1.000000</td>\n",
              "      <td>0.611702</td>\n",
              "      <td>0.165728</td>\n",
              "      <td>0.225065</td>\n",
              "      <td>0.263211</td>\n",
              "      <td>0.250495</td>\n",
              "    </tr>\n",
              "    <tr>\n",
              "      <th>People_Hospitalized</th>\n",
              "      <td>0.093015</td>\n",
              "      <td>0.013252</td>\n",
              "      <td>0.846612</td>\n",
              "      <td>0.888679</td>\n",
              "      <td>0.689248</td>\n",
              "      <td>0.816262</td>\n",
              "      <td>-0.052001</td>\n",
              "      <td>0.535154</td>\n",
              "      <td>0.611702</td>\n",
              "      <td>1.000000</td>\n",
              "      <td>0.224879</td>\n",
              "      <td>0.084546</td>\n",
              "      <td>0.281496</td>\n",
              "      <td>0.363003</td>\n",
              "    </tr>\n",
              "    <tr>\n",
              "      <th>Mortality_Rate</th>\n",
              "      <td>-0.333684</td>\n",
              "      <td>0.036496</td>\n",
              "      <td>0.289237</td>\n",
              "      <td>0.335203</td>\n",
              "      <td>0.225850</td>\n",
              "      <td>0.278185</td>\n",
              "      <td>-0.235861</td>\n",
              "      <td>0.269145</td>\n",
              "      <td>0.165728</td>\n",
              "      <td>0.224879</td>\n",
              "      <td>1.000000</td>\n",
              "      <td>-0.426394</td>\n",
              "      <td>0.084543</td>\n",
              "      <td>0.386545</td>\n",
              "    </tr>\n",
              "    <tr>\n",
              "      <th>UID</th>\n",
              "      <td>0.699968</td>\n",
              "      <td>-0.471802</td>\n",
              "      <td>0.153972</td>\n",
              "      <td>0.120043</td>\n",
              "      <td>0.149986</td>\n",
              "      <td>0.146354</td>\n",
              "      <td>0.058022</td>\n",
              "      <td>0.249956</td>\n",
              "      <td>0.225065</td>\n",
              "      <td>0.084546</td>\n",
              "      <td>-0.426394</td>\n",
              "      <td>1.000000</td>\n",
              "      <td>0.220954</td>\n",
              "      <td>-0.005202</td>\n",
              "    </tr>\n",
              "    <tr>\n",
              "      <th>Testing_Rate</th>\n",
              "      <td>0.396939</td>\n",
              "      <td>0.042984</td>\n",
              "      <td>0.345248</td>\n",
              "      <td>0.348860</td>\n",
              "      <td>0.284444</td>\n",
              "      <td>0.333319</td>\n",
              "      <td>-0.351449</td>\n",
              "      <td>0.633516</td>\n",
              "      <td>0.263211</td>\n",
              "      <td>0.281496</td>\n",
              "      <td>0.084543</td>\n",
              "      <td>0.220954</td>\n",
              "      <td>1.000000</td>\n",
              "      <td>-0.056925</td>\n",
              "    </tr>\n",
              "    <tr>\n",
              "      <th>Hospitalization_Rate</th>\n",
              "      <td>-0.066066</td>\n",
              "      <td>0.070462</td>\n",
              "      <td>0.287274</td>\n",
              "      <td>0.297770</td>\n",
              "      <td>0.206519</td>\n",
              "      <td>0.284244</td>\n",
              "      <td>0.003082</td>\n",
              "      <td>0.192470</td>\n",
              "      <td>0.250495</td>\n",
              "      <td>0.363003</td>\n",
              "      <td>0.386545</td>\n",
              "      <td>-0.005202</td>\n",
              "      <td>-0.056925</td>\n",
              "      <td>1.000000</td>\n",
              "    </tr>\n",
              "  </tbody>\n",
              "</table>\n",
              "</div>"
            ],
            "text/plain": [
              "                           Lat     Long_  ...  Testing_Rate  Hospitalization_Rate\n",
              "Lat                   1.000000 -0.369441  ...      0.396939             -0.066066\n",
              "Long_                -0.369441  1.000000  ...      0.042984              0.070462\n",
              "Confirmed             0.147130 -0.024686  ...      0.345248              0.287274\n",
              "Deaths                0.138688  0.000466  ...      0.348860              0.297770\n",
              "Recovered             0.114003 -0.039317  ...      0.284444              0.206519\n",
              "Active                0.144824 -0.021573  ...      0.333319              0.284244\n",
              "FIPS                 -0.359254  0.351131  ...     -0.351449              0.003082\n",
              "Incident_Rate         0.288615 -0.023375  ...      0.633516              0.192470\n",
              "People_Tested         0.128736 -0.121377  ...      0.263211              0.250495\n",
              "People_Hospitalized   0.093015  0.013252  ...      0.281496              0.363003\n",
              "Mortality_Rate       -0.333684  0.036496  ...      0.084543              0.386545\n",
              "UID                   0.699968 -0.471802  ...      0.220954             -0.005202\n",
              "Testing_Rate          0.396939  0.042984  ...      1.000000             -0.056925\n",
              "Hospitalization_Rate -0.066066  0.070462  ...     -0.056925              1.000000\n",
              "\n",
              "[14 rows x 14 columns]"
            ]
          },
          "metadata": {
            "tags": []
          },
          "execution_count": 136
        }
      ]
    },
    {
      "cell_type": "code",
      "metadata": {
        "id": "rtougSQzTL4X",
        "colab_type": "code",
        "colab": {
          "base_uri": "https://localhost:8080/",
          "height": 379
        },
        "outputId": "cb6dad59-57fb-495d-e41a-3deb67963862"
      },
      "source": [
        "#Checking correlation using Heatmap\n",
        "\n",
        "sns.heatmap(covid.corr())"
      ],
      "execution_count": null,
      "outputs": [
        {
          "output_type": "execute_result",
          "data": {
            "text/plain": [
              "<matplotlib.axes._subplots.AxesSubplot at 0x7f3115223160>"
            ]
          },
          "metadata": {
            "tags": []
          },
          "execution_count": 137
        },
        {
          "output_type": "display_data",
          "data": {
            "image/png": "[encoded data removed]",
            "text/plain": [
              "<Figure size 432x288 with 2 Axes>"
            ]
          },
          "metadata": {
            "tags": [],
            "needs_background": "light"
          }
        }
      ]
    },
    {
      "cell_type": "code",
      "metadata": {
        "id": "hwkxRHu2TQYn",
        "colab_type": "code",
        "colab": {
          "base_uri": "https://localhost:8080/",
          "height": 705
        },
        "outputId": "413bb644-5239-4772-9706-3b91c5a612e7"
      },
      "source": [
        "corr = covid.corr()\n",
        "plt.subplots(figsize=(15,10))\n",
        "sns.heatmap(corr, xticklabels=corr.columns, yticklabels=corr.columns, annot=True, cmap=sns.diverging_palette(220, 20, as_cmap=True))"
      ],
      "execution_count": null,
      "outputs": [
        {
          "output_type": "execute_result",
          "data": {
            "text/plain": [
              "<matplotlib.axes._subplots.AxesSubplot at 0x7f31152cc080>"
            ]
          },
          "metadata": {
            "tags": []
          },
          "execution_count": 138
        },
        {
          "output_type": "display_data",
          "data": {
            "image/png": "[encoded data removed]",
            "text/plain": [
              "<Figure size 1080x720 with 2 Axes>"
            ]
          },
          "metadata": {
            "tags": [],
            "needs_background": "light"
          }
        }
      ]
    },
    {
      "cell_type": "code",
      "metadata": {
        "id": "vAL1WCQaTVEW",
        "colab_type": "code",
        "colab": {
          "base_uri": "https://localhost:8080/",
          "height": 305
        },
        "outputId": "c4c5d228-9eef-43c3-f416-5eebde58f9cc"
      },
      "source": [
        "#using label encoding and one-hot encoding\n",
        "\n",
        "from sklearn.preprocessing import LabelEncoder\n",
        "\n",
        "le = LabelEncoder()\n",
        "covid['Mortality_Rate'] = le.fit_transform(covid['Mortality_Rate'])\n",
        "covid['Hospitalization_Rate'] = le.fit_transform(covid['Hospitalization_Rate'])\n",
        "covid.head(5)"
      ],
      "execution_count": null,
      "outputs": [
        {
          "output_type": "execute_result",
          "data": {
            "text/html": [
              "<div>\n",
              "<style scoped>\n",
              "    .dataframe tbody tr th:only-of-type {\n",
              "        vertical-align: middle;\n",
              "    }\n",
              "\n",
              "    .dataframe tbody tr th {\n",
              "        vertical-align: top;\n",
              "    }\n",
              "\n",
              "    .dataframe thead th {\n",
              "        text-align: right;\n",
              "    }\n",
              "</style>\n",
              "<table border=\"1\" class=\"dataframe\">\n",
              "  <thead>\n",
              "    <tr style=\"text-align: right;\">\n",
              "      <th></th>\n",
              "      <th>Province_State</th>\n",
              "      <th>Country_Region</th>\n",
              "      <th>Last_Update</th>\n",
              "      <th>Lat</th>\n",
              "      <th>Long_</th>\n",
              "      <th>Confirmed</th>\n",
              "      <th>Deaths</th>\n",
              "      <th>Recovered</th>\n",
              "      <th>Active</th>\n",
              "      <th>FIPS</th>\n",
              "      <th>Incident_Rate</th>\n",
              "      <th>People_Tested</th>\n",
              "      <th>People_Hospitalized</th>\n",
              "      <th>Mortality_Rate</th>\n",
              "      <th>UID</th>\n",
              "      <th>ISO3</th>\n",
              "      <th>Testing_Rate</th>\n",
              "      <th>Hospitalization_Rate</th>\n",
              "    </tr>\n",
              "  </thead>\n",
              "  <tbody>\n",
              "    <tr>\n",
              "      <th>0</th>\n",
              "      <td>Alabama</td>\n",
              "      <td>US</td>\n",
              "      <td>2020-05-21 02:32:54</td>\n",
              "      <td>32.3182</td>\n",
              "      <td>-86.9023</td>\n",
              "      <td>13052</td>\n",
              "      <td>522</td>\n",
              "      <td>14.4542</td>\n",
              "      <td>12530.0</td>\n",
              "      <td>1</td>\n",
              "      <td>266.194321</td>\n",
              "      <td>164450.0</td>\n",
              "      <td>1493.0000</td>\n",
              "      <td>22</td>\n",
              "      <td>84000001</td>\n",
              "      <td>USA</td>\n",
              "      <td>3353.942386</td>\n",
              "      <td>11</td>\n",
              "    </tr>\n",
              "    <tr>\n",
              "      <th>1</th>\n",
              "      <td>Alaska</td>\n",
              "      <td>US</td>\n",
              "      <td>2020-05-21 02:32:54</td>\n",
              "      <td>61.3707</td>\n",
              "      <td>-152.4044</td>\n",
              "      <td>401</td>\n",
              "      <td>10</td>\n",
              "      <td>352.0000</td>\n",
              "      <td>39.0</td>\n",
              "      <td>2</td>\n",
              "      <td>54.815493</td>\n",
              "      <td>37045.0</td>\n",
              "      <td>14.4542</td>\n",
              "      <td>9</td>\n",
              "      <td>84000002</td>\n",
              "      <td>USA</td>\n",
              "      <td>5063.940017</td>\n",
              "      <td>17</td>\n",
              "    </tr>\n",
              "    <tr>\n",
              "      <th>2</th>\n",
              "      <td>American Samoa</td>\n",
              "      <td>US</td>\n",
              "      <td>2020-05-21 02:32:54</td>\n",
              "      <td>-14.2710</td>\n",
              "      <td>-170.1320</td>\n",
              "      <td>0</td>\n",
              "      <td>0</td>\n",
              "      <td>14.4542</td>\n",
              "      <td>0.0</td>\n",
              "      <td>60</td>\n",
              "      <td>0.000000</td>\n",
              "      <td>124.0</td>\n",
              "      <td>14.4542</td>\n",
              "      <td>57</td>\n",
              "      <td>16</td>\n",
              "      <td>ASM</td>\n",
              "      <td>222.857246</td>\n",
              "      <td>17</td>\n",
              "    </tr>\n",
              "    <tr>\n",
              "      <th>3</th>\n",
              "      <td>Arizona</td>\n",
              "      <td>US</td>\n",
              "      <td>2020-05-21 02:32:54</td>\n",
              "      <td>33.7298</td>\n",
              "      <td>-111.4312</td>\n",
              "      <td>14906</td>\n",
              "      <td>747</td>\n",
              "      <td>3773.0000</td>\n",
              "      <td>10386.0</td>\n",
              "      <td>4</td>\n",
              "      <td>204.788838</td>\n",
              "      <td>165435.0</td>\n",
              "      <td>1792.0000</td>\n",
              "      <td>37</td>\n",
              "      <td>84000004</td>\n",
              "      <td>USA</td>\n",
              "      <td>2272.859351</td>\n",
              "      <td>12</td>\n",
              "    </tr>\n",
              "    <tr>\n",
              "      <th>4</th>\n",
              "      <td>Arkansas</td>\n",
              "      <td>US</td>\n",
              "      <td>2020-05-21 02:32:54</td>\n",
              "      <td>34.9697</td>\n",
              "      <td>-92.3731</td>\n",
              "      <td>5003</td>\n",
              "      <td>107</td>\n",
              "      <td>3852.0000</td>\n",
              "      <td>1044.0</td>\n",
              "      <td>5</td>\n",
              "      <td>165.782801</td>\n",
              "      <td>96258.0</td>\n",
              "      <td>535.0000</td>\n",
              "      <td>6</td>\n",
              "      <td>84000005</td>\n",
              "      <td>USA</td>\n",
              "      <td>3189.670370</td>\n",
              "      <td>9</td>\n",
              "    </tr>\n",
              "  </tbody>\n",
              "</table>\n",
              "</div>"
            ],
            "text/plain": [
              "   Province_State Country_Region  ... Testing_Rate  Hospitalization_Rate\n",
              "0         Alabama             US  ...  3353.942386                    11\n",
              "1          Alaska             US  ...  5063.940017                    17\n",
              "2  American Samoa             US  ...   222.857246                    17\n",
              "3         Arizona             US  ...  2272.859351                    12\n",
              "4        Arkansas             US  ...  3189.670370                     9\n",
              "\n",
              "[5 rows x 18 columns]"
            ]
          },
          "metadata": {
            "tags": []
          },
          "execution_count": 139
        }
      ]
    },
    {
      "cell_type": "code",
      "metadata": {
        "id": "C2lcdvnrUsE3",
        "colab_type": "code",
        "colab": {}
      },
      "source": [
        "#Drop Column\n",
        "covid.drop('Province_State',axis=1,inplace=True)\n",
        "covid.drop('Country_Region',axis=1,inplace=True)\n",
        "covid.drop('Last_Update',axis=1,inplace=True)\n",
        "covid.drop('ISO3',axis=1,inplace=True)"
      ],
      "execution_count": null,
      "outputs": []
    },
    {
      "cell_type": "code",
      "metadata": {
        "id": "nJydlOLLTvXs",
        "colab_type": "code",
        "colab": {}
      },
      "source": [
        "#spliting the data\n",
        "\n",
        "from sklearn.model_selection import train_test_split\n",
        "\n",
        "y = covid['Hospitalization_Rate']\n",
        "X = covid\n",
        "\n",
        "X_train, X_test, y_train, y_test = train_test_split(X, y, test_size=.25, random_state=0)"
      ],
      "execution_count": null,
      "outputs": []
    },
    {
      "cell_type": "code",
      "metadata": {
        "id": "76kpLPiKT5V1",
        "colab_type": "code",
        "colab": {
          "base_uri": "https://localhost:8080/",
          "height": 472
        },
        "outputId": "d90a978a-d06a-47ec-86e3-9a2c5c200859"
      },
      "source": [
        "#Applying Random Forest Model\n",
        "\n",
        "from sklearn.ensemble import RandomForestClassifier\n",
        "\n",
        "rf = RandomForestClassifier(random_state=1)\n",
        "rf.fit(X_train, y_train)\n",
        "y_pred2 = rf.predict(X_test)\n",
        "print(classification_report(y_test, y_pred2))"
      ],
      "execution_count": null,
      "outputs": [
        {
          "output_type": "stream",
          "text": [
            "              precision    recall  f1-score   support\n",
            "\n",
            "           2       0.00      0.00      0.00         0\n",
            "           3       0.00      0.00      0.00         1\n",
            "           5       0.00      0.00      0.00         0\n",
            "           7       0.00      0.00      0.00         1\n",
            "           8       0.00      0.00      0.00         0\n",
            "           9       0.00      0.00      0.00         1\n",
            "          10       0.00      0.00      0.00         1\n",
            "          13       0.00      0.00      0.00         0\n",
            "          15       0.00      0.00      0.00         1\n",
            "          17       0.86      1.00      0.92         6\n",
            "          18       0.00      0.00      0.00         0\n",
            "          21       0.00      0.00      0.00         0\n",
            "          22       0.00      0.00      0.00         0\n",
            "          25       0.00      0.00      0.00         1\n",
            "          26       0.00      0.00      0.00         0\n",
            "          27       0.00      0.00      0.00         1\n",
            "          29       0.00      0.00      0.00         1\n",
            "          30       0.00      0.00      0.00         1\n",
            "\n",
            "    accuracy                           0.40        15\n",
            "   macro avg       0.05      0.06      0.05        15\n",
            "weighted avg       0.34      0.40      0.37        15\n",
            "\n"
          ],
          "name": "stdout"
        }
      ]
    },
    {
      "cell_type": "code",
      "metadata": {
        "id": "3iJY3SBdUCno",
        "colab_type": "code",
        "colab": {}
      },
      "source": [
        "# Function to calculate mean absolute error\n",
        "\n",
        "def cross_val(X_train, y_train, model):\n",
        "    # Applying k-Fold Cross Validation\n",
        "    from sklearn.model_selection import cross_val_score\n",
        "    accuracies = cross_val_score(estimator = model, X = X_train, y = y_train, cv = 5)\n",
        "    return accuracies.mean()\n",
        "\n",
        "# Takes in a model, trains the model, and evaluates the model on the test set\n",
        "def fit_and_evaluate(model):\n",
        "    \n",
        "    # Train the model\n",
        "    model.fit(X_train, y_train)\n",
        "    \n",
        "    # Make predictions and evalute\n",
        "    model_prediction = model.predict(X_test)\n",
        "    model_crossV = cross_val(X_train, y_train, model)\n",
        "    \n",
        "    # Return the performance metric\n",
        "    return model_crossV"
      ],
      "execution_count": null,
      "outputs": []
    },
    {
      "cell_type": "code",
      "metadata": {
        "id": "-FzQQJHQT9p2",
        "colab_type": "code",
        "colab": {}
      },
      "source": [
        "from sklearn.tree import DecisionTreeClassifier\n",
        "from sklearn.naive_bayes import GaussianNB\n",
        "from sklearn.neighbors import KNeighborsClassifier\n",
        "from sklearn.ensemble import RandomForestClassifier\n",
        "from sklearn.ensemble import BaggingClassifier\n",
        "from sklearn.ensemble import AdaBoostClassifier,GradientBoostingClassifier\n",
        "from xgboost import XGBClassifier,XGBRFClassifier\n",
        "from sklearn import model_selection"
      ],
      "execution_count": null,
      "outputs": []
    },
    {
      "cell_type": "code",
      "metadata": {
        "id": "Ubm9RG9hVdGa",
        "colab_type": "code",
        "colab": {}
      },
      "source": [
        "dtree=DecisionTreeClassifier(criterion=\"entropy\")\n",
        "dtreeg=DecisionTreeClassifier(criterion='gini')\n",
        "knn=KNeighborsClassifier()\n",
        "gb=GaussianNB()\n",
        "rfc=RandomForestClassifier(criterion='entropy')\n",
        "rfcg=RandomForestClassifier(criterion='gini')\n",
        "bgc=BaggingClassifier()\n",
        "adb=AdaBoostClassifier()\n",
        "gbc=GradientBoostingClassifier()\n",
        "xgb=XGBClassifier()\n",
        "xgbrf=XGBRFClassifier()"
      ],
      "execution_count": null,
      "outputs": []
    },
    {
      "cell_type": "code",
      "metadata": {
        "id": "VOwTFcNQVfeS",
        "colab_type": "code",
        "colab": {}
      },
      "source": [
        "models = []\n",
        "models.append(('Decision Tree',dtree))\n",
        "models.append(('Decision Tree with Gini Coefficient',dtreeg))\n",
        "models.append(('K Nearest Neighbors',knn))\n",
        "models.append(('Naive Bayes',gb))\n",
        "models.append(('Random Forrest',rfc))\n",
        "models.append(('Random Forrest with Gini Coefficient',rfcg))\n",
        "models.append(('Bagging Classifier',bgc))\n",
        "models.append(('Ada Boost Classifier',adb))\n",
        "models.append(('Gradient Boosting Classifier',gbc))\n",
        "models.append(('XGB Classifier',xgb))\n",
        "models.append(('XGBRF Classifier',xgbrf))"
      ],
      "execution_count": null,
      "outputs": []
    },
    {
      "cell_type": "code",
      "metadata": {
        "id": "cc5GcwrzViJa",
        "colab_type": "code",
        "colab": {
          "base_uri": "https://localhost:8080/",
          "height": 667
        },
        "outputId": "362d0411-a1c8-4b96-a0e7-4bb9de190226"
      },
      "source": [
        "# evaluate each model in turn\n",
        "results = []\n",
        "names = []\n",
        "scoring = 'accuracy'\n",
        "for name, model in models:\n",
        "\tkfold = model_selection.KFold(n_splits=10,random_state=123)\n",
        "\tcv_results = model_selection.cross_val_score(model, X, y, cv=kfold, scoring=scoring)\n",
        "\tresults.append(cv_results)\n",
        "\tnames.append(name)\n",
        "\tmsg = \"%s: %f (%f)\" % (name, np.mean(cv_results), cv_results.var())\n",
        "\tprint(msg)\n",
        "# boxplot algorithm comparison\n",
        "fig = plt.figure()\n",
        "fig.suptitle('Algorithm Comparison')\n",
        "ax = fig.add_subplot(111)\n",
        "plt.boxplot(results)\n",
        "plt.xticks(rotation=90)\n",
        "ax.set_xticklabels(names)\n",
        "plt.show()"
      ],
      "execution_count": null,
      "outputs": [
        {
          "output_type": "stream",
          "text": [
            "Decision Tree: 0.433333 (0.008667)\n",
            "Decision Tree with Gini Coefficient: 0.433333 (0.008667)\n",
            "K Nearest Neighbors: 0.330000 (0.014767)\n",
            "Naive Bayes: 0.363333 (0.008322)\n",
            "Random Forrest: 0.433333 (0.008667)\n",
            "Random Forrest with Gini Coefficient: 0.433333 (0.008667)\n",
            "Bagging Classifier: 0.433333 (0.008667)\n",
            "Ada Boost Classifier: 0.416667 (0.008944)\n",
            "Gradient Boosting Classifier: 0.433333 (0.008667)\n",
            "XGB Classifier: 0.433333 (0.008667)\n",
            "XGBRF Classifier: 0.433333 (0.008667)\n"
          ],
          "name": "stdout"
        },
        {
          "output_type": "display_data",
          "data": {
            "image/png": "[encoded data removed]",
            "text/plain": [
              "<Figure size 432x288 with 1 Axes>"
            ]
          },
          "metadata": {
            "tags": [],
            "needs_background": "light"
          }
        }
      ]
    }
  ]
}