{
  "nbformat": 4,
  "nbformat_minor": 0,
  "metadata": {
    "colab": {
      "name": "Project14_RestaurantFoodCost.ipynb",
      "provenance": [],
      "collapsed_sections": []
    },
    "kernelspec": {
      "name": "python3",
      "display_name": "Python 3"
    }
  },
  "cells": [
    {
      "cell_type": "code",
      "metadata": {
        "id": "NS1JPv5sdgwY",
        "colab_type": "code",
        "colab": {
          "base_uri": "https://localhost:8080/",
          "height": 35
        },
        "outputId": "bf0b9c7b-7b73-4b18-96fd-457ba17f5f01"
      },
      "source": [
        "# Mounting the Google Colab Drive\n",
        "from google.colab import drive\n",
        "drive.mount('/content/drive')"
      ],
      "execution_count": null,
      "outputs": [
        {
          "output_type": "stream",
          "text": [
            "Mounted at /content/drive\n"
          ],
          "name": "stdout"
        }
      ]
    },
    {
      "cell_type": "markdown",
      "metadata": {
        "id": "SRLbLHfKfvng",
        "colab_type": "text"
      },
      "source": [
        "Import libraries"
      ]
    },
    {
      "cell_type": "code",
      "metadata": {
        "id": "NXg2Z2tGdrSe",
        "colab_type": "code",
        "colab": {}
      },
      "source": [
        "import pandas as pd\n",
        "import numpy as np\n",
        "import seaborn as sns\n",
        "import matplotlib.pyplot as plt\n",
        "import warnings\n",
        "warnings.filterwarnings('ignore')\n",
        "from sklearn.preprocessing import StandardScaler\n",
        "from sklearn.cluster import KMeans"
      ],
      "execution_count": null,
      "outputs": []
    },
    {
      "cell_type": "markdown",
      "metadata": {
        "id": "FbX07BnPfr2J",
        "colab_type": "text"
      },
      "source": [
        "Import the Test and Train dataset"
      ]
    },
    {
      "cell_type": "code",
      "metadata": {
        "id": "ohmjFswBfgS4",
        "colab_type": "code",
        "colab": {}
      },
      "source": [
        "ftest=pd.read_csv('/content/drive/My Drive/DS Datasets/DT Project Datasets/Food_Test.csv')\n",
        "ftrain=pd.read_csv('/content/drive/My Drive/DS Datasets/DT Project Datasets/Food_Train.csv')"
      ],
      "execution_count": null,
      "outputs": []
    },
    {
      "cell_type": "markdown",
      "metadata": {
        "id": "9GFE_2D4f0Kn",
        "colab_type": "text"
      },
      "source": [
        "Identification of data types:"
      ]
    },
    {
      "cell_type": "code",
      "metadata": {
        "id": "9gDcs9APfn42",
        "colab_type": "code",
        "colab": {
          "base_uri": "https://localhost:8080/",
          "height": 181
        },
        "outputId": "d8f16e82-20a1-4230-fe1b-663079ecdf86"
      },
      "source": [
        "ftest.dtypes"
      ],
      "execution_count": null,
      "outputs": [
        {
          "output_type": "execute_result",
          "data": {
            "text/plain": [
              "TITLE            object\n",
              "RESTAURANT_ID     int64\n",
              "CUISINES         object\n",
              "TIME             object\n",
              "CITY             object\n",
              "LOCALITY         object\n",
              "RATING           object\n",
              "VOTES            object\n",
              "dtype: object"
            ]
          },
          "metadata": {
            "tags": []
          },
          "execution_count": 6
        }
      ]
    },
    {
      "cell_type": "code",
      "metadata": {
        "id": "NVc65vcif3ic",
        "colab_type": "code",
        "colab": {
          "base_uri": "https://localhost:8080/",
          "height": 199
        },
        "outputId": "787ac21a-80ec-4fc7-b332-56af0b398a7b"
      },
      "source": [
        "ftrain.dtypes"
      ],
      "execution_count": null,
      "outputs": [
        {
          "output_type": "execute_result",
          "data": {
            "text/plain": [
              "TITLE            object\n",
              "RESTAURANT_ID     int64\n",
              "CUISINES         object\n",
              "TIME             object\n",
              "CITY             object\n",
              "LOCALITY         object\n",
              "RATING           object\n",
              "VOTES            object\n",
              "COST              int64\n",
              "dtype: object"
            ]
          },
          "metadata": {
            "tags": []
          },
          "execution_count": 7
        }
      ]
    },
    {
      "cell_type": "markdown",
      "metadata": {
        "id": "143Cb0V1f_6u",
        "colab_type": "text"
      },
      "source": [
        "Size of the dataset:"
      ]
    },
    {
      "cell_type": "code",
      "metadata": {
        "id": "dHejf98sf5wM",
        "colab_type": "code",
        "colab": {
          "base_uri": "https://localhost:8080/",
          "height": 35
        },
        "outputId": "2fa06949-3ddf-4e5c-bd2c-fe32ae33d3a9"
      },
      "source": [
        "ftest.shape"
      ],
      "execution_count": null,
      "outputs": [
        {
          "output_type": "execute_result",
          "data": {
            "text/plain": [
              "(4231, 8)"
            ]
          },
          "metadata": {
            "tags": []
          },
          "execution_count": 8
        }
      ]
    },
    {
      "cell_type": "code",
      "metadata": {
        "id": "USmeYxnjgDc0",
        "colab_type": "code",
        "colab": {
          "base_uri": "https://localhost:8080/",
          "height": 35
        },
        "outputId": "e1faf0e6-bc13-451a-fcd2-77d2f1d3b89b"
      },
      "source": [
        "ftrain.shape"
      ],
      "execution_count": null,
      "outputs": [
        {
          "output_type": "execute_result",
          "data": {
            "text/plain": [
              "(12690, 9)"
            ]
          },
          "metadata": {
            "tags": []
          },
          "execution_count": 9
        }
      ]
    },
    {
      "cell_type": "markdown",
      "metadata": {
        "id": "9VFwLPPCgJCG",
        "colab_type": "text"
      },
      "source": [
        "Statistical Summary of Numeric Variables:"
      ]
    },
    {
      "cell_type": "code",
      "metadata": {
        "id": "T_MtGwNAgGpV",
        "colab_type": "code",
        "colab": {
          "base_uri": "https://localhost:8080/",
          "height": 290
        },
        "outputId": "8e5b0dfe-e17a-4a3e-8de7-bf17767c427c"
      },
      "source": [
        "ftest.info()"
      ],
      "execution_count": null,
      "outputs": [
        {
          "output_type": "stream",
          "text": [
            "<class 'pandas.core.frame.DataFrame'>\n",
            "RangeIndex: 4231 entries, 0 to 4230\n",
            "Data columns (total 8 columns):\n",
            " #   Column         Non-Null Count  Dtype \n",
            "---  ------         --------------  ----- \n",
            " 0   TITLE          4231 non-null   object\n",
            " 1   RESTAURANT_ID  4231 non-null   int64 \n",
            " 2   CUISINES       4231 non-null   object\n",
            " 3   TIME           4231 non-null   object\n",
            " 4   CITY           4196 non-null   object\n",
            " 5   LOCALITY       4201 non-null   object\n",
            " 6   RATING         4229 non-null   object\n",
            " 7   VOTES          3829 non-null   object\n",
            "dtypes: int64(1), object(7)\n",
            "memory usage: 264.6+ KB\n"
          ],
          "name": "stdout"
        }
      ]
    },
    {
      "cell_type": "code",
      "metadata": {
        "id": "JJP7g-4IgMgs",
        "colab_type": "code",
        "colab": {
          "base_uri": "https://localhost:8080/",
          "height": 308
        },
        "outputId": "dbf72307-3db1-43b8-c64a-3779f709ae7a"
      },
      "source": [
        "ftrain.info()"
      ],
      "execution_count": null,
      "outputs": [
        {
          "output_type": "stream",
          "text": [
            "<class 'pandas.core.frame.DataFrame'>\n",
            "RangeIndex: 12690 entries, 0 to 12689\n",
            "Data columns (total 9 columns):\n",
            " #   Column         Non-Null Count  Dtype \n",
            "---  ------         --------------  ----- \n",
            " 0   TITLE          12690 non-null  object\n",
            " 1   RESTAURANT_ID  12690 non-null  int64 \n",
            " 2   CUISINES       12690 non-null  object\n",
            " 3   TIME           12690 non-null  object\n",
            " 4   CITY           12578 non-null  object\n",
            " 5   LOCALITY       12592 non-null  object\n",
            " 6   RATING         12688 non-null  object\n",
            " 7   VOTES          11486 non-null  object\n",
            " 8   COST           12690 non-null  int64 \n",
            "dtypes: int64(2), object(7)\n",
            "memory usage: 892.4+ KB\n"
          ],
          "name": "stdout"
        }
      ]
    },
    {
      "cell_type": "markdown",
      "metadata": {
        "id": "uNfHZDCzjtLg",
        "colab_type": "text"
      },
      "source": [
        "Data pre-processing"
      ]
    },
    {
      "cell_type": "code",
      "metadata": {
        "id": "l52IMSIuju0f",
        "colab_type": "code",
        "colab": {}
      },
      "source": [
        "# merging ftrain and ftest datasets\n",
        "df = ftrain.append(ftest,ignore_index=True)"
      ],
      "execution_count": null,
      "outputs": []
    },
    {
      "cell_type": "code",
      "metadata": {
        "id": "bYuRIY68j7Ku",
        "colab_type": "code",
        "colab": {}
      },
      "source": [
        "df = df[['TITLE', 'CUISINES', 'TIME', 'CITY', 'LOCALITY', 'RATING', 'VOTES', 'COST']]"
      ],
      "execution_count": null,
      "outputs": []
    },
    {
      "cell_type": "code",
      "metadata": {
        "id": "koHWdMgokDC_",
        "colab_type": "code",
        "colab": {}
      },
      "source": [
        "df['RATING'] = df['RATING'].str.replace('NEW', '1')\n",
        "df['RATING'] = df['RATING'].str.replace('-', '1').astype(float)\n",
        "df['VOTES'] = df['VOTES'].str.replace(' votes', '').astype(float)\n",
        "df['COST'] = df['COST'].astype(float)"
      ],
      "execution_count": null,
      "outputs": []
    },
    {
      "cell_type": "markdown",
      "metadata": {
        "id": "0hmEreT2gR1G",
        "colab_type": "text"
      },
      "source": [
        "Non-Graphical Univariate Analysis:"
      ]
    },
    {
      "cell_type": "code",
      "metadata": {
        "id": "iqEppdP5gOYE",
        "colab_type": "code",
        "colab": {
          "base_uri": "https://localhost:8080/",
          "height": 235
        },
        "outputId": "56343965-8dc6-4672-c7e5-3ff66b4f5604"
      },
      "source": [
        "#To get the count of unique values:\n",
        "#Determining the types of unique cuisines in the datset\n",
        "\n",
        "ftrain['CUISINES'].value_counts()"
      ],
      "execution_count": null,
      "outputs": [
        {
          "output_type": "execute_result",
          "data": {
            "text/plain": [
              "South Indian                                         532\n",
              "North Indian                                         526\n",
              "North Indian, Chinese                                501\n",
              "Fast Food                                            286\n",
              "Chinese                                              167\n",
              "                                                    ... \n",
              "Continental, American, North Indian                    1\n",
              "South Indian, Fast Food, North Indian, Chinese         1\n",
              "Chinese, Healthy Food, North Indian, South Indian      1\n",
              "Cafe, Italian, Chinese, Mexican                        1\n",
              "Chinese, Japanese, Thai, Asian, Sushi                  1\n",
              "Name: CUISINES, Length: 4155, dtype: int64"
            ]
          },
          "metadata": {
            "tags": []
          },
          "execution_count": 15
        }
      ]
    },
    {
      "cell_type": "code",
      "metadata": {
        "id": "tw8ibWuzg4Oo",
        "colab_type": "code",
        "colab": {
          "base_uri": "https://localhost:8080/",
          "height": 199
        },
        "outputId": "10d121f3-e6d0-4777-98c8-07bc5690f991"
      },
      "source": [
        "#Finding null/missing values\n",
        "\n",
        "print('Missing Values in Train set:',ftrain.isnull().sum(axis = 0))"
      ],
      "execution_count": null,
      "outputs": [
        {
          "output_type": "stream",
          "text": [
            "Missing Values in Train set: TITLE               0\n",
            "RESTAURANT_ID       0\n",
            "CUISINES            0\n",
            "TIME                0\n",
            "CITY              112\n",
            "LOCALITY           98\n",
            "RATING              2\n",
            "VOTES            1204\n",
            "COST                0\n",
            "dtype: int64\n"
          ],
          "name": "stdout"
        }
      ]
    },
    {
      "cell_type": "code",
      "metadata": {
        "id": "RIA3xzJdhCui",
        "colab_type": "code",
        "colab": {
          "base_uri": "https://localhost:8080/",
          "height": 181
        },
        "outputId": "91c28be0-5c46-4237-a2cc-5265053e40ea"
      },
      "source": [
        "print('Missing Values in Test set:',ftest.isnull().sum(axis = 0))"
      ],
      "execution_count": null,
      "outputs": [
        {
          "output_type": "stream",
          "text": [
            "Missing Values in Test set: TITLE              0\n",
            "RESTAURANT_ID      0\n",
            "CUISINES           0\n",
            "TIME               0\n",
            "CITY              35\n",
            "LOCALITY          30\n",
            "RATING             2\n",
            "VOTES            402\n",
            "dtype: int64\n"
          ],
          "name": "stdout"
        }
      ]
    },
    {
      "cell_type": "code",
      "metadata": {
        "id": "CZA2grRNhFa6",
        "colab_type": "code",
        "colab": {}
      },
      "source": [
        "#Removing the missing or the null values from the dataset\n",
        "\n",
        "ftrain.CITY.fillna(value=27,inplace=True)\n",
        "ftrain.LOCALITY.fillna(value=27,inplace=True)\n",
        "ftrain.RATING.fillna(value=27,inplace=True)\n",
        "ftrain.VOTES.fillna(value=27,inplace=True)\n",
        "ftest.CITY.fillna(value=27,inplace=True)\n",
        "ftest.LOCALITY.fillna(value=27,inplace=True)\n",
        "ftest.RATING.fillna(value=27,inplace=True)\n",
        "ftest.VOTES.fillna(value=27,inplace=True)"
      ],
      "execution_count": null,
      "outputs": []
    },
    {
      "cell_type": "code",
      "metadata": {
        "id": "2fBJ_IW2hnSm",
        "colab_type": "code",
        "colab": {
          "base_uri": "https://localhost:8080/",
          "height": 199
        },
        "outputId": "a060d783-028d-4b4b-b258-4fa6bde16f84"
      },
      "source": [
        "#Check if the null values are removed\n",
        "\n",
        "print('Missing Values in Train set:',ftrain.isnull().sum(axis = 0))"
      ],
      "execution_count": null,
      "outputs": [
        {
          "output_type": "stream",
          "text": [
            "Missing Values in Train set: TITLE            0\n",
            "RESTAURANT_ID    0\n",
            "CUISINES         0\n",
            "TIME             0\n",
            "CITY             0\n",
            "LOCALITY         0\n",
            "RATING           0\n",
            "VOTES            0\n",
            "COST             0\n",
            "dtype: int64\n"
          ],
          "name": "stdout"
        }
      ]
    },
    {
      "cell_type": "code",
      "metadata": {
        "id": "vZ0bACOeh_bx",
        "colab_type": "code",
        "colab": {
          "base_uri": "https://localhost:8080/",
          "height": 181
        },
        "outputId": "c8b9e5c2-c7a6-46c8-ff4f-38836ec78049"
      },
      "source": [
        "print('Missing Values in Test set:',ftest.isnull().sum(axis = 0))"
      ],
      "execution_count": null,
      "outputs": [
        {
          "output_type": "stream",
          "text": [
            "Missing Values in Test set: TITLE            0\n",
            "RESTAURANT_ID    0\n",
            "CUISINES         0\n",
            "TIME             0\n",
            "CITY             0\n",
            "LOCALITY         0\n",
            "RATING           0\n",
            "VOTES            0\n",
            "dtype: int64\n"
          ],
          "name": "stdout"
        }
      ]
    },
    {
      "cell_type": "code",
      "metadata": {
        "id": "DK-NBAm6lz3F",
        "colab_type": "code",
        "colab": {
          "base_uri": "https://localhost:8080/",
          "height": 198
        },
        "outputId": "96f7870f-d581-43ac-eebe-ccd5cd115671"
      },
      "source": [
        "df.head()"
      ],
      "execution_count": null,
      "outputs": [
        {
          "output_type": "execute_result",
          "data": {
            "text/html": [
              "<div>\n",
              "<style scoped>\n",
              "    .dataframe tbody tr th:only-of-type {\n",
              "        vertical-align: middle;\n",
              "    }\n",
              "\n",
              "    .dataframe tbody tr th {\n",
              "        vertical-align: top;\n",
              "    }\n",
              "\n",
              "    .dataframe thead th {\n",
              "        text-align: right;\n",
              "    }\n",
              "</style>\n",
              "<table border=\"1\" class=\"dataframe\">\n",
              "  <thead>\n",
              "    <tr style=\"text-align: right;\">\n",
              "      <th></th>\n",
              "      <th>TITLE</th>\n",
              "      <th>CUISINES</th>\n",
              "      <th>TIME</th>\n",
              "      <th>CITY</th>\n",
              "      <th>LOCALITY</th>\n",
              "      <th>RATING</th>\n",
              "      <th>VOTES</th>\n",
              "      <th>COST</th>\n",
              "    </tr>\n",
              "  </thead>\n",
              "  <tbody>\n",
              "    <tr>\n",
              "      <th>0</th>\n",
              "      <td>CASUAL DINING</td>\n",
              "      <td>Malwani, Goan, North Indian</td>\n",
              "      <td>11am – 4pm, 7:30pm – 11:30pm (Mon-Sun)</td>\n",
              "      <td>Thane</td>\n",
              "      <td>Dombivali East</td>\n",
              "      <td>3.6</td>\n",
              "      <td>49.0</td>\n",
              "      <td>1200.0</td>\n",
              "    </tr>\n",
              "    <tr>\n",
              "      <th>1</th>\n",
              "      <td>CASUAL DINING,BAR</td>\n",
              "      <td>Asian, Modern Indian, Japanese</td>\n",
              "      <td>6pm – 11pm (Mon-Sun)</td>\n",
              "      <td>Chennai</td>\n",
              "      <td>Ramapuram</td>\n",
              "      <td>4.2</td>\n",
              "      <td>30.0</td>\n",
              "      <td>1500.0</td>\n",
              "    </tr>\n",
              "    <tr>\n",
              "      <th>2</th>\n",
              "      <td>CASUAL DINING</td>\n",
              "      <td>North Indian, Chinese, Biryani, Hyderabadi</td>\n",
              "      <td>11am – 3:30pm, 7pm – 11pm (Mon-Sun)</td>\n",
              "      <td>Chennai</td>\n",
              "      <td>Saligramam</td>\n",
              "      <td>3.8</td>\n",
              "      <td>221.0</td>\n",
              "      <td>800.0</td>\n",
              "    </tr>\n",
              "    <tr>\n",
              "      <th>3</th>\n",
              "      <td>QUICK BITES</td>\n",
              "      <td>Tibetan, Chinese</td>\n",
              "      <td>11:30am – 1am (Mon-Sun)</td>\n",
              "      <td>Mumbai</td>\n",
              "      <td>Bandra West</td>\n",
              "      <td>4.1</td>\n",
              "      <td>24.0</td>\n",
              "      <td>800.0</td>\n",
              "    </tr>\n",
              "    <tr>\n",
              "      <th>4</th>\n",
              "      <td>DESSERT PARLOR</td>\n",
              "      <td>Desserts</td>\n",
              "      <td>11am – 1am (Mon-Sun)</td>\n",
              "      <td>Mumbai</td>\n",
              "      <td>Lower Parel</td>\n",
              "      <td>3.8</td>\n",
              "      <td>165.0</td>\n",
              "      <td>300.0</td>\n",
              "    </tr>\n",
              "  </tbody>\n",
              "</table>\n",
              "</div>"
            ],
            "text/plain": [
              "               TITLE                                    CUISINES  ...  VOTES    COST\n",
              "0      CASUAL DINING                 Malwani, Goan, North Indian  ...   49.0  1200.0\n",
              "1  CASUAL DINING,BAR              Asian, Modern Indian, Japanese  ...   30.0  1500.0\n",
              "2      CASUAL DINING  North Indian, Chinese, Biryani, Hyderabadi  ...  221.0   800.0\n",
              "3        QUICK BITES                            Tibetan, Chinese  ...   24.0   800.0\n",
              "4     DESSERT PARLOR                                    Desserts  ...  165.0   300.0\n",
              "\n",
              "[5 rows x 8 columns]"
            ]
          },
          "metadata": {
            "tags": []
          },
          "execution_count": 21
        }
      ]
    },
    {
      "cell_type": "code",
      "metadata": {
        "id": "dXxJy22Pk7zX",
        "colab_type": "code",
        "colab": {
          "base_uri": "https://localhost:8080/",
          "height": 437
        },
        "outputId": "8c43b2fc-17e1-4b6f-b078-66c2140a30f0"
      },
      "source": [
        "#Clculating the average Ratings City-Wise\n",
        "\n",
        "rating_city_mean = df.groupby(['CITY'], axis=0).agg({'RATING': 'mean'})\n",
        "rating_city_mean"
      ],
      "execution_count": null,
      "outputs": [
        {
          "output_type": "execute_result",
          "data": {
            "text/html": [
              "<div>\n",
              "<style scoped>\n",
              "    .dataframe tbody tr th:only-of-type {\n",
              "        vertical-align: middle;\n",
              "    }\n",
              "\n",
              "    .dataframe tbody tr th {\n",
              "        vertical-align: top;\n",
              "    }\n",
              "\n",
              "    .dataframe thead th {\n",
              "        text-align: right;\n",
              "    }\n",
              "</style>\n",
              "<table border=\"1\" class=\"dataframe\">\n",
              "  <thead>\n",
              "    <tr style=\"text-align: right;\">\n",
              "      <th></th>\n",
              "      <th>RATING</th>\n",
              "    </tr>\n",
              "    <tr>\n",
              "      <th>CITY</th>\n",
              "      <th></th>\n",
              "    </tr>\n",
              "  </thead>\n",
              "  <tbody>\n",
              "    <tr>\n",
              "      <th>10th avenue</th>\n",
              "      <td>3.600000</td>\n",
              "    </tr>\n",
              "    <tr>\n",
              "      <th>1st Stage</th>\n",
              "      <td>3.766667</td>\n",
              "    </tr>\n",
              "    <tr>\n",
              "      <th>1st Tavarekere</th>\n",
              "      <td>3.400000</td>\n",
              "    </tr>\n",
              "    <tr>\n",
              "      <th>3rd Street</th>\n",
              "      <td>4.300000</td>\n",
              "    </tr>\n",
              "    <tr>\n",
              "      <th>5th Main Teachers Colony Koramangala Block 1 Bangalore 560034</th>\n",
              "      <td>4.100000</td>\n",
              "    </tr>\n",
              "    <tr>\n",
              "      <th>...</th>\n",
              "      <td>...</td>\n",
              "    </tr>\n",
              "    <tr>\n",
              "      <th>opp gurudwara Shakurpur</th>\n",
              "      <td>3.800000</td>\n",
              "    </tr>\n",
              "    <tr>\n",
              "      <th>opp mukteshwar ashram powai</th>\n",
              "      <td>4.700000</td>\n",
              "    </tr>\n",
              "    <tr>\n",
              "      <th>opposite to western side of ITPL Service gate</th>\n",
              "      <td>3.600000</td>\n",
              "    </tr>\n",
              "    <tr>\n",
              "      <th>p.o Kochi</th>\n",
              "      <td>3.200000</td>\n",
              "    </tr>\n",
              "    <tr>\n",
              "      <th>ward X11</th>\n",
              "      <td>4.000000</td>\n",
              "    </tr>\n",
              "  </tbody>\n",
              "</table>\n",
              "<p>450 rows × 1 columns</p>\n",
              "</div>"
            ],
            "text/plain": [
              "                                                      RATING\n",
              "CITY                                                        \n",
              "10th avenue                                         3.600000\n",
              "1st Stage                                           3.766667\n",
              "1st Tavarekere                                      3.400000\n",
              "3rd Street                                          4.300000\n",
              "5th Main Teachers Colony Koramangala Block 1 Ba...  4.100000\n",
              "...                                                      ...\n",
              "opp gurudwara Shakurpur                             3.800000\n",
              "opp mukteshwar ashram powai                         4.700000\n",
              "opposite to western side of ITPL Service gate       3.600000\n",
              "p.o Kochi                                           3.200000\n",
              "ward X11                                            4.000000\n",
              "\n",
              "[450 rows x 1 columns]"
            ]
          },
          "metadata": {
            "tags": []
          },
          "execution_count": 22
        }
      ]
    },
    {
      "cell_type": "code",
      "metadata": {
        "id": "SSZ7jfndlbyc",
        "colab_type": "code",
        "colab": {
          "base_uri": "https://localhost:8080/",
          "height": 437
        },
        "outputId": "36b05192-b57d-4d90-9bdf-d2552874dc2b"
      },
      "source": [
        "#Calculate the mean of the Ratings Locality-Wise\n",
        "rating_localtiy_mean = df.groupby(['LOCALITY'], axis=0).agg({'RATING': 'mean'})\n",
        "rating_localtiy_mean"
      ],
      "execution_count": null,
      "outputs": [
        {
          "output_type": "execute_result",
          "data": {
            "text/html": [
              "<div>\n",
              "<style scoped>\n",
              "    .dataframe tbody tr th:only-of-type {\n",
              "        vertical-align: middle;\n",
              "    }\n",
              "\n",
              "    .dataframe tbody tr th {\n",
              "        vertical-align: top;\n",
              "    }\n",
              "\n",
              "    .dataframe thead th {\n",
              "        text-align: right;\n",
              "    }\n",
              "</style>\n",
              "<table border=\"1\" class=\"dataframe\">\n",
              "  <thead>\n",
              "    <tr style=\"text-align: right;\">\n",
              "      <th></th>\n",
              "      <th>RATING</th>\n",
              "    </tr>\n",
              "    <tr>\n",
              "      <th>LOCALITY</th>\n",
              "      <th></th>\n",
              "    </tr>\n",
              "  </thead>\n",
              "  <tbody>\n",
              "    <tr>\n",
              "      <th>(Main Market) Mayur Vihar Phase 2</th>\n",
              "      <td>4.0</td>\n",
              "    </tr>\n",
              "    <tr>\n",
              "      <th>(ground floor of Sunrise Chambers)</th>\n",
              "      <td>4.2</td>\n",
              "    </tr>\n",
              "    <tr>\n",
              "      <th>1 st Cross street</th>\n",
              "      <td>3.6</td>\n",
              "    </tr>\n",
              "    <tr>\n",
              "      <th>1-7-172/1 Ecil Opposite</th>\n",
              "      <td>3.8</td>\n",
              "    </tr>\n",
              "    <tr>\n",
              "      <th>100 Ft Road</th>\n",
              "      <td>3.0</td>\n",
              "    </tr>\n",
              "    <tr>\n",
              "      <th>...</th>\n",
              "      <td>...</td>\n",
              "    </tr>\n",
              "    <tr>\n",
              "      <th>seawoods grand central mall</th>\n",
              "      <td>3.9</td>\n",
              "    </tr>\n",
              "    <tr>\n",
              "      <th>sector 42</th>\n",
              "      <td>1.0</td>\n",
              "    </tr>\n",
              "    <tr>\n",
              "      <th>sholinganallur</th>\n",
              "      <td>2.9</td>\n",
              "    </tr>\n",
              "    <tr>\n",
              "      <th>shop 7 shikrupa socity</th>\n",
              "      <td>4.1</td>\n",
              "    </tr>\n",
              "    <tr>\n",
              "      <th>shop no. 3 Sector 22</th>\n",
              "      <td>3.8</td>\n",
              "    </tr>\n",
              "  </tbody>\n",
              "</table>\n",
              "<p>1636 rows × 1 columns</p>\n",
              "</div>"
            ],
            "text/plain": [
              "                                    RATING\n",
              "LOCALITY                                  \n",
              "(Main Market) Mayur Vihar Phase 2      4.0\n",
              "(ground floor of Sunrise Chambers)     4.2\n",
              "1 st Cross street                      3.6\n",
              "1-7-172/1 Ecil Opposite                3.8\n",
              "100 Ft Road                            3.0\n",
              "...                                    ...\n",
              "seawoods grand central mall            3.9\n",
              "sector 42                              1.0\n",
              "sholinganallur                         2.9\n",
              "shop 7 shikrupa socity                 4.1\n",
              "shop no. 3 Sector 22                   3.8\n",
              "\n",
              "[1636 rows x 1 columns]"
            ]
          },
          "metadata": {
            "tags": []
          },
          "execution_count": 23
        }
      ]
    },
    {
      "cell_type": "markdown",
      "metadata": {
        "id": "uwjgexcMm9Hh",
        "colab_type": "text"
      },
      "source": [
        "Graphical Univariate Analysis:"
      ]
    },
    {
      "cell_type": "code",
      "metadata": {
        "id": "EwSp5Q7QmuyB",
        "colab_type": "code",
        "colab": {
          "base_uri": "https://localhost:8080/",
          "height": 604
        },
        "outputId": "2f80b9ac-9e99-43d7-a5a6-53fbe545c4fd"
      },
      "source": [
        "plt.figure(figsize=[13,13])\n",
        "sns.pairplot(df,diag_kind='kde')"
      ],
      "execution_count": null,
      "outputs": [
        {
          "output_type": "execute_result",
          "data": {
            "text/plain": [
              "<seaborn.axisgrid.PairGrid at 0x7f99f66bdf28>"
            ]
          },
          "metadata": {
            "tags": []
          },
          "execution_count": 24
        },
        {
          "output_type": "display_data",
          "data": {
            "text/plain": [
              "<Figure size 936x936 with 0 Axes>"
            ]
          },
          "metadata": {
            "tags": []
          }
        },
        {
          "output_type": "display_data",
          "data": {
            "image/png": "[encoded data removed]",
            "text/plain": [
              "<Figure size 540x540 with 12 Axes>"
            ]
          },
          "metadata": {
            "tags": [],
            "needs_background": "light"
          }
        }
      ]
    },
    {
      "cell_type": "code",
      "metadata": {
        "id": "RSTagCnjnA9W",
        "colab_type": "code",
        "colab": {
          "base_uri": "https://localhost:8080/",
          "height": 298
        },
        "outputId": "ae7f2434-5fbb-4603-d641-91ecb5cf736a"
      },
      "source": [
        "#BoxPlot\n",
        "#checking for outliers present in the dataset if any\n",
        "\n",
        "sns.boxplot(x=df['CUISINES'],y=df['COST'])"
      ],
      "execution_count": null,
      "outputs": [
        {
          "output_type": "execute_result",
          "data": {
            "text/plain": [
              "<matplotlib.axes._subplots.AxesSubplot at 0x7f99f14e4a20>"
            ]
          },
          "metadata": {
            "tags": []
          },
          "execution_count": 25
        },
        {
          "output_type": "display_data",
          "data": {
            "image/png": "[encoded data removed]",
            "text/plain": [
              "<Figure size 432x288 with 1 Axes>"
            ]
          },
          "metadata": {
            "tags": [],
            "needs_background": "light"
          }
        }
      ]
    },
    {
      "cell_type": "code",
      "metadata": {
        "id": "uuFQmrdxoLNM",
        "colab_type": "code",
        "colab": {
          "base_uri": "https://localhost:8080/",
          "height": 138
        },
        "outputId": "439fd625-b61a-4b00-ad7f-308c28aa11e8"
      },
      "source": [
        "#checking for correaltion between variables\n",
        "\n",
        "df.corr()"
      ],
      "execution_count": null,
      "outputs": [
        {
          "output_type": "execute_result",
          "data": {
            "text/html": [
              "<div>\n",
              "<style scoped>\n",
              "    .dataframe tbody tr th:only-of-type {\n",
              "        vertical-align: middle;\n",
              "    }\n",
              "\n",
              "    .dataframe tbody tr th {\n",
              "        vertical-align: top;\n",
              "    }\n",
              "\n",
              "    .dataframe thead th {\n",
              "        text-align: right;\n",
              "    }\n",
              "</style>\n",
              "<table border=\"1\" class=\"dataframe\">\n",
              "  <thead>\n",
              "    <tr style=\"text-align: right;\">\n",
              "      <th></th>\n",
              "      <th>RATING</th>\n",
              "      <th>VOTES</th>\n",
              "      <th>COST</th>\n",
              "    </tr>\n",
              "  </thead>\n",
              "  <tbody>\n",
              "    <tr>\n",
              "      <th>RATING</th>\n",
              "      <td>1.000000</td>\n",
              "      <td>0.349979</td>\n",
              "      <td>0.258957</td>\n",
              "    </tr>\n",
              "    <tr>\n",
              "      <th>VOTES</th>\n",
              "      <td>0.349979</td>\n",
              "      <td>1.000000</td>\n",
              "      <td>0.245256</td>\n",
              "    </tr>\n",
              "    <tr>\n",
              "      <th>COST</th>\n",
              "      <td>0.258957</td>\n",
              "      <td>0.245256</td>\n",
              "      <td>1.000000</td>\n",
              "    </tr>\n",
              "  </tbody>\n",
              "</table>\n",
              "</div>"
            ],
            "text/plain": [
              "          RATING     VOTES      COST\n",
              "RATING  1.000000  0.349979  0.258957\n",
              "VOTES   0.349979  1.000000  0.245256\n",
              "COST    0.258957  0.245256  1.000000"
            ]
          },
          "metadata": {
            "tags": []
          },
          "execution_count": 26
        }
      ]
    },
    {
      "cell_type": "code",
      "metadata": {
        "id": "pFM8CjCAoSOs",
        "colab_type": "code",
        "colab": {
          "base_uri": "https://localhost:8080/",
          "height": 287
        },
        "outputId": "ad89b82d-c427-4da6-c5f5-6bea86b34044"
      },
      "source": [
        "#Checking correlation using Heatmap\n",
        "\n",
        "sns.heatmap(df.corr())"
      ],
      "execution_count": null,
      "outputs": [
        {
          "output_type": "execute_result",
          "data": {
            "text/plain": [
              "<matplotlib.axes._subplots.AxesSubplot at 0x7f99f3a49c88>"
            ]
          },
          "metadata": {
            "tags": []
          },
          "execution_count": 27
        },
        {
          "output_type": "display_data",
          "data": {
            "image/png": "[encoded data removed]",
            "text/plain": [
              "<Figure size 432x288 with 2 Axes>"
            ]
          },
          "metadata": {
            "tags": [],
            "needs_background": "light"
          }
        }
      ]
    },
    {
      "cell_type": "code",
      "metadata": {
        "id": "r5UJ-7LcoVqj",
        "colab_type": "code",
        "colab": {
          "base_uri": "https://localhost:8080/",
          "height": 90
        },
        "outputId": "faffb558-6509-44fa-be1d-66c7e90816cb"
      },
      "source": [
        "#Checking the skewness\n",
        "\n",
        "df.skew()"
      ],
      "execution_count": null,
      "outputs": [
        {
          "output_type": "execute_result",
          "data": {
            "text/plain": [
              "RATING    -1.867870\n",
              "VOTES     12.385436\n",
              "COST       3.978801\n",
              "dtype: float64"
            ]
          },
          "metadata": {
            "tags": []
          },
          "execution_count": 28
        }
      ]
    },
    {
      "cell_type": "code",
      "metadata": {
        "id": "TjKQlXzboaR7",
        "colab_type": "code",
        "colab": {
          "base_uri": "https://localhost:8080/",
          "height": 198
        },
        "outputId": "eec873d8-aca2-4272-fbfe-dfde96264a87"
      },
      "source": [
        "#using label encoding and one-hot encoding\n",
        "\n",
        "from sklearn.preprocessing import LabelEncoder\n",
        "\n",
        "le = LabelEncoder()\n",
        "df['RATING'] = le.fit_transform(df['RATING'])\n",
        "df['VOTES'] = le.fit_transform(df['VOTES'])\n",
        "df['COST'] = le.fit_transform(df['COST'])\n",
        "df.head(5)"
      ],
      "execution_count": null,
      "outputs": [
        {
          "output_type": "execute_result",
          "data": {
            "text/html": [
              "<div>\n",
              "<style scoped>\n",
              "    .dataframe tbody tr th:only-of-type {\n",
              "        vertical-align: middle;\n",
              "    }\n",
              "\n",
              "    .dataframe tbody tr th {\n",
              "        vertical-align: top;\n",
              "    }\n",
              "\n",
              "    .dataframe thead th {\n",
              "        text-align: right;\n",
              "    }\n",
              "</style>\n",
              "<table border=\"1\" class=\"dataframe\">\n",
              "  <thead>\n",
              "    <tr style=\"text-align: right;\">\n",
              "      <th></th>\n",
              "      <th>TITLE</th>\n",
              "      <th>CUISINES</th>\n",
              "      <th>TIME</th>\n",
              "      <th>CITY</th>\n",
              "      <th>LOCALITY</th>\n",
              "      <th>RATING</th>\n",
              "      <th>VOTES</th>\n",
              "      <th>COST</th>\n",
              "    </tr>\n",
              "  </thead>\n",
              "  <tbody>\n",
              "    <tr>\n",
              "      <th>0</th>\n",
              "      <td>CASUAL DINING</td>\n",
              "      <td>Malwani, Goan, North Indian</td>\n",
              "      <td>11am – 4pm, 7:30pm – 11:30pm (Mon-Sun)</td>\n",
              "      <td>Thane</td>\n",
              "      <td>Dombivali East</td>\n",
              "      <td>17</td>\n",
              "      <td>46</td>\n",
              "      <td>36</td>\n",
              "    </tr>\n",
              "    <tr>\n",
              "      <th>1</th>\n",
              "      <td>CASUAL DINING,BAR</td>\n",
              "      <td>Asian, Modern Indian, Japanese</td>\n",
              "      <td>6pm – 11pm (Mon-Sun)</td>\n",
              "      <td>Chennai</td>\n",
              "      <td>Ramapuram</td>\n",
              "      <td>23</td>\n",
              "      <td>27</td>\n",
              "      <td>43</td>\n",
              "    </tr>\n",
              "    <tr>\n",
              "      <th>2</th>\n",
              "      <td>CASUAL DINING</td>\n",
              "      <td>North Indian, Chinese, Biryani, Hyderabadi</td>\n",
              "      <td>11am – 3:30pm, 7pm – 11pm (Mon-Sun)</td>\n",
              "      <td>Chennai</td>\n",
              "      <td>Saligramam</td>\n",
              "      <td>19</td>\n",
              "      <td>218</td>\n",
              "      <td>28</td>\n",
              "    </tr>\n",
              "    <tr>\n",
              "      <th>3</th>\n",
              "      <td>QUICK BITES</td>\n",
              "      <td>Tibetan, Chinese</td>\n",
              "      <td>11:30am – 1am (Mon-Sun)</td>\n",
              "      <td>Mumbai</td>\n",
              "      <td>Bandra West</td>\n",
              "      <td>22</td>\n",
              "      <td>21</td>\n",
              "      <td>28</td>\n",
              "    </tr>\n",
              "    <tr>\n",
              "      <th>4</th>\n",
              "      <td>DESSERT PARLOR</td>\n",
              "      <td>Desserts</td>\n",
              "      <td>11am – 1am (Mon-Sun)</td>\n",
              "      <td>Mumbai</td>\n",
              "      <td>Lower Parel</td>\n",
              "      <td>19</td>\n",
              "      <td>162</td>\n",
              "      <td>14</td>\n",
              "    </tr>\n",
              "  </tbody>\n",
              "</table>\n",
              "</div>"
            ],
            "text/plain": [
              "               TITLE                                    CUISINES  ... VOTES COST\n",
              "0      CASUAL DINING                 Malwani, Goan, North Indian  ...    46   36\n",
              "1  CASUAL DINING,BAR              Asian, Modern Indian, Japanese  ...    27   43\n",
              "2      CASUAL DINING  North Indian, Chinese, Biryani, Hyderabadi  ...   218   28\n",
              "3        QUICK BITES                            Tibetan, Chinese  ...    21   28\n",
              "4     DESSERT PARLOR                                    Desserts  ...   162   14\n",
              "\n",
              "[5 rows x 8 columns]"
            ]
          },
          "metadata": {
            "tags": []
          },
          "execution_count": 29
        }
      ]
    },
    {
      "cell_type": "code",
      "metadata": {
        "id": "MHLJUpCSo28b",
        "colab_type": "code",
        "colab": {
          "base_uri": "https://localhost:8080/",
          "height": 334
        },
        "outputId": "7ac922fb-c4fd-407c-d031-a23d812eea48"
      },
      "source": [
        "#dummifying data required for spliting the data\n",
        "\n",
        "df = pd.get_dummies(df)\n",
        "df.head(5)"
      ],
      "execution_count": null,
      "outputs": [
        {
          "output_type": "execute_result",
          "data": {
            "text/html": [
              "<div>\n",
              "<style scoped>\n",
              "    .dataframe tbody tr th:only-of-type {\n",
              "        vertical-align: middle;\n",
              "    }\n",
              "\n",
              "    .dataframe tbody tr th {\n",
              "        vertical-align: top;\n",
              "    }\n",
              "\n",
              "    .dataframe thead th {\n",
              "        text-align: right;\n",
              "    }\n",
              "</style>\n",
              "<table border=\"1\" class=\"dataframe\">\n",
              "  <thead>\n",
              "    <tr style=\"text-align: right;\">\n",
              "      <th></th>\n",
              "      <th>RATING</th>\n",
              "      <th>VOTES</th>\n",
              "      <th>COST</th>\n",
              "      <th>TITLE_BAKERY</th>\n",
              "      <th>TITLE_BAKERY,BEVERAGE SHOP</th>\n",
              "      <th>TITLE_BAKERY,CAFÉ</th>\n",
              "      <th>TITLE_BAKERY,CASUAL DINING</th>\n",
              "      <th>TITLE_BAKERY,CONFECTIONERY</th>\n",
              "      <th>TITLE_BAKERY,DESSERT PARLOR</th>\n",
              "      <th>TITLE_BAKERY,FOOD COURT</th>\n",
              "      <th>TITLE_BAKERY,QUICK BITES</th>\n",
              "      <th>TITLE_BAKERY,SWEET SHOP</th>\n",
              "      <th>TITLE_BAR</th>\n",
              "      <th>TITLE_BAR,CAFÉ</th>\n",
              "      <th>TITLE_BAR,CASUAL DINING</th>\n",
              "      <th>TITLE_BAR,CLUB</th>\n",
              "      <th>TITLE_BAR,FINE DINING</th>\n",
              "      <th>TITLE_BAR,LOUNGE</th>\n",
              "      <th>TITLE_BAR,MICROBREWERY</th>\n",
              "      <th>TITLE_BAR,PUB</th>\n",
              "      <th>TITLE_BEVERAGE SHOP</th>\n",
              "      <th>TITLE_BEVERAGE SHOP,CAFÉ</th>\n",
              "      <th>TITLE_BEVERAGE SHOP,CASUAL DINING</th>\n",
              "      <th>TITLE_BEVERAGE SHOP,DESSERT PARLOR</th>\n",
              "      <th>TITLE_BEVERAGE SHOP,FOOD COURT</th>\n",
              "      <th>TITLE_BEVERAGE SHOP,QUICK BITES</th>\n",
              "      <th>TITLE_BHOJANALYA</th>\n",
              "      <th>TITLE_CAFÉ</th>\n",
              "      <th>TITLE_CAFÉ,BAKERY</th>\n",
              "      <th>TITLE_CAFÉ,BAR</th>\n",
              "      <th>TITLE_CAFÉ,BEVERAGE SHOP</th>\n",
              "      <th>TITLE_CAFÉ,CASUAL DINING</th>\n",
              "      <th>TITLE_CAFÉ,DESSERT PARLOR</th>\n",
              "      <th>TITLE_CAFÉ,FINE DINING</th>\n",
              "      <th>TITLE_CAFÉ,FOOD COURT</th>\n",
              "      <th>TITLE_CAFÉ,LOUNGE</th>\n",
              "      <th>TITLE_CAFÉ,QUICK BITES</th>\n",
              "      <th>TITLE_CASUAL DINING</th>\n",
              "      <th>TITLE_CASUAL DINING,BAKERY</th>\n",
              "      <th>TITLE_CASUAL DINING,BAR</th>\n",
              "      <th>...</th>\n",
              "      <th>LOCALITY_West Saidapet</th>\n",
              "      <th>LOCALITY_West Tambaram</th>\n",
              "      <th>LOCALITY_Whitefield</th>\n",
              "      <th>LOCALITY_Willingdon Island</th>\n",
              "      <th>LOCALITY_Wilson Garden</th>\n",
              "      <th>LOCALITY_Wipro Gate</th>\n",
              "      <th>LOCALITY_Worli</th>\n",
              "      <th>LOCALITY_X Roads Besides Famous Tailors</th>\n",
              "      <th>LOCALITY_YMCA Junction. Chittoor Road</th>\n",
              "      <th>LOCALITY_Yapral</th>\n",
              "      <th>LOCALITY_Yelahanka</th>\n",
              "      <th>LOCALITY_Yelahanka New Town</th>\n",
              "      <th>LOCALITY_Yeshwantpur</th>\n",
              "      <th>LOCALITY_Yousufguda</th>\n",
              "      <th>LOCALITY_Yousufguda Main Road</th>\n",
              "      <th>LOCALITY_Yusuf Sarai</th>\n",
              "      <th>LOCALITY_Zakir Nagar</th>\n",
              "      <th>LOCALITY_Zehra Nagar</th>\n",
              "      <th>LOCALITY_hsr layout</th>\n",
              "      <th>LOCALITY_in front of Rajiv chowk metro gate no -5</th>\n",
              "      <th>LOCALITY_international Airport</th>\n",
              "      <th>LOCALITY_kadubeesanahalli</th>\n",
              "      <th>LOCALITY_kakkanad</th>\n",
              "      <th>LOCALITY_kphb 4th phase</th>\n",
              "      <th>LOCALITY_kukatpally</th>\n",
              "      <th>LOCALITY_landmark Niranjan central apartment</th>\n",
              "      <th>LOCALITY_lane besides to King’s Burger. Next to nellore mess</th>\n",
              "      <th>LOCALITY_madhapur</th>\n",
              "      <th>LOCALITY_near Andhra Prabha office</th>\n",
              "      <th>LOCALITY_near swarn nagri</th>\n",
              "      <th>LOCALITY_nizampet</th>\n",
              "      <th>LOCALITY_nungambakkam</th>\n",
              "      <th>LOCALITY_perungudi</th>\n",
              "      <th>LOCALITY_phase 3</th>\n",
              "      <th>LOCALITY_rajendra nagar</th>\n",
              "      <th>LOCALITY_seawoods grand central mall</th>\n",
              "      <th>LOCALITY_sector 42</th>\n",
              "      <th>LOCALITY_sholinganallur</th>\n",
              "      <th>LOCALITY_shop 7 shikrupa socity</th>\n",
              "      <th>LOCALITY_shop no. 3 Sector 22</th>\n",
              "    </tr>\n",
              "  </thead>\n",
              "  <tbody>\n",
              "    <tr>\n",
              "      <th>0</th>\n",
              "      <td>17</td>\n",
              "      <td>46</td>\n",
              "      <td>36</td>\n",
              "      <td>0</td>\n",
              "      <td>0</td>\n",
              "      <td>0</td>\n",
              "      <td>0</td>\n",
              "      <td>0</td>\n",
              "      <td>0</td>\n",
              "      <td>0</td>\n",
              "      <td>0</td>\n",
              "      <td>0</td>\n",
              "      <td>0</td>\n",
              "      <td>0</td>\n",
              "      <td>0</td>\n",
              "      <td>0</td>\n",
              "      <td>0</td>\n",
              "      <td>0</td>\n",
              "      <td>0</td>\n",
              "      <td>0</td>\n",
              "      <td>0</td>\n",
              "      <td>0</td>\n",
              "      <td>0</td>\n",
              "      <td>0</td>\n",
              "      <td>0</td>\n",
              "      <td>0</td>\n",
              "      <td>0</td>\n",
              "      <td>0</td>\n",
              "      <td>0</td>\n",
              "      <td>0</td>\n",
              "      <td>0</td>\n",
              "      <td>0</td>\n",
              "      <td>0</td>\n",
              "      <td>0</td>\n",
              "      <td>0</td>\n",
              "      <td>0</td>\n",
              "      <td>0</td>\n",
              "      <td>1</td>\n",
              "      <td>0</td>\n",
              "      <td>0</td>\n",
              "      <td>...</td>\n",
              "      <td>0</td>\n",
              "      <td>0</td>\n",
              "      <td>0</td>\n",
              "      <td>0</td>\n",
              "      <td>0</td>\n",
              "      <td>0</td>\n",
              "      <td>0</td>\n",
              "      <td>0</td>\n",
              "      <td>0</td>\n",
              "      <td>0</td>\n",
              "      <td>0</td>\n",
              "      <td>0</td>\n",
              "      <td>0</td>\n",
              "      <td>0</td>\n",
              "      <td>0</td>\n",
              "      <td>0</td>\n",
              "      <td>0</td>\n",
              "      <td>0</td>\n",
              "      <td>0</td>\n",
              "      <td>0</td>\n",
              "      <td>0</td>\n",
              "      <td>0</td>\n",
              "      <td>0</td>\n",
              "      <td>0</td>\n",
              "      <td>0</td>\n",
              "      <td>0</td>\n",
              "      <td>0</td>\n",
              "      <td>0</td>\n",
              "      <td>0</td>\n",
              "      <td>0</td>\n",
              "      <td>0</td>\n",
              "      <td>0</td>\n",
              "      <td>0</td>\n",
              "      <td>0</td>\n",
              "      <td>0</td>\n",
              "      <td>0</td>\n",
              "      <td>0</td>\n",
              "      <td>0</td>\n",
              "      <td>0</td>\n",
              "      <td>0</td>\n",
              "    </tr>\n",
              "    <tr>\n",
              "      <th>1</th>\n",
              "      <td>23</td>\n",
              "      <td>27</td>\n",
              "      <td>43</td>\n",
              "      <td>0</td>\n",
              "      <td>0</td>\n",
              "      <td>0</td>\n",
              "      <td>0</td>\n",
              "      <td>0</td>\n",
              "      <td>0</td>\n",
              "      <td>0</td>\n",
              "      <td>0</td>\n",
              "      <td>0</td>\n",
              "      <td>0</td>\n",
              "      <td>0</td>\n",
              "      <td>0</td>\n",
              "      <td>0</td>\n",
              "      <td>0</td>\n",
              "      <td>0</td>\n",
              "      <td>0</td>\n",
              "      <td>0</td>\n",
              "      <td>0</td>\n",
              "      <td>0</td>\n",
              "      <td>0</td>\n",
              "      <td>0</td>\n",
              "      <td>0</td>\n",
              "      <td>0</td>\n",
              "      <td>0</td>\n",
              "      <td>0</td>\n",
              "      <td>0</td>\n",
              "      <td>0</td>\n",
              "      <td>0</td>\n",
              "      <td>0</td>\n",
              "      <td>0</td>\n",
              "      <td>0</td>\n",
              "      <td>0</td>\n",
              "      <td>0</td>\n",
              "      <td>0</td>\n",
              "      <td>0</td>\n",
              "      <td>0</td>\n",
              "      <td>1</td>\n",
              "      <td>...</td>\n",
              "      <td>0</td>\n",
              "      <td>0</td>\n",
              "      <td>0</td>\n",
              "      <td>0</td>\n",
              "      <td>0</td>\n",
              "      <td>0</td>\n",
              "      <td>0</td>\n",
              "      <td>0</td>\n",
              "      <td>0</td>\n",
              "      <td>0</td>\n",
              "      <td>0</td>\n",
              "      <td>0</td>\n",
              "      <td>0</td>\n",
              "      <td>0</td>\n",
              "      <td>0</td>\n",
              "      <td>0</td>\n",
              "      <td>0</td>\n",
              "      <td>0</td>\n",
              "      <td>0</td>\n",
              "      <td>0</td>\n",
              "      <td>0</td>\n",
              "      <td>0</td>\n",
              "      <td>0</td>\n",
              "      <td>0</td>\n",
              "      <td>0</td>\n",
              "      <td>0</td>\n",
              "      <td>0</td>\n",
              "      <td>0</td>\n",
              "      <td>0</td>\n",
              "      <td>0</td>\n",
              "      <td>0</td>\n",
              "      <td>0</td>\n",
              "      <td>0</td>\n",
              "      <td>0</td>\n",
              "      <td>0</td>\n",
              "      <td>0</td>\n",
              "      <td>0</td>\n",
              "      <td>0</td>\n",
              "      <td>0</td>\n",
              "      <td>0</td>\n",
              "    </tr>\n",
              "    <tr>\n",
              "      <th>2</th>\n",
              "      <td>19</td>\n",
              "      <td>218</td>\n",
              "      <td>28</td>\n",
              "      <td>0</td>\n",
              "      <td>0</td>\n",
              "      <td>0</td>\n",
              "      <td>0</td>\n",
              "      <td>0</td>\n",
              "      <td>0</td>\n",
              "      <td>0</td>\n",
              "      <td>0</td>\n",
              "      <td>0</td>\n",
              "      <td>0</td>\n",
              "      <td>0</td>\n",
              "      <td>0</td>\n",
              "      <td>0</td>\n",
              "      <td>0</td>\n",
              "      <td>0</td>\n",
              "      <td>0</td>\n",
              "      <td>0</td>\n",
              "      <td>0</td>\n",
              "      <td>0</td>\n",
              "      <td>0</td>\n",
              "      <td>0</td>\n",
              "      <td>0</td>\n",
              "      <td>0</td>\n",
              "      <td>0</td>\n",
              "      <td>0</td>\n",
              "      <td>0</td>\n",
              "      <td>0</td>\n",
              "      <td>0</td>\n",
              "      <td>0</td>\n",
              "      <td>0</td>\n",
              "      <td>0</td>\n",
              "      <td>0</td>\n",
              "      <td>0</td>\n",
              "      <td>0</td>\n",
              "      <td>1</td>\n",
              "      <td>0</td>\n",
              "      <td>0</td>\n",
              "      <td>...</td>\n",
              "      <td>0</td>\n",
              "      <td>0</td>\n",
              "      <td>0</td>\n",
              "      <td>0</td>\n",
              "      <td>0</td>\n",
              "      <td>0</td>\n",
              "      <td>0</td>\n",
              "      <td>0</td>\n",
              "      <td>0</td>\n",
              "      <td>0</td>\n",
              "      <td>0</td>\n",
              "      <td>0</td>\n",
              "      <td>0</td>\n",
              "      <td>0</td>\n",
              "      <td>0</td>\n",
              "      <td>0</td>\n",
              "      <td>0</td>\n",
              "      <td>0</td>\n",
              "      <td>0</td>\n",
              "      <td>0</td>\n",
              "      <td>0</td>\n",
              "      <td>0</td>\n",
              "      <td>0</td>\n",
              "      <td>0</td>\n",
              "      <td>0</td>\n",
              "      <td>0</td>\n",
              "      <td>0</td>\n",
              "      <td>0</td>\n",
              "      <td>0</td>\n",
              "      <td>0</td>\n",
              "      <td>0</td>\n",
              "      <td>0</td>\n",
              "      <td>0</td>\n",
              "      <td>0</td>\n",
              "      <td>0</td>\n",
              "      <td>0</td>\n",
              "      <td>0</td>\n",
              "      <td>0</td>\n",
              "      <td>0</td>\n",
              "      <td>0</td>\n",
              "    </tr>\n",
              "    <tr>\n",
              "      <th>3</th>\n",
              "      <td>22</td>\n",
              "      <td>21</td>\n",
              "      <td>28</td>\n",
              "      <td>0</td>\n",
              "      <td>0</td>\n",
              "      <td>0</td>\n",
              "      <td>0</td>\n",
              "      <td>0</td>\n",
              "      <td>0</td>\n",
              "      <td>0</td>\n",
              "      <td>0</td>\n",
              "      <td>0</td>\n",
              "      <td>0</td>\n",
              "      <td>0</td>\n",
              "      <td>0</td>\n",
              "      <td>0</td>\n",
              "      <td>0</td>\n",
              "      <td>0</td>\n",
              "      <td>0</td>\n",
              "      <td>0</td>\n",
              "      <td>0</td>\n",
              "      <td>0</td>\n",
              "      <td>0</td>\n",
              "      <td>0</td>\n",
              "      <td>0</td>\n",
              "      <td>0</td>\n",
              "      <td>0</td>\n",
              "      <td>0</td>\n",
              "      <td>0</td>\n",
              "      <td>0</td>\n",
              "      <td>0</td>\n",
              "      <td>0</td>\n",
              "      <td>0</td>\n",
              "      <td>0</td>\n",
              "      <td>0</td>\n",
              "      <td>0</td>\n",
              "      <td>0</td>\n",
              "      <td>0</td>\n",
              "      <td>0</td>\n",
              "      <td>0</td>\n",
              "      <td>...</td>\n",
              "      <td>0</td>\n",
              "      <td>0</td>\n",
              "      <td>0</td>\n",
              "      <td>0</td>\n",
              "      <td>0</td>\n",
              "      <td>0</td>\n",
              "      <td>0</td>\n",
              "      <td>0</td>\n",
              "      <td>0</td>\n",
              "      <td>0</td>\n",
              "      <td>0</td>\n",
              "      <td>0</td>\n",
              "      <td>0</td>\n",
              "      <td>0</td>\n",
              "      <td>0</td>\n",
              "      <td>0</td>\n",
              "      <td>0</td>\n",
              "      <td>0</td>\n",
              "      <td>0</td>\n",
              "      <td>0</td>\n",
              "      <td>0</td>\n",
              "      <td>0</td>\n",
              "      <td>0</td>\n",
              "      <td>0</td>\n",
              "      <td>0</td>\n",
              "      <td>0</td>\n",
              "      <td>0</td>\n",
              "      <td>0</td>\n",
              "      <td>0</td>\n",
              "      <td>0</td>\n",
              "      <td>0</td>\n",
              "      <td>0</td>\n",
              "      <td>0</td>\n",
              "      <td>0</td>\n",
              "      <td>0</td>\n",
              "      <td>0</td>\n",
              "      <td>0</td>\n",
              "      <td>0</td>\n",
              "      <td>0</td>\n",
              "      <td>0</td>\n",
              "    </tr>\n",
              "    <tr>\n",
              "      <th>4</th>\n",
              "      <td>19</td>\n",
              "      <td>162</td>\n",
              "      <td>14</td>\n",
              "      <td>0</td>\n",
              "      <td>0</td>\n",
              "      <td>0</td>\n",
              "      <td>0</td>\n",
              "      <td>0</td>\n",
              "      <td>0</td>\n",
              "      <td>0</td>\n",
              "      <td>0</td>\n",
              "      <td>0</td>\n",
              "      <td>0</td>\n",
              "      <td>0</td>\n",
              "      <td>0</td>\n",
              "      <td>0</td>\n",
              "      <td>0</td>\n",
              "      <td>0</td>\n",
              "      <td>0</td>\n",
              "      <td>0</td>\n",
              "      <td>0</td>\n",
              "      <td>0</td>\n",
              "      <td>0</td>\n",
              "      <td>0</td>\n",
              "      <td>0</td>\n",
              "      <td>0</td>\n",
              "      <td>0</td>\n",
              "      <td>0</td>\n",
              "      <td>0</td>\n",
              "      <td>0</td>\n",
              "      <td>0</td>\n",
              "      <td>0</td>\n",
              "      <td>0</td>\n",
              "      <td>0</td>\n",
              "      <td>0</td>\n",
              "      <td>0</td>\n",
              "      <td>0</td>\n",
              "      <td>0</td>\n",
              "      <td>0</td>\n",
              "      <td>0</td>\n",
              "      <td>...</td>\n",
              "      <td>0</td>\n",
              "      <td>0</td>\n",
              "      <td>0</td>\n",
              "      <td>0</td>\n",
              "      <td>0</td>\n",
              "      <td>0</td>\n",
              "      <td>0</td>\n",
              "      <td>0</td>\n",
              "      <td>0</td>\n",
              "      <td>0</td>\n",
              "      <td>0</td>\n",
              "      <td>0</td>\n",
              "      <td>0</td>\n",
              "      <td>0</td>\n",
              "      <td>0</td>\n",
              "      <td>0</td>\n",
              "      <td>0</td>\n",
              "      <td>0</td>\n",
              "      <td>0</td>\n",
              "      <td>0</td>\n",
              "      <td>0</td>\n",
              "      <td>0</td>\n",
              "      <td>0</td>\n",
              "      <td>0</td>\n",
              "      <td>0</td>\n",
              "      <td>0</td>\n",
              "      <td>0</td>\n",
              "      <td>0</td>\n",
              "      <td>0</td>\n",
              "      <td>0</td>\n",
              "      <td>0</td>\n",
              "      <td>0</td>\n",
              "      <td>0</td>\n",
              "      <td>0</td>\n",
              "      <td>0</td>\n",
              "      <td>0</td>\n",
              "      <td>0</td>\n",
              "      <td>0</td>\n",
              "      <td>0</td>\n",
              "      <td>0</td>\n",
              "    </tr>\n",
              "  </tbody>\n",
              "</table>\n",
              "<p>5 rows × 10690 columns</p>\n",
              "</div>"
            ],
            "text/plain": [
              "   RATING  ...  LOCALITY_shop no. 3 Sector 22\n",
              "0      17  ...                              0\n",
              "1      23  ...                              0\n",
              "2      19  ...                              0\n",
              "3      22  ...                              0\n",
              "4      19  ...                              0\n",
              "\n",
              "[5 rows x 10690 columns]"
            ]
          },
          "metadata": {
            "tags": []
          },
          "execution_count": 30
        }
      ]
    },
    {
      "cell_type": "code",
      "metadata": {
        "id": "BYLL7sIWpBJk",
        "colab_type": "code",
        "colab": {}
      },
      "source": [
        "#spliting the data\n",
        "\n",
        "X = df.drop(labels=['COST'], axis=1)\n",
        "y = df['COST'].values\n",
        "\n",
        "from sklearn.model_selection import train_test_split\n",
        "X_train, X_test, y_train, y_test = train_test_split(X, y, test_size=0.25, random_state=1)"
      ],
      "execution_count": null,
      "outputs": []
    },
    {
      "cell_type": "markdown",
      "metadata": {
        "id": "Tdb7qbfLppak",
        "colab_type": "text"
      },
      "source": [
        "Building the model"
      ]
    },
    {
      "cell_type": "code",
      "metadata": {
        "id": "xK2uDr92xpO2",
        "colab_type": "code",
        "colab": {}
      },
      "source": [
        "from sklearn.metrics import mean_absolute_error\n",
        "from sklearn.metrics import mean_squared_error\n",
        "from sklearn.metrics import r2_score\n",
        "from sklearn import linear_model\n",
        "#max_r_score=0\n",
        "X_train, X_test, y_train, y_test = train_test_split(X,y,random_state =0,test_size=0.20)\n",
        "regr = linear_model.LinearRegression()\n",
        "regr.fit(X_train,y_train)\n",
        "y_pred = regr.predict(X_test)\n",
        "r2_scr=r2_score(y_test,y_pred)\n",
        "  #if r2_scr>max_r_score:\n",
        "   # max_r_score=r2_scr\n",
        "    #final_r_state=r_state "
      ],
      "execution_count": null,
      "outputs": []
    },
    {
      "cell_type": "code",
      "metadata": {
        "id": "68f33FjjYp9R",
        "colab_type": "code",
        "colab": {
          "base_uri": "https://localhost:8080/",
          "height": 35
        },
        "outputId": "1cfa9b41-a3f3-491d-b7f1-d11b05683eec"
      },
      "source": [
        "print(\"Max r2 score corresponding to is\",r2_scr)"
      ],
      "execution_count": null,
      "outputs": [
        {
          "output_type": "stream",
          "text": [
            "Max r2 score corresponding to is -0.4304675646655043\n"
          ],
          "name": "stdout"
        }
      ]
    },
    {
      "cell_type": "code",
      "metadata": {
        "id": "5dr2HTht7DPc",
        "colab_type": "code",
        "colab": {}
      },
      "source": [
        "X_train, X_test, y_train, y_test = train_test_split(X,y,random_state = 0, test_size=0.20)\n",
        "lreg = linear_model.LinearRegression()\n",
        "lreg.fit(X_train,y_train)\n",
        "y_pred=lreg.predict(X_test)"
      ],
      "execution_count": null,
      "outputs": []
    },
    {
      "cell_type": "code",
      "metadata": {
        "id": "LvSWtYML7mjx",
        "colab_type": "code",
        "colab": {
          "base_uri": "https://localhost:8080/",
          "height": 54
        },
        "outputId": "de87e293-d897-4b9f-8c9e-f6ca29fe7138"
      },
      "source": [
        "from sklearn.metrics import r2_score\n",
        "from sklearn.metrics import mean_squared_error\n",
        "print(\"R2 Score: \", r2_score(y_test,y_pred))\n",
        "print(\"RMSE:\",np.sqrt(mean_squared_error(y_test,y_pred)))"
      ],
      "execution_count": null,
      "outputs": [
        {
          "output_type": "stream",
          "text": [
            "R2 Score:  -0.4304675646655043\n",
            "RMSE: 1314.3606521722033\n"
          ],
          "name": "stdout"
        }
      ]
    },
    {
      "cell_type": "code",
      "metadata": {
        "id": "4LC4NHbCLrsO",
        "colab_type": "code",
        "colab": {
          "base_uri": "https://localhost:8080/",
          "height": 35
        },
        "outputId": "68b4186f-6837-4f7f-e6f9-4512260bcbbc"
      },
      "source": [
        "#Saving the model as a pickle in a file\n",
        "\n",
        "from sklearn.externals import joblib\n",
        "\n",
        "joblib.dump(lreg,'restaurant_cost.pkl')"
      ],
      "execution_count": null,
      "outputs": [
        {
          "output_type": "execute_result",
          "data": {
            "text/plain": [
              "['restaurant_cost.pkl']"
            ]
          },
          "metadata": {
            "tags": []
          },
          "execution_count": 37
        }
      ]
    },
    {
      "cell_type": "code",
      "metadata": {
        "id": "UrVznSYVQ_Ka",
        "colab_type": "code",
        "colab": {}
      },
      "source": [
        ""
      ],
      "execution_count": null,
      "outputs": []
    }
  ]
}