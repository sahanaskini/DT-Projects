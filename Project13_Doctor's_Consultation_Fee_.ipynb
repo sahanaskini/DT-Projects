{
  "nbformat": 4,
  "nbformat_minor": 0,
  "metadata": {
    "colab": {
      "name": "Project13_Doctor's Consultation Fee .ipynb",
      "provenance": [],
      "collapsed_sections": []
    },
    "kernelspec": {
      "name": "python3",
      "display_name": "Python 3"
    }
  },
  "cells": [
    {
      "cell_type": "code",
      "metadata": {
        "id": "LrfwB55QOuo2",
        "colab_type": "code",
        "colab": {
          "base_uri": "https://localhost:8080/",
          "height": 35
        },
        "outputId": "35cefea0-cd8b-4c88-d98b-a50cdcf02d9a"
      },
      "source": [
        "# Mounting the Google Colab Drive\n",
        "from google.colab import drive\n",
        "drive.mount('/content/drive')"
      ],
      "execution_count": null,
      "outputs": [
        {
          "output_type": "stream",
          "text": [
            "Mounted at /content/drive\n"
          ],
          "name": "stdout"
        }
      ]
    },
    {
      "cell_type": "code",
      "metadata": {
        "id": "MUT3lL_7O_Ml",
        "colab_type": "code",
        "colab": {}
      },
      "source": [
        "import pandas as pd\n",
        "import numpy as np\n",
        "import seaborn as sns\n",
        "import matplotlib.pyplot as plt\n",
        "import warnings\n",
        "warnings.filterwarnings('ignore')\n",
        "from sklearn.preprocessing import StandardScaler\n",
        "from sklearn.cluster import KMeans"
      ],
      "execution_count": null,
      "outputs": []
    },
    {
      "cell_type": "markdown",
      "metadata": {
        "id": "idiyA3GYPdvl",
        "colab_type": "text"
      },
      "source": [
        "Import the Test and Train dataset"
      ]
    },
    {
      "cell_type": "code",
      "metadata": {
        "id": "NJ9BkwdpPc7X",
        "colab_type": "code",
        "colab": {}
      },
      "source": [
        "dtest=pd.read_csv('/content/drive/My Drive/DS Datasets/DT Project Datasets/Doctor_Test.csv')\n",
        "dtrain=pd.read_csv('/content/drive/My Drive/DS Datasets/DT Project Datasets/Doctor_Train.csv')"
      ],
      "execution_count": null,
      "outputs": []
    },
    {
      "cell_type": "markdown",
      "metadata": {
        "id": "rPogBUQbQuHt",
        "colab_type": "text"
      },
      "source": [
        "Identification of data types:"
      ]
    },
    {
      "cell_type": "code",
      "metadata": {
        "id": "APaYonftQX7N",
        "colab_type": "code",
        "colab": {
          "base_uri": "https://localhost:8080/",
          "height": 145
        },
        "outputId": "96ef7df2-d077-43ae-c3c3-fe013e06bdb5"
      },
      "source": [
        "dtest.dtypes"
      ],
      "execution_count": null,
      "outputs": [
        {
          "output_type": "execute_result",
          "data": {
            "text/plain": [
              "Qualification         object\n",
              "Experience            object\n",
              "Rating                object\n",
              "Place                 object\n",
              "Profile               object\n",
              "Miscellaneous_Info    object\n",
              "dtype: object"
            ]
          },
          "metadata": {
            "tags": []
          },
          "execution_count": 41
        }
      ]
    },
    {
      "cell_type": "code",
      "metadata": {
        "id": "jBtED7ZTQ1-A",
        "colab_type": "code",
        "colab": {
          "base_uri": "https://localhost:8080/",
          "height": 163
        },
        "outputId": "98735316-2f23-438d-9ef1-05dd2e70a063"
      },
      "source": [
        "dtrain.dtypes"
      ],
      "execution_count": null,
      "outputs": [
        {
          "output_type": "execute_result",
          "data": {
            "text/plain": [
              "Qualification         object\n",
              "Experience            object\n",
              "Rating                object\n",
              "Place                 object\n",
              "Profile               object\n",
              "Miscellaneous_Info    object\n",
              "Fees                   int64\n",
              "dtype: object"
            ]
          },
          "metadata": {
            "tags": []
          },
          "execution_count": 42
        }
      ]
    },
    {
      "cell_type": "markdown",
      "metadata": {
        "id": "HSUMUQspRAZq",
        "colab_type": "text"
      },
      "source": [
        "Size of the dataset:"
      ]
    },
    {
      "cell_type": "code",
      "metadata": {
        "id": "-ck6O9BzQ71P",
        "colab_type": "code",
        "colab": {
          "base_uri": "https://localhost:8080/",
          "height": 35
        },
        "outputId": "f5e0939c-a851-42fe-ed97-c42a8900351a"
      },
      "source": [
        "dtest.shape"
      ],
      "execution_count": null,
      "outputs": [
        {
          "output_type": "execute_result",
          "data": {
            "text/plain": [
              "(1987, 6)"
            ]
          },
          "metadata": {
            "tags": []
          },
          "execution_count": 43
        }
      ]
    },
    {
      "cell_type": "code",
      "metadata": {
        "id": "I-cQjoQTRC0A",
        "colab_type": "code",
        "colab": {
          "base_uri": "https://localhost:8080/",
          "height": 35
        },
        "outputId": "ce340cdc-a193-4516-eaa0-970895257b55"
      },
      "source": [
        "dtrain.shape"
      ],
      "execution_count": null,
      "outputs": [
        {
          "output_type": "execute_result",
          "data": {
            "text/plain": [
              "(5961, 7)"
            ]
          },
          "metadata": {
            "tags": []
          },
          "execution_count": 44
        }
      ]
    },
    {
      "cell_type": "markdown",
      "metadata": {
        "id": "ml-dknPSRMRx",
        "colab_type": "text"
      },
      "source": [
        "Statistical Summary of Numeric Variables:"
      ]
    },
    {
      "cell_type": "code",
      "metadata": {
        "id": "2LnWJmenRGjf",
        "colab_type": "code",
        "colab": {
          "base_uri": "https://localhost:8080/",
          "height": 254
        },
        "outputId": "030bff81-0b74-4b8d-abc8-873869479187"
      },
      "source": [
        "dtest.info()"
      ],
      "execution_count": null,
      "outputs": [
        {
          "output_type": "stream",
          "text": [
            "<class 'pandas.core.frame.DataFrame'>\n",
            "RangeIndex: 1987 entries, 0 to 1986\n",
            "Data columns (total 6 columns):\n",
            " #   Column              Non-Null Count  Dtype \n",
            "---  ------              --------------  ----- \n",
            " 0   Qualification       1987 non-null   object\n",
            " 1   Experience          1987 non-null   object\n",
            " 2   Rating              897 non-null    object\n",
            " 3   Place               1981 non-null   object\n",
            " 4   Profile             1987 non-null   object\n",
            " 5   Miscellaneous_Info  1153 non-null   object\n",
            "dtypes: object(6)\n",
            "memory usage: 93.3+ KB\n"
          ],
          "name": "stdout"
        }
      ]
    },
    {
      "cell_type": "code",
      "metadata": {
        "id": "nqnlCl-bRPVn",
        "colab_type": "code",
        "colab": {
          "base_uri": "https://localhost:8080/",
          "height": 272
        },
        "outputId": "33b7fe8a-c230-4c83-8617-4685b6883544"
      },
      "source": [
        "dtrain.info()"
      ],
      "execution_count": null,
      "outputs": [
        {
          "output_type": "stream",
          "text": [
            "<class 'pandas.core.frame.DataFrame'>\n",
            "RangeIndex: 5961 entries, 0 to 5960\n",
            "Data columns (total 7 columns):\n",
            " #   Column              Non-Null Count  Dtype \n",
            "---  ------              --------------  ----- \n",
            " 0   Qualification       5961 non-null   object\n",
            " 1   Experience          5961 non-null   object\n",
            " 2   Rating              2659 non-null   object\n",
            " 3   Place               5936 non-null   object\n",
            " 4   Profile             5961 non-null   object\n",
            " 5   Miscellaneous_Info  3341 non-null   object\n",
            " 6   Fees                5961 non-null   int64 \n",
            "dtypes: int64(1), object(6)\n",
            "memory usage: 326.1+ KB\n"
          ],
          "name": "stdout"
        }
      ]
    },
    {
      "cell_type": "markdown",
      "metadata": {
        "id": "6nL548BlRVgh",
        "colab_type": "text"
      },
      "source": [
        "Non-Graphical Univariate Analysis:"
      ]
    },
    {
      "cell_type": "code",
      "metadata": {
        "id": "Klagp4LERRUP",
        "colab_type": "code",
        "colab": {
          "base_uri": "https://localhost:8080/",
          "height": 235
        },
        "outputId": "27fe0173-8f97-44a4-fcaf-ad76cbb6d4ea"
      },
      "source": [
        "#To get the count of unique values:\n",
        "#Determining the types of doctor qualifications in the datset\n",
        "\n",
        "dtrain['Qualification'].value_counts()"
      ],
      "execution_count": null,
      "outputs": [
        {
          "output_type": "execute_result",
          "data": {
            "text/plain": [
              "BDS                                                                                                                                     488\n",
              "BHMS                                                                                                                                    477\n",
              "BAMS                                                                                                                                    471\n",
              "MBBS                                                                                                                                    334\n",
              "MBBS, MS - ENT                                                                                                                          220\n",
              "                                                                                                                                       ... \n",
              "BHMS, Diploma in Personal Counselling Skills (DPCS)                                                                                       1\n",
              "MBBS, MD - Medicine, Fellowship in Rheumatology                                                                                           1\n",
              "BDS, Certificate in Dental Implants, Certificate Endodontics & Pedodontics, Fellowship and Diplomate in Implantology from ICOI (USA)      1\n",
              "MBBS, MD - Dermatology , Venereology & Leprosy, DNB, Fellow Hair Transplant Surgery                                                       1\n",
              "MBBS, DTCD(Diploma in TB and Chest Dieseas)                                                                                               1\n",
              "Name: Qualification, Length: 1420, dtype: int64"
            ]
          },
          "metadata": {
            "tags": []
          },
          "execution_count": 47
        }
      ]
    },
    {
      "cell_type": "code",
      "metadata": {
        "id": "t4rx71-sR34l",
        "colab_type": "code",
        "colab": {
          "base_uri": "https://localhost:8080/",
          "height": 163
        },
        "outputId": "32115d23-4730-476e-92e9-1ae9e0094a71"
      },
      "source": [
        "#Finding null/missing values\n",
        "\n",
        "print('Missing Values in Train set:',dtrain.isnull().sum(axis = 0))"
      ],
      "execution_count": null,
      "outputs": [
        {
          "output_type": "stream",
          "text": [
            "Missing Values in Train set: Qualification            0\n",
            "Experience               0\n",
            "Rating                3302\n",
            "Place                   25\n",
            "Profile                  0\n",
            "Miscellaneous_Info    2620\n",
            "Fees                     0\n",
            "dtype: int64\n"
          ],
          "name": "stdout"
        }
      ]
    },
    {
      "cell_type": "code",
      "metadata": {
        "id": "cCKjzmdWSnkN",
        "colab_type": "code",
        "colab": {
          "base_uri": "https://localhost:8080/",
          "height": 145
        },
        "outputId": "77694d09-1ed6-4cc6-ecb2-ee8c2ef22831"
      },
      "source": [
        "print('Missing Values in Test set:',dtest.isnull().sum(axis = 0))"
      ],
      "execution_count": null,
      "outputs": [
        {
          "output_type": "stream",
          "text": [
            "Missing Values in Test set: Qualification            0\n",
            "Experience               0\n",
            "Rating                1090\n",
            "Place                    6\n",
            "Profile                  0\n",
            "Miscellaneous_Info     834\n",
            "dtype: int64\n"
          ],
          "name": "stdout"
        }
      ]
    },
    {
      "cell_type": "code",
      "metadata": {
        "id": "obFVRQXrSso1",
        "colab_type": "code",
        "colab": {}
      },
      "source": [
        "#Removing the missing or the null values from the dataset\n",
        "\n",
        "dtrain.Rating.fillna(value=27,inplace=True)\n",
        "dtrain.Place.fillna(value=27,inplace=True)\n",
        "dtrain.Miscellaneous_Info.fillna(value=27,inplace=True)\n",
        "dtest.Rating.fillna(value=27,inplace=True)\n",
        "dtest.Place.fillna(value=27,inplace=True)\n",
        "dtest.Miscellaneous_Info.fillna(value=27,inplace=True)"
      ],
      "execution_count": null,
      "outputs": []
    },
    {
      "cell_type": "code",
      "metadata": {
        "id": "IvsDTIu_TboQ",
        "colab_type": "code",
        "colab": {
          "base_uri": "https://localhost:8080/",
          "height": 163
        },
        "outputId": "dad7285d-b9d7-43b9-b1cd-155f2d331e18"
      },
      "source": [
        "#Check if the null values are removed\n",
        "\n",
        "print('Missing Values in Train set:',dtrain.isnull().sum(axis = 0))"
      ],
      "execution_count": null,
      "outputs": [
        {
          "output_type": "stream",
          "text": [
            "Missing Values in Train set: Qualification         0\n",
            "Experience            0\n",
            "Rating                0\n",
            "Place                 0\n",
            "Profile               0\n",
            "Miscellaneous_Info    0\n",
            "Fees                  0\n",
            "dtype: int64\n"
          ],
          "name": "stdout"
        }
      ]
    },
    {
      "cell_type": "code",
      "metadata": {
        "id": "kGYx4psyTwer",
        "colab_type": "code",
        "colab": {
          "base_uri": "https://localhost:8080/",
          "height": 145
        },
        "outputId": "e497520e-0414-4322-c6ed-49549591100a"
      },
      "source": [
        "print('Missing Values in Test set:',dtest.isnull().sum(axis = 0))"
      ],
      "execution_count": null,
      "outputs": [
        {
          "output_type": "stream",
          "text": [
            "Missing Values in Test set: Qualification         0\n",
            "Experience            0\n",
            "Rating                0\n",
            "Place                 0\n",
            "Profile               0\n",
            "Miscellaneous_Info    0\n",
            "dtype: int64\n"
          ],
          "name": "stdout"
        }
      ]
    },
    {
      "cell_type": "markdown",
      "metadata": {
        "id": "lSyX8oFSX5VF",
        "colab_type": "text"
      },
      "source": [
        "Graphical Univariate Analysis:"
      ]
    },
    {
      "cell_type": "code",
      "metadata": {
        "id": "EZS_hTApX432",
        "colab_type": "code",
        "colab": {
          "base_uri": "https://localhost:8080/",
          "height": 283
        },
        "outputId": "bfb84f26-3010-4927-cc05-31c95ba3bb78"
      },
      "source": [
        "#Histogram Plot to display the Exeperience of the doctors\n",
        "\n",
        "dtrain['Experience'].hist(bins=10)"
      ],
      "execution_count": null,
      "outputs": [
        {
          "output_type": "execute_result",
          "data": {
            "text/plain": [
              "<matplotlib.axes._subplots.AxesSubplot at 0x7f23aab0ceb8>"
            ]
          },
          "metadata": {
            "tags": []
          },
          "execution_count": 17
        },
        {
          "output_type": "display_data",
          "data": {
            "image/png": "[encoded data removed]",
            "text/plain": [
              "<Figure size 432x288 with 1 Axes>"
            ]
          },
          "metadata": {
            "tags": [],
            "needs_background": "light"
          }
        }
      ]
    },
    {
      "cell_type": "code",
      "metadata": {
        "id": "Xkg_x57eYI0F",
        "colab_type": "code",
        "colab": {
          "base_uri": "https://localhost:8080/",
          "height": 297
        },
        "outputId": "5a933acd-e134-46b3-f40d-1c73e48afa97"
      },
      "source": [
        "#CountPlot displaying the different Profiles the doctors possess\n",
        "\n",
        "sns.countplot(dtrain.Profile)"
      ],
      "execution_count": null,
      "outputs": [
        {
          "output_type": "execute_result",
          "data": {
            "text/plain": [
              "<matplotlib.axes._subplots.AxesSubplot at 0x7f23aa951908>"
            ]
          },
          "metadata": {
            "tags": []
          },
          "execution_count": 18
        },
        {
          "output_type": "display_data",
          "data": {
            "image/png": "[encoded data removed]",
            "text/plain": [
              "<Figure size 432x288 with 1 Axes>"
            ]
          },
          "metadata": {
            "tags": [],
            "needs_background": "light"
          }
        }
      ]
    },
    {
      "cell_type": "code",
      "metadata": {
        "id": "Ime1XGTyYov7",
        "colab_type": "code",
        "colab": {
          "base_uri": "https://localhost:8080/",
          "height": 352
        },
        "outputId": "60f5d98c-9e81-4d4e-b9a1-0178fa098cef"
      },
      "source": [
        "#Bar Graph\n",
        "\n",
        "fig = plt.figure()\n",
        "ax = fig.add_axes([0,0,1,1])\n",
        "ax.bar(dtrain['Fees'],dtrain['Profile'], color = 'b')\n",
        "plt.title('Bar Graph Plotting Fees Cherged by different doctors with different Profiles')\n",
        "plt.show()"
      ],
      "execution_count": null,
      "outputs": [
        {
          "output_type": "display_data",
          "data": {
            "image/png": "[encoded data removed]",
            "text/plain": [
              "<Figure size 432x288 with 1 Axes>"
            ]
          },
          "metadata": {
            "tags": [],
            "needs_background": "light"
          }
        }
      ]
    },
    {
      "cell_type": "code",
      "metadata": {
        "id": "YglG0RycaB_z",
        "colab_type": "code",
        "colab": {
          "base_uri": "https://localhost:8080/",
          "height": 54
        },
        "outputId": "c554fb9a-789a-4f09-bcac-78cdfa63d175"
      },
      "source": [
        "#Checking the skewness\n",
        "\n",
        "dtrain.skew()"
      ],
      "execution_count": null,
      "outputs": [
        {
          "output_type": "execute_result",
          "data": {
            "text/plain": [
              "Fees    0.75187\n",
              "dtype: float64"
            ]
          },
          "metadata": {
            "tags": []
          },
          "execution_count": 20
        }
      ]
    },
    {
      "cell_type": "markdown",
      "metadata": {
        "id": "ubPbfs4_Vhqb",
        "colab_type": "text"
      },
      "source": [
        "Data Pre-Processing"
      ]
    },
    {
      "cell_type": "code",
      "metadata": {
        "id": "ghVvilWFWMYB",
        "colab_type": "code",
        "colab": {}
      },
      "source": [
        "dtrain = dtrain[['Qualification', 'Profile', 'Experience', 'Place', 'Miscellaneous_Info', 'Rating','Fees']]\n",
        "dtest = dtest[['Qualification', 'Profile','Experience', 'Place', 'Miscellaneous_Info', 'Rating']]"
      ],
      "execution_count": null,
      "outputs": []
    },
    {
      "cell_type": "code",
      "metadata": {
        "id": "VY006tPwWTbi",
        "colab_type": "code",
        "colab": {
          "base_uri": "https://localhost:8080/",
          "height": 198
        },
        "outputId": "cf187e91-f38c-492a-a2fa-baba7635d9f8"
      },
      "source": [
        "dtrain.head()"
      ],
      "execution_count": null,
      "outputs": [
        {
          "output_type": "execute_result",
          "data": {
            "text/html": [
              "<div>\n",
              "<style scoped>\n",
              "    .dataframe tbody tr th:only-of-type {\n",
              "        vertical-align: middle;\n",
              "    }\n",
              "\n",
              "    .dataframe tbody tr th {\n",
              "        vertical-align: top;\n",
              "    }\n",
              "\n",
              "    .dataframe thead th {\n",
              "        text-align: right;\n",
              "    }\n",
              "</style>\n",
              "<table border=\"1\" class=\"dataframe\">\n",
              "  <thead>\n",
              "    <tr style=\"text-align: right;\">\n",
              "      <th></th>\n",
              "      <th>Qualification</th>\n",
              "      <th>Profile</th>\n",
              "      <th>Experience</th>\n",
              "      <th>Place</th>\n",
              "      <th>Miscellaneous_Info</th>\n",
              "      <th>Rating</th>\n",
              "      <th>Fees</th>\n",
              "    </tr>\n",
              "  </thead>\n",
              "  <tbody>\n",
              "    <tr>\n",
              "      <th>0</th>\n",
              "      <td>BHMS, MD - Homeopathy</td>\n",
              "      <td>Homeopath</td>\n",
              "      <td>24 years experience</td>\n",
              "      <td>Kakkanad, Ernakulam</td>\n",
              "      <td>100% 16 Feedback Kakkanad, Ernakulam</td>\n",
              "      <td>100%</td>\n",
              "      <td>100</td>\n",
              "    </tr>\n",
              "    <tr>\n",
              "      <th>1</th>\n",
              "      <td>BAMS, MD - Ayurveda Medicine</td>\n",
              "      <td>Ayurveda</td>\n",
              "      <td>12 years experience</td>\n",
              "      <td>Whitefield, Bangalore</td>\n",
              "      <td>98% 76 Feedback Whitefield, Bangalore</td>\n",
              "      <td>98%</td>\n",
              "      <td>350</td>\n",
              "    </tr>\n",
              "    <tr>\n",
              "      <th>2</th>\n",
              "      <td>MBBS, MS - Otorhinolaryngology</td>\n",
              "      <td>ENT Specialist</td>\n",
              "      <td>9 years experience</td>\n",
              "      <td>Mathikere - BEL, Bangalore</td>\n",
              "      <td>27</td>\n",
              "      <td>27</td>\n",
              "      <td>300</td>\n",
              "    </tr>\n",
              "    <tr>\n",
              "      <th>3</th>\n",
              "      <td>BSc - Zoology, BAMS</td>\n",
              "      <td>Ayurveda</td>\n",
              "      <td>12 years experience</td>\n",
              "      <td>Bannerghatta Road, Bangalore</td>\n",
              "      <td>Bannerghatta Road, Bangalore ₹250 Available on...</td>\n",
              "      <td>27</td>\n",
              "      <td>250</td>\n",
              "    </tr>\n",
              "    <tr>\n",
              "      <th>4</th>\n",
              "      <td>BAMS</td>\n",
              "      <td>Ayurveda</td>\n",
              "      <td>20 years experience</td>\n",
              "      <td>Keelkattalai, Chennai</td>\n",
              "      <td>100% 4 Feedback Keelkattalai, Chennai</td>\n",
              "      <td>100%</td>\n",
              "      <td>250</td>\n",
              "    </tr>\n",
              "  </tbody>\n",
              "</table>\n",
              "</div>"
            ],
            "text/plain": [
              "                    Qualification         Profile  ... Rating Fees\n",
              "0           BHMS, MD - Homeopathy       Homeopath  ...   100%  100\n",
              "1    BAMS, MD - Ayurveda Medicine        Ayurveda  ...    98%  350\n",
              "2  MBBS, MS - Otorhinolaryngology  ENT Specialist  ...     27  300\n",
              "3             BSc - Zoology, BAMS        Ayurveda  ...     27  250\n",
              "4                            BAMS        Ayurveda  ...   100%  250\n",
              "\n",
              "[5 rows x 7 columns]"
            ]
          },
          "metadata": {
            "tags": []
          },
          "execution_count": 22
        }
      ]
    },
    {
      "cell_type": "code",
      "metadata": {
        "id": "39Hiw5m5TxsC",
        "colab_type": "code",
        "colab": {}
      },
      "source": [
        "# Determining the no of years from 'Experience'\n",
        "#Converting Experience to int\n",
        "\n",
        "dtrain[\"Experience\"] = dtrain[\"Experience\"].str.split()\n",
        "dtrain[\"Experience\"] = dtrain[\"Experience\"].str[0].astype(\"int\")\n",
        "\n",
        "dtest[\"Experience\"] = dtest[\"Experience\"].str.split()\n",
        "dtest[\"Experience\"] = dtest[\"Experience\"].str[0].astype(\"int\")"
      ],
      "execution_count": null,
      "outputs": []
    },
    {
      "cell_type": "markdown",
      "metadata": {
        "id": "yuMAlqqXaTlC",
        "colab_type": "text"
      },
      "source": [
        "Dummyfying the Data"
      ]
    },
    {
      "cell_type": "code",
      "metadata": {
        "id": "Gpu9nQCJVO8o",
        "colab_type": "code",
        "colab": {
          "base_uri": "https://localhost:8080/",
          "height": 455
        },
        "outputId": "426475c8-03b9-4a45-caf6-f21d7ff67c6e"
      },
      "source": [
        "#dummifying data required for spliting the data\n",
        "\n",
        "dtrain = pd.get_dummies(dtrain)\n",
        "dtrain.head(5)"
      ],
      "execution_count": null,
      "outputs": [
        {
          "output_type": "execute_result",
          "data": {
            "text/html": [
              "<div>\n",
              "<style scoped>\n",
              "    .dataframe tbody tr th:only-of-type {\n",
              "        vertical-align: middle;\n",
              "    }\n",
              "\n",
              "    .dataframe tbody tr th {\n",
              "        vertical-align: top;\n",
              "    }\n",
              "\n",
              "    .dataframe thead th {\n",
              "        text-align: right;\n",
              "    }\n",
              "</style>\n",
              "<table border=\"1\" class=\"dataframe\">\n",
              "  <thead>\n",
              "    <tr style=\"text-align: right;\">\n",
              "      <th></th>\n",
              "      <th>Experience</th>\n",
              "      <th>Fees</th>\n",
              "      <th>Qualification_39 years experience</th>\n",
              "      <th>Qualification_Advanced Certificate Course in Aesthetic Dentistry, BDS, Professional Implantology Training Course (PITC), FAGE- FELLOW, Comprehensive Course in Modern Endodontics</th>\n",
              "      <th>Qualification_Ayurvedic panchkarma, BAMS</th>\n",
              "      <th>Qualification_B.Ac, BEMS</th>\n",
              "      <th>Qualification_B.Sc, BAMS</th>\n",
              "      <th>Qualification_B.Sc, MBBS</th>\n",
              "      <th>Qualification_B.Sc, MBBS, DDVL, MD - Dermatology</th>\n",
              "      <th>Qualification_B.Sc, MBBS, Diploma in Otorhinolaryngology (DLO)</th>\n",
              "      <th>Qualification_B.Sc, MBBS, MD - General Medicine, Post Graduate Diploma in Diabetology (PGDD)</th>\n",
              "      <th>Qualification_B.Sc, MD - Homeopathy</th>\n",
              "      <th>Qualification_BAMS</th>\n",
              "      <th>Qualification_BAMS, Advance Diploma in Nutrition and Dietetics, Certificate in Yoga &amp; Meditation</th>\n",
              "      <th>Qualification_BAMS, Ayurvedic panchkarma</th>\n",
              "      <th>Qualification_BAMS, B.Sc</th>\n",
              "      <th>Qualification_BAMS, BAMS</th>\n",
              "      <th>Qualification_BAMS, BAMS, MD - Ayurveda Medicine, Fellow of Academy of General Education (FAGE)</th>\n",
              "      <th>Qualification_BAMS, CGO</th>\n",
              "      <th>Qualification_BAMS, CGO, Certified In Panchkarma</th>\n",
              "      <th>Qualification_BAMS, Certificate Course In Therapeutic Yoga</th>\n",
              "      <th>Qualification_BAMS, Certificate Course in Positive Psychology, Clinical Nutritionist certifcate</th>\n",
              "      <th>Qualification_BAMS, Certificate in Child Health (CCH)</th>\n",
              "      <th>Qualification_BAMS, Certificate in Child Health (CCH), CGO</th>\n",
              "      <th>Qualification_BAMS, Certificate in Child Health (CCH), CGO, CSD, CVD</th>\n",
              "      <th>Qualification_BAMS, Certificate in Child Health (CCH), CGO, CVD, CSD</th>\n",
              "      <th>Qualification_BAMS, Certificate in Child Health (CCH), CGO, MD - Alternate Medicine, Diploma in Dermatology</th>\n",
              "      <th>Qualification_BAMS, Certificate in Child Health (CCH), Post Graduate Diploma in Clinical Research (PGDCR)</th>\n",
              "      <th>Qualification_BAMS, Certificate in Cosmetology, Certificate in Cosmetology</th>\n",
              "      <th>Qualification_BAMS, Certificate in Health Management</th>\n",
              "      <th>Qualification_BAMS, Certification of Life Coach</th>\n",
              "      <th>Qualification_BAMS, Certified Course in Yoga</th>\n",
              "      <th>Qualification_BAMS, Certified Yoga and Pranic healing Therapist , Certified National Diabetes Educator , Bachelor of Acupuncture , Certified Analytical Hypnotherapist, Diploma in Physiotherapy</th>\n",
              "      <th>Qualification_BAMS, D.Ac, Post Graduate Diploma In Yoga</th>\n",
              "      <th>Qualification_BAMS, D.Y.A</th>\n",
              "      <th>Qualification_BAMS, D.Y.A, Post Graduate Diploma in Emergency Services (PGDEMS), MD - Ayurveda Medicine</th>\n",
              "      <th>Qualification_BAMS, DNHE</th>\n",
              "      <th>Qualification_BAMS, DSM ( Siddha Medicine), Diploma in Emergency Medicine</th>\n",
              "      <th>Qualification_BAMS, DYSc., Post Graduate in Clinical Psychology, Certificate Course in Panchakarma, Certificate Course in Nadi Sutra</th>\n",
              "      <th>Qualification_BAMS, Diploma In Clinical Panchakarma</th>\n",
              "      <th>...</th>\n",
              "      <th>Rating_58%</th>\n",
              "      <th>Rating_60%</th>\n",
              "      <th>Rating_62%</th>\n",
              "      <th>Rating_63%</th>\n",
              "      <th>Rating_64%</th>\n",
              "      <th>Rating_65%</th>\n",
              "      <th>Rating_67%</th>\n",
              "      <th>Rating_68%</th>\n",
              "      <th>Rating_69%</th>\n",
              "      <th>Rating_7%</th>\n",
              "      <th>Rating_70%</th>\n",
              "      <th>Rating_71%</th>\n",
              "      <th>Rating_72%</th>\n",
              "      <th>Rating_73%</th>\n",
              "      <th>Rating_74%</th>\n",
              "      <th>Rating_75%</th>\n",
              "      <th>Rating_76%</th>\n",
              "      <th>Rating_77%</th>\n",
              "      <th>Rating_78%</th>\n",
              "      <th>Rating_79%</th>\n",
              "      <th>Rating_80%</th>\n",
              "      <th>Rating_81%</th>\n",
              "      <th>Rating_82%</th>\n",
              "      <th>Rating_83%</th>\n",
              "      <th>Rating_84%</th>\n",
              "      <th>Rating_85%</th>\n",
              "      <th>Rating_86%</th>\n",
              "      <th>Rating_87%</th>\n",
              "      <th>Rating_88%</th>\n",
              "      <th>Rating_89%</th>\n",
              "      <th>Rating_90%</th>\n",
              "      <th>Rating_91%</th>\n",
              "      <th>Rating_92%</th>\n",
              "      <th>Rating_93%</th>\n",
              "      <th>Rating_94%</th>\n",
              "      <th>Rating_95%</th>\n",
              "      <th>Rating_96%</th>\n",
              "      <th>Rating_97%</th>\n",
              "      <th>Rating_98%</th>\n",
              "      <th>Rating_99%</th>\n",
              "    </tr>\n",
              "  </thead>\n",
              "  <tbody>\n",
              "    <tr>\n",
              "      <th>0</th>\n",
              "      <td>24</td>\n",
              "      <td>100</td>\n",
              "      <td>0</td>\n",
              "      <td>0</td>\n",
              "      <td>0</td>\n",
              "      <td>0</td>\n",
              "      <td>0</td>\n",
              "      <td>0</td>\n",
              "      <td>0</td>\n",
              "      <td>0</td>\n",
              "      <td>0</td>\n",
              "      <td>0</td>\n",
              "      <td>0</td>\n",
              "      <td>0</td>\n",
              "      <td>0</td>\n",
              "      <td>0</td>\n",
              "      <td>0</td>\n",
              "      <td>0</td>\n",
              "      <td>0</td>\n",
              "      <td>0</td>\n",
              "      <td>0</td>\n",
              "      <td>0</td>\n",
              "      <td>0</td>\n",
              "      <td>0</td>\n",
              "      <td>0</td>\n",
              "      <td>0</td>\n",
              "      <td>0</td>\n",
              "      <td>0</td>\n",
              "      <td>0</td>\n",
              "      <td>0</td>\n",
              "      <td>0</td>\n",
              "      <td>0</td>\n",
              "      <td>0</td>\n",
              "      <td>0</td>\n",
              "      <td>0</td>\n",
              "      <td>0</td>\n",
              "      <td>0</td>\n",
              "      <td>0</td>\n",
              "      <td>0</td>\n",
              "      <td>0</td>\n",
              "      <td>...</td>\n",
              "      <td>0</td>\n",
              "      <td>0</td>\n",
              "      <td>0</td>\n",
              "      <td>0</td>\n",
              "      <td>0</td>\n",
              "      <td>0</td>\n",
              "      <td>0</td>\n",
              "      <td>0</td>\n",
              "      <td>0</td>\n",
              "      <td>0</td>\n",
              "      <td>0</td>\n",
              "      <td>0</td>\n",
              "      <td>0</td>\n",
              "      <td>0</td>\n",
              "      <td>0</td>\n",
              "      <td>0</td>\n",
              "      <td>0</td>\n",
              "      <td>0</td>\n",
              "      <td>0</td>\n",
              "      <td>0</td>\n",
              "      <td>0</td>\n",
              "      <td>0</td>\n",
              "      <td>0</td>\n",
              "      <td>0</td>\n",
              "      <td>0</td>\n",
              "      <td>0</td>\n",
              "      <td>0</td>\n",
              "      <td>0</td>\n",
              "      <td>0</td>\n",
              "      <td>0</td>\n",
              "      <td>0</td>\n",
              "      <td>0</td>\n",
              "      <td>0</td>\n",
              "      <td>0</td>\n",
              "      <td>0</td>\n",
              "      <td>0</td>\n",
              "      <td>0</td>\n",
              "      <td>0</td>\n",
              "      <td>0</td>\n",
              "      <td>0</td>\n",
              "    </tr>\n",
              "    <tr>\n",
              "      <th>1</th>\n",
              "      <td>12</td>\n",
              "      <td>350</td>\n",
              "      <td>0</td>\n",
              "      <td>0</td>\n",
              "      <td>0</td>\n",
              "      <td>0</td>\n",
              "      <td>0</td>\n",
              "      <td>0</td>\n",
              "      <td>0</td>\n",
              "      <td>0</td>\n",
              "      <td>0</td>\n",
              "      <td>0</td>\n",
              "      <td>0</td>\n",
              "      <td>0</td>\n",
              "      <td>0</td>\n",
              "      <td>0</td>\n",
              "      <td>0</td>\n",
              "      <td>0</td>\n",
              "      <td>0</td>\n",
              "      <td>0</td>\n",
              "      <td>0</td>\n",
              "      <td>0</td>\n",
              "      <td>0</td>\n",
              "      <td>0</td>\n",
              "      <td>0</td>\n",
              "      <td>0</td>\n",
              "      <td>0</td>\n",
              "      <td>0</td>\n",
              "      <td>0</td>\n",
              "      <td>0</td>\n",
              "      <td>0</td>\n",
              "      <td>0</td>\n",
              "      <td>0</td>\n",
              "      <td>0</td>\n",
              "      <td>0</td>\n",
              "      <td>0</td>\n",
              "      <td>0</td>\n",
              "      <td>0</td>\n",
              "      <td>0</td>\n",
              "      <td>0</td>\n",
              "      <td>...</td>\n",
              "      <td>0</td>\n",
              "      <td>0</td>\n",
              "      <td>0</td>\n",
              "      <td>0</td>\n",
              "      <td>0</td>\n",
              "      <td>0</td>\n",
              "      <td>0</td>\n",
              "      <td>0</td>\n",
              "      <td>0</td>\n",
              "      <td>0</td>\n",
              "      <td>0</td>\n",
              "      <td>0</td>\n",
              "      <td>0</td>\n",
              "      <td>0</td>\n",
              "      <td>0</td>\n",
              "      <td>0</td>\n",
              "      <td>0</td>\n",
              "      <td>0</td>\n",
              "      <td>0</td>\n",
              "      <td>0</td>\n",
              "      <td>0</td>\n",
              "      <td>0</td>\n",
              "      <td>0</td>\n",
              "      <td>0</td>\n",
              "      <td>0</td>\n",
              "      <td>0</td>\n",
              "      <td>0</td>\n",
              "      <td>0</td>\n",
              "      <td>0</td>\n",
              "      <td>0</td>\n",
              "      <td>0</td>\n",
              "      <td>0</td>\n",
              "      <td>0</td>\n",
              "      <td>0</td>\n",
              "      <td>0</td>\n",
              "      <td>0</td>\n",
              "      <td>0</td>\n",
              "      <td>0</td>\n",
              "      <td>1</td>\n",
              "      <td>0</td>\n",
              "    </tr>\n",
              "    <tr>\n",
              "      <th>2</th>\n",
              "      <td>9</td>\n",
              "      <td>300</td>\n",
              "      <td>0</td>\n",
              "      <td>0</td>\n",
              "      <td>0</td>\n",
              "      <td>0</td>\n",
              "      <td>0</td>\n",
              "      <td>0</td>\n",
              "      <td>0</td>\n",
              "      <td>0</td>\n",
              "      <td>0</td>\n",
              "      <td>0</td>\n",
              "      <td>0</td>\n",
              "      <td>0</td>\n",
              "      <td>0</td>\n",
              "      <td>0</td>\n",
              "      <td>0</td>\n",
              "      <td>0</td>\n",
              "      <td>0</td>\n",
              "      <td>0</td>\n",
              "      <td>0</td>\n",
              "      <td>0</td>\n",
              "      <td>0</td>\n",
              "      <td>0</td>\n",
              "      <td>0</td>\n",
              "      <td>0</td>\n",
              "      <td>0</td>\n",
              "      <td>0</td>\n",
              "      <td>0</td>\n",
              "      <td>0</td>\n",
              "      <td>0</td>\n",
              "      <td>0</td>\n",
              "      <td>0</td>\n",
              "      <td>0</td>\n",
              "      <td>0</td>\n",
              "      <td>0</td>\n",
              "      <td>0</td>\n",
              "      <td>0</td>\n",
              "      <td>0</td>\n",
              "      <td>0</td>\n",
              "      <td>...</td>\n",
              "      <td>0</td>\n",
              "      <td>0</td>\n",
              "      <td>0</td>\n",
              "      <td>0</td>\n",
              "      <td>0</td>\n",
              "      <td>0</td>\n",
              "      <td>0</td>\n",
              "      <td>0</td>\n",
              "      <td>0</td>\n",
              "      <td>0</td>\n",
              "      <td>0</td>\n",
              "      <td>0</td>\n",
              "      <td>0</td>\n",
              "      <td>0</td>\n",
              "      <td>0</td>\n",
              "      <td>0</td>\n",
              "      <td>0</td>\n",
              "      <td>0</td>\n",
              "      <td>0</td>\n",
              "      <td>0</td>\n",
              "      <td>0</td>\n",
              "      <td>0</td>\n",
              "      <td>0</td>\n",
              "      <td>0</td>\n",
              "      <td>0</td>\n",
              "      <td>0</td>\n",
              "      <td>0</td>\n",
              "      <td>0</td>\n",
              "      <td>0</td>\n",
              "      <td>0</td>\n",
              "      <td>0</td>\n",
              "      <td>0</td>\n",
              "      <td>0</td>\n",
              "      <td>0</td>\n",
              "      <td>0</td>\n",
              "      <td>0</td>\n",
              "      <td>0</td>\n",
              "      <td>0</td>\n",
              "      <td>0</td>\n",
              "      <td>0</td>\n",
              "    </tr>\n",
              "    <tr>\n",
              "      <th>3</th>\n",
              "      <td>12</td>\n",
              "      <td>250</td>\n",
              "      <td>0</td>\n",
              "      <td>0</td>\n",
              "      <td>0</td>\n",
              "      <td>0</td>\n",
              "      <td>0</td>\n",
              "      <td>0</td>\n",
              "      <td>0</td>\n",
              "      <td>0</td>\n",
              "      <td>0</td>\n",
              "      <td>0</td>\n",
              "      <td>0</td>\n",
              "      <td>0</td>\n",
              "      <td>0</td>\n",
              "      <td>0</td>\n",
              "      <td>0</td>\n",
              "      <td>0</td>\n",
              "      <td>0</td>\n",
              "      <td>0</td>\n",
              "      <td>0</td>\n",
              "      <td>0</td>\n",
              "      <td>0</td>\n",
              "      <td>0</td>\n",
              "      <td>0</td>\n",
              "      <td>0</td>\n",
              "      <td>0</td>\n",
              "      <td>0</td>\n",
              "      <td>0</td>\n",
              "      <td>0</td>\n",
              "      <td>0</td>\n",
              "      <td>0</td>\n",
              "      <td>0</td>\n",
              "      <td>0</td>\n",
              "      <td>0</td>\n",
              "      <td>0</td>\n",
              "      <td>0</td>\n",
              "      <td>0</td>\n",
              "      <td>0</td>\n",
              "      <td>0</td>\n",
              "      <td>...</td>\n",
              "      <td>0</td>\n",
              "      <td>0</td>\n",
              "      <td>0</td>\n",
              "      <td>0</td>\n",
              "      <td>0</td>\n",
              "      <td>0</td>\n",
              "      <td>0</td>\n",
              "      <td>0</td>\n",
              "      <td>0</td>\n",
              "      <td>0</td>\n",
              "      <td>0</td>\n",
              "      <td>0</td>\n",
              "      <td>0</td>\n",
              "      <td>0</td>\n",
              "      <td>0</td>\n",
              "      <td>0</td>\n",
              "      <td>0</td>\n",
              "      <td>0</td>\n",
              "      <td>0</td>\n",
              "      <td>0</td>\n",
              "      <td>0</td>\n",
              "      <td>0</td>\n",
              "      <td>0</td>\n",
              "      <td>0</td>\n",
              "      <td>0</td>\n",
              "      <td>0</td>\n",
              "      <td>0</td>\n",
              "      <td>0</td>\n",
              "      <td>0</td>\n",
              "      <td>0</td>\n",
              "      <td>0</td>\n",
              "      <td>0</td>\n",
              "      <td>0</td>\n",
              "      <td>0</td>\n",
              "      <td>0</td>\n",
              "      <td>0</td>\n",
              "      <td>0</td>\n",
              "      <td>0</td>\n",
              "      <td>0</td>\n",
              "      <td>0</td>\n",
              "    </tr>\n",
              "    <tr>\n",
              "      <th>4</th>\n",
              "      <td>20</td>\n",
              "      <td>250</td>\n",
              "      <td>0</td>\n",
              "      <td>0</td>\n",
              "      <td>0</td>\n",
              "      <td>0</td>\n",
              "      <td>0</td>\n",
              "      <td>0</td>\n",
              "      <td>0</td>\n",
              "      <td>0</td>\n",
              "      <td>0</td>\n",
              "      <td>0</td>\n",
              "      <td>1</td>\n",
              "      <td>0</td>\n",
              "      <td>0</td>\n",
              "      <td>0</td>\n",
              "      <td>0</td>\n",
              "      <td>0</td>\n",
              "      <td>0</td>\n",
              "      <td>0</td>\n",
              "      <td>0</td>\n",
              "      <td>0</td>\n",
              "      <td>0</td>\n",
              "      <td>0</td>\n",
              "      <td>0</td>\n",
              "      <td>0</td>\n",
              "      <td>0</td>\n",
              "      <td>0</td>\n",
              "      <td>0</td>\n",
              "      <td>0</td>\n",
              "      <td>0</td>\n",
              "      <td>0</td>\n",
              "      <td>0</td>\n",
              "      <td>0</td>\n",
              "      <td>0</td>\n",
              "      <td>0</td>\n",
              "      <td>0</td>\n",
              "      <td>0</td>\n",
              "      <td>0</td>\n",
              "      <td>0</td>\n",
              "      <td>...</td>\n",
              "      <td>0</td>\n",
              "      <td>0</td>\n",
              "      <td>0</td>\n",
              "      <td>0</td>\n",
              "      <td>0</td>\n",
              "      <td>0</td>\n",
              "      <td>0</td>\n",
              "      <td>0</td>\n",
              "      <td>0</td>\n",
              "      <td>0</td>\n",
              "      <td>0</td>\n",
              "      <td>0</td>\n",
              "      <td>0</td>\n",
              "      <td>0</td>\n",
              "      <td>0</td>\n",
              "      <td>0</td>\n",
              "      <td>0</td>\n",
              "      <td>0</td>\n",
              "      <td>0</td>\n",
              "      <td>0</td>\n",
              "      <td>0</td>\n",
              "      <td>0</td>\n",
              "      <td>0</td>\n",
              "      <td>0</td>\n",
              "      <td>0</td>\n",
              "      <td>0</td>\n",
              "      <td>0</td>\n",
              "      <td>0</td>\n",
              "      <td>0</td>\n",
              "      <td>0</td>\n",
              "      <td>0</td>\n",
              "      <td>0</td>\n",
              "      <td>0</td>\n",
              "      <td>0</td>\n",
              "      <td>0</td>\n",
              "      <td>0</td>\n",
              "      <td>0</td>\n",
              "      <td>0</td>\n",
              "      <td>0</td>\n",
              "      <td>0</td>\n",
              "    </tr>\n",
              "  </tbody>\n",
              "</table>\n",
              "<p>5 rows × 5357 columns</p>\n",
              "</div>"
            ],
            "text/plain": [
              "   Experience  Fees  ...  Rating_98%  Rating_99%\n",
              "0          24   100  ...           0           0\n",
              "1          12   350  ...           1           0\n",
              "2           9   300  ...           0           0\n",
              "3          12   250  ...           0           0\n",
              "4          20   250  ...           0           0\n",
              "\n",
              "[5 rows x 5357 columns]"
            ]
          },
          "metadata": {
            "tags": []
          },
          "execution_count": 24
        }
      ]
    },
    {
      "cell_type": "code",
      "metadata": {
        "id": "qWR5IbXtaZnv",
        "colab_type": "code",
        "colab": {}
      },
      "source": [
        "#spliting the data\n",
        "\n",
        "from sklearn.model_selection import train_test_split\n",
        "\n",
        "X = dtrain.drop(labels=['Fees'], axis=1)\n",
        "y = dtrain['Fees'].values\n",
        "\n",
        "X_train, X_test, y_train, y_test = train_test_split(X, y, test_size=0.25, random_state=1)"
      ],
      "execution_count": null,
      "outputs": []
    },
    {
      "cell_type": "code",
      "metadata": {
        "id": "cELzor60awSu",
        "colab_type": "code",
        "colab": {
          "base_uri": "https://localhost:8080/",
          "height": 654
        },
        "outputId": "6dee0b57-77cc-4fdc-a36f-f70cf0b5f52c"
      },
      "source": [
        "#Using Decision Tree Model\n",
        "\n",
        "from sklearn.metrics import classification_report\n",
        "from sklearn.tree import DecisionTreeClassifier\n",
        "\n",
        "dtree = DecisionTreeClassifier(random_state=1)\n",
        "dtree.fit(X_train, y_train)\n",
        "y_pred1 = dtree.predict(X_test)\n",
        "print(classification_report(y_test, y_pred1))"
      ],
      "execution_count": null,
      "outputs": [
        {
          "output_type": "stream",
          "text": [
            "              precision    recall  f1-score   support\n",
            "\n",
            "          50       0.20      0.06      0.09        18\n",
            "          60       0.00      0.00      0.00         3\n",
            "          70       0.00      0.00      0.00         5\n",
            "          80       0.00      0.00      0.00         4\n",
            "         100       0.37      0.42      0.39       327\n",
            "         125       0.00      0.00      0.00         1\n",
            "         130       0.00      0.00      0.00         1\n",
            "         150       0.12      0.10      0.11        50\n",
            "         200       0.29      0.37      0.33       221\n",
            "         220       0.00      0.00      0.00         0\n",
            "         250       0.12      0.05      0.07        86\n",
            "         280       0.00      0.00      0.00         1\n",
            "         300       0.20      0.23      0.22       220\n",
            "         350       0.08      0.03      0.04        37\n",
            "         380       0.00      0.00      0.00         1\n",
            "         400       0.17      0.12      0.14       118\n",
            "         450       0.36      0.28      0.31        18\n",
            "         499       0.00      0.00      0.00         1\n",
            "         500       0.26      0.33      0.29       227\n",
            "         550       0.00      0.00      0.00         5\n",
            "         600       0.11      0.07      0.09        55\n",
            "         630       0.00      0.00      0.00         0\n",
            "         650       0.50      0.10      0.17        10\n",
            "         700       0.07      0.06      0.07        31\n",
            "         750       0.00      0.00      0.00         8\n",
            "         800       0.11      0.06      0.07        36\n",
            "         850       0.00      0.00      0.00         1\n",
            "         900       0.00      0.00      0.00         6\n",
            "\n",
            "    accuracy                           0.26      1491\n",
            "   macro avg       0.11      0.08      0.08      1491\n",
            "weighted avg       0.24      0.26      0.24      1491\n",
            "\n"
          ],
          "name": "stdout"
        }
      ]
    },
    {
      "cell_type": "code",
      "metadata": {
        "id": "34_MJ57Ua9L-",
        "colab_type": "code",
        "colab": {
          "base_uri": "https://localhost:8080/",
          "height": 617
        },
        "outputId": "b0e8d251-c5a3-485e-8306-6cd1705ab835"
      },
      "source": [
        "#Applying Random Forest Model\n",
        "\n",
        "from sklearn.ensemble import RandomForestClassifier\n",
        "\n",
        "rf = RandomForestClassifier(random_state=1)\n",
        "rf.fit(X_train, y_train)\n",
        "y_pred2 = rf.predict(X_test)\n",
        "print(classification_report(y_test, y_pred2))"
      ],
      "execution_count": null,
      "outputs": [
        {
          "output_type": "stream",
          "text": [
            "              precision    recall  f1-score   support\n",
            "\n",
            "          50       0.00      0.00      0.00        18\n",
            "          60       0.00      0.00      0.00         3\n",
            "          70       0.00      0.00      0.00         5\n",
            "          80       0.00      0.00      0.00         4\n",
            "         100       0.38      0.56      0.45       327\n",
            "         125       0.00      0.00      0.00         1\n",
            "         130       0.00      0.00      0.00         1\n",
            "         150       0.14      0.04      0.06        50\n",
            "         200       0.33      0.41      0.37       221\n",
            "         250       0.30      0.07      0.11        86\n",
            "         280       0.00      0.00      0.00         1\n",
            "         300       0.23      0.24      0.23       220\n",
            "         350       0.00      0.00      0.00        37\n",
            "         380       0.00      0.00      0.00         1\n",
            "         400       0.27      0.17      0.21       118\n",
            "         450       0.60      0.17      0.26        18\n",
            "         499       0.00      0.00      0.00         1\n",
            "         500       0.27      0.39      0.32       227\n",
            "         550       0.00      0.00      0.00         5\n",
            "         600       0.13      0.04      0.06        55\n",
            "         650       0.00      0.00      0.00        10\n",
            "         700       0.00      0.00      0.00        31\n",
            "         750       0.00      0.00      0.00         8\n",
            "         800       0.20      0.03      0.05        36\n",
            "         850       0.00      0.00      0.00         1\n",
            "         900       0.00      0.00      0.00         6\n",
            "\n",
            "    accuracy                           0.30      1491\n",
            "   macro avg       0.11      0.08      0.08      1491\n",
            "weighted avg       0.27      0.30      0.27      1491\n",
            "\n"
          ],
          "name": "stdout"
        }
      ]
    },
    {
      "cell_type": "code",
      "metadata": {
        "id": "DBtDQ77ibAHn",
        "colab_type": "code",
        "colab": {}
      },
      "source": [
        "# Function to calculate mean absolute error\n",
        "\n",
        "def cross_val(X_train, y_train, model):\n",
        "    # Applying k-Fold Cross Validation\n",
        "    from sklearn.model_selection import cross_val_score\n",
        "    accuracies = cross_val_score(estimator = model, X = X_train, y = y_train, cv = 5)\n",
        "    return accuracies.mean()\n",
        "\n",
        "# Takes in a model, trains the model, and evaluates the model on the test set\n",
        "def fit_and_evaluate(model):\n",
        "    \n",
        "    # Train the model\n",
        "    model.fit(X_train, y_train)\n",
        "    \n",
        "    # Make predictions and evalute\n",
        "    model_prediction = model.predict(X_test)\n",
        "    model_crossV = cross_val(X_train, y_train, model)\n",
        "    \n",
        "    # Return the performance metric\n",
        "    return model_crossV"
      ],
      "execution_count": null,
      "outputs": []
    },
    {
      "cell_type": "code",
      "metadata": {
        "id": "o2ar6PHofwKZ",
        "colab_type": "code",
        "colab": {}
      },
      "source": [
        "from sklearn.tree import DecisionTreeClassifier\n",
        "from sklearn.naive_bayes import GaussianNB\n",
        "from sklearn.neighbors import KNeighborsClassifier\n",
        "from sklearn.ensemble import RandomForestClassifier\n",
        "from sklearn.ensemble import BaggingClassifier\n",
        "from sklearn import model_selection"
      ],
      "execution_count": null,
      "outputs": []
    },
    {
      "cell_type": "code",
      "metadata": {
        "id": "EUaai6Pcfy5Q",
        "colab_type": "code",
        "colab": {}
      },
      "source": [
        "dtree=DecisionTreeClassifier(criterion=\"entropy\")\n",
        "dtreeg=DecisionTreeClassifier(criterion='gini')\n",
        "knn=KNeighborsClassifier()\n",
        "gb=GaussianNB()\n",
        "rfc=RandomForestClassifier(criterion='entropy')\n",
        "rfcg=RandomForestClassifier(criterion='gini')\n",
        "bgc=BaggingClassifier()"
      ],
      "execution_count": null,
      "outputs": []
    },
    {
      "cell_type": "code",
      "metadata": {
        "id": "8XjA4hARgA-1",
        "colab_type": "code",
        "colab": {}
      },
      "source": [
        "models = []\n",
        "models.append(('Decision Tree',dtree))\n",
        "models.append(('Decision Tree with Gini Coefficient',dtreeg))\n",
        "models.append(('K Nearest Neighbors',knn))\n",
        "models.append(('Naive Bayes',gb))\n",
        "models.append(('Random Forrest',rfc))\n",
        "models.append(('Random Forrest with Gini Coefficient',rfcg))\n",
        "models.append(('Bagging Classifier',bgc))"
      ],
      "execution_count": null,
      "outputs": []
    },
    {
      "cell_type": "code",
      "metadata": {
        "id": "REqasaasgDDc",
        "colab_type": "code",
        "colab": {
          "base_uri": "https://localhost:8080/",
          "height": 595
        },
        "outputId": "9f5aa51b-b52c-40c0-aa91-2c16207e6f0d"
      },
      "source": [
        "# evaluate each model in turn\n",
        "results = []\n",
        "names = []\n",
        "scoring = 'accuracy'\n",
        "for name, model in models:\n",
        "\tkfold = model_selection.KFold(n_splits=10,random_state=123)\n",
        "\tcv_results = model_selection.cross_val_score(model, X, y, cv=kfold, scoring=scoring)\n",
        "\tresults.append(cv_results)\n",
        "\tnames.append(name)\n",
        "\tmsg = \"%s: %f (%f)\" % (name, np.mean(cv_results), cv_results.var())\n",
        "\tprint(msg)\n",
        "# boxplot algorithm comparison\n",
        "fig = plt.figure()\n",
        "fig.suptitle('Algorithm Comparison')\n",
        "ax = fig.add_subplot(111)\n",
        "plt.boxplot(results)\n",
        "plt.xticks(rotation=90)\n",
        "ax.set_xticklabels(names)\n",
        "plt.show()"
      ],
      "execution_count": null,
      "outputs": [
        {
          "output_type": "stream",
          "text": [
            "Decision Tree: 0.220767 (0.000166)\n",
            "Decision Tree with Gini Coefficient: 0.265221 (0.000154)\n",
            "K Nearest Neighbors: 0.226813 (0.000218)\n",
            "Naive Bayes: 0.145445 (0.000048)\n",
            "Random Forrest: 0.297428 (0.000222)\n",
            "Random Forrest with Gini Coefficient: 0.308504 (0.000290)\n",
            "Bagging Classifier: 0.292901 (0.000191)\n"
          ],
          "name": "stdout"
        },
        {
          "output_type": "display_data",
          "data": {
            "image/png": "[encoded data removed]",
            "text/plain": [
              "<Figure size 432x288 with 1 Axes>"
            ]
          },
          "metadata": {
            "tags": [],
            "needs_background": "light"
          }
        }
      ]
    },
    {
      "cell_type": "code",
      "metadata": {
        "id": "_Pp74FCti0Bk",
        "colab_type": "code",
        "colab": {
          "base_uri": "https://localhost:8080/",
          "height": 35
        },
        "outputId": "4aa24473-1341-48fb-88f5-403cd023782b"
      },
      "source": [
        "#Saving the model as a pickle in a file\n",
        "\n",
        "from sklearn.externals import joblib\n",
        "\n",
        "joblib.dump(rf,'doctors_fee.pkl')"
      ],
      "execution_count": null,
      "outputs": [
        {
          "output_type": "execute_result",
          "data": {
            "text/plain": [
              "['doctors_fee.pkl']"
            ]
          },
          "metadata": {
            "tags": []
          },
          "execution_count": 35
        }
      ]
    }
  ]
}